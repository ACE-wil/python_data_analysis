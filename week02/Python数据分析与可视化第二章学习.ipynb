{
 "cells": [
  {
   "attachments": {},
   "cell_type": "markdown",
   "metadata": {},
   "source": [
    "# name:shen\n",
    "# time:2023-02-28 109-\n",
    "# content：python数据分析与可视化 第二章 Python编程基础  "
   ]
  },
  {
   "cell_type": "markdown",
   "metadata": {},
   "source": []
  },
  {
   "attachments": {},
   "cell_type": "markdown",
   "metadata": {},
   "source": [
    "## 2.1 Python语言基本语法\n",
    "> Python是一个结合了解释性、编译性、互动性和面对对象的高级程序设计语言，具有结构简单、语法定义清晰的特点。Python最具特色的就是使用缩进来表示代码块，不需要使用大括号{}。缩进的空格数是可变的，但是同一个代码块的语句必须包含相同的缩进空格数。\n"
   ]
  },
  {
   "cell_type": "code",
   "execution_count": 2,
   "metadata": {},
   "outputs": [
    {
     "name": "stdout",
     "output_type": "stream",
     "text": [
      "太大了\n"
     ]
    }
   ],
   "source": [
    "# 示例：\n",
    "answer = int(input(\"请输入一个整数\"))\n",
    "if answer>=20:\n",
    "    print(\"太大了\")\n",
    "else:\n",
    "    print(\"还行\")"
   ]
  },
  {
   "attachments": {},
   "cell_type": "markdown",
   "metadata": {},
   "source": [
    "## 2.1.1 基础数据类型\n",
    "> Python3中有6中标准的数据类型：```Number(数字)、String(字符串)、list(列表)、Tuple(元组)、Set(集合)和Dictionary(字典)。```\n",
    "\n",
    "> 其中，```不可变数据类型```有Number、String、Tuple，```可变数据类型```有int(整数)、float(浮点数)、bool(布尔型)、complex(复数)4种。\n",
    "\n",
    "> 在Python3中，只有一种int类型，表示为长整型，没有大小限制；float就是通常说的小数，bool型有True和False两个取值，分别对应1和0，并且```可以和数字相加```;complex由实部和虚部两部分构成，用a+bj或complex(a,b)表示实数部分a和虚数部分b都是浮点型。"
   ]
  },
  {
   "cell_type": "code",
   "execution_count": 4,
   "metadata": {},
   "outputs": [
    {
     "data": {
      "text/plain": [
       "3"
      ]
     },
     "execution_count": 4,
     "metadata": {},
     "output_type": "execute_result"
    }
   ],
   "source": [
    "# 示例\n",
    "True + 2"
   ]
  },
  {
   "attachments": {},
   "cell_type": "markdown",
   "metadata": {},
   "source": [
    "## 2.1.2 变量和赋值\n",
    "> Python中的变量不需要声明数据类型，变量的\"类型\"是所指的内存中被赋值对象的类型。同一变量可以被反复赋值，这也是Python语言被称为动态语言的原因。"
   ]
  },
  {
   "attachments": {},
   "cell_type": "markdown",
   "metadata": {},
   "source": []
  },
  {
   "cell_type": "code",
   "execution_count": null,
   "metadata": {},
   "outputs": [],
   "source": [
    "brower = \"Google!\" # 字符串类型\n",
    "brower = 100  # 整数类型\n",
    "brower = 123.45 # 浮点型类型\n",
    "brower = 2 + 3j  # 复数类型"
   ]
  },
  {
   "cell_type": "code",
   "execution_count": 5,
   "metadata": {},
   "outputs": [
    {
     "name": "stdout",
     "output_type": "stream",
     "text": [
      "Google 100 123.45\n"
     ]
    }
   ],
   "source": [
    "# 同时为多个变量赋值\n",
    "brower,count,addsum = \"Google\",100,123.45\n",
    "print(brower,count,addsum)"
   ]
  },
  {
   "attachments": {},
   "cell_type": "markdown",
   "metadata": {},
   "source": [
    "## 2.1.3 运算符和表达式\n",
    "> 运算符用于执行程序代码运算，包括算数运算符，逻辑运算符和关系运算符。\n",
    "\n",
    "|运算符|功能|\n",
    "|--|--|\n",
    "|+,-,*,/,%,//,**|算术运算：加，减，乘，除，取模，整数，幂|\n",
    "|<,<=,>,>=,!=,==|关系运算符|\n",
    "|and,or,not|逻辑运算符|\n",
    "\n",
    "> 各运算符之间的优先顺序为：算术运算符>关系运算符>逻辑运算符，如5+4>4+2 and 4+9>3+7，计算次序依次是算数运算，关系运算，逻辑运算。\n",
    "\n",
    "\n",
    "|运算符|说明|范例|结果|\n",
    "|--|--|--|--|\n",
    "|-|求反|-5|-5|\n",
    "|*|乘法|8.5*3.5|29.75|\n",
    "|/|除法|11/3|3.6666|\n",
    "|//|取整|11/3|3|\n",
    "|%|取余数|8.5%3.5|1.5|\n",
    "|+|加法|11+3|14|\n",
    "|-|减法|5-19|-14|\n",
    "|```**```|乘方(幂)|2**5|32|"
   ]
  },
  {
   "attachments": {},
   "cell_type": "markdown",
   "metadata": {},
   "source": [
    "## 2.1.4 字符串\n",
    "> 在Python中，字符串可以用单引号，双引号，三引号括起来。反斜杠表示一个转义序列的开始，称反斜杆为转义符。\n",
    "\n",
    "|转义字符|说明|\n",
    "|--|--|\n",
    "|\\n|换行|\n",
    "|```\\\\```|反斜杠|\n",
    "|\\”|双引号|\n",
    "|\\t|制表符|\n",
    "\n",
    "> Python允许用```r+\" \"```的方式表示\" \"内部的字符串，```默认不转义```。\n"
   ]
  },
  {
   "cell_type": "code",
   "execution_count": 14,
   "metadata": {},
   "outputs": [
    {
     "name": "stdout",
     "output_type": "stream",
     "text": [
      "python\n",
      "program\n",
      "python\\nprogram\n",
      "他说“我不知道啊。”  ‘’\n"
     ]
    }
   ],
   "source": [
    "# 转义字符的使用\n",
    "print(\"python\\nprogram\")\n",
    "\n",
    "print(r\"python\\nprogram\")\n",
    "\n",
    "print(\"他说“我不知道啊。”\")"
   ]
  },
  {
   "attachments": {},
   "cell_type": "markdown",
   "metadata": {},
   "source": [
    "### 1.字符串的运算\n",
    "> 字符串可以用分离操作符(```[]或者[:]```)选取，Python第一个字符的索引是0，最后一个字符的索引为-1。\n",
    "\n",
    "|运算符|说明|范例|结果|\n",
    "|--|--|--|--|\n",
    "|+|连接操作|str1='python'  str2='good'  str1 + str2|\"pythongood\"|\n",
    "|*|重复操作|str=\"Python\" str*2|\"PythonPython\"|\n",
    "|[]|索引|str=\"Python\" str[2] str[-1]|\"t\" \"n\"|\n",
    "|[:]|切片|str=\"Python\" str[2:5] str[-4:-1]|\"tho\" \"tho\"|\n",
    "\n",
    "> 注：如果*后面的数字是0，就会产生一个空字符串。例如:'python'*0的运算结果是\" \"\n"
   ]
  },
  {
   "attachments": {},
   "cell_type": "markdown",
   "metadata": {},
   "source": [
    "### 2.字符串的常见方法属性\n",
    "\n",
    "|方法/函数|作用|\n",
    "|--|--|\n",
    "|str.capitalize()|返回字符串的副本，其首字母大写，其余字母小写|"
   ]
  },
  {
   "cell_type": "code",
   "execution_count": 26,
   "metadata": {},
   "outputs": [
    {
     "name": "stdout",
     "output_type": "stream",
     "text": [
      "Python is good\n"
     ]
    }
   ],
   "source": [
    "# 示例\n",
    "str=\"python is good\"\n",
    "str_capitalize=str.capitalize()\n",
    "print(str_capitalize)"
   ]
  },
  {
   "cell_type": "markdown",
   "metadata": {},
   "source": []
  },
  {
   "attachments": {},
   "cell_type": "markdown",
   "metadata": {},
   "source": [
    "|方法/函数|作用|\n",
    "|--|--|\n",
    "|str.count(sub, start= 0,end=len(string))/str.count(sub[,start[,end]])|该方法返回子字符串sub在字符串str中出现的次数|"
   ]
  },
  {
   "cell_type": "code",
   "execution_count": 29,
   "metadata": {},
   "outputs": [
    {
     "name": "stdout",
     "output_type": "stream",
     "text": [
      "str中sub出现的次数： 3\n",
      "str中sub在某个范围出现的次数： 1\n",
      "看看只写一个是什么情形： 2\n",
      "看看只写一个是什么情形： 4\n"
     ]
    }
   ],
   "source": [
    "# 示例\n",
    "str=\"www.nowcoder.com\"\n",
    "sub=\"o\"\n",
    "print(\"str中sub出现的次数：\",str.count(sub))\n",
    "\n",
    "sub=\"now\"\n",
    "print(\"str中sub在某个范围出现的次数：\",str.count(sub,0,10))\n",
    "\n",
    "str2=\"owoowowwwo\"\n",
    "sub=\"o\"\n",
    "print(\"看看只写一个是什么情形：\",str2.count(sub,5))\n",
    "print(\"看看只写一个是什么情形：\",str2.count(sub,1)) # 所以只写一个那个其实是start"
   ]
  },
  {
   "attachments": {},
   "cell_type": "markdown",
   "metadata": {},
   "source": [
    "|方法/函数|作用|\n",
    "|--|--|\n",
    "|str.endswith(sub[,start[,end]])|返回布尔值，用来判断字符串是否以指定的sub结束，同类方法为str.startswith()|"
   ]
  },
  {
   "cell_type": "code",
   "execution_count": null,
   "metadata": {},
   "outputs": [],
   "source": [
    "# 示例:\n",
    "str3 = \"www.nowcoder.com!!!\"\n",
    "suffix = \"!!\"\n",
    "print(str3.endswith(suffix))"
   ]
  }
 ],
 "metadata": {
  "kernelspec": {
   "display_name": "Python 3",
   "language": "python",
   "name": "python3"
  },
  "language_info": {
   "codemirror_mode": {
    "name": "ipython",
    "version": 3
   },
   "file_extension": ".py",
   "mimetype": "text/x-python",
   "name": "python",
   "nbconvert_exporter": "python",
   "pygments_lexer": "ipython3",
   "version": "3.9.13"
  },
  "orig_nbformat": 4,
  "vscode": {
   "interpreter": {
    "hash": "03e81fd34b676fec47f1303d0741e20a5039af29addbe9b5caeb8d339f6e0f6d"
   }
  }
 },
 "nbformat": 4,
 "nbformat_minor": 2
}
