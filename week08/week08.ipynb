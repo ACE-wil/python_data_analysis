{
 "cells": [
  {
   "cell_type": "markdown",
   "id": "27f94a4d",
   "metadata": {},
   "source": [
    "<font color=gray size=4> 2022-2023-02 </font> \n",
    "\n",
    "<font color=gray size=4> Python Data Analysis Course(PDAC)</font>\n",
    "\n",
    "<font color=gray size=4> 主讲：许智超 </font>\n",
    "\n",
    "\n",
    "<font color=gray size=4> week06:Reshaping Data </font>"
   ]
  },
  {
   "cell_type": "markdown",
   "id": "58da077f",
   "metadata": {},
   "source": [
    "# 本周内容：Reshaping Data\n",
    "\n",
    "## -Pivot\n",
    "<img style=\"width:500px\" src=\"pivot.jpg\">\n",
    "<img style=\"width:500px\" src=\"pivot-2.jpg\">\n",
    "<img style=\"width:500px\" src=\"pivot-3.jpg\">\n",
    "\n",
    "## -melt\n",
    "<img style=\"width:500px\" src=\"melt.jpg\">\n",
    "\n",
    "\n",
    "## -stack\n",
    "\n",
    "\n",
    "## -unstack"
   ]
  },
  {
   "cell_type": "markdown",
   "id": "847a2555",
   "metadata": {},
   "source": [
    "# 长宽表的变形"
   ]
  },
  {
   "cell_type": "code",
   "execution_count": 1,
   "id": "5ae7d59e",
   "metadata": {},
   "outputs": [],
   "source": [
    "import pandas as pd"
   ]
  },
  {
   "cell_type": "code",
   "execution_count": 2,
   "id": "9f5e88ff",
   "metadata": {},
   "outputs": [
    {
     "data": {
      "text/plain": "  Gender  Height\n0      F     163\n1      F     160\n2      M     175\n3      M     180",
      "text/html": "<div>\n<style scoped>\n    .dataframe tbody tr th:only-of-type {\n        vertical-align: middle;\n    }\n\n    .dataframe tbody tr th {\n        vertical-align: top;\n    }\n\n    .dataframe thead th {\n        text-align: right;\n    }\n</style>\n<table border=\"1\" class=\"dataframe\">\n  <thead>\n    <tr style=\"text-align: right;\">\n      <th></th>\n      <th>Gender</th>\n      <th>Height</th>\n    </tr>\n  </thead>\n  <tbody>\n    <tr>\n      <th>0</th>\n      <td>F</td>\n      <td>163</td>\n    </tr>\n    <tr>\n      <th>1</th>\n      <td>F</td>\n      <td>160</td>\n    </tr>\n    <tr>\n      <th>2</th>\n      <td>M</td>\n      <td>175</td>\n    </tr>\n    <tr>\n      <th>3</th>\n      <td>M</td>\n      <td>180</td>\n    </tr>\n  </tbody>\n</table>\n</div>"
     },
     "execution_count": 2,
     "metadata": {},
     "output_type": "execute_result"
    }
   ],
   "source": [
    "# 创建长表格\n",
    "pd.DataFrame(\n",
    "    {\n",
    "        'Gender':['F','F','M','M'],\n",
    "        'Height':[163, 160, 175, 180]\n",
    "    }\n",
    ")"
   ]
  },
  {
   "cell_type": "code",
   "execution_count": 3,
   "id": "9aa237e4",
   "metadata": {},
   "outputs": [
    {
     "data": {
      "text/plain": "   Height: F  Height: M\n0        163        175\n1        160        180",
      "text/html": "<div>\n<style scoped>\n    .dataframe tbody tr th:only-of-type {\n        vertical-align: middle;\n    }\n\n    .dataframe tbody tr th {\n        vertical-align: top;\n    }\n\n    .dataframe thead th {\n        text-align: right;\n    }\n</style>\n<table border=\"1\" class=\"dataframe\">\n  <thead>\n    <tr style=\"text-align: right;\">\n      <th></th>\n      <th>Height: F</th>\n      <th>Height: M</th>\n    </tr>\n  </thead>\n  <tbody>\n    <tr>\n      <th>0</th>\n      <td>163</td>\n      <td>175</td>\n    </tr>\n    <tr>\n      <th>1</th>\n      <td>160</td>\n      <td>180</td>\n    </tr>\n  </tbody>\n</table>\n</div>"
     },
     "execution_count": 3,
     "metadata": {},
     "output_type": "execute_result"
    }
   ],
   "source": [
    "# 创建宽表格\n",
    "pd.DataFrame({'Height: F':[163, 160],'Height: M':[175, 180]})"
   ]
  },
  {
   "cell_type": "markdown",
   "id": "3b3bb58f",
   "metadata": {},
   "source": [
    "## 1. pivot"
   ]
  },
  {
   "cell_type": "code",
   "execution_count": 4,
   "id": "509ba22e",
   "metadata": {},
   "outputs": [],
   "source": [
    "df = pd.DataFrame(\n",
    "    {\n",
    "        'Class':[1,1,1,1,2,2],\n",
    "        'Name':['San Zhang','San Zhang','San Zhang','San Zhang','Si Li','Si Li'],\n",
    "        'Subject':['Chinese','Math','English','Chinese','Chinese','Math'],\n",
    "        'Grade':[59,75,80,60,90,85]}\n",
    ")"
   ]
  },
  {
   "cell_type": "code",
   "execution_count": 5,
   "id": "556eee5a",
   "metadata": {},
   "outputs": [
    {
     "data": {
      "text/plain": "   Class       Name  Subject  Grade\n0      1  San Zhang  Chinese     59\n1      1  San Zhang     Math     75\n2      1  San Zhang  English     80\n3      1  San Zhang  Chinese     60\n4      2      Si Li  Chinese     90\n5      2      Si Li     Math     85",
      "text/html": "<div>\n<style scoped>\n    .dataframe tbody tr th:only-of-type {\n        vertical-align: middle;\n    }\n\n    .dataframe tbody tr th {\n        vertical-align: top;\n    }\n\n    .dataframe thead th {\n        text-align: right;\n    }\n</style>\n<table border=\"1\" class=\"dataframe\">\n  <thead>\n    <tr style=\"text-align: right;\">\n      <th></th>\n      <th>Class</th>\n      <th>Name</th>\n      <th>Subject</th>\n      <th>Grade</th>\n    </tr>\n  </thead>\n  <tbody>\n    <tr>\n      <th>0</th>\n      <td>1</td>\n      <td>San Zhang</td>\n      <td>Chinese</td>\n      <td>59</td>\n    </tr>\n    <tr>\n      <th>1</th>\n      <td>1</td>\n      <td>San Zhang</td>\n      <td>Math</td>\n      <td>75</td>\n    </tr>\n    <tr>\n      <th>2</th>\n      <td>1</td>\n      <td>San Zhang</td>\n      <td>English</td>\n      <td>80</td>\n    </tr>\n    <tr>\n      <th>3</th>\n      <td>1</td>\n      <td>San Zhang</td>\n      <td>Chinese</td>\n      <td>60</td>\n    </tr>\n    <tr>\n      <th>4</th>\n      <td>2</td>\n      <td>Si Li</td>\n      <td>Chinese</td>\n      <td>90</td>\n    </tr>\n    <tr>\n      <th>5</th>\n      <td>2</td>\n      <td>Si Li</td>\n      <td>Math</td>\n      <td>85</td>\n    </tr>\n  </tbody>\n</table>\n</div>"
     },
     "execution_count": 5,
     "metadata": {},
     "output_type": "execute_result"
    }
   ],
   "source": [
    "df"
   ]
  },
  {
   "cell_type": "code",
   "execution_count": 6,
   "id": "d3905d7c",
   "metadata": {
    "scrolled": true
   },
   "outputs": [
    {
     "ename": "ValueError",
     "evalue": "Index contains duplicate entries, cannot reshape",
     "output_type": "error",
     "traceback": [
      "\u001B[1;31m---------------------------------------------------------------------------\u001B[0m",
      "\u001B[1;31mValueError\u001B[0m                                Traceback (most recent call last)",
      "Cell \u001B[1;32mIn[6], line 1\u001B[0m\n\u001B[1;32m----> 1\u001B[0m \u001B[43mdf\u001B[49m\u001B[38;5;241;43m.\u001B[39;49m\u001B[43mpivot\u001B[49m\u001B[43m(\u001B[49m\u001B[43mindex\u001B[49m\u001B[38;5;241;43m=\u001B[39;49m\u001B[38;5;124;43m'\u001B[39;49m\u001B[38;5;124;43mName\u001B[39;49m\u001B[38;5;124;43m'\u001B[39;49m\u001B[43m,\u001B[49m\u001B[43m \u001B[49m\u001B[43mcolumns\u001B[49m\u001B[38;5;241;43m=\u001B[39;49m\u001B[38;5;124;43m'\u001B[39;49m\u001B[38;5;124;43mSubject\u001B[39;49m\u001B[38;5;124;43m'\u001B[39;49m\u001B[43m,\u001B[49m\u001B[43m \u001B[49m\u001B[43mvalues\u001B[49m\u001B[38;5;241;43m=\u001B[39;49m\u001B[38;5;124;43m'\u001B[39;49m\u001B[38;5;124;43mGrade\u001B[39;49m\u001B[38;5;124;43m'\u001B[39;49m\u001B[43m)\u001B[49m\n",
      "File \u001B[1;32mE:\\Anaconda3\\lib\\site-packages\\pandas\\core\\frame.py:7885\u001B[0m, in \u001B[0;36mDataFrame.pivot\u001B[1;34m(self, index, columns, values)\u001B[0m\n\u001B[0;32m   7880\u001B[0m \u001B[38;5;129m@Substitution\u001B[39m(\u001B[38;5;124m\"\u001B[39m\u001B[38;5;124m\"\u001B[39m)\n\u001B[0;32m   7881\u001B[0m \u001B[38;5;129m@Appender\u001B[39m(_shared_docs[\u001B[38;5;124m\"\u001B[39m\u001B[38;5;124mpivot\u001B[39m\u001B[38;5;124m\"\u001B[39m])\n\u001B[0;32m   7882\u001B[0m \u001B[38;5;28;01mdef\u001B[39;00m \u001B[38;5;21mpivot\u001B[39m(\u001B[38;5;28mself\u001B[39m, index\u001B[38;5;241m=\u001B[39m\u001B[38;5;28;01mNone\u001B[39;00m, columns\u001B[38;5;241m=\u001B[39m\u001B[38;5;28;01mNone\u001B[39;00m, values\u001B[38;5;241m=\u001B[39m\u001B[38;5;28;01mNone\u001B[39;00m) \u001B[38;5;241m-\u001B[39m\u001B[38;5;241m>\u001B[39m DataFrame:\n\u001B[0;32m   7883\u001B[0m     \u001B[38;5;28;01mfrom\u001B[39;00m \u001B[38;5;21;01mpandas\u001B[39;00m\u001B[38;5;21;01m.\u001B[39;00m\u001B[38;5;21;01mcore\u001B[39;00m\u001B[38;5;21;01m.\u001B[39;00m\u001B[38;5;21;01mreshape\u001B[39;00m\u001B[38;5;21;01m.\u001B[39;00m\u001B[38;5;21;01mpivot\u001B[39;00m \u001B[38;5;28;01mimport\u001B[39;00m pivot\n\u001B[1;32m-> 7885\u001B[0m     \u001B[38;5;28;01mreturn\u001B[39;00m \u001B[43mpivot\u001B[49m\u001B[43m(\u001B[49m\u001B[38;5;28;43mself\u001B[39;49m\u001B[43m,\u001B[49m\u001B[43m \u001B[49m\u001B[43mindex\u001B[49m\u001B[38;5;241;43m=\u001B[39;49m\u001B[43mindex\u001B[49m\u001B[43m,\u001B[49m\u001B[43m \u001B[49m\u001B[43mcolumns\u001B[49m\u001B[38;5;241;43m=\u001B[39;49m\u001B[43mcolumns\u001B[49m\u001B[43m,\u001B[49m\u001B[43m \u001B[49m\u001B[43mvalues\u001B[49m\u001B[38;5;241;43m=\u001B[39;49m\u001B[43mvalues\u001B[49m\u001B[43m)\u001B[49m\n",
      "File \u001B[1;32mE:\\Anaconda3\\lib\\site-packages\\pandas\\core\\reshape\\pivot.py:520\u001B[0m, in \u001B[0;36mpivot\u001B[1;34m(data, index, columns, values)\u001B[0m\n\u001B[0;32m    518\u001B[0m     \u001B[38;5;28;01melse\u001B[39;00m:\n\u001B[0;32m    519\u001B[0m         indexed \u001B[38;5;241m=\u001B[39m data\u001B[38;5;241m.\u001B[39m_constructor_sliced(data[values]\u001B[38;5;241m.\u001B[39m_values, index\u001B[38;5;241m=\u001B[39mmultiindex)\n\u001B[1;32m--> 520\u001B[0m \u001B[38;5;28;01mreturn\u001B[39;00m \u001B[43mindexed\u001B[49m\u001B[38;5;241;43m.\u001B[39;49m\u001B[43munstack\u001B[49m\u001B[43m(\u001B[49m\u001B[43mcolumns_listlike\u001B[49m\u001B[43m)\u001B[49m\n",
      "File \u001B[1;32mE:\\Anaconda3\\lib\\site-packages\\pandas\\core\\series.py:4157\u001B[0m, in \u001B[0;36mSeries.unstack\u001B[1;34m(self, level, fill_value)\u001B[0m\n\u001B[0;32m   4114\u001B[0m \u001B[38;5;250m\u001B[39m\u001B[38;5;124;03m\"\"\"\u001B[39;00m\n\u001B[0;32m   4115\u001B[0m \u001B[38;5;124;03mUnstack, also known as pivot, Series with MultiIndex to produce DataFrame.\u001B[39;00m\n\u001B[0;32m   4116\u001B[0m \n\u001B[1;32m   (...)\u001B[0m\n\u001B[0;32m   4153\u001B[0m \u001B[38;5;124;03mb    2    4\u001B[39;00m\n\u001B[0;32m   4154\u001B[0m \u001B[38;5;124;03m\"\"\"\u001B[39;00m\n\u001B[0;32m   4155\u001B[0m \u001B[38;5;28;01mfrom\u001B[39;00m \u001B[38;5;21;01mpandas\u001B[39;00m\u001B[38;5;21;01m.\u001B[39;00m\u001B[38;5;21;01mcore\u001B[39;00m\u001B[38;5;21;01m.\u001B[39;00m\u001B[38;5;21;01mreshape\u001B[39;00m\u001B[38;5;21;01m.\u001B[39;00m\u001B[38;5;21;01mreshape\u001B[39;00m \u001B[38;5;28;01mimport\u001B[39;00m unstack\n\u001B[1;32m-> 4157\u001B[0m \u001B[38;5;28;01mreturn\u001B[39;00m \u001B[43munstack\u001B[49m\u001B[43m(\u001B[49m\u001B[38;5;28;43mself\u001B[39;49m\u001B[43m,\u001B[49m\u001B[43m \u001B[49m\u001B[43mlevel\u001B[49m\u001B[43m,\u001B[49m\u001B[43m \u001B[49m\u001B[43mfill_value\u001B[49m\u001B[43m)\u001B[49m\n",
      "File \u001B[1;32mE:\\Anaconda3\\lib\\site-packages\\pandas\\core\\reshape\\reshape.py:491\u001B[0m, in \u001B[0;36munstack\u001B[1;34m(obj, level, fill_value)\u001B[0m\n\u001B[0;32m    489\u001B[0m \u001B[38;5;28;01mif\u001B[39;00m is_1d_only_ea_dtype(obj\u001B[38;5;241m.\u001B[39mdtype):\n\u001B[0;32m    490\u001B[0m     \u001B[38;5;28;01mreturn\u001B[39;00m _unstack_extension_series(obj, level, fill_value)\n\u001B[1;32m--> 491\u001B[0m unstacker \u001B[38;5;241m=\u001B[39m \u001B[43m_Unstacker\u001B[49m\u001B[43m(\u001B[49m\n\u001B[0;32m    492\u001B[0m \u001B[43m    \u001B[49m\u001B[43mobj\u001B[49m\u001B[38;5;241;43m.\u001B[39;49m\u001B[43mindex\u001B[49m\u001B[43m,\u001B[49m\u001B[43m \u001B[49m\u001B[43mlevel\u001B[49m\u001B[38;5;241;43m=\u001B[39;49m\u001B[43mlevel\u001B[49m\u001B[43m,\u001B[49m\u001B[43m \u001B[49m\u001B[43mconstructor\u001B[49m\u001B[38;5;241;43m=\u001B[39;49m\u001B[43mobj\u001B[49m\u001B[38;5;241;43m.\u001B[39;49m\u001B[43m_constructor_expanddim\u001B[49m\n\u001B[0;32m    493\u001B[0m \u001B[43m\u001B[49m\u001B[43m)\u001B[49m\n\u001B[0;32m    494\u001B[0m \u001B[38;5;28;01mreturn\u001B[39;00m unstacker\u001B[38;5;241m.\u001B[39mget_result(\n\u001B[0;32m    495\u001B[0m     obj\u001B[38;5;241m.\u001B[39m_values, value_columns\u001B[38;5;241m=\u001B[39m\u001B[38;5;28;01mNone\u001B[39;00m, fill_value\u001B[38;5;241m=\u001B[39mfill_value\n\u001B[0;32m    496\u001B[0m )\n",
      "File \u001B[1;32mE:\\Anaconda3\\lib\\site-packages\\pandas\\core\\reshape\\reshape.py:140\u001B[0m, in \u001B[0;36m_Unstacker.__init__\u001B[1;34m(self, index, level, constructor)\u001B[0m\n\u001B[0;32m    133\u001B[0m \u001B[38;5;28;01mif\u001B[39;00m num_cells \u001B[38;5;241m>\u001B[39m np\u001B[38;5;241m.\u001B[39miinfo(np\u001B[38;5;241m.\u001B[39mint32)\u001B[38;5;241m.\u001B[39mmax:\n\u001B[0;32m    134\u001B[0m     warnings\u001B[38;5;241m.\u001B[39mwarn(\n\u001B[0;32m    135\u001B[0m         \u001B[38;5;124mf\u001B[39m\u001B[38;5;124m\"\u001B[39m\u001B[38;5;124mThe following operation may generate \u001B[39m\u001B[38;5;132;01m{\u001B[39;00mnum_cells\u001B[38;5;132;01m}\u001B[39;00m\u001B[38;5;124m cells \u001B[39m\u001B[38;5;124m\"\u001B[39m\n\u001B[0;32m    136\u001B[0m         \u001B[38;5;124mf\u001B[39m\u001B[38;5;124m\"\u001B[39m\u001B[38;5;124min the resulting pandas object.\u001B[39m\u001B[38;5;124m\"\u001B[39m,\n\u001B[0;32m    137\u001B[0m         PerformanceWarning,\n\u001B[0;32m    138\u001B[0m     )\n\u001B[1;32m--> 140\u001B[0m \u001B[38;5;28;43mself\u001B[39;49m\u001B[38;5;241;43m.\u001B[39;49m\u001B[43m_make_selectors\u001B[49m\u001B[43m(\u001B[49m\u001B[43m)\u001B[49m\n",
      "File \u001B[1;32mE:\\Anaconda3\\lib\\site-packages\\pandas\\core\\reshape\\reshape.py:192\u001B[0m, in \u001B[0;36m_Unstacker._make_selectors\u001B[1;34m(self)\u001B[0m\n\u001B[0;32m    189\u001B[0m mask\u001B[38;5;241m.\u001B[39mput(selector, \u001B[38;5;28;01mTrue\u001B[39;00m)\n\u001B[0;32m    191\u001B[0m \u001B[38;5;28;01mif\u001B[39;00m mask\u001B[38;5;241m.\u001B[39msum() \u001B[38;5;241m<\u001B[39m \u001B[38;5;28mlen\u001B[39m(\u001B[38;5;28mself\u001B[39m\u001B[38;5;241m.\u001B[39mindex):\n\u001B[1;32m--> 192\u001B[0m     \u001B[38;5;28;01mraise\u001B[39;00m \u001B[38;5;167;01mValueError\u001B[39;00m(\u001B[38;5;124m\"\u001B[39m\u001B[38;5;124mIndex contains duplicate entries, cannot reshape\u001B[39m\u001B[38;5;124m\"\u001B[39m)\n\u001B[0;32m    194\u001B[0m \u001B[38;5;28mself\u001B[39m\u001B[38;5;241m.\u001B[39mgroup_index \u001B[38;5;241m=\u001B[39m comp_index\n\u001B[0;32m    195\u001B[0m \u001B[38;5;28mself\u001B[39m\u001B[38;5;241m.\u001B[39mmask \u001B[38;5;241m=\u001B[39m mask\n",
      "\u001B[1;31mValueError\u001B[0m: Index contains duplicate entries, cannot reshape"
     ]
    }
   ],
   "source": [
    "df.pivot(index='Name', columns='Subject', values='Grade')"
   ]
  },
  {
   "cell_type": "code",
   "execution_count": null,
   "id": "4736623a",
   "metadata": {},
   "outputs": [],
   "source": [
    "df.pivot_table(index='Name', columns='Subject', values='Grade',aggfunc=\"max\")"
   ]
  },
  {
   "cell_type": "code",
   "execution_count": null,
   "id": "a274d1e0",
   "metadata": {},
   "outputs": [],
   "source": []
  },
  {
   "cell_type": "markdown",
   "id": "752b4763",
   "metadata": {},
   "source": [
    "* 我想看每一个人（index）的学科（columns）成绩分布情况（值）\n",
    "* 我想看每一个学科（index）的同学们的（columns）成绩分布情况（值）"
   ]
  },
  {
   "cell_type": "code",
   "execution_count": 7,
   "id": "0d4f646d",
   "metadata": {},
   "outputs": [
    {
     "ename": "ValueError",
     "evalue": "Index contains duplicate entries, cannot reshape",
     "output_type": "error",
     "traceback": [
      "\u001B[1;31m---------------------------------------------------------------------------\u001B[0m",
      "\u001B[1;31mValueError\u001B[0m                                Traceback (most recent call last)",
      "Cell \u001B[1;32mIn[7], line 1\u001B[0m\n\u001B[1;32m----> 1\u001B[0m \u001B[43mdf\u001B[49m\u001B[38;5;241;43m.\u001B[39;49m\u001B[43mpivot\u001B[49m\u001B[43m(\u001B[49m\u001B[43mindex\u001B[49m\u001B[38;5;241;43m=\u001B[39;49m\u001B[38;5;124;43m'\u001B[39;49m\u001B[38;5;124;43mSubject\u001B[39;49m\u001B[38;5;124;43m'\u001B[39;49m\u001B[43m,\u001B[49m\u001B[43m \u001B[49m\u001B[43mcolumns\u001B[49m\u001B[38;5;241;43m=\u001B[39;49m\u001B[38;5;124;43m'\u001B[39;49m\u001B[38;5;124;43mName\u001B[39;49m\u001B[38;5;124;43m'\u001B[39;49m\u001B[43m,\u001B[49m\u001B[43m \u001B[49m\u001B[43mvalues\u001B[49m\u001B[38;5;241;43m=\u001B[39;49m\u001B[38;5;124;43m'\u001B[39;49m\u001B[38;5;124;43mGrade\u001B[39;49m\u001B[38;5;124;43m'\u001B[39;49m\u001B[43m)\u001B[49m\n",
      "File \u001B[1;32mE:\\Anaconda3\\lib\\site-packages\\pandas\\core\\frame.py:7885\u001B[0m, in \u001B[0;36mDataFrame.pivot\u001B[1;34m(self, index, columns, values)\u001B[0m\n\u001B[0;32m   7880\u001B[0m \u001B[38;5;129m@Substitution\u001B[39m(\u001B[38;5;124m\"\u001B[39m\u001B[38;5;124m\"\u001B[39m)\n\u001B[0;32m   7881\u001B[0m \u001B[38;5;129m@Appender\u001B[39m(_shared_docs[\u001B[38;5;124m\"\u001B[39m\u001B[38;5;124mpivot\u001B[39m\u001B[38;5;124m\"\u001B[39m])\n\u001B[0;32m   7882\u001B[0m \u001B[38;5;28;01mdef\u001B[39;00m \u001B[38;5;21mpivot\u001B[39m(\u001B[38;5;28mself\u001B[39m, index\u001B[38;5;241m=\u001B[39m\u001B[38;5;28;01mNone\u001B[39;00m, columns\u001B[38;5;241m=\u001B[39m\u001B[38;5;28;01mNone\u001B[39;00m, values\u001B[38;5;241m=\u001B[39m\u001B[38;5;28;01mNone\u001B[39;00m) \u001B[38;5;241m-\u001B[39m\u001B[38;5;241m>\u001B[39m DataFrame:\n\u001B[0;32m   7883\u001B[0m     \u001B[38;5;28;01mfrom\u001B[39;00m \u001B[38;5;21;01mpandas\u001B[39;00m\u001B[38;5;21;01m.\u001B[39;00m\u001B[38;5;21;01mcore\u001B[39;00m\u001B[38;5;21;01m.\u001B[39;00m\u001B[38;5;21;01mreshape\u001B[39;00m\u001B[38;5;21;01m.\u001B[39;00m\u001B[38;5;21;01mpivot\u001B[39;00m \u001B[38;5;28;01mimport\u001B[39;00m pivot\n\u001B[1;32m-> 7885\u001B[0m     \u001B[38;5;28;01mreturn\u001B[39;00m \u001B[43mpivot\u001B[49m\u001B[43m(\u001B[49m\u001B[38;5;28;43mself\u001B[39;49m\u001B[43m,\u001B[49m\u001B[43m \u001B[49m\u001B[43mindex\u001B[49m\u001B[38;5;241;43m=\u001B[39;49m\u001B[43mindex\u001B[49m\u001B[43m,\u001B[49m\u001B[43m \u001B[49m\u001B[43mcolumns\u001B[49m\u001B[38;5;241;43m=\u001B[39;49m\u001B[43mcolumns\u001B[49m\u001B[43m,\u001B[49m\u001B[43m \u001B[49m\u001B[43mvalues\u001B[49m\u001B[38;5;241;43m=\u001B[39;49m\u001B[43mvalues\u001B[49m\u001B[43m)\u001B[49m\n",
      "File \u001B[1;32mE:\\Anaconda3\\lib\\site-packages\\pandas\\core\\reshape\\pivot.py:520\u001B[0m, in \u001B[0;36mpivot\u001B[1;34m(data, index, columns, values)\u001B[0m\n\u001B[0;32m    518\u001B[0m     \u001B[38;5;28;01melse\u001B[39;00m:\n\u001B[0;32m    519\u001B[0m         indexed \u001B[38;5;241m=\u001B[39m data\u001B[38;5;241m.\u001B[39m_constructor_sliced(data[values]\u001B[38;5;241m.\u001B[39m_values, index\u001B[38;5;241m=\u001B[39mmultiindex)\n\u001B[1;32m--> 520\u001B[0m \u001B[38;5;28;01mreturn\u001B[39;00m \u001B[43mindexed\u001B[49m\u001B[38;5;241;43m.\u001B[39;49m\u001B[43munstack\u001B[49m\u001B[43m(\u001B[49m\u001B[43mcolumns_listlike\u001B[49m\u001B[43m)\u001B[49m\n",
      "File \u001B[1;32mE:\\Anaconda3\\lib\\site-packages\\pandas\\core\\series.py:4157\u001B[0m, in \u001B[0;36mSeries.unstack\u001B[1;34m(self, level, fill_value)\u001B[0m\n\u001B[0;32m   4114\u001B[0m \u001B[38;5;250m\u001B[39m\u001B[38;5;124;03m\"\"\"\u001B[39;00m\n\u001B[0;32m   4115\u001B[0m \u001B[38;5;124;03mUnstack, also known as pivot, Series with MultiIndex to produce DataFrame.\u001B[39;00m\n\u001B[0;32m   4116\u001B[0m \n\u001B[1;32m   (...)\u001B[0m\n\u001B[0;32m   4153\u001B[0m \u001B[38;5;124;03mb    2    4\u001B[39;00m\n\u001B[0;32m   4154\u001B[0m \u001B[38;5;124;03m\"\"\"\u001B[39;00m\n\u001B[0;32m   4155\u001B[0m \u001B[38;5;28;01mfrom\u001B[39;00m \u001B[38;5;21;01mpandas\u001B[39;00m\u001B[38;5;21;01m.\u001B[39;00m\u001B[38;5;21;01mcore\u001B[39;00m\u001B[38;5;21;01m.\u001B[39;00m\u001B[38;5;21;01mreshape\u001B[39;00m\u001B[38;5;21;01m.\u001B[39;00m\u001B[38;5;21;01mreshape\u001B[39;00m \u001B[38;5;28;01mimport\u001B[39;00m unstack\n\u001B[1;32m-> 4157\u001B[0m \u001B[38;5;28;01mreturn\u001B[39;00m \u001B[43munstack\u001B[49m\u001B[43m(\u001B[49m\u001B[38;5;28;43mself\u001B[39;49m\u001B[43m,\u001B[49m\u001B[43m \u001B[49m\u001B[43mlevel\u001B[49m\u001B[43m,\u001B[49m\u001B[43m \u001B[49m\u001B[43mfill_value\u001B[49m\u001B[43m)\u001B[49m\n",
      "File \u001B[1;32mE:\\Anaconda3\\lib\\site-packages\\pandas\\core\\reshape\\reshape.py:491\u001B[0m, in \u001B[0;36munstack\u001B[1;34m(obj, level, fill_value)\u001B[0m\n\u001B[0;32m    489\u001B[0m \u001B[38;5;28;01mif\u001B[39;00m is_1d_only_ea_dtype(obj\u001B[38;5;241m.\u001B[39mdtype):\n\u001B[0;32m    490\u001B[0m     \u001B[38;5;28;01mreturn\u001B[39;00m _unstack_extension_series(obj, level, fill_value)\n\u001B[1;32m--> 491\u001B[0m unstacker \u001B[38;5;241m=\u001B[39m \u001B[43m_Unstacker\u001B[49m\u001B[43m(\u001B[49m\n\u001B[0;32m    492\u001B[0m \u001B[43m    \u001B[49m\u001B[43mobj\u001B[49m\u001B[38;5;241;43m.\u001B[39;49m\u001B[43mindex\u001B[49m\u001B[43m,\u001B[49m\u001B[43m \u001B[49m\u001B[43mlevel\u001B[49m\u001B[38;5;241;43m=\u001B[39;49m\u001B[43mlevel\u001B[49m\u001B[43m,\u001B[49m\u001B[43m \u001B[49m\u001B[43mconstructor\u001B[49m\u001B[38;5;241;43m=\u001B[39;49m\u001B[43mobj\u001B[49m\u001B[38;5;241;43m.\u001B[39;49m\u001B[43m_constructor_expanddim\u001B[49m\n\u001B[0;32m    493\u001B[0m \u001B[43m\u001B[49m\u001B[43m)\u001B[49m\n\u001B[0;32m    494\u001B[0m \u001B[38;5;28;01mreturn\u001B[39;00m unstacker\u001B[38;5;241m.\u001B[39mget_result(\n\u001B[0;32m    495\u001B[0m     obj\u001B[38;5;241m.\u001B[39m_values, value_columns\u001B[38;5;241m=\u001B[39m\u001B[38;5;28;01mNone\u001B[39;00m, fill_value\u001B[38;5;241m=\u001B[39mfill_value\n\u001B[0;32m    496\u001B[0m )\n",
      "File \u001B[1;32mE:\\Anaconda3\\lib\\site-packages\\pandas\\core\\reshape\\reshape.py:140\u001B[0m, in \u001B[0;36m_Unstacker.__init__\u001B[1;34m(self, index, level, constructor)\u001B[0m\n\u001B[0;32m    133\u001B[0m \u001B[38;5;28;01mif\u001B[39;00m num_cells \u001B[38;5;241m>\u001B[39m np\u001B[38;5;241m.\u001B[39miinfo(np\u001B[38;5;241m.\u001B[39mint32)\u001B[38;5;241m.\u001B[39mmax:\n\u001B[0;32m    134\u001B[0m     warnings\u001B[38;5;241m.\u001B[39mwarn(\n\u001B[0;32m    135\u001B[0m         \u001B[38;5;124mf\u001B[39m\u001B[38;5;124m\"\u001B[39m\u001B[38;5;124mThe following operation may generate \u001B[39m\u001B[38;5;132;01m{\u001B[39;00mnum_cells\u001B[38;5;132;01m}\u001B[39;00m\u001B[38;5;124m cells \u001B[39m\u001B[38;5;124m\"\u001B[39m\n\u001B[0;32m    136\u001B[0m         \u001B[38;5;124mf\u001B[39m\u001B[38;5;124m\"\u001B[39m\u001B[38;5;124min the resulting pandas object.\u001B[39m\u001B[38;5;124m\"\u001B[39m,\n\u001B[0;32m    137\u001B[0m         PerformanceWarning,\n\u001B[0;32m    138\u001B[0m     )\n\u001B[1;32m--> 140\u001B[0m \u001B[38;5;28;43mself\u001B[39;49m\u001B[38;5;241;43m.\u001B[39;49m\u001B[43m_make_selectors\u001B[49m\u001B[43m(\u001B[49m\u001B[43m)\u001B[49m\n",
      "File \u001B[1;32mE:\\Anaconda3\\lib\\site-packages\\pandas\\core\\reshape\\reshape.py:192\u001B[0m, in \u001B[0;36m_Unstacker._make_selectors\u001B[1;34m(self)\u001B[0m\n\u001B[0;32m    189\u001B[0m mask\u001B[38;5;241m.\u001B[39mput(selector, \u001B[38;5;28;01mTrue\u001B[39;00m)\n\u001B[0;32m    191\u001B[0m \u001B[38;5;28;01mif\u001B[39;00m mask\u001B[38;5;241m.\u001B[39msum() \u001B[38;5;241m<\u001B[39m \u001B[38;5;28mlen\u001B[39m(\u001B[38;5;28mself\u001B[39m\u001B[38;5;241m.\u001B[39mindex):\n\u001B[1;32m--> 192\u001B[0m     \u001B[38;5;28;01mraise\u001B[39;00m \u001B[38;5;167;01mValueError\u001B[39;00m(\u001B[38;5;124m\"\u001B[39m\u001B[38;5;124mIndex contains duplicate entries, cannot reshape\u001B[39m\u001B[38;5;124m\"\u001B[39m)\n\u001B[0;32m    194\u001B[0m \u001B[38;5;28mself\u001B[39m\u001B[38;5;241m.\u001B[39mgroup_index \u001B[38;5;241m=\u001B[39m comp_index\n\u001B[0;32m    195\u001B[0m \u001B[38;5;28mself\u001B[39m\u001B[38;5;241m.\u001B[39mmask \u001B[38;5;241m=\u001B[39m mask\n",
      "\u001B[1;31mValueError\u001B[0m: Index contains duplicate entries, cannot reshape"
     ]
    }
   ],
   "source": [
    "df.pivot(index='Subject', columns='Name', values='Grade')"
   ]
  },
  {
   "cell_type": "code",
   "execution_count": 8,
   "id": "9512eb1f",
   "metadata": {},
   "outputs": [],
   "source": [
    "import pandas as pd"
   ]
  },
  {
   "cell_type": "code",
   "execution_count": 9,
   "id": "0d42dfdd",
   "metadata": {
    "scrolled": true
   },
   "outputs": [
    {
     "name": "stderr",
     "output_type": "stream",
     "text": [
      "C:\\Users\\17728\\AppData\\Local\\Temp\\ipykernel_26940\\1566942980.py:5: SettingWithCopyWarning: \n",
      "A value is trying to be set on a copy of a slice from a DataFrame.\n",
      "Try using .loc[row_indexer,col_indexer] = value instead\n",
      "\n",
      "See the caveats in the documentation: https://pandas.pydata.org/pandas-docs/stable/user_guide/indexing.html#returning-a-view-versus-a-copy\n",
      "  df_hurun['价值（亿元人民币）'] = df_hurun['价值（亿元人民币）'].astype('int64')\n"
     ]
    },
    {
     "data": {
      "text/plain": "     排名 排名变化                 企业名称  价值（亿元人民币） 价值变化（亿元人民币）  国家     城市    行业\n1     1    0                   抖音      13400      -10050  中国     北京  社交媒体\n2     2    1               SpaceX       8400        1680  美国    洛杉矶    航天\n3     3   -1                 蚂蚁集团       8000       -2010  中国     杭州  金融科技\n4     4    0               Stripe       4100       -2210  美国    旧金山  金融科技\n5     5   11                Shein       4000        2680  中国     广州  电子商务\n..   ..  ...                  ...        ...         ...  ..    ...   ...\n97   95  -16        Impossible 食品        470           0  美国  雷德伍德城  食品饮料\n98   95  -16                   微医        470           0  中国     杭州  健康科技\n99   99   58                 蜂巢能源        460         190  中国     常州   新能源\n100  99   -6           Better.com        460          60  美国     纽约  金融科技\n101  99  -20  Automation Anywhere        460         -10  美国    圣何塞  人工智能\n\n[101 rows x 8 columns]",
      "text/html": "<div>\n<style scoped>\n    .dataframe tbody tr th:only-of-type {\n        vertical-align: middle;\n    }\n\n    .dataframe tbody tr th {\n        vertical-align: top;\n    }\n\n    .dataframe thead th {\n        text-align: right;\n    }\n</style>\n<table border=\"1\" class=\"dataframe\">\n  <thead>\n    <tr style=\"text-align: right;\">\n      <th></th>\n      <th>排名</th>\n      <th>排名变化</th>\n      <th>企业名称</th>\n      <th>价值（亿元人民币）</th>\n      <th>价值变化（亿元人民币）</th>\n      <th>国家</th>\n      <th>城市</th>\n      <th>行业</th>\n    </tr>\n  </thead>\n  <tbody>\n    <tr>\n      <th>1</th>\n      <td>1</td>\n      <td>0</td>\n      <td>抖音</td>\n      <td>13400</td>\n      <td>-10050</td>\n      <td>中国</td>\n      <td>北京</td>\n      <td>社交媒体</td>\n    </tr>\n    <tr>\n      <th>2</th>\n      <td>2</td>\n      <td>1</td>\n      <td>SpaceX</td>\n      <td>8400</td>\n      <td>1680</td>\n      <td>美国</td>\n      <td>洛杉矶</td>\n      <td>航天</td>\n    </tr>\n    <tr>\n      <th>3</th>\n      <td>3</td>\n      <td>-1</td>\n      <td>蚂蚁集团</td>\n      <td>8000</td>\n      <td>-2010</td>\n      <td>中国</td>\n      <td>杭州</td>\n      <td>金融科技</td>\n    </tr>\n    <tr>\n      <th>4</th>\n      <td>4</td>\n      <td>0</td>\n      <td>Stripe</td>\n      <td>4100</td>\n      <td>-2210</td>\n      <td>美国</td>\n      <td>旧金山</td>\n      <td>金融科技</td>\n    </tr>\n    <tr>\n      <th>5</th>\n      <td>5</td>\n      <td>11</td>\n      <td>Shein</td>\n      <td>4000</td>\n      <td>2680</td>\n      <td>中国</td>\n      <td>广州</td>\n      <td>电子商务</td>\n    </tr>\n    <tr>\n      <th>...</th>\n      <td>...</td>\n      <td>...</td>\n      <td>...</td>\n      <td>...</td>\n      <td>...</td>\n      <td>...</td>\n      <td>...</td>\n      <td>...</td>\n    </tr>\n    <tr>\n      <th>97</th>\n      <td>95</td>\n      <td>-16</td>\n      <td>Impossible 食品</td>\n      <td>470</td>\n      <td>0</td>\n      <td>美国</td>\n      <td>雷德伍德城</td>\n      <td>食品饮料</td>\n    </tr>\n    <tr>\n      <th>98</th>\n      <td>95</td>\n      <td>-16</td>\n      <td>微医</td>\n      <td>470</td>\n      <td>0</td>\n      <td>中国</td>\n      <td>杭州</td>\n      <td>健康科技</td>\n    </tr>\n    <tr>\n      <th>99</th>\n      <td>99</td>\n      <td>58</td>\n      <td>蜂巢能源</td>\n      <td>460</td>\n      <td>190</td>\n      <td>中国</td>\n      <td>常州</td>\n      <td>新能源</td>\n    </tr>\n    <tr>\n      <th>100</th>\n      <td>99</td>\n      <td>-6</td>\n      <td>Better.com</td>\n      <td>460</td>\n      <td>60</td>\n      <td>美国</td>\n      <td>纽约</td>\n      <td>金融科技</td>\n    </tr>\n    <tr>\n      <th>101</th>\n      <td>99</td>\n      <td>-20</td>\n      <td>Automation Anywhere</td>\n      <td>460</td>\n      <td>-10</td>\n      <td>美国</td>\n      <td>圣何塞</td>\n      <td>人工智能</td>\n    </tr>\n  </tbody>\n</table>\n<p>101 rows × 8 columns</p>\n</div>"
     },
     "execution_count": 9,
     "metadata": {},
     "output_type": "execute_result"
    }
   ],
   "source": [
    "hurun_独角兽 = pd.read_html('https://www.hurun.net/zh-CN/Info/Detail?num=L9SQPH9FKJB1')[-3]\n",
    "hurun_独角兽[0:1].values.tolist()[0]\n",
    "df_hurun = hurun_独角兽[1:]\n",
    "df_hurun.columns = hurun_独角兽[0:1].values.tolist()[0]\n",
    "df_hurun['价值（亿元人民币）'] = df_hurun['价值（亿元人民币）'].astype('int64')\n",
    "df_hurun"
   ]
  },
  {
   "cell_type": "code",
   "execution_count": 10,
   "id": "940efe0a",
   "metadata": {},
   "outputs": [],
   "source": [
    "df_hurun.to_excel('output.xlsx')"
   ]
  },
  {
   "cell_type": "markdown",
   "id": "1fcad45f",
   "metadata": {},
   "source": [
    "* 我想看每一个国家（index）的行业（columns）的估值（values）"
   ]
  },
  {
   "cell_type": "code",
   "execution_count": 11,
   "id": "b0e324ed",
   "metadata": {},
   "outputs": [
    {
     "data": {
      "text/plain": "    排名 排名变化    企业名称  价值（亿元人民币） 价值变化（亿元人民币）  国家  城市     行业\n1    1    0      抖音      13400      -10050  中国  北京   社交媒体\n3    3   -1    蚂蚁集团       8000       -2010  中国  杭州   金融科技\n5    5   11   Shein       4000        2680  中国  广州   电子商务\n8    8    3    微众银行       2200         200  中国  深圳   金融科技\n9    9    2    京东科技       2000           0  中国  北京   数字科技\n11  11   -2    菜鸟网络       1800        -470  中国  杭州     物流\n18  16    0     小红书       1300           0  中国  上海   软件服务\n22  22   -2      大疆       1200         130  中国  深圳    机器人\n25  25   85    联影医疗       1040         700  中国  上海   健康科技\n28  26   -5    元气森林       1000           0  中国  北京   食品饮料\n30  30  New      滴滴        965         New  中国  北京   共享经济\n32  32    5     货拉拉        870         200  中国  香港     物流\n44  42   -8    阳光保险        740           0  中国  北京     保险\n51  50  271      得物        670         510  中国  上海   电子商务\n52  50   29    兴盛优选        670         200  中国  长沙    新零售\n53  50  -13     车好多        670           0  中国  北京   电子商务\n54  50  -13    远景能源        670           0  中国  无锡    新能源\n57  57   53    中创新航        640         300  中国  常州    新能源\n60  58   -3    极氪汽车        600           0  中国  宁波  新能源汽车\n67  65   35    小马智行        570         200  中国  广州   人工智能\n68  65   -5    58同城        570           0  中国  北京   软件服务\n81  75  -10  平安智慧城市        535           0  中国  深圳    大数据\n83  83   27    京东产发        515         180  中国  宿迁   企业服务\n85  84  -47    滴滴货运        500        -170  中国  北京     物流\n98  95  -16      微医        470           0  中国  杭州   健康科技\n99  99   58    蜂巢能源        460         190  中国  常州    新能源",
      "text/html": "<div>\n<style scoped>\n    .dataframe tbody tr th:only-of-type {\n        vertical-align: middle;\n    }\n\n    .dataframe tbody tr th {\n        vertical-align: top;\n    }\n\n    .dataframe thead th {\n        text-align: right;\n    }\n</style>\n<table border=\"1\" class=\"dataframe\">\n  <thead>\n    <tr style=\"text-align: right;\">\n      <th></th>\n      <th>排名</th>\n      <th>排名变化</th>\n      <th>企业名称</th>\n      <th>价值（亿元人民币）</th>\n      <th>价值变化（亿元人民币）</th>\n      <th>国家</th>\n      <th>城市</th>\n      <th>行业</th>\n    </tr>\n  </thead>\n  <tbody>\n    <tr>\n      <th>1</th>\n      <td>1</td>\n      <td>0</td>\n      <td>抖音</td>\n      <td>13400</td>\n      <td>-10050</td>\n      <td>中国</td>\n      <td>北京</td>\n      <td>社交媒体</td>\n    </tr>\n    <tr>\n      <th>3</th>\n      <td>3</td>\n      <td>-1</td>\n      <td>蚂蚁集团</td>\n      <td>8000</td>\n      <td>-2010</td>\n      <td>中国</td>\n      <td>杭州</td>\n      <td>金融科技</td>\n    </tr>\n    <tr>\n      <th>5</th>\n      <td>5</td>\n      <td>11</td>\n      <td>Shein</td>\n      <td>4000</td>\n      <td>2680</td>\n      <td>中国</td>\n      <td>广州</td>\n      <td>电子商务</td>\n    </tr>\n    <tr>\n      <th>8</th>\n      <td>8</td>\n      <td>3</td>\n      <td>微众银行</td>\n      <td>2200</td>\n      <td>200</td>\n      <td>中国</td>\n      <td>深圳</td>\n      <td>金融科技</td>\n    </tr>\n    <tr>\n      <th>9</th>\n      <td>9</td>\n      <td>2</td>\n      <td>京东科技</td>\n      <td>2000</td>\n      <td>0</td>\n      <td>中国</td>\n      <td>北京</td>\n      <td>数字科技</td>\n    </tr>\n    <tr>\n      <th>11</th>\n      <td>11</td>\n      <td>-2</td>\n      <td>菜鸟网络</td>\n      <td>1800</td>\n      <td>-470</td>\n      <td>中国</td>\n      <td>杭州</td>\n      <td>物流</td>\n    </tr>\n    <tr>\n      <th>18</th>\n      <td>16</td>\n      <td>0</td>\n      <td>小红书</td>\n      <td>1300</td>\n      <td>0</td>\n      <td>中国</td>\n      <td>上海</td>\n      <td>软件服务</td>\n    </tr>\n    <tr>\n      <th>22</th>\n      <td>22</td>\n      <td>-2</td>\n      <td>大疆</td>\n      <td>1200</td>\n      <td>130</td>\n      <td>中国</td>\n      <td>深圳</td>\n      <td>机器人</td>\n    </tr>\n    <tr>\n      <th>25</th>\n      <td>25</td>\n      <td>85</td>\n      <td>联影医疗</td>\n      <td>1040</td>\n      <td>700</td>\n      <td>中国</td>\n      <td>上海</td>\n      <td>健康科技</td>\n    </tr>\n    <tr>\n      <th>28</th>\n      <td>26</td>\n      <td>-5</td>\n      <td>元气森林</td>\n      <td>1000</td>\n      <td>0</td>\n      <td>中国</td>\n      <td>北京</td>\n      <td>食品饮料</td>\n    </tr>\n    <tr>\n      <th>30</th>\n      <td>30</td>\n      <td>New</td>\n      <td>滴滴</td>\n      <td>965</td>\n      <td>New</td>\n      <td>中国</td>\n      <td>北京</td>\n      <td>共享经济</td>\n    </tr>\n    <tr>\n      <th>32</th>\n      <td>32</td>\n      <td>5</td>\n      <td>货拉拉</td>\n      <td>870</td>\n      <td>200</td>\n      <td>中国</td>\n      <td>香港</td>\n      <td>物流</td>\n    </tr>\n    <tr>\n      <th>44</th>\n      <td>42</td>\n      <td>-8</td>\n      <td>阳光保险</td>\n      <td>740</td>\n      <td>0</td>\n      <td>中国</td>\n      <td>北京</td>\n      <td>保险</td>\n    </tr>\n    <tr>\n      <th>51</th>\n      <td>50</td>\n      <td>271</td>\n      <td>得物</td>\n      <td>670</td>\n      <td>510</td>\n      <td>中国</td>\n      <td>上海</td>\n      <td>电子商务</td>\n    </tr>\n    <tr>\n      <th>52</th>\n      <td>50</td>\n      <td>29</td>\n      <td>兴盛优选</td>\n      <td>670</td>\n      <td>200</td>\n      <td>中国</td>\n      <td>长沙</td>\n      <td>新零售</td>\n    </tr>\n    <tr>\n      <th>53</th>\n      <td>50</td>\n      <td>-13</td>\n      <td>车好多</td>\n      <td>670</td>\n      <td>0</td>\n      <td>中国</td>\n      <td>北京</td>\n      <td>电子商务</td>\n    </tr>\n    <tr>\n      <th>54</th>\n      <td>50</td>\n      <td>-13</td>\n      <td>远景能源</td>\n      <td>670</td>\n      <td>0</td>\n      <td>中国</td>\n      <td>无锡</td>\n      <td>新能源</td>\n    </tr>\n    <tr>\n      <th>57</th>\n      <td>57</td>\n      <td>53</td>\n      <td>中创新航</td>\n      <td>640</td>\n      <td>300</td>\n      <td>中国</td>\n      <td>常州</td>\n      <td>新能源</td>\n    </tr>\n    <tr>\n      <th>60</th>\n      <td>58</td>\n      <td>-3</td>\n      <td>极氪汽车</td>\n      <td>600</td>\n      <td>0</td>\n      <td>中国</td>\n      <td>宁波</td>\n      <td>新能源汽车</td>\n    </tr>\n    <tr>\n      <th>67</th>\n      <td>65</td>\n      <td>35</td>\n      <td>小马智行</td>\n      <td>570</td>\n      <td>200</td>\n      <td>中国</td>\n      <td>广州</td>\n      <td>人工智能</td>\n    </tr>\n    <tr>\n      <th>68</th>\n      <td>65</td>\n      <td>-5</td>\n      <td>58同城</td>\n      <td>570</td>\n      <td>0</td>\n      <td>中国</td>\n      <td>北京</td>\n      <td>软件服务</td>\n    </tr>\n    <tr>\n      <th>81</th>\n      <td>75</td>\n      <td>-10</td>\n      <td>平安智慧城市</td>\n      <td>535</td>\n      <td>0</td>\n      <td>中国</td>\n      <td>深圳</td>\n      <td>大数据</td>\n    </tr>\n    <tr>\n      <th>83</th>\n      <td>83</td>\n      <td>27</td>\n      <td>京东产发</td>\n      <td>515</td>\n      <td>180</td>\n      <td>中国</td>\n      <td>宿迁</td>\n      <td>企业服务</td>\n    </tr>\n    <tr>\n      <th>85</th>\n      <td>84</td>\n      <td>-47</td>\n      <td>滴滴货运</td>\n      <td>500</td>\n      <td>-170</td>\n      <td>中国</td>\n      <td>北京</td>\n      <td>物流</td>\n    </tr>\n    <tr>\n      <th>98</th>\n      <td>95</td>\n      <td>-16</td>\n      <td>微医</td>\n      <td>470</td>\n      <td>0</td>\n      <td>中国</td>\n      <td>杭州</td>\n      <td>健康科技</td>\n    </tr>\n    <tr>\n      <th>99</th>\n      <td>99</td>\n      <td>58</td>\n      <td>蜂巢能源</td>\n      <td>460</td>\n      <td>190</td>\n      <td>中国</td>\n      <td>常州</td>\n      <td>新能源</td>\n    </tr>\n  </tbody>\n</table>\n</div>"
     },
     "execution_count": 11,
     "metadata": {},
     "output_type": "execute_result"
    }
   ],
   "source": [
    "df_hurun.query('国家 == \"中国\"')"
   ]
  },
  {
   "cell_type": "code",
   "execution_count": 12,
   "id": "ad6b0c2a",
   "metadata": {},
   "outputs": [
    {
     "data": {
      "text/plain": "array(['社交媒体', '金融科技', '电子商务', '数字科技', '物流', '软件服务', '机器人', '健康科技',\n       '食品饮料', '共享经济', '保险', '新零售', '新能源', '新能源汽车', '人工智能', '大数据', '企业服务'],\n      dtype=object)"
     },
     "execution_count": 12,
     "metadata": {},
     "output_type": "execute_result"
    }
   ],
   "source": [
    "df_hurun.query('国家 == \"中国\"')['行业'].unique()"
   ]
  },
  {
   "cell_type": "code",
   "execution_count": 13,
   "id": "bae64b4e",
   "metadata": {},
   "outputs": [
    {
     "data": {
      "text/plain": "array(['航天', '金融科技', '大数据', '快递', '物流', '企业服务', '共享经济', '社交媒体', '人工智能',\n       '健康科技', '电子商务', '生物科技', '区块链', '软件服务', '游戏', '网络安全', '分析', '机器人',\n       '食品饮料'], dtype=object)"
     },
     "execution_count": 13,
     "metadata": {},
     "output_type": "execute_result"
    }
   ],
   "source": [
    "df_hurun.query('国家 == \"美国\"')['行业'].unique()"
   ]
  },
  {
   "cell_type": "code",
   "execution_count": 14,
   "id": "1edeab61",
   "metadata": {
    "scrolled": true
   },
   "outputs": [
    {
     "ename": "ValueError",
     "evalue": "Index contains duplicate entries, cannot reshape",
     "output_type": "error",
     "traceback": [
      "\u001B[1;31m---------------------------------------------------------------------------\u001B[0m",
      "\u001B[1;31mValueError\u001B[0m                                Traceback (most recent call last)",
      "Cell \u001B[1;32mIn[14], line 1\u001B[0m\n\u001B[1;32m----> 1\u001B[0m \u001B[43mdf_hurun\u001B[49m\u001B[38;5;241;43m.\u001B[39;49m\u001B[43mpivot\u001B[49m\u001B[43m(\u001B[49m\u001B[43mindex\u001B[49m\u001B[38;5;241;43m=\u001B[39;49m\u001B[38;5;124;43m\"\u001B[39;49m\u001B[38;5;124;43m国家\u001B[39;49m\u001B[38;5;124;43m\"\u001B[39;49m\u001B[43m,\u001B[49m\u001B[43mcolumns\u001B[49m\u001B[38;5;241;43m=\u001B[39;49m\u001B[38;5;124;43m\"\u001B[39;49m\u001B[38;5;124;43m行业\u001B[39;49m\u001B[38;5;124;43m\"\u001B[39;49m\u001B[43m,\u001B[49m\u001B[43mvalues\u001B[49m\u001B[43m \u001B[49m\u001B[38;5;241;43m=\u001B[39;49m\u001B[43m \u001B[49m\u001B[38;5;124;43m\"\u001B[39;49m\u001B[38;5;124;43m价值（亿元人民币）\u001B[39;49m\u001B[38;5;124;43m\"\u001B[39;49m\u001B[43m)\u001B[49m\n",
      "File \u001B[1;32mE:\\Anaconda3\\lib\\site-packages\\pandas\\core\\frame.py:7885\u001B[0m, in \u001B[0;36mDataFrame.pivot\u001B[1;34m(self, index, columns, values)\u001B[0m\n\u001B[0;32m   7880\u001B[0m \u001B[38;5;129m@Substitution\u001B[39m(\u001B[38;5;124m\"\u001B[39m\u001B[38;5;124m\"\u001B[39m)\n\u001B[0;32m   7881\u001B[0m \u001B[38;5;129m@Appender\u001B[39m(_shared_docs[\u001B[38;5;124m\"\u001B[39m\u001B[38;5;124mpivot\u001B[39m\u001B[38;5;124m\"\u001B[39m])\n\u001B[0;32m   7882\u001B[0m \u001B[38;5;28;01mdef\u001B[39;00m \u001B[38;5;21mpivot\u001B[39m(\u001B[38;5;28mself\u001B[39m, index\u001B[38;5;241m=\u001B[39m\u001B[38;5;28;01mNone\u001B[39;00m, columns\u001B[38;5;241m=\u001B[39m\u001B[38;5;28;01mNone\u001B[39;00m, values\u001B[38;5;241m=\u001B[39m\u001B[38;5;28;01mNone\u001B[39;00m) \u001B[38;5;241m-\u001B[39m\u001B[38;5;241m>\u001B[39m DataFrame:\n\u001B[0;32m   7883\u001B[0m     \u001B[38;5;28;01mfrom\u001B[39;00m \u001B[38;5;21;01mpandas\u001B[39;00m\u001B[38;5;21;01m.\u001B[39;00m\u001B[38;5;21;01mcore\u001B[39;00m\u001B[38;5;21;01m.\u001B[39;00m\u001B[38;5;21;01mreshape\u001B[39;00m\u001B[38;5;21;01m.\u001B[39;00m\u001B[38;5;21;01mpivot\u001B[39;00m \u001B[38;5;28;01mimport\u001B[39;00m pivot\n\u001B[1;32m-> 7885\u001B[0m     \u001B[38;5;28;01mreturn\u001B[39;00m \u001B[43mpivot\u001B[49m\u001B[43m(\u001B[49m\u001B[38;5;28;43mself\u001B[39;49m\u001B[43m,\u001B[49m\u001B[43m \u001B[49m\u001B[43mindex\u001B[49m\u001B[38;5;241;43m=\u001B[39;49m\u001B[43mindex\u001B[49m\u001B[43m,\u001B[49m\u001B[43m \u001B[49m\u001B[43mcolumns\u001B[49m\u001B[38;5;241;43m=\u001B[39;49m\u001B[43mcolumns\u001B[49m\u001B[43m,\u001B[49m\u001B[43m \u001B[49m\u001B[43mvalues\u001B[49m\u001B[38;5;241;43m=\u001B[39;49m\u001B[43mvalues\u001B[49m\u001B[43m)\u001B[49m\n",
      "File \u001B[1;32mE:\\Anaconda3\\lib\\site-packages\\pandas\\core\\reshape\\pivot.py:520\u001B[0m, in \u001B[0;36mpivot\u001B[1;34m(data, index, columns, values)\u001B[0m\n\u001B[0;32m    518\u001B[0m     \u001B[38;5;28;01melse\u001B[39;00m:\n\u001B[0;32m    519\u001B[0m         indexed \u001B[38;5;241m=\u001B[39m data\u001B[38;5;241m.\u001B[39m_constructor_sliced(data[values]\u001B[38;5;241m.\u001B[39m_values, index\u001B[38;5;241m=\u001B[39mmultiindex)\n\u001B[1;32m--> 520\u001B[0m \u001B[38;5;28;01mreturn\u001B[39;00m \u001B[43mindexed\u001B[49m\u001B[38;5;241;43m.\u001B[39;49m\u001B[43munstack\u001B[49m\u001B[43m(\u001B[49m\u001B[43mcolumns_listlike\u001B[49m\u001B[43m)\u001B[49m\n",
      "File \u001B[1;32mE:\\Anaconda3\\lib\\site-packages\\pandas\\core\\series.py:4157\u001B[0m, in \u001B[0;36mSeries.unstack\u001B[1;34m(self, level, fill_value)\u001B[0m\n\u001B[0;32m   4114\u001B[0m \u001B[38;5;250m\u001B[39m\u001B[38;5;124;03m\"\"\"\u001B[39;00m\n\u001B[0;32m   4115\u001B[0m \u001B[38;5;124;03mUnstack, also known as pivot, Series with MultiIndex to produce DataFrame.\u001B[39;00m\n\u001B[0;32m   4116\u001B[0m \n\u001B[1;32m   (...)\u001B[0m\n\u001B[0;32m   4153\u001B[0m \u001B[38;5;124;03mb    2    4\u001B[39;00m\n\u001B[0;32m   4154\u001B[0m \u001B[38;5;124;03m\"\"\"\u001B[39;00m\n\u001B[0;32m   4155\u001B[0m \u001B[38;5;28;01mfrom\u001B[39;00m \u001B[38;5;21;01mpandas\u001B[39;00m\u001B[38;5;21;01m.\u001B[39;00m\u001B[38;5;21;01mcore\u001B[39;00m\u001B[38;5;21;01m.\u001B[39;00m\u001B[38;5;21;01mreshape\u001B[39;00m\u001B[38;5;21;01m.\u001B[39;00m\u001B[38;5;21;01mreshape\u001B[39;00m \u001B[38;5;28;01mimport\u001B[39;00m unstack\n\u001B[1;32m-> 4157\u001B[0m \u001B[38;5;28;01mreturn\u001B[39;00m \u001B[43munstack\u001B[49m\u001B[43m(\u001B[49m\u001B[38;5;28;43mself\u001B[39;49m\u001B[43m,\u001B[49m\u001B[43m \u001B[49m\u001B[43mlevel\u001B[49m\u001B[43m,\u001B[49m\u001B[43m \u001B[49m\u001B[43mfill_value\u001B[49m\u001B[43m)\u001B[49m\n",
      "File \u001B[1;32mE:\\Anaconda3\\lib\\site-packages\\pandas\\core\\reshape\\reshape.py:491\u001B[0m, in \u001B[0;36munstack\u001B[1;34m(obj, level, fill_value)\u001B[0m\n\u001B[0;32m    489\u001B[0m \u001B[38;5;28;01mif\u001B[39;00m is_1d_only_ea_dtype(obj\u001B[38;5;241m.\u001B[39mdtype):\n\u001B[0;32m    490\u001B[0m     \u001B[38;5;28;01mreturn\u001B[39;00m _unstack_extension_series(obj, level, fill_value)\n\u001B[1;32m--> 491\u001B[0m unstacker \u001B[38;5;241m=\u001B[39m \u001B[43m_Unstacker\u001B[49m\u001B[43m(\u001B[49m\n\u001B[0;32m    492\u001B[0m \u001B[43m    \u001B[49m\u001B[43mobj\u001B[49m\u001B[38;5;241;43m.\u001B[39;49m\u001B[43mindex\u001B[49m\u001B[43m,\u001B[49m\u001B[43m \u001B[49m\u001B[43mlevel\u001B[49m\u001B[38;5;241;43m=\u001B[39;49m\u001B[43mlevel\u001B[49m\u001B[43m,\u001B[49m\u001B[43m \u001B[49m\u001B[43mconstructor\u001B[49m\u001B[38;5;241;43m=\u001B[39;49m\u001B[43mobj\u001B[49m\u001B[38;5;241;43m.\u001B[39;49m\u001B[43m_constructor_expanddim\u001B[49m\n\u001B[0;32m    493\u001B[0m \u001B[43m\u001B[49m\u001B[43m)\u001B[49m\n\u001B[0;32m    494\u001B[0m \u001B[38;5;28;01mreturn\u001B[39;00m unstacker\u001B[38;5;241m.\u001B[39mget_result(\n\u001B[0;32m    495\u001B[0m     obj\u001B[38;5;241m.\u001B[39m_values, value_columns\u001B[38;5;241m=\u001B[39m\u001B[38;5;28;01mNone\u001B[39;00m, fill_value\u001B[38;5;241m=\u001B[39mfill_value\n\u001B[0;32m    496\u001B[0m )\n",
      "File \u001B[1;32mE:\\Anaconda3\\lib\\site-packages\\pandas\\core\\reshape\\reshape.py:140\u001B[0m, in \u001B[0;36m_Unstacker.__init__\u001B[1;34m(self, index, level, constructor)\u001B[0m\n\u001B[0;32m    133\u001B[0m \u001B[38;5;28;01mif\u001B[39;00m num_cells \u001B[38;5;241m>\u001B[39m np\u001B[38;5;241m.\u001B[39miinfo(np\u001B[38;5;241m.\u001B[39mint32)\u001B[38;5;241m.\u001B[39mmax:\n\u001B[0;32m    134\u001B[0m     warnings\u001B[38;5;241m.\u001B[39mwarn(\n\u001B[0;32m    135\u001B[0m         \u001B[38;5;124mf\u001B[39m\u001B[38;5;124m\"\u001B[39m\u001B[38;5;124mThe following operation may generate \u001B[39m\u001B[38;5;132;01m{\u001B[39;00mnum_cells\u001B[38;5;132;01m}\u001B[39;00m\u001B[38;5;124m cells \u001B[39m\u001B[38;5;124m\"\u001B[39m\n\u001B[0;32m    136\u001B[0m         \u001B[38;5;124mf\u001B[39m\u001B[38;5;124m\"\u001B[39m\u001B[38;5;124min the resulting pandas object.\u001B[39m\u001B[38;5;124m\"\u001B[39m,\n\u001B[0;32m    137\u001B[0m         PerformanceWarning,\n\u001B[0;32m    138\u001B[0m     )\n\u001B[1;32m--> 140\u001B[0m \u001B[38;5;28;43mself\u001B[39;49m\u001B[38;5;241;43m.\u001B[39;49m\u001B[43m_make_selectors\u001B[49m\u001B[43m(\u001B[49m\u001B[43m)\u001B[49m\n",
      "File \u001B[1;32mE:\\Anaconda3\\lib\\site-packages\\pandas\\core\\reshape\\reshape.py:192\u001B[0m, in \u001B[0;36m_Unstacker._make_selectors\u001B[1;34m(self)\u001B[0m\n\u001B[0;32m    189\u001B[0m mask\u001B[38;5;241m.\u001B[39mput(selector, \u001B[38;5;28;01mTrue\u001B[39;00m)\n\u001B[0;32m    191\u001B[0m \u001B[38;5;28;01mif\u001B[39;00m mask\u001B[38;5;241m.\u001B[39msum() \u001B[38;5;241m<\u001B[39m \u001B[38;5;28mlen\u001B[39m(\u001B[38;5;28mself\u001B[39m\u001B[38;5;241m.\u001B[39mindex):\n\u001B[1;32m--> 192\u001B[0m     \u001B[38;5;28;01mraise\u001B[39;00m \u001B[38;5;167;01mValueError\u001B[39;00m(\u001B[38;5;124m\"\u001B[39m\u001B[38;5;124mIndex contains duplicate entries, cannot reshape\u001B[39m\u001B[38;5;124m\"\u001B[39m)\n\u001B[0;32m    194\u001B[0m \u001B[38;5;28mself\u001B[39m\u001B[38;5;241m.\u001B[39mgroup_index \u001B[38;5;241m=\u001B[39m comp_index\n\u001B[0;32m    195\u001B[0m \u001B[38;5;28mself\u001B[39m\u001B[38;5;241m.\u001B[39mmask \u001B[38;5;241m=\u001B[39m mask\n",
      "\u001B[1;31mValueError\u001B[0m: Index contains duplicate entries, cannot reshape"
     ]
    }
   ],
   "source": [
    "df_hurun.pivot(index=\"国家\",columns=\"行业\",values = \"价值（亿元人民币）\")"
   ]
  },
  {
   "cell_type": "code",
   "execution_count": 15,
   "id": "4cf426fe",
   "metadata": {},
   "outputs": [
    {
     "data": {
      "text/plain": "行业      人工智能    企业服务     保险    健康科技    共享经济     分析     区块链     大数据      快递  \\\n国家                                                                           \n中国     570.0   515.0  740.0  1040.0   965.0    NaN     NaN   535.0     NaN   \n以色列      NaN     NaN    NaN     NaN     NaN    NaN   535.0     NaN     NaN   \n印度       NaN     NaN    NaN     NaN   480.0    NaN     NaN     NaN   720.0   \n印度尼西亚    NaN     NaN    NaN     NaN   700.0    NaN     NaN     NaN     NaN   \n土耳其      NaN     NaN    NaN     NaN     NaN    NaN     NaN     NaN   800.0   \n墨西哥      NaN     NaN    NaN     NaN     NaN    NaN     NaN     NaN     NaN   \n巴哈马      NaN     NaN    NaN     NaN     NaN    NaN  1300.0     NaN     NaN   \n德国       NaN     NaN    NaN     NaN     NaN    NaN     NaN     NaN     NaN   \n澳大利亚     NaN     NaN    NaN     NaN     NaN    NaN     NaN     NaN     NaN   \n瑞典       NaN     NaN    NaN     NaN     NaN    NaN     NaN     NaN     NaN   \n瑞士       NaN     NaN    NaN     NaN     NaN    NaN   575.0     NaN     NaN   \n美国     870.0  1170.0    NaN   840.0  1000.0  575.0   760.0  2500.0  1320.0   \n英国       NaN     NaN    NaN     NaN     NaN    NaN   700.0     NaN     NaN   \n越南       NaN     NaN    NaN     NaN     NaN    NaN     NaN     NaN     NaN   \n韩国       NaN     NaN    NaN     NaN     NaN    NaN   535.0     NaN     NaN   \n马耳他      NaN     NaN    NaN     NaN     NaN    NaN  3000.0     NaN     NaN   \n\n行业       教育科技  ...     游戏      物流   生物科技    电子商务     社交媒体   网络安全      航天  \\\n国家             ...                                                         \n中国        NaN  ...    NaN  1800.0    NaN  4000.0  13400.0    NaN     NaN   \n以色列       NaN  ...    NaN     NaN    NaN     NaN      NaN    NaN     NaN   \n印度     1500.0  ...  535.0     NaN    NaN     NaN      NaN    NaN     NaN   \n印度尼西亚     NaN  ...    NaN     NaN    NaN  1300.0      NaN    NaN     NaN   \n土耳其       NaN  ...    NaN     NaN    NaN     NaN      NaN    NaN     NaN   \n墨西哥       NaN  ...    NaN     NaN    NaN   580.0      NaN    NaN     NaN   \n巴哈马       NaN  ...    NaN     NaN    NaN     NaN      NaN    NaN     NaN   \n德国        NaN  ...    NaN     NaN    NaN     NaN      NaN    NaN     NaN   \n澳大利亚      NaN  ...    NaN     NaN    NaN     NaN      NaN    NaN     NaN   \n瑞典        NaN  ...    NaN     NaN    NaN     NaN      NaN    NaN     NaN   \n瑞士        NaN  ...    NaN     NaN    NaN     NaN      NaN    NaN     NaN   \n美国        NaN  ...  600.0  1200.0  800.0   840.0   1000.0  600.0  8400.0   \n英国        NaN  ...    NaN     NaN    NaN     NaN      NaN    NaN     NaN   \n越南        NaN  ...    NaN     NaN    NaN     NaN      NaN    NaN     NaN   \n韩国        NaN  ...    NaN     NaN    NaN   560.0      NaN    NaN     NaN   \n马耳他       NaN  ...    NaN     NaN    NaN     NaN      NaN    NaN     NaN   \n\n行业       软件服务    金融科技    食品饮料  \n国家                             \n中国     1300.0  8000.0  1000.0  \n以色列       NaN     NaN     NaN  \n印度        NaN     NaN     NaN  \n印度尼西亚     NaN     NaN     NaN  \n土耳其       NaN     NaN     NaN  \n墨西哥       NaN     NaN     NaN  \n巴哈马       NaN     NaN     NaN  \n德国      555.0     NaN     NaN  \n澳大利亚   1750.0     NaN     NaN  \n瑞典        NaN     NaN     NaN  \n瑞士        NaN     NaN     NaN  \n美国      750.0  4100.0   470.0  \n英国      570.0  1900.0     NaN  \n越南        NaN     NaN     NaN  \n韩国        NaN     NaN     NaN  \n马耳他       NaN     NaN     NaN  \n\n[16 rows x 26 columns]",
      "text/html": "<div>\n<style scoped>\n    .dataframe tbody tr th:only-of-type {\n        vertical-align: middle;\n    }\n\n    .dataframe tbody tr th {\n        vertical-align: top;\n    }\n\n    .dataframe thead th {\n        text-align: right;\n    }\n</style>\n<table border=\"1\" class=\"dataframe\">\n  <thead>\n    <tr style=\"text-align: right;\">\n      <th>行业</th>\n      <th>人工智能</th>\n      <th>企业服务</th>\n      <th>保险</th>\n      <th>健康科技</th>\n      <th>共享经济</th>\n      <th>分析</th>\n      <th>区块链</th>\n      <th>大数据</th>\n      <th>快递</th>\n      <th>教育科技</th>\n      <th>...</th>\n      <th>游戏</th>\n      <th>物流</th>\n      <th>生物科技</th>\n      <th>电子商务</th>\n      <th>社交媒体</th>\n      <th>网络安全</th>\n      <th>航天</th>\n      <th>软件服务</th>\n      <th>金融科技</th>\n      <th>食品饮料</th>\n    </tr>\n    <tr>\n      <th>国家</th>\n      <th></th>\n      <th></th>\n      <th></th>\n      <th></th>\n      <th></th>\n      <th></th>\n      <th></th>\n      <th></th>\n      <th></th>\n      <th></th>\n      <th></th>\n      <th></th>\n      <th></th>\n      <th></th>\n      <th></th>\n      <th></th>\n      <th></th>\n      <th></th>\n      <th></th>\n      <th></th>\n      <th></th>\n    </tr>\n  </thead>\n  <tbody>\n    <tr>\n      <th>中国</th>\n      <td>570.0</td>\n      <td>515.0</td>\n      <td>740.0</td>\n      <td>1040.0</td>\n      <td>965.0</td>\n      <td>NaN</td>\n      <td>NaN</td>\n      <td>535.0</td>\n      <td>NaN</td>\n      <td>NaN</td>\n      <td>...</td>\n      <td>NaN</td>\n      <td>1800.0</td>\n      <td>NaN</td>\n      <td>4000.0</td>\n      <td>13400.0</td>\n      <td>NaN</td>\n      <td>NaN</td>\n      <td>1300.0</td>\n      <td>8000.0</td>\n      <td>1000.0</td>\n    </tr>\n    <tr>\n      <th>以色列</th>\n      <td>NaN</td>\n      <td>NaN</td>\n      <td>NaN</td>\n      <td>NaN</td>\n      <td>NaN</td>\n      <td>NaN</td>\n      <td>535.0</td>\n      <td>NaN</td>\n      <td>NaN</td>\n      <td>NaN</td>\n      <td>...</td>\n      <td>NaN</td>\n      <td>NaN</td>\n      <td>NaN</td>\n      <td>NaN</td>\n      <td>NaN</td>\n      <td>NaN</td>\n      <td>NaN</td>\n      <td>NaN</td>\n      <td>NaN</td>\n      <td>NaN</td>\n    </tr>\n    <tr>\n      <th>印度</th>\n      <td>NaN</td>\n      <td>NaN</td>\n      <td>NaN</td>\n      <td>NaN</td>\n      <td>480.0</td>\n      <td>NaN</td>\n      <td>NaN</td>\n      <td>NaN</td>\n      <td>720.0</td>\n      <td>1500.0</td>\n      <td>...</td>\n      <td>535.0</td>\n      <td>NaN</td>\n      <td>NaN</td>\n      <td>NaN</td>\n      <td>NaN</td>\n      <td>NaN</td>\n      <td>NaN</td>\n      <td>NaN</td>\n      <td>NaN</td>\n      <td>NaN</td>\n    </tr>\n    <tr>\n      <th>印度尼西亚</th>\n      <td>NaN</td>\n      <td>NaN</td>\n      <td>NaN</td>\n      <td>NaN</td>\n      <td>700.0</td>\n      <td>NaN</td>\n      <td>NaN</td>\n      <td>NaN</td>\n      <td>NaN</td>\n      <td>NaN</td>\n      <td>...</td>\n      <td>NaN</td>\n      <td>NaN</td>\n      <td>NaN</td>\n      <td>1300.0</td>\n      <td>NaN</td>\n      <td>NaN</td>\n      <td>NaN</td>\n      <td>NaN</td>\n      <td>NaN</td>\n      <td>NaN</td>\n    </tr>\n    <tr>\n      <th>土耳其</th>\n      <td>NaN</td>\n      <td>NaN</td>\n      <td>NaN</td>\n      <td>NaN</td>\n      <td>NaN</td>\n      <td>NaN</td>\n      <td>NaN</td>\n      <td>NaN</td>\n      <td>800.0</td>\n      <td>NaN</td>\n      <td>...</td>\n      <td>NaN</td>\n      <td>NaN</td>\n      <td>NaN</td>\n      <td>NaN</td>\n      <td>NaN</td>\n      <td>NaN</td>\n      <td>NaN</td>\n      <td>NaN</td>\n      <td>NaN</td>\n      <td>NaN</td>\n    </tr>\n    <tr>\n      <th>墨西哥</th>\n      <td>NaN</td>\n      <td>NaN</td>\n      <td>NaN</td>\n      <td>NaN</td>\n      <td>NaN</td>\n      <td>NaN</td>\n      <td>NaN</td>\n      <td>NaN</td>\n      <td>NaN</td>\n      <td>NaN</td>\n      <td>...</td>\n      <td>NaN</td>\n      <td>NaN</td>\n      <td>NaN</td>\n      <td>580.0</td>\n      <td>NaN</td>\n      <td>NaN</td>\n      <td>NaN</td>\n      <td>NaN</td>\n      <td>NaN</td>\n      <td>NaN</td>\n    </tr>\n    <tr>\n      <th>巴哈马</th>\n      <td>NaN</td>\n      <td>NaN</td>\n      <td>NaN</td>\n      <td>NaN</td>\n      <td>NaN</td>\n      <td>NaN</td>\n      <td>1300.0</td>\n      <td>NaN</td>\n      <td>NaN</td>\n      <td>NaN</td>\n      <td>...</td>\n      <td>NaN</td>\n      <td>NaN</td>\n      <td>NaN</td>\n      <td>NaN</td>\n      <td>NaN</td>\n      <td>NaN</td>\n      <td>NaN</td>\n      <td>NaN</td>\n      <td>NaN</td>\n      <td>NaN</td>\n    </tr>\n    <tr>\n      <th>德国</th>\n      <td>NaN</td>\n      <td>NaN</td>\n      <td>NaN</td>\n      <td>NaN</td>\n      <td>NaN</td>\n      <td>NaN</td>\n      <td>NaN</td>\n      <td>NaN</td>\n      <td>NaN</td>\n      <td>NaN</td>\n      <td>...</td>\n      <td>NaN</td>\n      <td>NaN</td>\n      <td>NaN</td>\n      <td>NaN</td>\n      <td>NaN</td>\n      <td>NaN</td>\n      <td>NaN</td>\n      <td>555.0</td>\n      <td>NaN</td>\n      <td>NaN</td>\n    </tr>\n    <tr>\n      <th>澳大利亚</th>\n      <td>NaN</td>\n      <td>NaN</td>\n      <td>NaN</td>\n      <td>NaN</td>\n      <td>NaN</td>\n      <td>NaN</td>\n      <td>NaN</td>\n      <td>NaN</td>\n      <td>NaN</td>\n      <td>NaN</td>\n      <td>...</td>\n      <td>NaN</td>\n      <td>NaN</td>\n      <td>NaN</td>\n      <td>NaN</td>\n      <td>NaN</td>\n      <td>NaN</td>\n      <td>NaN</td>\n      <td>1750.0</td>\n      <td>NaN</td>\n      <td>NaN</td>\n    </tr>\n    <tr>\n      <th>瑞典</th>\n      <td>NaN</td>\n      <td>NaN</td>\n      <td>NaN</td>\n      <td>NaN</td>\n      <td>NaN</td>\n      <td>NaN</td>\n      <td>NaN</td>\n      <td>NaN</td>\n      <td>NaN</td>\n      <td>NaN</td>\n      <td>...</td>\n      <td>NaN</td>\n      <td>NaN</td>\n      <td>NaN</td>\n      <td>NaN</td>\n      <td>NaN</td>\n      <td>NaN</td>\n      <td>NaN</td>\n      <td>NaN</td>\n      <td>NaN</td>\n      <td>NaN</td>\n    </tr>\n    <tr>\n      <th>瑞士</th>\n      <td>NaN</td>\n      <td>NaN</td>\n      <td>NaN</td>\n      <td>NaN</td>\n      <td>NaN</td>\n      <td>NaN</td>\n      <td>575.0</td>\n      <td>NaN</td>\n      <td>NaN</td>\n      <td>NaN</td>\n      <td>...</td>\n      <td>NaN</td>\n      <td>NaN</td>\n      <td>NaN</td>\n      <td>NaN</td>\n      <td>NaN</td>\n      <td>NaN</td>\n      <td>NaN</td>\n      <td>NaN</td>\n      <td>NaN</td>\n      <td>NaN</td>\n    </tr>\n    <tr>\n      <th>美国</th>\n      <td>870.0</td>\n      <td>1170.0</td>\n      <td>NaN</td>\n      <td>840.0</td>\n      <td>1000.0</td>\n      <td>575.0</td>\n      <td>760.0</td>\n      <td>2500.0</td>\n      <td>1320.0</td>\n      <td>NaN</td>\n      <td>...</td>\n      <td>600.0</td>\n      <td>1200.0</td>\n      <td>800.0</td>\n      <td>840.0</td>\n      <td>1000.0</td>\n      <td>600.0</td>\n      <td>8400.0</td>\n      <td>750.0</td>\n      <td>4100.0</td>\n      <td>470.0</td>\n    </tr>\n    <tr>\n      <th>英国</th>\n      <td>NaN</td>\n      <td>NaN</td>\n      <td>NaN</td>\n      <td>NaN</td>\n      <td>NaN</td>\n      <td>NaN</td>\n      <td>700.0</td>\n      <td>NaN</td>\n      <td>NaN</td>\n      <td>NaN</td>\n      <td>...</td>\n      <td>NaN</td>\n      <td>NaN</td>\n      <td>NaN</td>\n      <td>NaN</td>\n      <td>NaN</td>\n      <td>NaN</td>\n      <td>NaN</td>\n      <td>570.0</td>\n      <td>1900.0</td>\n      <td>NaN</td>\n    </tr>\n    <tr>\n      <th>越南</th>\n      <td>NaN</td>\n      <td>NaN</td>\n      <td>NaN</td>\n      <td>NaN</td>\n      <td>NaN</td>\n      <td>NaN</td>\n      <td>NaN</td>\n      <td>NaN</td>\n      <td>NaN</td>\n      <td>NaN</td>\n      <td>...</td>\n      <td>NaN</td>\n      <td>NaN</td>\n      <td>NaN</td>\n      <td>NaN</td>\n      <td>NaN</td>\n      <td>NaN</td>\n      <td>NaN</td>\n      <td>NaN</td>\n      <td>NaN</td>\n      <td>NaN</td>\n    </tr>\n    <tr>\n      <th>韩国</th>\n      <td>NaN</td>\n      <td>NaN</td>\n      <td>NaN</td>\n      <td>NaN</td>\n      <td>NaN</td>\n      <td>NaN</td>\n      <td>535.0</td>\n      <td>NaN</td>\n      <td>NaN</td>\n      <td>NaN</td>\n      <td>...</td>\n      <td>NaN</td>\n      <td>NaN</td>\n      <td>NaN</td>\n      <td>560.0</td>\n      <td>NaN</td>\n      <td>NaN</td>\n      <td>NaN</td>\n      <td>NaN</td>\n      <td>NaN</td>\n      <td>NaN</td>\n    </tr>\n    <tr>\n      <th>马耳他</th>\n      <td>NaN</td>\n      <td>NaN</td>\n      <td>NaN</td>\n      <td>NaN</td>\n      <td>NaN</td>\n      <td>NaN</td>\n      <td>3000.0</td>\n      <td>NaN</td>\n      <td>NaN</td>\n      <td>NaN</td>\n      <td>...</td>\n      <td>NaN</td>\n      <td>NaN</td>\n      <td>NaN</td>\n      <td>NaN</td>\n      <td>NaN</td>\n      <td>NaN</td>\n      <td>NaN</td>\n      <td>NaN</td>\n      <td>NaN</td>\n      <td>NaN</td>\n    </tr>\n  </tbody>\n</table>\n<p>16 rows × 26 columns</p>\n</div>"
     },
     "execution_count": 15,
     "metadata": {},
     "output_type": "execute_result"
    }
   ],
   "source": [
    "df_hurun_pivot = df_hurun.pivot_table(index=\"国家\",columns=\"行业\",values = \"价值（亿元人民币）\",aggfunc=\"max\")\n",
    "df_hurun_pivot"
   ]
  },
  {
   "cell_type": "code",
   "execution_count": 18,
   "id": "96de4fbf",
   "metadata": {
    "scrolled": true
   },
   "outputs": [
    {
     "name": "stdout",
     "output_type": "stream",
     "text": [
      "Requirement already satisfied: pyecharts in e:\\anaconda3\\lib\\site-packages (2.0.3)\n",
      "Requirement already satisfied: prettytable in e:\\anaconda3\\lib\\site-packages (from pyecharts) (3.7.0)\n",
      "Requirement already satisfied: jinja2 in e:\\anaconda3\\lib\\site-packages (from pyecharts) (2.11.3)\n",
      "Requirement already satisfied: simplejson in e:\\anaconda3\\lib\\site-packages (from pyecharts) (3.19.1)\n",
      "Requirement already satisfied: MarkupSafe>=0.23 in e:\\anaconda3\\lib\\site-packages (from jinja2->pyecharts) (2.0.1)\n",
      "Requirement already satisfied: wcwidth in c:\\users\\17728\\appdata\\roaming\\python\\python39\\site-packages (from prettytable->pyecharts) (0.2.6)\n"
     ]
    }
   ],
   "source": [
    "!pip install pyecharts"
   ]
  },
  {
   "cell_type": "code",
   "execution_count": 19,
   "id": "a87e9bb7",
   "metadata": {},
   "outputs": [
    {
     "ename": "NameError",
     "evalue": "name 'Faker' is not defined",
     "output_type": "error",
     "traceback": [
      "\u001B[1;31m---------------------------------------------------------------------------\u001B[0m",
      "\u001B[1;31mNameError\u001B[0m                                 Traceback (most recent call last)",
      "Cell \u001B[1;32mIn[19], line 1\u001B[0m\n\u001B[1;32m----> 1\u001B[0m \u001B[43mFaker\u001B[49m\u001B[38;5;241m.\u001B[39mchoose()\n",
      "\u001B[1;31mNameError\u001B[0m: name 'Faker' is not defined"
     ]
    }
   ],
   "source": [
    "Faker.choose()"
   ]
  },
  {
   "cell_type": "code",
   "execution_count": null,
   "id": "4e5e8964",
   "metadata": {},
   "outputs": [],
   "source": [
    "Faker.values()"
   ]
  },
  {
   "cell_type": "code",
   "execution_count": 41,
   "id": "e59f988e",
   "metadata": {
    "scrolled": true
   },
   "outputs": [
    {
     "data": {
      "text/plain": "['人工智能',\n '企业服务',\n '保险',\n '健康科技',\n '共享经济',\n '分析',\n '区块链',\n '大数据',\n '快递',\n '教育科技',\n '数字科技',\n '新能源',\n '新能源汽车',\n '新零售',\n '机器人',\n '消费品',\n '游戏',\n '物流',\n '生物科技',\n '电子商务',\n '社交媒体',\n '网络安全',\n '航天',\n '软件服务',\n '金融科技',\n '食品饮料']"
     },
     "execution_count": 41,
     "metadata": {},
     "output_type": "execute_result"
    }
   ],
   "source": [
    "行业 = df_hurun_pivot.columns.tolist()\n",
    "行业"
   ]
  },
  {
   "cell_type": "code",
   "execution_count": 43,
   "id": "fa695c31",
   "metadata": {
    "scrolled": true
   },
   "outputs": [
    {
     "data": {
      "text/plain": "[570.0,\n 515.0,\n 740.0,\n 1040.0,\n 965.0,\n nan,\n nan,\n 535.0,\n nan,\n nan,\n 2000.0,\n 670.0,\n 600.0,\n 670.0,\n 1200.0,\n nan,\n nan,\n 1800.0,\n nan,\n 4000.0,\n 13400.0,\n nan,\n nan,\n 1300.0,\n 8000.0,\n 1000.0]"
     },
     "execution_count": 43,
     "metadata": {},
     "output_type": "execute_result"
    }
   ],
   "source": [
    "中国 = df_hurun_pivot.query('国家 == \"中国\"').values[0].tolist()\n",
    "中国"
   ]
  },
  {
   "cell_type": "code",
   "execution_count": 44,
   "id": "1dc9747f",
   "metadata": {
    "scrolled": true
   },
   "outputs": [
    {
     "data": {
      "text/plain": "[870.0,\n 1170.0,\n nan,\n 840.0,\n 1000.0,\n 575.0,\n 760.0,\n 2500.0,\n 1320.0,\n nan,\n nan,\n nan,\n nan,\n nan,\n 575.0,\n nan,\n 600.0,\n 1200.0,\n 800.0,\n 840.0,\n 1000.0,\n 600.0,\n 8400.0,\n 750.0,\n 4100.0,\n 470.0]"
     },
     "execution_count": 44,
     "metadata": {},
     "output_type": "execute_result"
    }
   ],
   "source": [
    "美国 = df_hurun_pivot.query('国家 == \"美国\"').values[0].tolist()\n",
    "美国"
   ]
  },
  {
   "cell_type": "markdown",
   "id": "762cc770",
   "metadata": {},
   "source": [
    "# Bar可视化展示"
   ]
  },
  {
   "cell_type": "code",
   "execution_count": 45,
   "id": "91ebdd02",
   "metadata": {
    "scrolled": true
   },
   "outputs": [
    {
     "data": {
      "text/plain": "<pyecharts.render.display.HTML at 0x1f7998de610>",
      "text/html": "\n<script>\n    require.config({\n        paths: {\n            'echarts':'https://assets.pyecharts.org/assets/v5/echarts.min'\n        }\n    });\n</script>\n\n        <div id=\"7691774552cb47b38eaabbb2fb260a20\" style=\"width:900px; height:500px;\"></div>\n\n<script>\n        require(['echarts'], function(echarts) {\n                var chart_7691774552cb47b38eaabbb2fb260a20 = echarts.init(\n                    document.getElementById('7691774552cb47b38eaabbb2fb260a20'), 'white', {renderer: 'canvas'});\n                var option_7691774552cb47b38eaabbb2fb260a20 = {\n    \"animation\": true,\n    \"animationThreshold\": 2000,\n    \"animationDuration\": 1000,\n    \"animationEasing\": \"cubicOut\",\n    \"animationDelay\": 0,\n    \"animationDurationUpdate\": 300,\n    \"animationEasingUpdate\": \"cubicOut\",\n    \"animationDelayUpdate\": 0,\n    \"aria\": {\n        \"enabled\": false\n    },\n    \"color\": [\n        \"#5470c6\",\n        \"#91cc75\",\n        \"#fac858\",\n        \"#ee6666\",\n        \"#73c0de\",\n        \"#3ba272\",\n        \"#fc8452\",\n        \"#9a60b4\",\n        \"#ea7ccc\"\n    ],\n    \"series\": [\n        {\n            \"type\": \"bar\",\n            \"name\": \"\\u4e2d\\u56fd\",\n            \"legendHoverLink\": true,\n            \"data\": [\n                570.0,\n                515.0,\n                740.0,\n                1040.0,\n                965.0,\n                null,\n                null,\n                535.0,\n                null,\n                null,\n                2000.0,\n                670.0,\n                600.0,\n                670.0,\n                1200.0,\n                null,\n                null,\n                1800.0,\n                null,\n                4000.0,\n                13400.0,\n                null,\n                null,\n                1300.0,\n                8000.0,\n                1000.0\n            ],\n            \"realtimeSort\": false,\n            \"showBackground\": false,\n            \"stack\": \"stack1\",\n            \"stackStrategy\": \"samesign\",\n            \"cursor\": \"pointer\",\n            \"barMinHeight\": 0,\n            \"barCategoryGap\": \"20%\",\n            \"barGap\": \"30%\",\n            \"large\": false,\n            \"largeThreshold\": 400,\n            \"seriesLayoutBy\": \"column\",\n            \"datasetIndex\": 0,\n            \"clip\": true,\n            \"zlevel\": 0,\n            \"z\": 2,\n            \"label\": {\n                \"show\": false,\n                \"margin\": 8\n            },\n            \"rippleEffect\": {\n                \"show\": true,\n                \"brushType\": \"stroke\",\n                \"scale\": 2.5,\n                \"period\": 4\n            }\n        },\n        {\n            \"type\": \"bar\",\n            \"name\": \"\\u7f8e\\u56fd\",\n            \"legendHoverLink\": true,\n            \"data\": [\n                870.0,\n                1170.0,\n                null,\n                840.0,\n                1000.0,\n                575.0,\n                760.0,\n                2500.0,\n                1320.0,\n                null,\n                null,\n                null,\n                null,\n                null,\n                575.0,\n                null,\n                600.0,\n                1200.0,\n                800.0,\n                840.0,\n                1000.0,\n                600.0,\n                8400.0,\n                750.0,\n                4100.0,\n                470.0\n            ],\n            \"realtimeSort\": false,\n            \"showBackground\": false,\n            \"stack\": \"stack1\",\n            \"stackStrategy\": \"samesign\",\n            \"cursor\": \"pointer\",\n            \"barMinHeight\": 0,\n            \"barCategoryGap\": \"20%\",\n            \"barGap\": \"30%\",\n            \"large\": false,\n            \"largeThreshold\": 400,\n            \"seriesLayoutBy\": \"column\",\n            \"datasetIndex\": 0,\n            \"clip\": true,\n            \"zlevel\": 0,\n            \"z\": 2,\n            \"label\": {\n                \"show\": false,\n                \"margin\": 8\n            },\n            \"rippleEffect\": {\n                \"show\": true,\n                \"brushType\": \"stroke\",\n                \"scale\": 2.5,\n                \"period\": 4\n            }\n        }\n    ],\n    \"legend\": [\n        {\n            \"data\": [\n                \"\\u4e2d\\u56fd\",\n                \"\\u7f8e\\u56fd\"\n            ],\n            \"selected\": {},\n            \"show\": true,\n            \"padding\": 5,\n            \"itemGap\": 10,\n            \"itemWidth\": 25,\n            \"itemHeight\": 14,\n            \"backgroundColor\": \"transparent\",\n            \"borderColor\": \"#ccc\",\n            \"borderWidth\": 1,\n            \"borderRadius\": 0,\n            \"pageButtonItemGap\": 5,\n            \"pageButtonPosition\": \"end\",\n            \"pageFormatter\": \"{current}/{total}\",\n            \"pageIconColor\": \"#2f4554\",\n            \"pageIconInactiveColor\": \"#aaa\",\n            \"pageIconSize\": 15,\n            \"animationDurationUpdate\": 800,\n            \"selector\": false,\n            \"selectorPosition\": \"auto\",\n            \"selectorItemGap\": 7,\n            \"selectorButtonGap\": 10\n        }\n    ],\n    \"tooltip\": {\n        \"show\": true,\n        \"trigger\": \"item\",\n        \"triggerOn\": \"mousemove|click\",\n        \"axisPointer\": {\n            \"type\": \"line\"\n        },\n        \"showContent\": true,\n        \"alwaysShowContent\": false,\n        \"showDelay\": 0,\n        \"hideDelay\": 100,\n        \"enterable\": false,\n        \"confine\": false,\n        \"appendToBody\": false,\n        \"transitionDuration\": 0.4,\n        \"textStyle\": {\n            \"fontSize\": 14\n        },\n        \"borderWidth\": 0,\n        \"padding\": 5,\n        \"order\": \"seriesAsc\"\n    },\n    \"xAxis\": [\n        {\n            \"show\": true,\n            \"scale\": false,\n            \"nameLocation\": \"end\",\n            \"nameGap\": 15,\n            \"gridIndex\": 0,\n            \"inverse\": false,\n            \"offset\": 0,\n            \"splitNumber\": 5,\n            \"minInterval\": 0,\n            \"splitLine\": {\n                \"show\": true,\n                \"lineStyle\": {\n                    \"show\": true,\n                    \"width\": 1,\n                    \"opacity\": 1,\n                    \"curveness\": 0,\n                    \"type\": \"solid\"\n                }\n            },\n            \"data\": [\n                \"\\u4eba\\u5de5\\u667a\\u80fd\",\n                \"\\u4f01\\u4e1a\\u670d\\u52a1\",\n                \"\\u4fdd\\u9669\",\n                \"\\u5065\\u5eb7\\u79d1\\u6280\",\n                \"\\u5171\\u4eab\\u7ecf\\u6d4e\",\n                \"\\u5206\\u6790\",\n                \"\\u533a\\u5757\\u94fe\",\n                \"\\u5927\\u6570\\u636e\",\n                \"\\u5feb\\u9012\",\n                \"\\u6559\\u80b2\\u79d1\\u6280\",\n                \"\\u6570\\u5b57\\u79d1\\u6280\",\n                \"\\u65b0\\u80fd\\u6e90\",\n                \"\\u65b0\\u80fd\\u6e90\\u6c7d\\u8f66\",\n                \"\\u65b0\\u96f6\\u552e\",\n                \"\\u673a\\u5668\\u4eba\",\n                \"\\u6d88\\u8d39\\u54c1\",\n                \"\\u6e38\\u620f\",\n                \"\\u7269\\u6d41\",\n                \"\\u751f\\u7269\\u79d1\\u6280\",\n                \"\\u7535\\u5b50\\u5546\\u52a1\",\n                \"\\u793e\\u4ea4\\u5a92\\u4f53\",\n                \"\\u7f51\\u7edc\\u5b89\\u5168\",\n                \"\\u822a\\u5929\",\n                \"\\u8f6f\\u4ef6\\u670d\\u52a1\",\n                \"\\u91d1\\u878d\\u79d1\\u6280\",\n                \"\\u98df\\u54c1\\u996e\\u6599\"\n            ]\n        }\n    ],\n    \"yAxis\": [\n        {\n            \"show\": true,\n            \"scale\": false,\n            \"nameLocation\": \"end\",\n            \"nameGap\": 15,\n            \"gridIndex\": 0,\n            \"inverse\": false,\n            \"offset\": 0,\n            \"splitNumber\": 5,\n            \"minInterval\": 0,\n            \"splitLine\": {\n                \"show\": true,\n                \"lineStyle\": {\n                    \"show\": true,\n                    \"width\": 1,\n                    \"opacity\": 1,\n                    \"curveness\": 0,\n                    \"type\": \"solid\"\n                }\n            }\n        }\n    ],\n    \"title\": [\n        {\n            \"show\": true,\n            \"text\": \"Bar-\\u80e1\\u6da6TOP\\u72ec\\u89d2\\u517d\\u4e2d\\u7f8e\\u5bf9\\u6bd4\",\n            \"target\": \"blank\",\n            \"subtarget\": \"blank\",\n            \"padding\": 5,\n            \"itemGap\": 10,\n            \"textAlign\": \"auto\",\n            \"textVerticalAlign\": \"auto\",\n            \"triggerEvent\": false\n        }\n    ],\n    \"dataZoom\": {\n        \"show\": true,\n        \"type\": \"slider\",\n        \"showDetail\": true,\n        \"showDataShadow\": true,\n        \"realtime\": true,\n        \"start\": 20,\n        \"end\": 80,\n        \"orient\": \"horizontal\",\n        \"zoomLock\": false,\n        \"filterMode\": \"filter\"\n    }\n};\n                chart_7691774552cb47b38eaabbb2fb260a20.setOption(option_7691774552cb47b38eaabbb2fb260a20);\n        });\n    </script>\n"
     },
     "execution_count": 45,
     "metadata": {},
     "output_type": "execute_result"
    }
   ],
   "source": [
    "from pyecharts import options as opts\n",
    "from pyecharts.charts import Bar\n",
    "from pyecharts.faker import Faker\n",
    "\n",
    "c = (\n",
    "    Bar()\n",
    "    .add_xaxis(行业)\n",
    "    .add_yaxis(\"中国\", 中国, stack=\"stack1\")\n",
    "    .add_yaxis(\"美国\", 美国, stack=\"stack1\")\n",
    "    .set_series_opts(label_opts=opts.LabelOpts(is_show=False))\n",
    "    .set_global_opts(\n",
    "        datazoom_opts=opts.DataZoomOpts(),\n",
    "        title_opts=opts.TitleOpts(title=\"Bar-胡润TOP独角兽中美对比\"))\n",
    "    \n",
    ")\n",
    "c.render_notebook()"
   ]
  },
  {
   "cell_type": "markdown",
   "id": "20b45e53",
   "metadata": {},
   "source": [
    "# Pie饼状图的可视化展示"
   ]
  },
  {
   "cell_type": "code",
   "execution_count": 21,
   "id": "1feffed9",
   "metadata": {},
   "outputs": [],
   "source": []
  },
  {
   "cell_type": "code",
   "execution_count": 46,
   "id": "aee81d69",
   "metadata": {},
   "outputs": [],
   "source": [
    "from pyecharts import options as opts\n",
    "from pyecharts.charts import Pie\n",
    "from pyecharts.faker import Faker\n",
    "\n",
    "c = (\n",
    "    Pie()\n",
    "    .add(\"\", [list(z) for z in zip(行业,中国)])\n",
    "    .set_colors([\"blue\", \"green\", \"yellow\", \"red\", \"pink\", \"orange\", \"purple\"])\n",
    "    .set_global_opts(title_opts=opts.TitleOpts(title=\"Pie-设置颜色\"))\n",
    "    .set_series_opts(label_opts=opts.LabelOpts(formatter=\"{b}: {c}\"))\n",
    "    .render(\"pie_set_color.html\")\n",
    ")"
   ]
  },
  {
   "cell_type": "code",
   "execution_count": 47,
   "id": "1c3d00c3",
   "metadata": {},
   "outputs": [
    {
     "data": {
      "text/plain": "Index(['中国', '以色列', '印度', '印度尼西亚', '土耳其', '墨西哥', '巴哈马', '德国', '澳大利亚', '瑞典',\n       '瑞士', '美国', '英国', '越南', '韩国', '马耳他'],\n      dtype='object', name='国家')"
     },
     "execution_count": 47,
     "metadata": {},
     "output_type": "execute_result"
    }
   ],
   "source": [
    "df_hurun_pivot.index"
   ]
  },
  {
   "cell_type": "code",
   "execution_count": 48,
   "id": "95151d70",
   "metadata": {
    "scrolled": true
   },
   "outputs": [
    {
     "data": {
      "text/plain": "[[570.0,\n  515.0,\n  740.0,\n  1040.0,\n  965.0,\n  nan,\n  nan,\n  535.0,\n  nan,\n  nan,\n  2000.0,\n  670.0,\n  600.0,\n  670.0,\n  1200.0,\n  nan,\n  nan,\n  1800.0,\n  nan,\n  4000.0,\n  13400.0,\n  nan,\n  nan,\n  1300.0,\n  8000.0,\n  1000.0],\n [nan,\n  nan,\n  nan,\n  nan,\n  nan,\n  nan,\n  535.0,\n  nan,\n  nan,\n  nan,\n  nan,\n  nan,\n  nan,\n  nan,\n  nan,\n  nan,\n  nan,\n  nan,\n  nan,\n  nan,\n  nan,\n  nan,\n  nan,\n  nan,\n  nan,\n  nan],\n [nan,\n  nan,\n  nan,\n  nan,\n  480.0,\n  nan,\n  nan,\n  nan,\n  720.0,\n  1500.0,\n  nan,\n  nan,\n  nan,\n  nan,\n  nan,\n  nan,\n  535.0,\n  nan,\n  nan,\n  nan,\n  nan,\n  nan,\n  nan,\n  nan,\n  nan,\n  nan],\n [nan,\n  nan,\n  nan,\n  nan,\n  700.0,\n  nan,\n  nan,\n  nan,\n  nan,\n  nan,\n  nan,\n  nan,\n  nan,\n  nan,\n  nan,\n  nan,\n  nan,\n  nan,\n  nan,\n  1300.0,\n  nan,\n  nan,\n  nan,\n  nan,\n  nan,\n  nan],\n [nan,\n  nan,\n  nan,\n  nan,\n  nan,\n  nan,\n  nan,\n  nan,\n  800.0,\n  nan,\n  nan,\n  nan,\n  nan,\n  nan,\n  nan,\n  nan,\n  nan,\n  nan,\n  nan,\n  nan,\n  nan,\n  nan,\n  nan,\n  nan,\n  nan,\n  nan],\n [nan,\n  nan,\n  nan,\n  nan,\n  nan,\n  nan,\n  nan,\n  nan,\n  nan,\n  nan,\n  nan,\n  nan,\n  nan,\n  nan,\n  nan,\n  nan,\n  nan,\n  nan,\n  nan,\n  580.0,\n  nan,\n  nan,\n  nan,\n  nan,\n  nan,\n  nan],\n [nan,\n  nan,\n  nan,\n  nan,\n  nan,\n  nan,\n  1300.0,\n  nan,\n  nan,\n  nan,\n  nan,\n  nan,\n  nan,\n  nan,\n  nan,\n  nan,\n  nan,\n  nan,\n  nan,\n  nan,\n  nan,\n  nan,\n  nan,\n  nan,\n  nan,\n  nan],\n [nan,\n  nan,\n  nan,\n  nan,\n  nan,\n  nan,\n  nan,\n  nan,\n  nan,\n  nan,\n  nan,\n  nan,\n  nan,\n  nan,\n  nan,\n  nan,\n  nan,\n  nan,\n  nan,\n  nan,\n  nan,\n  nan,\n  nan,\n  555.0,\n  nan,\n  nan],\n [nan,\n  nan,\n  nan,\n  nan,\n  nan,\n  nan,\n  nan,\n  nan,\n  nan,\n  nan,\n  nan,\n  nan,\n  nan,\n  nan,\n  nan,\n  nan,\n  nan,\n  nan,\n  nan,\n  nan,\n  nan,\n  nan,\n  nan,\n  1750.0,\n  nan,\n  nan],\n [nan,\n  nan,\n  nan,\n  nan,\n  nan,\n  nan,\n  nan,\n  nan,\n  nan,\n  nan,\n  nan,\n  800.0,\n  1300.0,\n  nan,\n  nan,\n  nan,\n  nan,\n  nan,\n  nan,\n  nan,\n  nan,\n  nan,\n  nan,\n  nan,\n  nan,\n  nan],\n [nan,\n  nan,\n  nan,\n  nan,\n  nan,\n  nan,\n  575.0,\n  nan,\n  nan,\n  nan,\n  nan,\n  nan,\n  nan,\n  nan,\n  nan,\n  nan,\n  nan,\n  nan,\n  nan,\n  nan,\n  nan,\n  nan,\n  nan,\n  nan,\n  nan,\n  nan],\n [870.0,\n  1170.0,\n  nan,\n  840.0,\n  1000.0,\n  575.0,\n  760.0,\n  2500.0,\n  1320.0,\n  nan,\n  nan,\n  nan,\n  nan,\n  nan,\n  575.0,\n  nan,\n  600.0,\n  1200.0,\n  800.0,\n  840.0,\n  1000.0,\n  600.0,\n  8400.0,\n  750.0,\n  4100.0,\n  470.0],\n [nan,\n  nan,\n  nan,\n  nan,\n  nan,\n  nan,\n  700.0,\n  nan,\n  nan,\n  nan,\n  nan,\n  nan,\n  nan,\n  nan,\n  nan,\n  nan,\n  nan,\n  nan,\n  nan,\n  nan,\n  nan,\n  nan,\n  nan,\n  570.0,\n  1900.0,\n  nan],\n [nan,\n  nan,\n  nan,\n  nan,\n  nan,\n  nan,\n  nan,\n  nan,\n  nan,\n  nan,\n  nan,\n  nan,\n  nan,\n  nan,\n  nan,\n  550.0,\n  nan,\n  nan,\n  nan,\n  nan,\n  nan,\n  nan,\n  nan,\n  nan,\n  nan,\n  nan],\n [nan,\n  nan,\n  nan,\n  nan,\n  nan,\n  nan,\n  535.0,\n  nan,\n  nan,\n  nan,\n  nan,\n  nan,\n  nan,\n  nan,\n  nan,\n  nan,\n  nan,\n  nan,\n  nan,\n  560.0,\n  nan,\n  nan,\n  nan,\n  nan,\n  nan,\n  nan],\n [nan,\n  nan,\n  nan,\n  nan,\n  nan,\n  nan,\n  3000.0,\n  nan,\n  nan,\n  nan,\n  nan,\n  nan,\n  nan,\n  nan,\n  nan,\n  nan,\n  nan,\n  nan,\n  nan,\n  nan,\n  nan,\n  nan,\n  nan,\n  nan,\n  nan,\n  nan]]"
     },
     "execution_count": 48,
     "metadata": {},
     "output_type": "execute_result"
    }
   ],
   "source": [
    "国家数据 = []\n",
    "for i in df_hurun_pivot.index:\n",
    "    国家数据.append(df_hurun_pivot.query('国家 == \"{country}\"'.format(country=i)).values[0].tolist())\n",
    "国家数据"
   ]
  },
  {
   "cell_type": "markdown",
   "id": "2ebf3d2e",
   "metadata": {},
   "source": [
    "# 批量化产出可视化"
   ]
  },
  {
   "cell_type": "code",
   "execution_count": 49,
   "id": "fb3cc8d4",
   "metadata": {},
   "outputs": [
    {
     "data": {
      "text/plain": "16"
     },
     "execution_count": 49,
     "metadata": {},
     "output_type": "execute_result"
    }
   ],
   "source": [
    "len(df_hurun_pivot.index)"
   ]
  },
  {
   "cell_type": "code",
   "execution_count": 50,
   "id": "ed1a61eb",
   "metadata": {},
   "outputs": [
    {
     "ename": "FileNotFoundError",
     "evalue": "[Errno 2] No such file or directory: 'output/中国_customized_pie.html'",
     "output_type": "error",
     "traceback": [
      "\u001B[1;31m---------------------------------------------------------------------------\u001B[0m",
      "\u001B[1;31mFileNotFoundError\u001B[0m                         Traceback (most recent call last)",
      "Cell \u001B[1;32mIn[50], line 11\u001B[0m\n\u001B[0;32m      7\u001B[0m data_pair \u001B[38;5;241m=\u001B[39m [\u001B[38;5;28mlist\u001B[39m(z) \u001B[38;5;28;01mfor\u001B[39;00m z \u001B[38;5;129;01min\u001B[39;00m \u001B[38;5;28mzip\u001B[39m(x_data, y_data)]\n\u001B[0;32m      8\u001B[0m data_pair\u001B[38;5;241m.\u001B[39msort(key\u001B[38;5;241m=\u001B[39m\u001B[38;5;28;01mlambda\u001B[39;00m x: x[\u001B[38;5;241m1\u001B[39m])\n\u001B[0;32m     10\u001B[0m (\n\u001B[1;32m---> 11\u001B[0m     \u001B[43mPie\u001B[49m\u001B[43m(\u001B[49m\u001B[43minit_opts\u001B[49m\u001B[38;5;241;43m=\u001B[39;49m\u001B[43mopts\u001B[49m\u001B[38;5;241;43m.\u001B[39;49m\u001B[43mInitOpts\u001B[49m\u001B[43m(\u001B[49m\u001B[43mbg_color\u001B[49m\u001B[38;5;241;43m=\u001B[39;49m\u001B[38;5;124;43m\"\u001B[39;49m\u001B[38;5;124;43m#2c343c\u001B[39;49m\u001B[38;5;124;43m\"\u001B[39;49m\u001B[43m)\u001B[49m\u001B[43m)\u001B[49m\n\u001B[0;32m     12\u001B[0m \u001B[43m    \u001B[49m\u001B[38;5;241;43m.\u001B[39;49m\u001B[43madd\u001B[49m\u001B[43m(\u001B[49m\n\u001B[0;32m     13\u001B[0m \u001B[43m        \u001B[49m\u001B[43mseries_name\u001B[49m\u001B[38;5;241;43m=\u001B[39;49m\u001B[38;5;124;43m\"\u001B[39;49m\u001B[38;5;124;43m访问来源\u001B[39;49m\u001B[38;5;124;43m\"\u001B[39;49m\u001B[43m,\u001B[49m\n\u001B[0;32m     14\u001B[0m \u001B[43m        \u001B[49m\u001B[43mdata_pair\u001B[49m\u001B[38;5;241;43m=\u001B[39;49m\u001B[43mdata_pair\u001B[49m\u001B[43m,\u001B[49m\n\u001B[0;32m     15\u001B[0m \u001B[43m        \u001B[49m\u001B[43mrosetype\u001B[49m\u001B[38;5;241;43m=\u001B[39;49m\u001B[38;5;124;43m\"\u001B[39;49m\u001B[38;5;124;43mradius\u001B[39;49m\u001B[38;5;124;43m\"\u001B[39;49m\u001B[43m,\u001B[49m\n\u001B[0;32m     16\u001B[0m \u001B[43m        \u001B[49m\u001B[43mradius\u001B[49m\u001B[38;5;241;43m=\u001B[39;49m\u001B[38;5;124;43m\"\u001B[39;49m\u001B[38;5;124;43m55\u001B[39;49m\u001B[38;5;124;43m%\u001B[39;49m\u001B[38;5;124;43m\"\u001B[39;49m\u001B[43m,\u001B[49m\n\u001B[0;32m     17\u001B[0m \u001B[43m        \u001B[49m\u001B[43mcenter\u001B[49m\u001B[38;5;241;43m=\u001B[39;49m\u001B[43m[\u001B[49m\u001B[38;5;124;43m\"\u001B[39;49m\u001B[38;5;124;43m50\u001B[39;49m\u001B[38;5;124;43m%\u001B[39;49m\u001B[38;5;124;43m\"\u001B[39;49m\u001B[43m,\u001B[49m\u001B[43m \u001B[49m\u001B[38;5;124;43m\"\u001B[39;49m\u001B[38;5;124;43m50\u001B[39;49m\u001B[38;5;124;43m%\u001B[39;49m\u001B[38;5;124;43m\"\u001B[39;49m\u001B[43m]\u001B[49m\u001B[43m,\u001B[49m\n\u001B[0;32m     18\u001B[0m \u001B[43m        \u001B[49m\u001B[43mlabel_opts\u001B[49m\u001B[38;5;241;43m=\u001B[39;49m\u001B[43mopts\u001B[49m\u001B[38;5;241;43m.\u001B[39;49m\u001B[43mLabelOpts\u001B[49m\u001B[43m(\u001B[49m\u001B[43mis_show\u001B[49m\u001B[38;5;241;43m=\u001B[39;49m\u001B[38;5;28;43;01mFalse\u001B[39;49;00m\u001B[43m,\u001B[49m\u001B[43m \u001B[49m\u001B[43mposition\u001B[49m\u001B[38;5;241;43m=\u001B[39;49m\u001B[38;5;124;43m\"\u001B[39;49m\u001B[38;5;124;43mcenter\u001B[39;49m\u001B[38;5;124;43m\"\u001B[39;49m\u001B[43m)\u001B[49m\u001B[43m,\u001B[49m\n\u001B[0;32m     19\u001B[0m \u001B[43m    \u001B[49m\u001B[43m)\u001B[49m\n\u001B[0;32m     20\u001B[0m \u001B[43m    \u001B[49m\u001B[38;5;241;43m.\u001B[39;49m\u001B[43mset_global_opts\u001B[49m\u001B[43m(\u001B[49m\n\u001B[0;32m     21\u001B[0m \u001B[43m        \u001B[49m\u001B[43mtitle_opts\u001B[49m\u001B[38;5;241;43m=\u001B[39;49m\u001B[43mopts\u001B[49m\u001B[38;5;241;43m.\u001B[39;49m\u001B[43mTitleOpts\u001B[49m\u001B[43m(\u001B[49m\n\u001B[0;32m     22\u001B[0m \u001B[43m            \u001B[49m\u001B[43mtitle\u001B[49m\u001B[38;5;241;43m=\u001B[39;49m\u001B[38;5;124;43m\"\u001B[39;49m\u001B[38;5;124;43mCustomized Pie\u001B[39;49m\u001B[38;5;124;43m\"\u001B[39;49m\u001B[43m,\u001B[49m\n\u001B[0;32m     23\u001B[0m \u001B[43m            \u001B[49m\u001B[43mpos_left\u001B[49m\u001B[38;5;241;43m=\u001B[39;49m\u001B[38;5;124;43m\"\u001B[39;49m\u001B[38;5;124;43mcenter\u001B[39;49m\u001B[38;5;124;43m\"\u001B[39;49m\u001B[43m,\u001B[49m\n\u001B[0;32m     24\u001B[0m \u001B[43m            \u001B[49m\u001B[43mpos_top\u001B[49m\u001B[38;5;241;43m=\u001B[39;49m\u001B[38;5;124;43m\"\u001B[39;49m\u001B[38;5;124;43m20\u001B[39;49m\u001B[38;5;124;43m\"\u001B[39;49m\u001B[43m,\u001B[49m\n\u001B[0;32m     25\u001B[0m \u001B[43m            \u001B[49m\u001B[43mtitle_textstyle_opts\u001B[49m\u001B[38;5;241;43m=\u001B[39;49m\u001B[43mopts\u001B[49m\u001B[38;5;241;43m.\u001B[39;49m\u001B[43mTextStyleOpts\u001B[49m\u001B[43m(\u001B[49m\u001B[43mcolor\u001B[49m\u001B[38;5;241;43m=\u001B[39;49m\u001B[38;5;124;43m\"\u001B[39;49m\u001B[38;5;124;43m#fff\u001B[39;49m\u001B[38;5;124;43m\"\u001B[39;49m\u001B[43m)\u001B[49m\u001B[43m,\u001B[49m\n\u001B[0;32m     26\u001B[0m \u001B[43m        \u001B[49m\u001B[43m)\u001B[49m\u001B[43m,\u001B[49m\n\u001B[0;32m     27\u001B[0m \u001B[43m        \u001B[49m\u001B[43mlegend_opts\u001B[49m\u001B[38;5;241;43m=\u001B[39;49m\u001B[43mopts\u001B[49m\u001B[38;5;241;43m.\u001B[39;49m\u001B[43mLegendOpts\u001B[49m\u001B[43m(\u001B[49m\u001B[43mis_show\u001B[49m\u001B[38;5;241;43m=\u001B[39;49m\u001B[38;5;28;43;01mFalse\u001B[39;49;00m\u001B[43m)\u001B[49m\u001B[43m,\u001B[49m\n\u001B[0;32m     28\u001B[0m \u001B[43m    \u001B[49m\u001B[43m)\u001B[49m\n\u001B[0;32m     29\u001B[0m \u001B[43m    \u001B[49m\u001B[38;5;241;43m.\u001B[39;49m\u001B[43mset_series_opts\u001B[49m\u001B[43m(\u001B[49m\n\u001B[0;32m     30\u001B[0m \u001B[43m        \u001B[49m\u001B[43mtooltip_opts\u001B[49m\u001B[38;5;241;43m=\u001B[39;49m\u001B[43mopts\u001B[49m\u001B[38;5;241;43m.\u001B[39;49m\u001B[43mTooltipOpts\u001B[49m\u001B[43m(\u001B[49m\n\u001B[0;32m     31\u001B[0m \u001B[43m            \u001B[49m\u001B[43mtrigger\u001B[49m\u001B[38;5;241;43m=\u001B[39;49m\u001B[38;5;124;43m\"\u001B[39;49m\u001B[38;5;124;43mitem\u001B[39;49m\u001B[38;5;124;43m\"\u001B[39;49m\u001B[43m,\u001B[49m\u001B[43m \u001B[49m\u001B[43mformatter\u001B[49m\u001B[38;5;241;43m=\u001B[39;49m\u001B[38;5;124;43m\"\u001B[39;49m\u001B[38;5;132;43;01m{a}\u001B[39;49;00m\u001B[38;5;124;43m <br/>\u001B[39;49m\u001B[38;5;132;43;01m{b}\u001B[39;49;00m\u001B[38;5;124;43m: \u001B[39;49m\u001B[38;5;132;43;01m{c}\u001B[39;49;00m\u001B[38;5;124;43m (\u001B[39;49m\u001B[38;5;132;43;01m{d}\u001B[39;49;00m\u001B[38;5;124;43m%\u001B[39;49m\u001B[38;5;124;43m)\u001B[39;49m\u001B[38;5;124;43m\"\u001B[39;49m\n\u001B[0;32m     32\u001B[0m \u001B[43m        \u001B[49m\u001B[43m)\u001B[49m\u001B[43m,\u001B[49m\n\u001B[0;32m     33\u001B[0m \u001B[43m        \u001B[49m\u001B[43mlabel_opts\u001B[49m\u001B[38;5;241;43m=\u001B[39;49m\u001B[43mopts\u001B[49m\u001B[38;5;241;43m.\u001B[39;49m\u001B[43mLabelOpts\u001B[49m\u001B[43m(\u001B[49m\u001B[43mcolor\u001B[49m\u001B[38;5;241;43m=\u001B[39;49m\u001B[38;5;124;43m\"\u001B[39;49m\u001B[38;5;124;43mrgba(255, 255, 255, 0.3)\u001B[39;49m\u001B[38;5;124;43m\"\u001B[39;49m\u001B[43m)\u001B[49m\u001B[43m,\u001B[49m\n\u001B[0;32m     34\u001B[0m \u001B[43m    \u001B[49m\u001B[43m)\u001B[49m\n\u001B[0;32m     35\u001B[0m \u001B[43m    \u001B[49m\u001B[38;5;241;43m.\u001B[39;49m\u001B[43mrender\u001B[49m\u001B[43m(\u001B[49m\u001B[38;5;124;43m\"\u001B[39;49m\u001B[38;5;124;43moutput/\u001B[39;49m\u001B[38;5;124;43m\"\u001B[39;49m\u001B[38;5;241;43m+\u001B[39;49m\u001B[43mdf_hurun_pivot\u001B[49m\u001B[38;5;241;43m.\u001B[39;49m\u001B[43mindex\u001B[49m\u001B[43m[\u001B[49m\u001B[43mi\u001B[49m\u001B[43m]\u001B[49m\u001B[38;5;241;43m+\u001B[39;49m\u001B[38;5;124;43m\"\u001B[39;49m\u001B[38;5;124;43m_customized_pie.html\u001B[39;49m\u001B[38;5;124;43m\"\u001B[39;49m\u001B[43m)\u001B[49m\n\u001B[0;32m     36\u001B[0m )\n",
      "File \u001B[1;32mE:\\Anaconda3\\lib\\site-packages\\pyecharts\\charts\\base.py:93\u001B[0m, in \u001B[0;36mBase.render\u001B[1;34m(self, path, template_name, env, **kwargs)\u001B[0m\n\u001B[0;32m     85\u001B[0m \u001B[38;5;28;01mdef\u001B[39;00m \u001B[38;5;21mrender\u001B[39m(\n\u001B[0;32m     86\u001B[0m     \u001B[38;5;28mself\u001B[39m,\n\u001B[0;32m     87\u001B[0m     path: \u001B[38;5;28mstr\u001B[39m \u001B[38;5;241m=\u001B[39m \u001B[38;5;124m\"\u001B[39m\u001B[38;5;124mrender.html\u001B[39m\u001B[38;5;124m\"\u001B[39m,\n\u001B[1;32m   (...)\u001B[0m\n\u001B[0;32m     90\u001B[0m     \u001B[38;5;241m*\u001B[39m\u001B[38;5;241m*\u001B[39mkwargs,\n\u001B[0;32m     91\u001B[0m ) \u001B[38;5;241m-\u001B[39m\u001B[38;5;241m>\u001B[39m \u001B[38;5;28mstr\u001B[39m:\n\u001B[0;32m     92\u001B[0m     \u001B[38;5;28mself\u001B[39m\u001B[38;5;241m.\u001B[39m_prepare_render()\n\u001B[1;32m---> 93\u001B[0m     \u001B[38;5;28;01mreturn\u001B[39;00m engine\u001B[38;5;241m.\u001B[39mrender(\u001B[38;5;28mself\u001B[39m, path, template_name, env, \u001B[38;5;241m*\u001B[39m\u001B[38;5;241m*\u001B[39mkwargs)\n",
      "File \u001B[1;32mE:\\Anaconda3\\lib\\site-packages\\pyecharts\\render\\engine.py:75\u001B[0m, in \u001B[0;36mrender\u001B[1;34m(chart, path, template_name, env, **kwargs)\u001B[0m\n\u001B[0;32m     72\u001B[0m \u001B[38;5;28;01mdef\u001B[39;00m \u001B[38;5;21mrender\u001B[39m(\n\u001B[0;32m     73\u001B[0m     chart, path: \u001B[38;5;28mstr\u001B[39m, template_name: \u001B[38;5;28mstr\u001B[39m, env: Optional[Environment], \u001B[38;5;241m*\u001B[39m\u001B[38;5;241m*\u001B[39mkwargs\n\u001B[0;32m     74\u001B[0m ) \u001B[38;5;241m-\u001B[39m\u001B[38;5;241m>\u001B[39m \u001B[38;5;28mstr\u001B[39m:\n\u001B[1;32m---> 75\u001B[0m     RenderEngine(env)\u001B[38;5;241m.\u001B[39mrender_chart_to_file(\n\u001B[0;32m     76\u001B[0m         template_name\u001B[38;5;241m=\u001B[39mtemplate_name, chart\u001B[38;5;241m=\u001B[39mchart, path\u001B[38;5;241m=\u001B[39mpath, \u001B[38;5;241m*\u001B[39m\u001B[38;5;241m*\u001B[39mkwargs\n\u001B[0;32m     77\u001B[0m     )\n\u001B[0;32m     78\u001B[0m     \u001B[38;5;28;01mreturn\u001B[39;00m os\u001B[38;5;241m.\u001B[39mpath\u001B[38;5;241m.\u001B[39mabspath(path)\n",
      "File \u001B[1;32mE:\\Anaconda3\\lib\\site-packages\\pyecharts\\render\\engine.py:59\u001B[0m, in \u001B[0;36mRenderEngine.render_chart_to_file\u001B[1;34m(self, template_name, chart, path, **kwargs)\u001B[0m\n\u001B[0;32m     55\u001B[0m tpl \u001B[38;5;241m=\u001B[39m \u001B[38;5;28mself\u001B[39m\u001B[38;5;241m.\u001B[39menv\u001B[38;5;241m.\u001B[39mget_template(template_name)\n\u001B[0;32m     56\u001B[0m html \u001B[38;5;241m=\u001B[39m utils\u001B[38;5;241m.\u001B[39mreplace_placeholder(\n\u001B[0;32m     57\u001B[0m     tpl\u001B[38;5;241m.\u001B[39mrender(chart\u001B[38;5;241m=\u001B[39m\u001B[38;5;28mself\u001B[39m\u001B[38;5;241m.\u001B[39mgenerate_js_link(chart), \u001B[38;5;241m*\u001B[39m\u001B[38;5;241m*\u001B[39mkwargs)\n\u001B[0;32m     58\u001B[0m )\n\u001B[1;32m---> 59\u001B[0m \u001B[43mwrite_utf8_html_file\u001B[49m\u001B[43m(\u001B[49m\u001B[43mpath\u001B[49m\u001B[43m,\u001B[49m\u001B[43m \u001B[49m\u001B[43mhtml\u001B[49m\u001B[43m)\u001B[49m\n",
      "File \u001B[1;32mE:\\Anaconda3\\lib\\site-packages\\pyecharts\\render\\engine.py:18\u001B[0m, in \u001B[0;36mwrite_utf8_html_file\u001B[1;34m(file_name, html_content)\u001B[0m\n\u001B[0;32m     17\u001B[0m \u001B[38;5;28;01mdef\u001B[39;00m \u001B[38;5;21mwrite_utf8_html_file\u001B[39m(file_name: \u001B[38;5;28mstr\u001B[39m, html_content: \u001B[38;5;28mstr\u001B[39m):\n\u001B[1;32m---> 18\u001B[0m     \u001B[38;5;28;01mwith\u001B[39;00m \u001B[38;5;28;43mopen\u001B[39;49m\u001B[43m(\u001B[49m\u001B[43mfile_name\u001B[49m\u001B[43m,\u001B[49m\u001B[43m \u001B[49m\u001B[38;5;124;43m\"\u001B[39;49m\u001B[38;5;124;43mw+\u001B[39;49m\u001B[38;5;124;43m\"\u001B[39;49m\u001B[43m,\u001B[49m\u001B[43m \u001B[49m\u001B[43mencoding\u001B[49m\u001B[38;5;241;43m=\u001B[39;49m\u001B[38;5;124;43m\"\u001B[39;49m\u001B[38;5;124;43mutf-8\u001B[39;49m\u001B[38;5;124;43m\"\u001B[39;49m\u001B[43m)\u001B[49m \u001B[38;5;28;01mas\u001B[39;00m html_file:\n\u001B[0;32m     19\u001B[0m         html_file\u001B[38;5;241m.\u001B[39mwrite(html_content)\n",
      "\u001B[1;31mFileNotFoundError\u001B[0m: [Errno 2] No such file or directory: 'output/中国_customized_pie.html'"
     ]
    }
   ],
   "source": [
    "import pyecharts.options as opts\n",
    "from pyecharts.charts import Pie\n",
    "\n",
    "for i in range(len(df_hurun_pivot.index)):\n",
    "    x_data = 行业\n",
    "    y_data = 国家数据[i]\n",
    "    data_pair = [list(z) for z in zip(x_data, y_data)]\n",
    "    data_pair.sort(key=lambda x: x[1])\n",
    "\n",
    "    (\n",
    "        Pie(init_opts=opts.InitOpts(bg_color=\"#2c343c\"))\n",
    "        .add(\n",
    "            series_name=\"访问来源\",\n",
    "            data_pair=data_pair,\n",
    "            rosetype=\"radius\",\n",
    "            radius=\"55%\",\n",
    "            center=[\"50%\", \"50%\"],\n",
    "            label_opts=opts.LabelOpts(is_show=False, position=\"center\"),\n",
    "        )\n",
    "        .set_global_opts(\n",
    "            title_opts=opts.TitleOpts(\n",
    "                title=\"Customized Pie\",\n",
    "                pos_left=\"center\",\n",
    "                pos_top=\"20\",\n",
    "                title_textstyle_opts=opts.TextStyleOpts(color=\"#fff\"),\n",
    "            ),\n",
    "            legend_opts=opts.LegendOpts(is_show=False),\n",
    "        )\n",
    "        .set_series_opts(\n",
    "            tooltip_opts=opts.TooltipOpts(\n",
    "                trigger=\"item\", formatter=\"{a} <br/>{b}: {c} ({d}%)\"\n",
    "            ),\n",
    "            label_opts=opts.LabelOpts(color=\"rgba(255, 255, 255, 0.3)\"),\n",
    "        )\n",
    "        .render(\"output/\"+df_hurun_pivot.index[i]+\"_customized_pie.html\")\n",
    "    )\n"
   ]
  },
  {
   "cell_type": "code",
   "execution_count": 26,
   "id": "6ba9a894",
   "metadata": {},
   "outputs": [],
   "source": []
  },
  {
   "cell_type": "code",
   "execution_count": 26,
   "id": "0e69ecf5",
   "metadata": {},
   "outputs": [],
   "source": []
  },
  {
   "cell_type": "code",
   "execution_count": 26,
   "id": "8adecfc5",
   "metadata": {},
   "outputs": [],
   "source": []
  },
  {
   "cell_type": "code",
   "execution_count": 26,
   "id": "7bc9bf28",
   "metadata": {},
   "outputs": [],
   "source": []
  },
  {
   "cell_type": "code",
   "execution_count": 26,
   "id": "5d00c832",
   "metadata": {},
   "outputs": [],
   "source": []
  },
  {
   "cell_type": "markdown",
   "id": "ff8e4023",
   "metadata": {},
   "source": [
    "* 利用 pivot 进行变形操作需要满足唯一性的要求，即由于在新表中的行列索引对应了唯一的 value ，因此原 表中的 index 和 columns 对应两个列的行组合必须唯一。例如，现在把原表中第二行张三的数学改为语文就 会报错，这是由于 Name 与 Subject 的组合中两次出现 (”San Zhang”, ”Chinese”) ，从而最后不能够确定到 底变形后应该是填写 80 分还是 75 分"
   ]
  },
  {
   "cell_type": "code",
   "execution_count": 27,
   "id": "0ef2a189",
   "metadata": {},
   "outputs": [],
   "source": [
    "df = pd.DataFrame(\n",
    "    {\n",
    "        'Class':[1, 1, 2, 2, 1, 1, 2, 2],\n",
    "        'Name':['San Zhang', 'San Zhang', 'Si Li', 'Si Li','San Zhang', 'San Zhang', 'Si Li', 'Si Li'],\n",
    "        'Examination': ['Mid', 'Final', 'Mid', 'Final','Mid', 'Final', 'Mid', 'Final'],\n",
    "        'Subject':['Chinese', 'Chinese', 'Chinese', 'Chinese','Math', 'Math', 'Math', 'Math'],\n",
    "        'Grade':[80, 75, 85, 65, 90, 85, 92, 88],\n",
    "        'rank':[10, 15, 21, 15, 20, 7, 6, 2]\n",
    "    })"
   ]
  },
  {
   "cell_type": "code",
   "execution_count": 28,
   "id": "7c954952",
   "metadata": {},
   "outputs": [
    {
     "data": {
      "text/plain": "   Class       Name Examination  Subject  Grade  rank\n0      1  San Zhang         Mid  Chinese     80    10\n1      1  San Zhang       Final  Chinese     75    15\n2      2      Si Li         Mid  Chinese     85    21\n3      2      Si Li       Final  Chinese     65    15\n4      1  San Zhang         Mid     Math     90    20\n5      1  San Zhang       Final     Math     85     7\n6      2      Si Li         Mid     Math     92     6\n7      2      Si Li       Final     Math     88     2",
      "text/html": "<div>\n<style scoped>\n    .dataframe tbody tr th:only-of-type {\n        vertical-align: middle;\n    }\n\n    .dataframe tbody tr th {\n        vertical-align: top;\n    }\n\n    .dataframe thead th {\n        text-align: right;\n    }\n</style>\n<table border=\"1\" class=\"dataframe\">\n  <thead>\n    <tr style=\"text-align: right;\">\n      <th></th>\n      <th>Class</th>\n      <th>Name</th>\n      <th>Examination</th>\n      <th>Subject</th>\n      <th>Grade</th>\n      <th>rank</th>\n    </tr>\n  </thead>\n  <tbody>\n    <tr>\n      <th>0</th>\n      <td>1</td>\n      <td>San Zhang</td>\n      <td>Mid</td>\n      <td>Chinese</td>\n      <td>80</td>\n      <td>10</td>\n    </tr>\n    <tr>\n      <th>1</th>\n      <td>1</td>\n      <td>San Zhang</td>\n      <td>Final</td>\n      <td>Chinese</td>\n      <td>75</td>\n      <td>15</td>\n    </tr>\n    <tr>\n      <th>2</th>\n      <td>2</td>\n      <td>Si Li</td>\n      <td>Mid</td>\n      <td>Chinese</td>\n      <td>85</td>\n      <td>21</td>\n    </tr>\n    <tr>\n      <th>3</th>\n      <td>2</td>\n      <td>Si Li</td>\n      <td>Final</td>\n      <td>Chinese</td>\n      <td>65</td>\n      <td>15</td>\n    </tr>\n    <tr>\n      <th>4</th>\n      <td>1</td>\n      <td>San Zhang</td>\n      <td>Mid</td>\n      <td>Math</td>\n      <td>90</td>\n      <td>20</td>\n    </tr>\n    <tr>\n      <th>5</th>\n      <td>1</td>\n      <td>San Zhang</td>\n      <td>Final</td>\n      <td>Math</td>\n      <td>85</td>\n      <td>7</td>\n    </tr>\n    <tr>\n      <th>6</th>\n      <td>2</td>\n      <td>Si Li</td>\n      <td>Mid</td>\n      <td>Math</td>\n      <td>92</td>\n      <td>6</td>\n    </tr>\n    <tr>\n      <th>7</th>\n      <td>2</td>\n      <td>Si Li</td>\n      <td>Final</td>\n      <td>Math</td>\n      <td>88</td>\n      <td>2</td>\n    </tr>\n  </tbody>\n</table>\n</div>"
     },
     "execution_count": 28,
     "metadata": {},
     "output_type": "execute_result"
    }
   ],
   "source": [
    "df"
   ]
  },
  {
   "cell_type": "markdown",
   "id": "be651fbd",
   "metadata": {},
   "source": [
    "## 2. pivot 多级索引"
   ]
  },
  {
   "cell_type": "code",
   "execution_count": 29,
   "id": "023c8b38",
   "metadata": {},
   "outputs": [
    {
     "data": {
      "text/plain": "                  Grade                     rank                 \nSubject         Chinese       Math       Chinese       Math      \nExamination         Mid Final  Mid Final     Mid Final  Mid Final\nClass Name                                                       \n1     San Zhang      80    75   90    85      10    15   20     7\n2     Si Li          85    65   92    88      21    15    6     2",
      "text/html": "<div>\n<style scoped>\n    .dataframe tbody tr th:only-of-type {\n        vertical-align: middle;\n    }\n\n    .dataframe tbody tr th {\n        vertical-align: top;\n    }\n\n    .dataframe thead tr th {\n        text-align: left;\n    }\n\n    .dataframe thead tr:last-of-type th {\n        text-align: right;\n    }\n</style>\n<table border=\"1\" class=\"dataframe\">\n  <thead>\n    <tr>\n      <th></th>\n      <th></th>\n      <th colspan=\"4\" halign=\"left\">Grade</th>\n      <th colspan=\"4\" halign=\"left\">rank</th>\n    </tr>\n    <tr>\n      <th></th>\n      <th>Subject</th>\n      <th colspan=\"2\" halign=\"left\">Chinese</th>\n      <th colspan=\"2\" halign=\"left\">Math</th>\n      <th colspan=\"2\" halign=\"left\">Chinese</th>\n      <th colspan=\"2\" halign=\"left\">Math</th>\n    </tr>\n    <tr>\n      <th></th>\n      <th>Examination</th>\n      <th>Mid</th>\n      <th>Final</th>\n      <th>Mid</th>\n      <th>Final</th>\n      <th>Mid</th>\n      <th>Final</th>\n      <th>Mid</th>\n      <th>Final</th>\n    </tr>\n    <tr>\n      <th>Class</th>\n      <th>Name</th>\n      <th></th>\n      <th></th>\n      <th></th>\n      <th></th>\n      <th></th>\n      <th></th>\n      <th></th>\n      <th></th>\n    </tr>\n  </thead>\n  <tbody>\n    <tr>\n      <th>1</th>\n      <th>San Zhang</th>\n      <td>80</td>\n      <td>75</td>\n      <td>90</td>\n      <td>85</td>\n      <td>10</td>\n      <td>15</td>\n      <td>20</td>\n      <td>7</td>\n    </tr>\n    <tr>\n      <th>2</th>\n      <th>Si Li</th>\n      <td>85</td>\n      <td>65</td>\n      <td>92</td>\n      <td>88</td>\n      <td>21</td>\n      <td>15</td>\n      <td>6</td>\n      <td>2</td>\n    </tr>\n  </tbody>\n</table>\n</div>"
     },
     "execution_count": 29,
     "metadata": {},
     "output_type": "execute_result"
    }
   ],
   "source": [
    "df.pivot(\n",
    "    index = ['Class','Name'],\n",
    "    columns = ['Subject','Examination'],\n",
    "    values = ['Grade','rank'] \n",
    "        )"
   ]
  },
  {
   "cell_type": "code",
   "execution_count": 30,
   "id": "08d5543a",
   "metadata": {},
   "outputs": [
    {
     "name": "stderr",
     "output_type": "stream",
     "text": [
      "C:\\Users\\17728\\AppData\\Local\\Temp\\ipykernel_26940\\1566942980.py:5: SettingWithCopyWarning: \n",
      "A value is trying to be set on a copy of a slice from a DataFrame.\n",
      "Try using .loc[row_indexer,col_indexer] = value instead\n",
      "\n",
      "See the caveats in the documentation: https://pandas.pydata.org/pandas-docs/stable/user_guide/indexing.html#returning-a-view-versus-a-copy\n",
      "  df_hurun['价值（亿元人民币）'] = df_hurun['价值（亿元人民币）'].astype('int64')\n"
     ]
    },
    {
     "data": {
      "text/plain": "     排名 排名变化                 企业名称  价值（亿元人民币） 价值变化（亿元人民币）  国家     城市    行业\n1     1    0                   抖音      13400      -10050  中国     北京  社交媒体\n2     2    1               SpaceX       8400        1680  美国    洛杉矶    航天\n3     3   -1                 蚂蚁集团       8000       -2010  中国     杭州  金融科技\n4     4    0               Stripe       4100       -2210  美国    旧金山  金融科技\n5     5   11                Shein       4000        2680  中国     广州  电子商务\n..   ..  ...                  ...        ...         ...  ..    ...   ...\n97   95  -16        Impossible 食品        470           0  美国  雷德伍德城  食品饮料\n98   95  -16                   微医        470           0  中国     杭州  健康科技\n99   99   58                 蜂巢能源        460         190  中国     常州   新能源\n100  99   -6           Better.com        460          60  美国     纽约  金融科技\n101  99  -20  Automation Anywhere        460         -10  美国    圣何塞  人工智能\n\n[101 rows x 8 columns]",
      "text/html": "<div>\n<style scoped>\n    .dataframe tbody tr th:only-of-type {\n        vertical-align: middle;\n    }\n\n    .dataframe tbody tr th {\n        vertical-align: top;\n    }\n\n    .dataframe thead th {\n        text-align: right;\n    }\n</style>\n<table border=\"1\" class=\"dataframe\">\n  <thead>\n    <tr style=\"text-align: right;\">\n      <th></th>\n      <th>排名</th>\n      <th>排名变化</th>\n      <th>企业名称</th>\n      <th>价值（亿元人民币）</th>\n      <th>价值变化（亿元人民币）</th>\n      <th>国家</th>\n      <th>城市</th>\n      <th>行业</th>\n    </tr>\n  </thead>\n  <tbody>\n    <tr>\n      <th>1</th>\n      <td>1</td>\n      <td>0</td>\n      <td>抖音</td>\n      <td>13400</td>\n      <td>-10050</td>\n      <td>中国</td>\n      <td>北京</td>\n      <td>社交媒体</td>\n    </tr>\n    <tr>\n      <th>2</th>\n      <td>2</td>\n      <td>1</td>\n      <td>SpaceX</td>\n      <td>8400</td>\n      <td>1680</td>\n      <td>美国</td>\n      <td>洛杉矶</td>\n      <td>航天</td>\n    </tr>\n    <tr>\n      <th>3</th>\n      <td>3</td>\n      <td>-1</td>\n      <td>蚂蚁集团</td>\n      <td>8000</td>\n      <td>-2010</td>\n      <td>中国</td>\n      <td>杭州</td>\n      <td>金融科技</td>\n    </tr>\n    <tr>\n      <th>4</th>\n      <td>4</td>\n      <td>0</td>\n      <td>Stripe</td>\n      <td>4100</td>\n      <td>-2210</td>\n      <td>美国</td>\n      <td>旧金山</td>\n      <td>金融科技</td>\n    </tr>\n    <tr>\n      <th>5</th>\n      <td>5</td>\n      <td>11</td>\n      <td>Shein</td>\n      <td>4000</td>\n      <td>2680</td>\n      <td>中国</td>\n      <td>广州</td>\n      <td>电子商务</td>\n    </tr>\n    <tr>\n      <th>...</th>\n      <td>...</td>\n      <td>...</td>\n      <td>...</td>\n      <td>...</td>\n      <td>...</td>\n      <td>...</td>\n      <td>...</td>\n      <td>...</td>\n    </tr>\n    <tr>\n      <th>97</th>\n      <td>95</td>\n      <td>-16</td>\n      <td>Impossible 食品</td>\n      <td>470</td>\n      <td>0</td>\n      <td>美国</td>\n      <td>雷德伍德城</td>\n      <td>食品饮料</td>\n    </tr>\n    <tr>\n      <th>98</th>\n      <td>95</td>\n      <td>-16</td>\n      <td>微医</td>\n      <td>470</td>\n      <td>0</td>\n      <td>中国</td>\n      <td>杭州</td>\n      <td>健康科技</td>\n    </tr>\n    <tr>\n      <th>99</th>\n      <td>99</td>\n      <td>58</td>\n      <td>蜂巢能源</td>\n      <td>460</td>\n      <td>190</td>\n      <td>中国</td>\n      <td>常州</td>\n      <td>新能源</td>\n    </tr>\n    <tr>\n      <th>100</th>\n      <td>99</td>\n      <td>-6</td>\n      <td>Better.com</td>\n      <td>460</td>\n      <td>60</td>\n      <td>美国</td>\n      <td>纽约</td>\n      <td>金融科技</td>\n    </tr>\n    <tr>\n      <th>101</th>\n      <td>99</td>\n      <td>-20</td>\n      <td>Automation Anywhere</td>\n      <td>460</td>\n      <td>-10</td>\n      <td>美国</td>\n      <td>圣何塞</td>\n      <td>人工智能</td>\n    </tr>\n  </tbody>\n</table>\n<p>101 rows × 8 columns</p>\n</div>"
     },
     "execution_count": 30,
     "metadata": {},
     "output_type": "execute_result"
    }
   ],
   "source": [
    "hurun_独角兽 = pd.read_html('https://www.hurun.net/zh-CN/Info/Detail?num=L9SQPH9FKJB1')[-3]\n",
    "hurun_独角兽[0:1].values.tolist()[0]\n",
    "df_hurun = hurun_独角兽[1:]\n",
    "df_hurun.columns = hurun_独角兽[0:1].values.tolist()[0]\n",
    "df_hurun['价值（亿元人民币）'] = df_hurun['价值（亿元人民币）'].astype('int64')\n",
    "df_hurun"
   ]
  },
  {
   "cell_type": "code",
   "execution_count": 31,
   "id": "8b932b7d",
   "metadata": {
    "scrolled": true
   },
   "outputs": [
    {
     "data": {
      "text/plain": "行业                     人工智能    企业服务     保险    健康科技    共享经济     分析     区块链  \\\n国家    城市                                                                    \n中国    上海                NaN     NaN    NaN  1040.0     NaN    NaN     NaN   \n      北京                NaN     NaN  740.0     NaN   965.0    NaN     NaN   \n      宁波                NaN     NaN    NaN     NaN     NaN    NaN     NaN   \n      宿迁                NaN   515.0    NaN     NaN     NaN    NaN     NaN   \n      常州                NaN     NaN    NaN     NaN     NaN    NaN     NaN   \n      广州              570.0     NaN    NaN     NaN     NaN    NaN     NaN   \n      无锡                NaN     NaN    NaN     NaN     NaN    NaN     NaN   \n      杭州                NaN     NaN    NaN   470.0     NaN    NaN     NaN   \n      深圳                NaN     NaN    NaN     NaN     NaN    NaN     NaN   \n      长沙                NaN     NaN    NaN     NaN     NaN    NaN     NaN   \n      香港                NaN     NaN    NaN     NaN     NaN    NaN     NaN   \n以色列   内坦亚               NaN     NaN    NaN     NaN     NaN    NaN   535.0   \n印度    古尔冈               NaN     NaN    NaN     NaN   480.0    NaN     NaN   \n      孟买                NaN     NaN    NaN     NaN     NaN    NaN     NaN   \n      班加罗尔              NaN     NaN    NaN     NaN     NaN    NaN     NaN   \n印度尼西亚 Kebayoran Baru    NaN     NaN    NaN     NaN   700.0    NaN     NaN   \n      雅加达               NaN     NaN    NaN     NaN     NaN    NaN     NaN   \n土耳其   伊斯坦布尔             NaN     NaN    NaN     NaN     NaN    NaN     NaN   \n墨西哥   墨西哥城              NaN     NaN    NaN     NaN     NaN    NaN     NaN   \n巴哈马   拿索                NaN     NaN    NaN     NaN     NaN    NaN  1300.0   \n德国    慕尼黑               NaN     NaN    NaN     NaN     NaN    NaN     NaN   \n澳大利亚  悉尼                NaN     NaN    NaN     NaN     NaN    NaN     NaN   \n瑞典    哥德堡               NaN     NaN    NaN     NaN     NaN    NaN     NaN   \n      斯德哥尔摩             NaN     NaN    NaN     NaN     NaN    NaN     NaN   \n瑞士    Zug               NaN     NaN    NaN     NaN     NaN    NaN   575.0   \n美国    Novi              NaN     NaN    NaN     NaN     NaN    NaN     NaN   \n      哈里斯堡            500.0     NaN    NaN     NaN     NaN    NaN     NaN   \n      圣何塞             460.0     NaN    NaN     NaN     NaN    NaN     NaN   \n      圣迭戈               NaN     NaN    NaN     NaN     NaN    NaN     NaN   \n      帕洛阿尔托             NaN     NaN    NaN     NaN     NaN    NaN     NaN   \n      旧金山             870.0  1170.0    NaN     NaN     NaN    NaN   760.0   \n      格兰岱尔市             NaN     NaN    NaN     NaN     NaN    NaN     NaN   \n      沃尔瑟姆              NaN     NaN    NaN   840.0     NaN    NaN     NaN   \n      波士顿               NaN     NaN    NaN     NaN     NaN    NaN     NaN   \n      洛杉矶               NaN     NaN    NaN     NaN  1000.0    NaN     NaN   \n      爱莫利维尔             NaN     NaN    NaN     NaN     NaN    NaN     NaN   \n      纽约                NaN     NaN    NaN   470.0     NaN  575.0   710.0   \n      芝加哥               NaN     NaN    NaN     NaN     NaN    NaN     NaN   \n      费城                NaN     NaN    NaN     NaN     NaN    NaN     NaN   \n      雷德伍德城             NaN     NaN    NaN     NaN     NaN    NaN     NaN   \n英国    伦敦                NaN     NaN    NaN     NaN     NaN    NaN   700.0   \n越南    胡志明市              NaN     NaN    NaN     NaN     NaN    NaN     NaN   \n韩国    首尔                NaN     NaN    NaN     NaN     NaN    NaN   535.0   \n马耳他   马耳他               NaN     NaN    NaN     NaN     NaN    NaN  3000.0   \n\n行业                       大数据      快递    教育科技  ...     游戏      物流   生物科技  \\\n国家    城市                                      ...                         \n中国    上海                 NaN     NaN     NaN  ...    NaN     NaN    NaN   \n      北京                 NaN     NaN     NaN  ...    NaN   500.0    NaN   \n      宁波                 NaN     NaN     NaN  ...    NaN     NaN    NaN   \n      宿迁                 NaN     NaN     NaN  ...    NaN     NaN    NaN   \n      常州                 NaN     NaN     NaN  ...    NaN     NaN    NaN   \n      广州                 NaN     NaN     NaN  ...    NaN     NaN    NaN   \n      无锡                 NaN     NaN     NaN  ...    NaN     NaN    NaN   \n      杭州                 NaN     NaN     NaN  ...    NaN  1800.0    NaN   \n      深圳               535.0     NaN     NaN  ...    NaN     NaN    NaN   \n      长沙                 NaN     NaN     NaN  ...    NaN     NaN    NaN   \n      香港                 NaN     NaN     NaN  ...    NaN   870.0    NaN   \n以色列   内坦亚                NaN     NaN     NaN  ...    NaN     NaN    NaN   \n印度    古尔冈                NaN     NaN     NaN  ...    NaN     NaN    NaN   \n      孟买                 NaN     NaN     NaN  ...  535.0     NaN    NaN   \n      班加罗尔               NaN   720.0  1500.0  ...    NaN     NaN    NaN   \n印度尼西亚 Kebayoran Baru     NaN     NaN     NaN  ...    NaN     NaN    NaN   \n      雅加达                NaN     NaN     NaN  ...    NaN     NaN    NaN   \n土耳其   伊斯坦布尔              NaN   800.0     NaN  ...    NaN     NaN    NaN   \n墨西哥   墨西哥城               NaN     NaN     NaN  ...    NaN     NaN    NaN   \n巴哈马   拿索                 NaN     NaN     NaN  ...    NaN     NaN    NaN   \n德国    慕尼黑                NaN     NaN     NaN  ...    NaN     NaN    NaN   \n澳大利亚  悉尼                 NaN     NaN     NaN  ...    NaN     NaN    NaN   \n瑞典    哥德堡                NaN     NaN     NaN  ...    NaN     NaN    NaN   \n      斯德哥尔摩              NaN     NaN     NaN  ...    NaN     NaN    NaN   \n瑞士    Zug                NaN     NaN     NaN  ...    NaN     NaN    NaN   \n美国    Novi               NaN     NaN     NaN  ...    NaN  1200.0    NaN   \n      哈里斯堡               NaN     NaN     NaN  ...    NaN     NaN    NaN   \n      圣何塞                NaN     NaN     NaN  ...    NaN     NaN    NaN   \n      圣迭戈                NaN     NaN     NaN  ...    NaN     NaN  800.0   \n      帕洛阿尔托              NaN     NaN     NaN  ...    NaN     NaN    NaN   \n      旧金山             2500.0  1320.0     NaN  ...  600.0   535.0    NaN   \n      格兰岱尔市              NaN     NaN     NaN  ...    NaN     NaN    NaN   \n      沃尔瑟姆               NaN     NaN     NaN  ...    NaN     NaN    NaN   \n      波士顿                NaN     NaN     NaN  ...    NaN     NaN    NaN   \n      洛杉矶                NaN     NaN     NaN  ...    NaN     NaN    NaN   \n      爱莫利维尔              NaN     NaN     NaN  ...    NaN     NaN    NaN   \n      纽约                 NaN     NaN     NaN  ...    NaN     NaN    NaN   \n      芝加哥                NaN     NaN     NaN  ...    NaN     NaN  540.0   \n      费城                 NaN  1000.0     NaN  ...    NaN     NaN    NaN   \n      雷德伍德城              NaN     NaN     NaN  ...    NaN     NaN    NaN   \n英国    伦敦                 NaN     NaN     NaN  ...    NaN     NaN    NaN   \n越南    胡志明市               NaN     NaN     NaN  ...    NaN     NaN    NaN   \n韩国    首尔                 NaN     NaN     NaN  ...    NaN     NaN    NaN   \n马耳他   马耳他                NaN     NaN     NaN  ...    NaN     NaN    NaN   \n\n行业                      电子商务     社交媒体   网络安全      航天    软件服务    金融科技    食品饮料  \n国家    城市                                                                      \n中国    上海               670.0      NaN    NaN     NaN  1300.0     NaN     NaN  \n      北京               670.0  13400.0    NaN     NaN   570.0     NaN  1000.0  \n      宁波                 NaN      NaN    NaN     NaN     NaN     NaN     NaN  \n      宿迁                 NaN      NaN    NaN     NaN     NaN     NaN     NaN  \n      常州                 NaN      NaN    NaN     NaN     NaN     NaN     NaN  \n      广州              4000.0      NaN    NaN     NaN     NaN     NaN     NaN  \n      无锡                 NaN      NaN    NaN     NaN     NaN     NaN     NaN  \n      杭州                 NaN      NaN    NaN     NaN     NaN  8000.0     NaN  \n      深圳                 NaN      NaN    NaN     NaN     NaN  2200.0     NaN  \n      长沙                 NaN      NaN    NaN     NaN     NaN     NaN     NaN  \n      香港                 NaN      NaN    NaN     NaN     NaN     NaN     NaN  \n以色列   内坦亚                NaN      NaN    NaN     NaN     NaN     NaN     NaN  \n印度    古尔冈                NaN      NaN    NaN     NaN     NaN     NaN     NaN  \n      孟买                 NaN      NaN    NaN     NaN     NaN     NaN     NaN  \n      班加罗尔               NaN      NaN    NaN     NaN     NaN     NaN     NaN  \n印度尼西亚 Kebayoran Baru     NaN      NaN    NaN     NaN     NaN     NaN     NaN  \n      雅加达             1300.0      NaN    NaN     NaN     NaN     NaN     NaN  \n土耳其   伊斯坦布尔              NaN      NaN    NaN     NaN     NaN     NaN     NaN  \n墨西哥   墨西哥城             580.0      NaN    NaN     NaN     NaN     NaN     NaN  \n巴哈马   拿索                 NaN      NaN    NaN     NaN     NaN     NaN     NaN  \n德国    慕尼黑                NaN      NaN    NaN     NaN   555.0     NaN     NaN  \n澳大利亚  悉尼                 NaN      NaN    NaN     NaN  1750.0     NaN     NaN  \n瑞典    哥德堡                NaN      NaN    NaN     NaN     NaN     NaN     NaN  \n      斯德哥尔摩              NaN      NaN    NaN     NaN     NaN     NaN     NaN  \n瑞士    Zug                NaN      NaN    NaN     NaN     NaN     NaN     NaN  \n美国    Novi               NaN      NaN    NaN     NaN     NaN     NaN     NaN  \n      哈里斯堡               NaN      NaN    NaN     NaN     NaN     NaN     NaN  \n      圣何塞                NaN      NaN  555.0     NaN     NaN     NaN     NaN  \n      圣迭戈                NaN      NaN    NaN     NaN     NaN     NaN     NaN  \n      帕洛阿尔托            490.0      NaN    NaN     NaN     NaN   495.0     NaN  \n      旧金山              840.0   1000.0    NaN     NaN   750.0  4100.0     NaN  \n      格兰岱尔市              NaN      NaN    NaN     NaN   480.0     NaN     NaN  \n      沃尔瑟姆               NaN      NaN    NaN     NaN     NaN     NaN     NaN  \n      波士顿                NaN      NaN    NaN     NaN   480.0     NaN     NaN  \n      洛杉矶                NaN      NaN    NaN  8400.0     NaN     NaN     NaN  \n      爱莫利维尔              NaN      NaN  600.0     NaN     NaN     NaN     NaN  \n      纽约                 NaN      NaN  535.0     NaN   470.0   540.0     NaN  \n      芝加哥                NaN      NaN    NaN     NaN     NaN  1500.0     NaN  \n      费城                 NaN      NaN    NaN     NaN     NaN     NaN     NaN  \n      雷德伍德城              NaN      NaN    NaN     NaN     NaN     NaN   470.0  \n英国    伦敦                 NaN      NaN    NaN     NaN   570.0  1900.0     NaN  \n越南    胡志明市               NaN      NaN    NaN     NaN     NaN     NaN     NaN  \n韩国    首尔               560.0      NaN    NaN     NaN     NaN     NaN     NaN  \n马耳他   马耳他                NaN      NaN    NaN     NaN     NaN     NaN     NaN  \n\n[44 rows x 26 columns]",
      "text/html": "<div>\n<style scoped>\n    .dataframe tbody tr th:only-of-type {\n        vertical-align: middle;\n    }\n\n    .dataframe tbody tr th {\n        vertical-align: top;\n    }\n\n    .dataframe thead th {\n        text-align: right;\n    }\n</style>\n<table border=\"1\" class=\"dataframe\">\n  <thead>\n    <tr style=\"text-align: right;\">\n      <th></th>\n      <th>行业</th>\n      <th>人工智能</th>\n      <th>企业服务</th>\n      <th>保险</th>\n      <th>健康科技</th>\n      <th>共享经济</th>\n      <th>分析</th>\n      <th>区块链</th>\n      <th>大数据</th>\n      <th>快递</th>\n      <th>教育科技</th>\n      <th>...</th>\n      <th>游戏</th>\n      <th>物流</th>\n      <th>生物科技</th>\n      <th>电子商务</th>\n      <th>社交媒体</th>\n      <th>网络安全</th>\n      <th>航天</th>\n      <th>软件服务</th>\n      <th>金融科技</th>\n      <th>食品饮料</th>\n    </tr>\n    <tr>\n      <th>国家</th>\n      <th>城市</th>\n      <th></th>\n      <th></th>\n      <th></th>\n      <th></th>\n      <th></th>\n      <th></th>\n      <th></th>\n      <th></th>\n      <th></th>\n      <th></th>\n      <th></th>\n      <th></th>\n      <th></th>\n      <th></th>\n      <th></th>\n      <th></th>\n      <th></th>\n      <th></th>\n      <th></th>\n      <th></th>\n      <th></th>\n    </tr>\n  </thead>\n  <tbody>\n    <tr>\n      <th rowspan=\"11\" valign=\"top\">中国</th>\n      <th>上海</th>\n      <td>NaN</td>\n      <td>NaN</td>\n      <td>NaN</td>\n      <td>1040.0</td>\n      <td>NaN</td>\n      <td>NaN</td>\n      <td>NaN</td>\n      <td>NaN</td>\n      <td>NaN</td>\n      <td>NaN</td>\n      <td>...</td>\n      <td>NaN</td>\n      <td>NaN</td>\n      <td>NaN</td>\n      <td>670.0</td>\n      <td>NaN</td>\n      <td>NaN</td>\n      <td>NaN</td>\n      <td>1300.0</td>\n      <td>NaN</td>\n      <td>NaN</td>\n    </tr>\n    <tr>\n      <th>北京</th>\n      <td>NaN</td>\n      <td>NaN</td>\n      <td>740.0</td>\n      <td>NaN</td>\n      <td>965.0</td>\n      <td>NaN</td>\n      <td>NaN</td>\n      <td>NaN</td>\n      <td>NaN</td>\n      <td>NaN</td>\n      <td>...</td>\n      <td>NaN</td>\n      <td>500.0</td>\n      <td>NaN</td>\n      <td>670.0</td>\n      <td>13400.0</td>\n      <td>NaN</td>\n      <td>NaN</td>\n      <td>570.0</td>\n      <td>NaN</td>\n      <td>1000.0</td>\n    </tr>\n    <tr>\n      <th>宁波</th>\n      <td>NaN</td>\n      <td>NaN</td>\n      <td>NaN</td>\n      <td>NaN</td>\n      <td>NaN</td>\n      <td>NaN</td>\n      <td>NaN</td>\n      <td>NaN</td>\n      <td>NaN</td>\n      <td>NaN</td>\n      <td>...</td>\n      <td>NaN</td>\n      <td>NaN</td>\n      <td>NaN</td>\n      <td>NaN</td>\n      <td>NaN</td>\n      <td>NaN</td>\n      <td>NaN</td>\n      <td>NaN</td>\n      <td>NaN</td>\n      <td>NaN</td>\n    </tr>\n    <tr>\n      <th>宿迁</th>\n      <td>NaN</td>\n      <td>515.0</td>\n      <td>NaN</td>\n      <td>NaN</td>\n      <td>NaN</td>\n      <td>NaN</td>\n      <td>NaN</td>\n      <td>NaN</td>\n      <td>NaN</td>\n      <td>NaN</td>\n      <td>...</td>\n      <td>NaN</td>\n      <td>NaN</td>\n      <td>NaN</td>\n      <td>NaN</td>\n      <td>NaN</td>\n      <td>NaN</td>\n      <td>NaN</td>\n      <td>NaN</td>\n      <td>NaN</td>\n      <td>NaN</td>\n    </tr>\n    <tr>\n      <th>常州</th>\n      <td>NaN</td>\n      <td>NaN</td>\n      <td>NaN</td>\n      <td>NaN</td>\n      <td>NaN</td>\n      <td>NaN</td>\n      <td>NaN</td>\n      <td>NaN</td>\n      <td>NaN</td>\n      <td>NaN</td>\n      <td>...</td>\n      <td>NaN</td>\n      <td>NaN</td>\n      <td>NaN</td>\n      <td>NaN</td>\n      <td>NaN</td>\n      <td>NaN</td>\n      <td>NaN</td>\n      <td>NaN</td>\n      <td>NaN</td>\n      <td>NaN</td>\n    </tr>\n    <tr>\n      <th>广州</th>\n      <td>570.0</td>\n      <td>NaN</td>\n      <td>NaN</td>\n      <td>NaN</td>\n      <td>NaN</td>\n      <td>NaN</td>\n      <td>NaN</td>\n      <td>NaN</td>\n      <td>NaN</td>\n      <td>NaN</td>\n      <td>...</td>\n      <td>NaN</td>\n      <td>NaN</td>\n      <td>NaN</td>\n      <td>4000.0</td>\n      <td>NaN</td>\n      <td>NaN</td>\n      <td>NaN</td>\n      <td>NaN</td>\n      <td>NaN</td>\n      <td>NaN</td>\n    </tr>\n    <tr>\n      <th>无锡</th>\n      <td>NaN</td>\n      <td>NaN</td>\n      <td>NaN</td>\n      <td>NaN</td>\n      <td>NaN</td>\n      <td>NaN</td>\n      <td>NaN</td>\n      <td>NaN</td>\n      <td>NaN</td>\n      <td>NaN</td>\n      <td>...</td>\n      <td>NaN</td>\n      <td>NaN</td>\n      <td>NaN</td>\n      <td>NaN</td>\n      <td>NaN</td>\n      <td>NaN</td>\n      <td>NaN</td>\n      <td>NaN</td>\n      <td>NaN</td>\n      <td>NaN</td>\n    </tr>\n    <tr>\n      <th>杭州</th>\n      <td>NaN</td>\n      <td>NaN</td>\n      <td>NaN</td>\n      <td>470.0</td>\n      <td>NaN</td>\n      <td>NaN</td>\n      <td>NaN</td>\n      <td>NaN</td>\n      <td>NaN</td>\n      <td>NaN</td>\n      <td>...</td>\n      <td>NaN</td>\n      <td>1800.0</td>\n      <td>NaN</td>\n      <td>NaN</td>\n      <td>NaN</td>\n      <td>NaN</td>\n      <td>NaN</td>\n      <td>NaN</td>\n      <td>8000.0</td>\n      <td>NaN</td>\n    </tr>\n    <tr>\n      <th>深圳</th>\n      <td>NaN</td>\n      <td>NaN</td>\n      <td>NaN</td>\n      <td>NaN</td>\n      <td>NaN</td>\n      <td>NaN</td>\n      <td>NaN</td>\n      <td>535.0</td>\n      <td>NaN</td>\n      <td>NaN</td>\n      <td>...</td>\n      <td>NaN</td>\n      <td>NaN</td>\n      <td>NaN</td>\n      <td>NaN</td>\n      <td>NaN</td>\n      <td>NaN</td>\n      <td>NaN</td>\n      <td>NaN</td>\n      <td>2200.0</td>\n      <td>NaN</td>\n    </tr>\n    <tr>\n      <th>长沙</th>\n      <td>NaN</td>\n      <td>NaN</td>\n      <td>NaN</td>\n      <td>NaN</td>\n      <td>NaN</td>\n      <td>NaN</td>\n      <td>NaN</td>\n      <td>NaN</td>\n      <td>NaN</td>\n      <td>NaN</td>\n      <td>...</td>\n      <td>NaN</td>\n      <td>NaN</td>\n      <td>NaN</td>\n      <td>NaN</td>\n      <td>NaN</td>\n      <td>NaN</td>\n      <td>NaN</td>\n      <td>NaN</td>\n      <td>NaN</td>\n      <td>NaN</td>\n    </tr>\n    <tr>\n      <th>香港</th>\n      <td>NaN</td>\n      <td>NaN</td>\n      <td>NaN</td>\n      <td>NaN</td>\n      <td>NaN</td>\n      <td>NaN</td>\n      <td>NaN</td>\n      <td>NaN</td>\n      <td>NaN</td>\n      <td>NaN</td>\n      <td>...</td>\n      <td>NaN</td>\n      <td>870.0</td>\n      <td>NaN</td>\n      <td>NaN</td>\n      <td>NaN</td>\n      <td>NaN</td>\n      <td>NaN</td>\n      <td>NaN</td>\n      <td>NaN</td>\n      <td>NaN</td>\n    </tr>\n    <tr>\n      <th>以色列</th>\n      <th>内坦亚</th>\n      <td>NaN</td>\n      <td>NaN</td>\n      <td>NaN</td>\n      <td>NaN</td>\n      <td>NaN</td>\n      <td>NaN</td>\n      <td>535.0</td>\n      <td>NaN</td>\n      <td>NaN</td>\n      <td>NaN</td>\n      <td>...</td>\n      <td>NaN</td>\n      <td>NaN</td>\n      <td>NaN</td>\n      <td>NaN</td>\n      <td>NaN</td>\n      <td>NaN</td>\n      <td>NaN</td>\n      <td>NaN</td>\n      <td>NaN</td>\n      <td>NaN</td>\n    </tr>\n    <tr>\n      <th rowspan=\"3\" valign=\"top\">印度</th>\n      <th>古尔冈</th>\n      <td>NaN</td>\n      <td>NaN</td>\n      <td>NaN</td>\n      <td>NaN</td>\n      <td>480.0</td>\n      <td>NaN</td>\n      <td>NaN</td>\n      <td>NaN</td>\n      <td>NaN</td>\n      <td>NaN</td>\n      <td>...</td>\n      <td>NaN</td>\n      <td>NaN</td>\n      <td>NaN</td>\n      <td>NaN</td>\n      <td>NaN</td>\n      <td>NaN</td>\n      <td>NaN</td>\n      <td>NaN</td>\n      <td>NaN</td>\n      <td>NaN</td>\n    </tr>\n    <tr>\n      <th>孟买</th>\n      <td>NaN</td>\n      <td>NaN</td>\n      <td>NaN</td>\n      <td>NaN</td>\n      <td>NaN</td>\n      <td>NaN</td>\n      <td>NaN</td>\n      <td>NaN</td>\n      <td>NaN</td>\n      <td>NaN</td>\n      <td>...</td>\n      <td>535.0</td>\n      <td>NaN</td>\n      <td>NaN</td>\n      <td>NaN</td>\n      <td>NaN</td>\n      <td>NaN</td>\n      <td>NaN</td>\n      <td>NaN</td>\n      <td>NaN</td>\n      <td>NaN</td>\n    </tr>\n    <tr>\n      <th>班加罗尔</th>\n      <td>NaN</td>\n      <td>NaN</td>\n      <td>NaN</td>\n      <td>NaN</td>\n      <td>NaN</td>\n      <td>NaN</td>\n      <td>NaN</td>\n      <td>NaN</td>\n      <td>720.0</td>\n      <td>1500.0</td>\n      <td>...</td>\n      <td>NaN</td>\n      <td>NaN</td>\n      <td>NaN</td>\n      <td>NaN</td>\n      <td>NaN</td>\n      <td>NaN</td>\n      <td>NaN</td>\n      <td>NaN</td>\n      <td>NaN</td>\n      <td>NaN</td>\n    </tr>\n    <tr>\n      <th rowspan=\"2\" valign=\"top\">印度尼西亚</th>\n      <th>Kebayoran Baru</th>\n      <td>NaN</td>\n      <td>NaN</td>\n      <td>NaN</td>\n      <td>NaN</td>\n      <td>700.0</td>\n      <td>NaN</td>\n      <td>NaN</td>\n      <td>NaN</td>\n      <td>NaN</td>\n      <td>NaN</td>\n      <td>...</td>\n      <td>NaN</td>\n      <td>NaN</td>\n      <td>NaN</td>\n      <td>NaN</td>\n      <td>NaN</td>\n      <td>NaN</td>\n      <td>NaN</td>\n      <td>NaN</td>\n      <td>NaN</td>\n      <td>NaN</td>\n    </tr>\n    <tr>\n      <th>雅加达</th>\n      <td>NaN</td>\n      <td>NaN</td>\n      <td>NaN</td>\n      <td>NaN</td>\n      <td>NaN</td>\n      <td>NaN</td>\n      <td>NaN</td>\n      <td>NaN</td>\n      <td>NaN</td>\n      <td>NaN</td>\n      <td>...</td>\n      <td>NaN</td>\n      <td>NaN</td>\n      <td>NaN</td>\n      <td>1300.0</td>\n      <td>NaN</td>\n      <td>NaN</td>\n      <td>NaN</td>\n      <td>NaN</td>\n      <td>NaN</td>\n      <td>NaN</td>\n    </tr>\n    <tr>\n      <th>土耳其</th>\n      <th>伊斯坦布尔</th>\n      <td>NaN</td>\n      <td>NaN</td>\n      <td>NaN</td>\n      <td>NaN</td>\n      <td>NaN</td>\n      <td>NaN</td>\n      <td>NaN</td>\n      <td>NaN</td>\n      <td>800.0</td>\n      <td>NaN</td>\n      <td>...</td>\n      <td>NaN</td>\n      <td>NaN</td>\n      <td>NaN</td>\n      <td>NaN</td>\n      <td>NaN</td>\n      <td>NaN</td>\n      <td>NaN</td>\n      <td>NaN</td>\n      <td>NaN</td>\n      <td>NaN</td>\n    </tr>\n    <tr>\n      <th>墨西哥</th>\n      <th>墨西哥城</th>\n      <td>NaN</td>\n      <td>NaN</td>\n      <td>NaN</td>\n      <td>NaN</td>\n      <td>NaN</td>\n      <td>NaN</td>\n      <td>NaN</td>\n      <td>NaN</td>\n      <td>NaN</td>\n      <td>NaN</td>\n      <td>...</td>\n      <td>NaN</td>\n      <td>NaN</td>\n      <td>NaN</td>\n      <td>580.0</td>\n      <td>NaN</td>\n      <td>NaN</td>\n      <td>NaN</td>\n      <td>NaN</td>\n      <td>NaN</td>\n      <td>NaN</td>\n    </tr>\n    <tr>\n      <th>巴哈马</th>\n      <th>拿索</th>\n      <td>NaN</td>\n      <td>NaN</td>\n      <td>NaN</td>\n      <td>NaN</td>\n      <td>NaN</td>\n      <td>NaN</td>\n      <td>1300.0</td>\n      <td>NaN</td>\n      <td>NaN</td>\n      <td>NaN</td>\n      <td>...</td>\n      <td>NaN</td>\n      <td>NaN</td>\n      <td>NaN</td>\n      <td>NaN</td>\n      <td>NaN</td>\n      <td>NaN</td>\n      <td>NaN</td>\n      <td>NaN</td>\n      <td>NaN</td>\n      <td>NaN</td>\n    </tr>\n    <tr>\n      <th>德国</th>\n      <th>慕尼黑</th>\n      <td>NaN</td>\n      <td>NaN</td>\n      <td>NaN</td>\n      <td>NaN</td>\n      <td>NaN</td>\n      <td>NaN</td>\n      <td>NaN</td>\n      <td>NaN</td>\n      <td>NaN</td>\n      <td>NaN</td>\n      <td>...</td>\n      <td>NaN</td>\n      <td>NaN</td>\n      <td>NaN</td>\n      <td>NaN</td>\n      <td>NaN</td>\n      <td>NaN</td>\n      <td>NaN</td>\n      <td>555.0</td>\n      <td>NaN</td>\n      <td>NaN</td>\n    </tr>\n    <tr>\n      <th>澳大利亚</th>\n      <th>悉尼</th>\n      <td>NaN</td>\n      <td>NaN</td>\n      <td>NaN</td>\n      <td>NaN</td>\n      <td>NaN</td>\n      <td>NaN</td>\n      <td>NaN</td>\n      <td>NaN</td>\n      <td>NaN</td>\n      <td>NaN</td>\n      <td>...</td>\n      <td>NaN</td>\n      <td>NaN</td>\n      <td>NaN</td>\n      <td>NaN</td>\n      <td>NaN</td>\n      <td>NaN</td>\n      <td>NaN</td>\n      <td>1750.0</td>\n      <td>NaN</td>\n      <td>NaN</td>\n    </tr>\n    <tr>\n      <th rowspan=\"2\" valign=\"top\">瑞典</th>\n      <th>哥德堡</th>\n      <td>NaN</td>\n      <td>NaN</td>\n      <td>NaN</td>\n      <td>NaN</td>\n      <td>NaN</td>\n      <td>NaN</td>\n      <td>NaN</td>\n      <td>NaN</td>\n      <td>NaN</td>\n      <td>NaN</td>\n      <td>...</td>\n      <td>NaN</td>\n      <td>NaN</td>\n      <td>NaN</td>\n      <td>NaN</td>\n      <td>NaN</td>\n      <td>NaN</td>\n      <td>NaN</td>\n      <td>NaN</td>\n      <td>NaN</td>\n      <td>NaN</td>\n    </tr>\n    <tr>\n      <th>斯德哥尔摩</th>\n      <td>NaN</td>\n      <td>NaN</td>\n      <td>NaN</td>\n      <td>NaN</td>\n      <td>NaN</td>\n      <td>NaN</td>\n      <td>NaN</td>\n      <td>NaN</td>\n      <td>NaN</td>\n      <td>NaN</td>\n      <td>...</td>\n      <td>NaN</td>\n      <td>NaN</td>\n      <td>NaN</td>\n      <td>NaN</td>\n      <td>NaN</td>\n      <td>NaN</td>\n      <td>NaN</td>\n      <td>NaN</td>\n      <td>NaN</td>\n      <td>NaN</td>\n    </tr>\n    <tr>\n      <th>瑞士</th>\n      <th>Zug</th>\n      <td>NaN</td>\n      <td>NaN</td>\n      <td>NaN</td>\n      <td>NaN</td>\n      <td>NaN</td>\n      <td>NaN</td>\n      <td>575.0</td>\n      <td>NaN</td>\n      <td>NaN</td>\n      <td>NaN</td>\n      <td>...</td>\n      <td>NaN</td>\n      <td>NaN</td>\n      <td>NaN</td>\n      <td>NaN</td>\n      <td>NaN</td>\n      <td>NaN</td>\n      <td>NaN</td>\n      <td>NaN</td>\n      <td>NaN</td>\n      <td>NaN</td>\n    </tr>\n    <tr>\n      <th rowspan=\"15\" valign=\"top\">美国</th>\n      <th>Novi</th>\n      <td>NaN</td>\n      <td>NaN</td>\n      <td>NaN</td>\n      <td>NaN</td>\n      <td>NaN</td>\n      <td>NaN</td>\n      <td>NaN</td>\n      <td>NaN</td>\n      <td>NaN</td>\n      <td>NaN</td>\n      <td>...</td>\n      <td>NaN</td>\n      <td>1200.0</td>\n      <td>NaN</td>\n      <td>NaN</td>\n      <td>NaN</td>\n      <td>NaN</td>\n      <td>NaN</td>\n      <td>NaN</td>\n      <td>NaN</td>\n      <td>NaN</td>\n    </tr>\n    <tr>\n      <th>哈里斯堡</th>\n      <td>500.0</td>\n      <td>NaN</td>\n      <td>NaN</td>\n      <td>NaN</td>\n      <td>NaN</td>\n      <td>NaN</td>\n      <td>NaN</td>\n      <td>NaN</td>\n      <td>NaN</td>\n      <td>NaN</td>\n      <td>...</td>\n      <td>NaN</td>\n      <td>NaN</td>\n      <td>NaN</td>\n      <td>NaN</td>\n      <td>NaN</td>\n      <td>NaN</td>\n      <td>NaN</td>\n      <td>NaN</td>\n      <td>NaN</td>\n      <td>NaN</td>\n    </tr>\n    <tr>\n      <th>圣何塞</th>\n      <td>460.0</td>\n      <td>NaN</td>\n      <td>NaN</td>\n      <td>NaN</td>\n      <td>NaN</td>\n      <td>NaN</td>\n      <td>NaN</td>\n      <td>NaN</td>\n      <td>NaN</td>\n      <td>NaN</td>\n      <td>...</td>\n      <td>NaN</td>\n      <td>NaN</td>\n      <td>NaN</td>\n      <td>NaN</td>\n      <td>NaN</td>\n      <td>555.0</td>\n      <td>NaN</td>\n      <td>NaN</td>\n      <td>NaN</td>\n      <td>NaN</td>\n    </tr>\n    <tr>\n      <th>圣迭戈</th>\n      <td>NaN</td>\n      <td>NaN</td>\n      <td>NaN</td>\n      <td>NaN</td>\n      <td>NaN</td>\n      <td>NaN</td>\n      <td>NaN</td>\n      <td>NaN</td>\n      <td>NaN</td>\n      <td>NaN</td>\n      <td>...</td>\n      <td>NaN</td>\n      <td>NaN</td>\n      <td>800.0</td>\n      <td>NaN</td>\n      <td>NaN</td>\n      <td>NaN</td>\n      <td>NaN</td>\n      <td>NaN</td>\n      <td>NaN</td>\n      <td>NaN</td>\n    </tr>\n    <tr>\n      <th>帕洛阿尔托</th>\n      <td>NaN</td>\n      <td>NaN</td>\n      <td>NaN</td>\n      <td>NaN</td>\n      <td>NaN</td>\n      <td>NaN</td>\n      <td>NaN</td>\n      <td>NaN</td>\n      <td>NaN</td>\n      <td>NaN</td>\n      <td>...</td>\n      <td>NaN</td>\n      <td>NaN</td>\n      <td>NaN</td>\n      <td>490.0</td>\n      <td>NaN</td>\n      <td>NaN</td>\n      <td>NaN</td>\n      <td>NaN</td>\n      <td>495.0</td>\n      <td>NaN</td>\n    </tr>\n    <tr>\n      <th>旧金山</th>\n      <td>870.0</td>\n      <td>1170.0</td>\n      <td>NaN</td>\n      <td>NaN</td>\n      <td>NaN</td>\n      <td>NaN</td>\n      <td>760.0</td>\n      <td>2500.0</td>\n      <td>1320.0</td>\n      <td>NaN</td>\n      <td>...</td>\n      <td>600.0</td>\n      <td>535.0</td>\n      <td>NaN</td>\n      <td>840.0</td>\n      <td>1000.0</td>\n      <td>NaN</td>\n      <td>NaN</td>\n      <td>750.0</td>\n      <td>4100.0</td>\n      <td>NaN</td>\n    </tr>\n    <tr>\n      <th>格兰岱尔市</th>\n      <td>NaN</td>\n      <td>NaN</td>\n      <td>NaN</td>\n      <td>NaN</td>\n      <td>NaN</td>\n      <td>NaN</td>\n      <td>NaN</td>\n      <td>NaN</td>\n      <td>NaN</td>\n      <td>NaN</td>\n      <td>...</td>\n      <td>NaN</td>\n      <td>NaN</td>\n      <td>NaN</td>\n      <td>NaN</td>\n      <td>NaN</td>\n      <td>NaN</td>\n      <td>NaN</td>\n      <td>480.0</td>\n      <td>NaN</td>\n      <td>NaN</td>\n    </tr>\n    <tr>\n      <th>沃尔瑟姆</th>\n      <td>NaN</td>\n      <td>NaN</td>\n      <td>NaN</td>\n      <td>840.0</td>\n      <td>NaN</td>\n      <td>NaN</td>\n      <td>NaN</td>\n      <td>NaN</td>\n      <td>NaN</td>\n      <td>NaN</td>\n      <td>...</td>\n      <td>NaN</td>\n      <td>NaN</td>\n      <td>NaN</td>\n      <td>NaN</td>\n      <td>NaN</td>\n      <td>NaN</td>\n      <td>NaN</td>\n      <td>NaN</td>\n      <td>NaN</td>\n      <td>NaN</td>\n    </tr>\n    <tr>\n      <th>波士顿</th>\n      <td>NaN</td>\n      <td>NaN</td>\n      <td>NaN</td>\n      <td>NaN</td>\n      <td>NaN</td>\n      <td>NaN</td>\n      <td>NaN</td>\n      <td>NaN</td>\n      <td>NaN</td>\n      <td>NaN</td>\n      <td>...</td>\n      <td>NaN</td>\n      <td>NaN</td>\n      <td>NaN</td>\n      <td>NaN</td>\n      <td>NaN</td>\n      <td>NaN</td>\n      <td>NaN</td>\n      <td>480.0</td>\n      <td>NaN</td>\n      <td>NaN</td>\n    </tr>\n    <tr>\n      <th>洛杉矶</th>\n      <td>NaN</td>\n      <td>NaN</td>\n      <td>NaN</td>\n      <td>NaN</td>\n      <td>1000.0</td>\n      <td>NaN</td>\n      <td>NaN</td>\n      <td>NaN</td>\n      <td>NaN</td>\n      <td>NaN</td>\n      <td>...</td>\n      <td>NaN</td>\n      <td>NaN</td>\n      <td>NaN</td>\n      <td>NaN</td>\n      <td>NaN</td>\n      <td>NaN</td>\n      <td>8400.0</td>\n      <td>NaN</td>\n      <td>NaN</td>\n      <td>NaN</td>\n    </tr>\n    <tr>\n      <th>爱莫利维尔</th>\n      <td>NaN</td>\n      <td>NaN</td>\n      <td>NaN</td>\n      <td>NaN</td>\n      <td>NaN</td>\n      <td>NaN</td>\n      <td>NaN</td>\n      <td>NaN</td>\n      <td>NaN</td>\n      <td>NaN</td>\n      <td>...</td>\n      <td>NaN</td>\n      <td>NaN</td>\n      <td>NaN</td>\n      <td>NaN</td>\n      <td>NaN</td>\n      <td>600.0</td>\n      <td>NaN</td>\n      <td>NaN</td>\n      <td>NaN</td>\n      <td>NaN</td>\n    </tr>\n    <tr>\n      <th>纽约</th>\n      <td>NaN</td>\n      <td>NaN</td>\n      <td>NaN</td>\n      <td>470.0</td>\n      <td>NaN</td>\n      <td>575.0</td>\n      <td>710.0</td>\n      <td>NaN</td>\n      <td>NaN</td>\n      <td>NaN</td>\n      <td>...</td>\n      <td>NaN</td>\n      <td>NaN</td>\n      <td>NaN</td>\n      <td>NaN</td>\n      <td>NaN</td>\n      <td>535.0</td>\n      <td>NaN</td>\n      <td>470.0</td>\n      <td>540.0</td>\n      <td>NaN</td>\n    </tr>\n    <tr>\n      <th>芝加哥</th>\n      <td>NaN</td>\n      <td>NaN</td>\n      <td>NaN</td>\n      <td>NaN</td>\n      <td>NaN</td>\n      <td>NaN</td>\n      <td>NaN</td>\n      <td>NaN</td>\n      <td>NaN</td>\n      <td>NaN</td>\n      <td>...</td>\n      <td>NaN</td>\n      <td>NaN</td>\n      <td>540.0</td>\n      <td>NaN</td>\n      <td>NaN</td>\n      <td>NaN</td>\n      <td>NaN</td>\n      <td>NaN</td>\n      <td>1500.0</td>\n      <td>NaN</td>\n    </tr>\n    <tr>\n      <th>费城</th>\n      <td>NaN</td>\n      <td>NaN</td>\n      <td>NaN</td>\n      <td>NaN</td>\n      <td>NaN</td>\n      <td>NaN</td>\n      <td>NaN</td>\n      <td>NaN</td>\n      <td>1000.0</td>\n      <td>NaN</td>\n      <td>...</td>\n      <td>NaN</td>\n      <td>NaN</td>\n      <td>NaN</td>\n      <td>NaN</td>\n      <td>NaN</td>\n      <td>NaN</td>\n      <td>NaN</td>\n      <td>NaN</td>\n      <td>NaN</td>\n      <td>NaN</td>\n    </tr>\n    <tr>\n      <th>雷德伍德城</th>\n      <td>NaN</td>\n      <td>NaN</td>\n      <td>NaN</td>\n      <td>NaN</td>\n      <td>NaN</td>\n      <td>NaN</td>\n      <td>NaN</td>\n      <td>NaN</td>\n      <td>NaN</td>\n      <td>NaN</td>\n      <td>...</td>\n      <td>NaN</td>\n      <td>NaN</td>\n      <td>NaN</td>\n      <td>NaN</td>\n      <td>NaN</td>\n      <td>NaN</td>\n      <td>NaN</td>\n      <td>NaN</td>\n      <td>NaN</td>\n      <td>470.0</td>\n    </tr>\n    <tr>\n      <th>英国</th>\n      <th>伦敦</th>\n      <td>NaN</td>\n      <td>NaN</td>\n      <td>NaN</td>\n      <td>NaN</td>\n      <td>NaN</td>\n      <td>NaN</td>\n      <td>700.0</td>\n      <td>NaN</td>\n      <td>NaN</td>\n      <td>NaN</td>\n      <td>...</td>\n      <td>NaN</td>\n      <td>NaN</td>\n      <td>NaN</td>\n      <td>NaN</td>\n      <td>NaN</td>\n      <td>NaN</td>\n      <td>NaN</td>\n      <td>570.0</td>\n      <td>1900.0</td>\n      <td>NaN</td>\n    </tr>\n    <tr>\n      <th>越南</th>\n      <th>胡志明市</th>\n      <td>NaN</td>\n      <td>NaN</td>\n      <td>NaN</td>\n      <td>NaN</td>\n      <td>NaN</td>\n      <td>NaN</td>\n      <td>NaN</td>\n      <td>NaN</td>\n      <td>NaN</td>\n      <td>NaN</td>\n      <td>...</td>\n      <td>NaN</td>\n      <td>NaN</td>\n      <td>NaN</td>\n      <td>NaN</td>\n      <td>NaN</td>\n      <td>NaN</td>\n      <td>NaN</td>\n      <td>NaN</td>\n      <td>NaN</td>\n      <td>NaN</td>\n    </tr>\n    <tr>\n      <th>韩国</th>\n      <th>首尔</th>\n      <td>NaN</td>\n      <td>NaN</td>\n      <td>NaN</td>\n      <td>NaN</td>\n      <td>NaN</td>\n      <td>NaN</td>\n      <td>535.0</td>\n      <td>NaN</td>\n      <td>NaN</td>\n      <td>NaN</td>\n      <td>...</td>\n      <td>NaN</td>\n      <td>NaN</td>\n      <td>NaN</td>\n      <td>560.0</td>\n      <td>NaN</td>\n      <td>NaN</td>\n      <td>NaN</td>\n      <td>NaN</td>\n      <td>NaN</td>\n      <td>NaN</td>\n    </tr>\n    <tr>\n      <th>马耳他</th>\n      <th>马耳他</th>\n      <td>NaN</td>\n      <td>NaN</td>\n      <td>NaN</td>\n      <td>NaN</td>\n      <td>NaN</td>\n      <td>NaN</td>\n      <td>3000.0</td>\n      <td>NaN</td>\n      <td>NaN</td>\n      <td>NaN</td>\n      <td>...</td>\n      <td>NaN</td>\n      <td>NaN</td>\n      <td>NaN</td>\n      <td>NaN</td>\n      <td>NaN</td>\n      <td>NaN</td>\n      <td>NaN</td>\n      <td>NaN</td>\n      <td>NaN</td>\n      <td>NaN</td>\n    </tr>\n  </tbody>\n</table>\n<p>44 rows × 26 columns</p>\n</div>"
     },
     "execution_count": 31,
     "metadata": {},
     "output_type": "execute_result"
    }
   ],
   "source": [
    "df_hurun.pivot_table(\n",
    "    index = ['国家','城市'],\n",
    "    columns = '行业',\n",
    "    values = '价值（亿元人民币）',\n",
    "    aggfunc=\"max\"\n",
    "        )"
   ]
  },
  {
   "cell_type": "code",
   "execution_count": 32,
   "id": "893e2f1c",
   "metadata": {},
   "outputs": [
    {
     "ename": "TypeError",
     "evalue": "query() missing 1 required positional argument: 'expr'",
     "output_type": "error",
     "traceback": [
      "\u001B[1;31m---------------------------------------------------------------------------\u001B[0m",
      "\u001B[1;31mTypeError\u001B[0m                                 Traceback (most recent call last)",
      "Cell \u001B[1;32mIn[32], line 1\u001B[0m\n\u001B[1;32m----> 1\u001B[0m \u001B[43mdf_hurun\u001B[49m\u001B[38;5;241;43m.\u001B[39;49m\u001B[43mquery\u001B[49m\u001B[43m(\u001B[49m\u001B[38;5;124;43m'\u001B[39;49m\u001B[38;5;124;43m国家 == \u001B[39;49m\u001B[38;5;124;43m\"\u001B[39;49m\u001B[38;5;124;43m中国\u001B[39;49m\u001B[38;5;124;43m\"\u001B[39;49m\u001B[38;5;124;43m or 国家 == \u001B[39;49m\u001B[38;5;124;43m\"\u001B[39;49m\u001B[38;5;124;43m美国\u001B[39;49m\u001B[38;5;124;43m\"\u001B[39;49m\u001B[38;5;124;43m'\u001B[39;49m\u001B[43m)\u001B[49m\u001B[38;5;241;43m.\u001B[39;49m\u001B[43mquery\u001B[49m\u001B[43m(\u001B[49m\u001B[43m)\u001B[49m\n",
      "\u001B[1;31mTypeError\u001B[0m: query() missing 1 required positional argument: 'expr'"
     ]
    }
   ],
   "source": [
    "df_hurun.query('国家 == \"中国\" or 国家 == \"美国\"').query()"
   ]
  },
  {
   "cell_type": "code",
   "execution_count": 33,
   "id": "9416e7e8",
   "metadata": {},
   "outputs": [
    {
     "data": {
      "text/plain": "array(['社交媒体', '金融科技', '电子商务', '数字科技', '物流', '软件服务', '机器人', '健康科技',\n       '食品饮料', '共享经济', '保险', '新零售', '新能源', '新能源汽车', '人工智能', '大数据', '企业服务'],\n      dtype=object)"
     },
     "execution_count": 33,
     "metadata": {},
     "output_type": "execute_result"
    }
   ],
   "source": [
    "df_hurun.query('国家 == \"中国\"').行业.unique()"
   ]
  },
  {
   "cell_type": "code",
   "execution_count": 34,
   "id": "e6d42592",
   "metadata": {},
   "outputs": [
    {
     "data": {
      "text/plain": "array(['航天', '金融科技', '大数据', '快递', '物流', '企业服务', '共享经济', '社交媒体', '人工智能',\n       '健康科技', '电子商务', '生物科技', '区块链', '软件服务', '游戏', '网络安全', '分析', '机器人',\n       '食品饮料'], dtype=object)"
     },
     "execution_count": 34,
     "metadata": {},
     "output_type": "execute_result"
    }
   ],
   "source": [
    "df_hurun.query('国家 == \"美国\"').行业.unique()"
   ]
  },
  {
   "cell_type": "markdown",
   "id": "6958d753",
   "metadata": {},
   "source": [
    "## pivot_table\n",
    "* 增加聚合方法"
   ]
  },
  {
   "cell_type": "code",
   "execution_count": 35,
   "id": "89fad89d",
   "metadata": {},
   "outputs": [],
   "source": [
    "df = pd.DataFrame(\n",
    "    {\n",
    "        'Name':['San Zhang', 'San Zhang',  'San Zhang', 'San Zhang','Si Li', 'Si Li', 'Si Li', 'Si Li'],\n",
    "        'Subject':['Chinese', 'Chinese', 'Math', 'Math','Chinese', 'Chinese', 'Math', 'Math'],\n",
    "        'Grade':[80, 90, 100, 90, 70, 80, 85, 95]\n",
    "    }\n",
    ")\n"
   ]
  },
  {
   "cell_type": "code",
   "execution_count": 36,
   "id": "13d769db",
   "metadata": {},
   "outputs": [
    {
     "data": {
      "text/plain": "        Name  Subject  Grade\n0  San Zhang  Chinese     80\n1  San Zhang  Chinese     90\n2  San Zhang     Math    100\n3  San Zhang     Math     90\n4      Si Li  Chinese     70\n5      Si Li  Chinese     80\n6      Si Li     Math     85\n7      Si Li     Math     95",
      "text/html": "<div>\n<style scoped>\n    .dataframe tbody tr th:only-of-type {\n        vertical-align: middle;\n    }\n\n    .dataframe tbody tr th {\n        vertical-align: top;\n    }\n\n    .dataframe thead th {\n        text-align: right;\n    }\n</style>\n<table border=\"1\" class=\"dataframe\">\n  <thead>\n    <tr style=\"text-align: right;\">\n      <th></th>\n      <th>Name</th>\n      <th>Subject</th>\n      <th>Grade</th>\n    </tr>\n  </thead>\n  <tbody>\n    <tr>\n      <th>0</th>\n      <td>San Zhang</td>\n      <td>Chinese</td>\n      <td>80</td>\n    </tr>\n    <tr>\n      <th>1</th>\n      <td>San Zhang</td>\n      <td>Chinese</td>\n      <td>90</td>\n    </tr>\n    <tr>\n      <th>2</th>\n      <td>San Zhang</td>\n      <td>Math</td>\n      <td>100</td>\n    </tr>\n    <tr>\n      <th>3</th>\n      <td>San Zhang</td>\n      <td>Math</td>\n      <td>90</td>\n    </tr>\n    <tr>\n      <th>4</th>\n      <td>Si Li</td>\n      <td>Chinese</td>\n      <td>70</td>\n    </tr>\n    <tr>\n      <th>5</th>\n      <td>Si Li</td>\n      <td>Chinese</td>\n      <td>80</td>\n    </tr>\n    <tr>\n      <th>6</th>\n      <td>Si Li</td>\n      <td>Math</td>\n      <td>85</td>\n    </tr>\n    <tr>\n      <th>7</th>\n      <td>Si Li</td>\n      <td>Math</td>\n      <td>95</td>\n    </tr>\n  </tbody>\n</table>\n</div>"
     },
     "execution_count": 36,
     "metadata": {},
     "output_type": "execute_result"
    }
   ],
   "source": [
    "df"
   ]
  },
  {
   "cell_type": "code",
   "execution_count": 36,
   "id": "9c9ec6d0",
   "metadata": {},
   "outputs": [],
   "source": []
  },
  {
   "cell_type": "markdown",
   "id": "145a0365",
   "metadata": {},
   "source": [
    "## melt"
   ]
  },
  {
   "cell_type": "code",
   "execution_count": 37,
   "id": "99db6ed9",
   "metadata": {},
   "outputs": [],
   "source": [
    "df = pd.DataFrame({'Class':[1,2],'Name':['San Zhang', 'Si Li'],'Chinese':[80, 90],'Math':[80, 75]})"
   ]
  },
  {
   "cell_type": "code",
   "execution_count": 38,
   "id": "2642e83e",
   "metadata": {},
   "outputs": [
    {
     "data": {
      "text/plain": "   Class       Name  Chinese  Math\n0      1  San Zhang       80    80\n1      2      Si Li       90    75",
      "text/html": "<div>\n<style scoped>\n    .dataframe tbody tr th:only-of-type {\n        vertical-align: middle;\n    }\n\n    .dataframe tbody tr th {\n        vertical-align: top;\n    }\n\n    .dataframe thead th {\n        text-align: right;\n    }\n</style>\n<table border=\"1\" class=\"dataframe\">\n  <thead>\n    <tr style=\"text-align: right;\">\n      <th></th>\n      <th>Class</th>\n      <th>Name</th>\n      <th>Chinese</th>\n      <th>Math</th>\n    </tr>\n  </thead>\n  <tbody>\n    <tr>\n      <th>0</th>\n      <td>1</td>\n      <td>San Zhang</td>\n      <td>80</td>\n      <td>80</td>\n    </tr>\n    <tr>\n      <th>1</th>\n      <td>2</td>\n      <td>Si Li</td>\n      <td>90</td>\n      <td>75</td>\n    </tr>\n  </tbody>\n</table>\n</div>"
     },
     "execution_count": 38,
     "metadata": {},
     "output_type": "execute_result"
    }
   ],
   "source": [
    "df"
   ]
  },
  {
   "cell_type": "code",
   "execution_count": 39,
   "id": "fb0e9538",
   "metadata": {},
   "outputs": [],
   "source": [
    "df_melted = df.melt(id_vars = ['Class', 'Name'],\n",
    " value_vars = ['Chinese', 'Math'],\n",
    " var_name = 'Subject',\n",
    " value_name = 'Grade')"
   ]
  },
  {
   "cell_type": "code",
   "execution_count": 40,
   "id": "8cc529a2",
   "metadata": {},
   "outputs": [
    {
     "data": {
      "text/plain": "   Class       Name  Subject  Grade\n0      1  San Zhang  Chinese     80\n1      2      Si Li  Chinese     90\n2      1  San Zhang     Math     80\n3      2      Si Li     Math     75",
      "text/html": "<div>\n<style scoped>\n    .dataframe tbody tr th:only-of-type {\n        vertical-align: middle;\n    }\n\n    .dataframe tbody tr th {\n        vertical-align: top;\n    }\n\n    .dataframe thead th {\n        text-align: right;\n    }\n</style>\n<table border=\"1\" class=\"dataframe\">\n  <thead>\n    <tr style=\"text-align: right;\">\n      <th></th>\n      <th>Class</th>\n      <th>Name</th>\n      <th>Subject</th>\n      <th>Grade</th>\n    </tr>\n  </thead>\n  <tbody>\n    <tr>\n      <th>0</th>\n      <td>1</td>\n      <td>San Zhang</td>\n      <td>Chinese</td>\n      <td>80</td>\n    </tr>\n    <tr>\n      <th>1</th>\n      <td>2</td>\n      <td>Si Li</td>\n      <td>Chinese</td>\n      <td>90</td>\n    </tr>\n    <tr>\n      <th>2</th>\n      <td>1</td>\n      <td>San Zhang</td>\n      <td>Math</td>\n      <td>80</td>\n    </tr>\n    <tr>\n      <th>3</th>\n      <td>2</td>\n      <td>Si Li</td>\n      <td>Math</td>\n      <td>75</td>\n    </tr>\n  </tbody>\n</table>\n</div>"
     },
     "execution_count": 40,
     "metadata": {},
     "output_type": "execute_result"
    }
   ],
   "source": [
    "df_melted"
   ]
  },
  {
   "cell_type": "code",
   "execution_count": null,
   "id": "be27b543",
   "metadata": {},
   "outputs": [],
   "source": []
  },
  {
   "cell_type": "code",
   "execution_count": null,
   "outputs": [],
   "source": [],
   "metadata": {
    "collapsed": false
   }
  },
  {
   "cell_type": "code",
   "execution_count": null,
   "outputs": [],
   "source": [],
   "metadata": {
    "collapsed": false
   }
  },
  {
   "cell_type": "code",
   "execution_count": null,
   "outputs": [],
   "source": [],
   "metadata": {
    "collapsed": false
   }
  },
  {
   "cell_type": "code",
   "execution_count": null,
   "outputs": [],
   "source": [],
   "metadata": {
    "collapsed": false
   }
  },
  {
   "cell_type": "code",
   "execution_count": null,
   "outputs": [],
   "source": [],
   "metadata": {
    "collapsed": false
   }
  },
  {
   "cell_type": "code",
   "execution_count": null,
   "outputs": [],
   "source": [],
   "metadata": {
    "collapsed": false
   }
  },
  {
   "cell_type": "code",
   "execution_count": null,
   "outputs": [],
   "source": [],
   "metadata": {
    "collapsed": false
   }
  },
  {
   "cell_type": "code",
   "execution_count": null,
   "outputs": [],
   "source": [],
   "metadata": {
    "collapsed": false
   }
  },
  {
   "cell_type": "code",
   "execution_count": null,
   "outputs": [],
   "source": [],
   "metadata": {
    "collapsed": false
   }
  },
  {
   "cell_type": "code",
   "execution_count": null,
   "outputs": [],
   "source": [],
   "metadata": {
    "collapsed": false
   }
  },
  {
   "cell_type": "code",
   "execution_count": null,
   "outputs": [],
   "source": [],
   "metadata": {
    "collapsed": false
   }
  },
  {
   "cell_type": "code",
   "execution_count": null,
   "outputs": [],
   "source": [],
   "metadata": {
    "collapsed": false
   }
  },
  {
   "cell_type": "code",
   "execution_count": null,
   "outputs": [],
   "source": [],
   "metadata": {
    "collapsed": false
   }
  },
  {
   "cell_type": "code",
   "execution_count": null,
   "outputs": [],
   "source": [],
   "metadata": {
    "collapsed": false
   }
  },
  {
   "cell_type": "code",
   "execution_count": null,
   "outputs": [],
   "source": [],
   "metadata": {
    "collapsed": false
   }
  },
  {
   "cell_type": "code",
   "execution_count": null,
   "outputs": [],
   "source": [],
   "metadata": {
    "collapsed": false
   }
  },
  {
   "cell_type": "code",
   "execution_count": null,
   "outputs": [],
   "source": [],
   "metadata": {
    "collapsed": false
   }
  }
 ],
 "metadata": {
  "kernelspec": {
   "display_name": "Python 3",
   "language": "python",
   "name": "python3"
  },
  "language_info": {
   "codemirror_mode": {
    "name": "ipython",
    "version": 3
   },
   "file_extension": ".py",
   "mimetype": "text/x-python",
   "name": "python",
   "nbconvert_exporter": "python",
   "pygments_lexer": "ipython3",
   "version": "3.8.8"
  },
  "toc": {
   "base_numbering": 1,
   "nav_menu": {},
   "number_sections": true,
   "sideBar": true,
   "skip_h1_title": false,
   "title_cell": "Table of Contents",
   "title_sidebar": "Contents",
   "toc_cell": false,
   "toc_position": {
    "height": "711px",
    "left": "380px",
    "top": "111.141px",
    "width": "364.797px"
   },
   "toc_section_display": true,
   "toc_window_display": true
  }
 },
 "nbformat": 4,
 "nbformat_minor": 5
}
