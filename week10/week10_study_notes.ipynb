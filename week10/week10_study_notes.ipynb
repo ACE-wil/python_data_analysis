{
 "cells": [
  {
   "cell_type": "code",
   "execution_count": 1,
   "metadata": {
    "collapsed": true
   },
   "outputs": [],
   "source": [
    "import requests,json\n"
   ]
  },
  {
   "cell_type": "code",
   "execution_count": 2,
   "outputs": [],
   "source": [
    "url = \"https://www.liepin.com/returnee/\"\n"
   ],
   "metadata": {
    "collapsed": false
   }
  },
  {
   "cell_type": "code",
   "execution_count": 9,
   "outputs": [],
   "source": [
    "headers = {\n",
    "    \"Accept\": \"application/json, text/plain, */*\",\n",
    "    \"Accept-Encoding\": \"gzip, deflate, br\",\n",
    "    \"Accept-Language\": \"zh-CN,zh;q=0.9\",\n",
    "    \"Connection\": \"keep-alive\",\n",
    "    \"Content-Length\": \"478\",\n",
    "    \"Content-Type\": \"application/json;charset=UTF-8;\",\n",
    "    \"Cookie\": \"inited_user=0b40e95258783b742e53b3c4507c0e74; __gc_id=ba575649f262440b97583f40312082aa; __uuid=1680367209983.58; _ga=GA1.1.1780140015.1681902728; UniqueKey=fe87a9f3258ac642a9dba665e9526a14; liepin_login_valid=0; lt_auth=su1YOnQMxlXw4XfcjTcLtacfj9%2BsU2yYpnhehk8FhoK5W6Ll4P%2FgSwuCq7gH%2FioIqx19JPUzMLb2N%2B3%2Bz3RP7UYR%2F1GnlZ6utf6k1X4eTu1tHuyflMXuqsjQQ5wtrXo6ykpgn2si0HU%3D; access_system=C; need_bind_tel=false; new_user=false; c_flag=fd8e161021d62dd50e5032f3c60a147a; imClientId=40be7e37d455d9dca12bac537377bfad; imId=40be7e37d455d9dc3e4f5f0f695234e5; imClientId_0=40be7e37d455d9dca12bac537377bfad; imId_0=40be7e37d455d9dc3e4f5f0f695234e5; __tlog=1682507012960.57%7C00000000%7C00000000%7C00000000%7C00000000; user_roles=0; user_photo=5f8fa3a679c7cc70efbf444e08u.png; user_name=%E6%B2%88%E8%BF%9E%E6%9D%B0; Hm_lvt_a2647413544f5a04f00da7eee0d5e200=1681902736,1681906823,1682506299,1682507013; XSRF-TOKEN=kkxQ7ROwQcOblkEIBbaSdw; imApp_0=1; inited_user=0b40e95258783b742e53b3c4507c0e74; acw_tc=276077c516825090777071042e60f592f1609cc31653cf299715c75cf7bf27; Hm_lpvt_a2647413544f5a04f00da7eee0d5e200=1682509347; __session_seq=7; __uv_seq=13; fe_im_socketSequence_new_0=4_4_4; fe_im_opened_pages=; fe_im_connectJson_0=%7B%220_fe87a9f3258ac642a9dba665e9526a14%22%3A%7B%22socketConnect%22%3A%222%22%2C%22connectDomain%22%3A%22liepin.com%22%7D%7D; _ga_54YTJKWN86=GS1.1.1682509076.5.1.1682509360.0.0.0\",\n",
    "    \"Host\": \"api-c.liepin.com\",\n",
    "    \"Origin\": \"https://www.liepin.com\",\n",
    "    \"Referer\": \"https://www.liepin.com/\",\n",
    "    \"sec-ch-ua\": \"\\\"Chromium\\\";v=\\\"110\\\", \\\"Not A(Brand\\\";v=\\\"24\\\", \\\"Google Chrome\\\";v=\\\"110\\\"\",\n",
    "    \"sec-ch-ua-mobile\": \"?0\",\n",
    "    \"sec-ch-ua-platform\": \"\\\"Windows\\\"\",\n",
    "    \"Sec-Fetch-Dest\": \"empty\",\n",
    "    \"Sec-Fetch-Mode\": \"cors\",\n",
    "    \"Sec-Fetch-Site\": \"same-site\",\n",
    "    \"User-Agent\": \"Mozilla/5.0 (Windows NT 10.0; Win64; x64) AppleWebKit/537.36 (KHTML, like Gecko) Chrome/110.0.0.0 Safari/537.36\",\n",
    "    \"X-Client-Type\": \"web\",\n",
    "    \"X-Fscp-Bi-Stat\": \"{\\\"location\\\": \\\"https://www.liepin.com/zhaopin/?city=410&dq=410&pubTime=&currentPage=0&pageSize=40&key=%E4%BA%A7%E5%93%81%E7%BB%8F%E7%90%86&suggestTag=&workYearCode=1&compId=&compName=&compTag=&industry=&salary=&jobKind=&compScale=&compKind=&compStage=&eduLevel=&otherCity=&ckId=kuhemn1ebpjv7kzmax7k0d2i0sn8nfdb&scene=input&skId=kuhemn1ebpjv7kzmax7k0d2i0sn8nfdb&fkId=kuhemn1ebpjv7kzmax7k0d2i0sn8nfdb&sfrom=search_job_pc&suggestId=\\\"}\",\n",
    "    \"X-Fscp-Fe-Version\": \"\",\n",
    "    \"X-Fscp-Std-Info\": \"{\\\"client_id\\\": \\\"40108\\\"}\",\n",
    "    \"X-Fscp-Trace-Id\": \"5aa421f8-785b-4143-bc00-18eb20d04001\",\n",
    "    \"X-Fscp-Version\": \"1.1\",\n",
    "    \"X-Requested-With\": \"XMLHttpRequest\",\n",
    "    \"X-XSRF-TOKEN\": \"kkxQ7ROwQcOblkEIBbaSdw\"\n",
    "}"
   ],
   "metadata": {
    "collapsed": false
   }
  },
  {
   "cell_type": "code",
   "execution_count": null,
   "outputs": [],
   "source": [
    "payload = {\n",
    "    \"data\":{\n",
    "        \"mainSearchPcConditionForm\":{\n",
    "            \"city\":\"050020\",\n",
    "            \"dq\":\"050020\",\n",
    "            \"pubTime\":\"\",\n",
    "            \"currentPage\":\"0\",\n",
    "            \"pageSize\":40,\n",
    "            \"key\":\"产品经理\",\n",
    "            \"suggestTag\":\"\",\n",
    "            \"workYearCode\":\"1$3\",\n",
    "            \"compId\":\"\",\n",
    "            \"compName\":\"\",\n",
    "            \"compTag\":\"\",\n",
    "            \"industry\":\"\",\n",
    "            \"salary\":\"\",\n",
    "            \"jobKind\":\"\",\n",
    "            \"compScale\":\"\",\n",
    "            \"compKind\":\"\",\n",
    "            \"compStage\":\"\",\n",
    "            \"eduLevel\":\"\"},\n",
    "        \"passThroughForm\":{\n",
    "            \"scene\":\"condition\",\n",
    "            \"skId\":\"z0bz071flsw02izwxhy5b8jue7eee7y8\",\n",
    "            \"fkId\":\"8dvrtmhirdk3wdbhone8thq8dntxfy98\",\n",
    "            \"ckId\":\"v36hi812yao8dawkkai2vuvv06nq2d0b\",\n",
    "            \"suggest\":None\n",
    "        }\n",
    "    }\n",
    "}"
   ],
   "metadata": {
    "collapsed": false
   }
  }
 ],
 "metadata": {
  "kernelspec": {
   "display_name": "Python 3",
   "language": "python",
   "name": "python3"
  },
  "language_info": {
   "codemirror_mode": {
    "name": "ipython",
    "version": 2
   },
   "file_extension": ".py",
   "mimetype": "text/x-python",
   "name": "python",
   "nbconvert_exporter": "python",
   "pygments_lexer": "ipython2",
   "version": "2.7.6"
  }
 },
 "nbformat": 4,
 "nbformat_minor": 0
}
