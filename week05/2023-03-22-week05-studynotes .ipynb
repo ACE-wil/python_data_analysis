{
 "cells": [
  {
   "cell_type": "markdown",
   "source": [
    "# name:shen\n",
    "# time:2023/3/15\n",
    "# content:groupby聚合运算"
   ],
   "metadata": {
    "collapsed": false
   }
  },
  {
   "cell_type": "markdown",
   "source": [],
   "metadata": {
    "collapsed": false
   }
  },
  {
   "cell_type": "code",
   "execution_count": 1,
   "outputs": [],
   "source": [
    "import pandas as pd"
   ],
   "metadata": {
    "collapsed": false
   }
  },
  {
   "cell_type": "code",
   "execution_count": 2,
   "outputs": [],
   "source": [
    "df = pd.read_csv(\"data/learn_pandas.csv\")"
   ],
   "metadata": {
    "collapsed": false
   }
  },
  {
   "cell_type": "code",
   "execution_count": 3,
   "outputs": [
    {
     "data": {
      "text/plain": "Gender\nFemale    159.19697\nMale      173.62549\nName: Height, dtype: float64"
     },
     "execution_count": 3,
     "metadata": {},
     "output_type": "execute_result"
    }
   ],
   "source": [
    "df.groupby('Gender')['Height'].mean()"
   ],
   "metadata": {
    "collapsed": false
   }
  },
  {
   "cell_type": "code",
   "execution_count": 4,
   "outputs": [
    {
     "data": {
      "text/plain": "Gender\nFemale    159.6\nMale      173.4\nName: Height, dtype: float64"
     },
     "execution_count": 4,
     "metadata": {},
     "output_type": "execute_result"
    }
   ],
   "source": [
    "df.groupby('Gender')['Height'].median()"
   ],
   "metadata": {
    "collapsed": false
   }
  },
  {
   "cell_type": "code",
   "execution_count": 5,
   "outputs": [
    {
     "data": {
      "text/plain": "School                         Gender\nFudan University               Female    158.776923\n                               Male      174.212500\nPeking University              Female    158.666667\n                               Male      172.030000\nShanghai Jiao Tong University  Female    159.122500\n                               Male      176.760000\nTsinghua University            Female    159.753333\n                               Male      171.638889\nName: Height, dtype: float64"
     },
     "execution_count": 5,
     "metadata": {},
     "output_type": "execute_result"
    }
   ],
   "source": [
    "df.groupby(['School','Gender'])['Height'].mean()"
   ],
   "metadata": {
    "collapsed": false
   }
  },
  {
   "cell_type": "code",
   "execution_count": 6,
   "outputs": [
    {
     "data": {
      "text/plain": "School                         Gender\nFudan University               Female    159.10\n                               Male      175.95\nPeking University              Female    159.90\n                               Male      171.00\nShanghai Jiao Tong University  Female    159.15\n                               Male      176.40\nTsinghua University            Female    160.70\n                               Male      170.40\nName: Height, dtype: float64"
     },
     "execution_count": 6,
     "metadata": {},
     "output_type": "execute_result"
    }
   ],
   "source": [
    "df.groupby(['School','Gender'])['Height'].median()"
   ],
   "metadata": {
    "collapsed": false
   }
  },
  {
   "cell_type": "code",
   "execution_count": 7,
   "outputs": [
    {
     "data": {
      "text/plain": "Gender  School                       \nFemale  Fudan University                 158.776923\n        Peking University                158.666667\n        Shanghai Jiao Tong University    159.122500\n        Tsinghua University              159.753333\nMale    Fudan University                 174.212500\n        Peking University                172.030000\n        Shanghai Jiao Tong University    176.760000\n        Tsinghua University              171.638889\nName: Height, dtype: float64"
     },
     "execution_count": 7,
     "metadata": {},
     "output_type": "execute_result"
    }
   ],
   "source": [
    "df.groupby(['Gender','School'])['Height'].mean()"
   ],
   "metadata": {
    "collapsed": false
   }
  },
  {
   "cell_type": "code",
   "execution_count": 9,
   "outputs": [
    {
     "data": {
      "text/plain": "                                   Height     Weight\nSchool                                              \nFudan University               162.408824  54.000000\nPeking University              162.977419  55.666667\nShanghai Jiao Tong University  163.932727  56.442308\nTsinghua University            163.149206  54.223881",
      "text/html": "<div>\n<style scoped>\n    .dataframe tbody tr th:only-of-type {\n        vertical-align: middle;\n    }\n\n    .dataframe tbody tr th {\n        vertical-align: top;\n    }\n\n    .dataframe thead th {\n        text-align: right;\n    }\n</style>\n<table border=\"1\" class=\"dataframe\">\n  <thead>\n    <tr style=\"text-align: right;\">\n      <th></th>\n      <th>Height</th>\n      <th>Weight</th>\n    </tr>\n    <tr>\n      <th>School</th>\n      <th></th>\n      <th></th>\n    </tr>\n  </thead>\n  <tbody>\n    <tr>\n      <th>Fudan University</th>\n      <td>162.408824</td>\n      <td>54.000000</td>\n    </tr>\n    <tr>\n      <th>Peking University</th>\n      <td>162.977419</td>\n      <td>55.666667</td>\n    </tr>\n    <tr>\n      <th>Shanghai Jiao Tong University</th>\n      <td>163.932727</td>\n      <td>56.442308</td>\n    </tr>\n    <tr>\n      <th>Tsinghua University</th>\n      <td>163.149206</td>\n      <td>54.223881</td>\n    </tr>\n  </tbody>\n</table>\n</div>"
     },
     "execution_count": 9,
     "metadata": {},
     "output_type": "execute_result"
    }
   ],
   "source": [
    "df.groupby(['School']).agg({'Height':'mean','Weight':'mean'})"
   ],
   "metadata": {
    "collapsed": false
   }
  },
  {
   "cell_type": "code",
   "execution_count": null,
   "outputs": [],
   "source": [],
   "metadata": {
    "collapsed": false
   }
  },
  {
   "cell_type": "code",
   "execution_count": 63,
   "outputs": [],
   "source": [
    "hurun_独角兽 = pd.read_html('https://www.hurun.net/zh-CN/Info/Detail?num=L9SQPH9FKJB1')[-3]"
   ],
   "metadata": {
    "collapsed": false
   }
  },
  {
   "cell_type": "code",
   "execution_count": 64,
   "outputs": [],
   "source": [
    "df_hurun = hurun_独角兽[1:]"
   ],
   "metadata": {
    "collapsed": false
   }
  },
  {
   "cell_type": "code",
   "execution_count": 65,
   "outputs": [
    {
     "data": {
      "text/plain": "     排名 排名变化                 企业名称 价值（亿元人民币） 价值变化（亿元人民币）  国家     城市    行业\n1     1    0                   抖音     13400      -10050  中国     北京  社交媒体\n2     2    1               SpaceX      8400        1680  美国    洛杉矶    航天\n3     3   -1                 蚂蚁集团      8000       -2010  中国     杭州  金融科技\n4     4    0               Stripe      4100       -2210  美国    旧金山  金融科技\n5     5   11                Shein      4000        2680  中国     广州  电子商务\n..   ..  ...                  ...       ...         ...  ..    ...   ...\n97   95  -16        Impossible 食品       470           0  美国  雷德伍德城  食品饮料\n98   95  -16                   微医       470           0  中国     杭州  健康科技\n99   99   58                 蜂巢能源       460         190  中国     常州   新能源\n100  99   -6           Better.com       460          60  美国     纽约  金融科技\n101  99  -20  Automation Anywhere       460         -10  美国    圣何塞  人工智能\n\n[101 rows x 8 columns]",
      "text/html": "<div>\n<style scoped>\n    .dataframe tbody tr th:only-of-type {\n        vertical-align: middle;\n    }\n\n    .dataframe tbody tr th {\n        vertical-align: top;\n    }\n\n    .dataframe thead th {\n        text-align: right;\n    }\n</style>\n<table border=\"1\" class=\"dataframe\">\n  <thead>\n    <tr style=\"text-align: right;\">\n      <th></th>\n      <th>排名</th>\n      <th>排名变化</th>\n      <th>企业名称</th>\n      <th>价值（亿元人民币）</th>\n      <th>价值变化（亿元人民币）</th>\n      <th>国家</th>\n      <th>城市</th>\n      <th>行业</th>\n    </tr>\n  </thead>\n  <tbody>\n    <tr>\n      <th>1</th>\n      <td>1</td>\n      <td>0</td>\n      <td>抖音</td>\n      <td>13400</td>\n      <td>-10050</td>\n      <td>中国</td>\n      <td>北京</td>\n      <td>社交媒体</td>\n    </tr>\n    <tr>\n      <th>2</th>\n      <td>2</td>\n      <td>1</td>\n      <td>SpaceX</td>\n      <td>8400</td>\n      <td>1680</td>\n      <td>美国</td>\n      <td>洛杉矶</td>\n      <td>航天</td>\n    </tr>\n    <tr>\n      <th>3</th>\n      <td>3</td>\n      <td>-1</td>\n      <td>蚂蚁集团</td>\n      <td>8000</td>\n      <td>-2010</td>\n      <td>中国</td>\n      <td>杭州</td>\n      <td>金融科技</td>\n    </tr>\n    <tr>\n      <th>4</th>\n      <td>4</td>\n      <td>0</td>\n      <td>Stripe</td>\n      <td>4100</td>\n      <td>-2210</td>\n      <td>美国</td>\n      <td>旧金山</td>\n      <td>金融科技</td>\n    </tr>\n    <tr>\n      <th>5</th>\n      <td>5</td>\n      <td>11</td>\n      <td>Shein</td>\n      <td>4000</td>\n      <td>2680</td>\n      <td>中国</td>\n      <td>广州</td>\n      <td>电子商务</td>\n    </tr>\n    <tr>\n      <th>...</th>\n      <td>...</td>\n      <td>...</td>\n      <td>...</td>\n      <td>...</td>\n      <td>...</td>\n      <td>...</td>\n      <td>...</td>\n      <td>...</td>\n    </tr>\n    <tr>\n      <th>97</th>\n      <td>95</td>\n      <td>-16</td>\n      <td>Impossible 食品</td>\n      <td>470</td>\n      <td>0</td>\n      <td>美国</td>\n      <td>雷德伍德城</td>\n      <td>食品饮料</td>\n    </tr>\n    <tr>\n      <th>98</th>\n      <td>95</td>\n      <td>-16</td>\n      <td>微医</td>\n      <td>470</td>\n      <td>0</td>\n      <td>中国</td>\n      <td>杭州</td>\n      <td>健康科技</td>\n    </tr>\n    <tr>\n      <th>99</th>\n      <td>99</td>\n      <td>58</td>\n      <td>蜂巢能源</td>\n      <td>460</td>\n      <td>190</td>\n      <td>中国</td>\n      <td>常州</td>\n      <td>新能源</td>\n    </tr>\n    <tr>\n      <th>100</th>\n      <td>99</td>\n      <td>-6</td>\n      <td>Better.com</td>\n      <td>460</td>\n      <td>60</td>\n      <td>美国</td>\n      <td>纽约</td>\n      <td>金融科技</td>\n    </tr>\n    <tr>\n      <th>101</th>\n      <td>99</td>\n      <td>-20</td>\n      <td>Automation Anywhere</td>\n      <td>460</td>\n      <td>-10</td>\n      <td>美国</td>\n      <td>圣何塞</td>\n      <td>人工智能</td>\n    </tr>\n  </tbody>\n</table>\n<p>101 rows × 8 columns</p>\n</div>"
     },
     "execution_count": 65,
     "metadata": {},
     "output_type": "execute_result"
    }
   ],
   "source": [
    "df_hurun.columns = hurun_独角兽[0:1].values.tolist()[0]\n",
    "df_hurun"
   ],
   "metadata": {
    "collapsed": false
   }
  },
  {
   "cell_type": "code",
   "execution_count": 66,
   "outputs": [
    {
     "data": {
      "text/plain": "1      13400\n2       8400\n3       8000\n4       4100\n5       4000\n       ...  \n97       470\n98       470\n99       460\n100      460\n101      460\nName: 价值（亿元人民币）, Length: 101, dtype: int64"
     },
     "execution_count": 66,
     "metadata": {},
     "output_type": "execute_result"
    }
   ],
   "source": [
    "df_hurun['价值（亿元人民币）'].astype('int64')"
   ],
   "metadata": {
    "collapsed": false
   }
  },
  {
   "cell_type": "markdown",
   "source": [],
   "metadata": {
    "collapsed": false
   }
  },
  {
   "cell_type": "code",
   "execution_count": 67,
   "outputs": [
    {
     "data": {
      "text/plain": "国家     行业   \n中国     人工智能                                      570\n       企业服务                                      515\n       保险                                        740\n       健康科技                                  1040470\n       共享经济                                      965\n       大数据                                       535\n       数字科技                                     2000\n       新能源                                 670640460\n       新能源汽车                                     600\n       新零售                                       670\n       机器人                                      1200\n       物流                                 1800870500\n       电子商务                               4000670670\n       社交媒体                                    13400\n       软件服务                                  1300570\n       金融科技                                 80002200\n       食品饮料                                     1000\n以色列    区块链                                       535\n印度     共享经济                                      480\n       快递                                        720\n       教育科技                                     1500\n       游戏                                        535\n印度尼西亚  共享经济                                      700\n       电子商务                                     1300\n土耳其    快递                                        800\n墨西哥    电子商务                                      580\n巴哈马    区块链                                      1300\n德国     软件服务                                      555\n澳大利亚   软件服务                                     1750\n瑞典     新能源                                       800\n       新能源汽车                                    1300\n瑞士     区块链                                       575\n美国     人工智能                          870670500490460\n       企业服务                                     1170\n       健康科技                                   840470\n       共享经济                                     1000\n       分析                                        575\n       区块链                                 760710500\n       大数据                                      2500\n       快递                                   13201000\n       机器人                                       575\n       游戏                                        600\n       物流                                    1200535\n       生物科技                                   800540\n       电子商务                                   840490\n       社交媒体                                     1000\n       网络安全                                600555535\n       航天                                       8400\n       软件服务                 750670600500480480480470\n       金融科技     410015001250900820800800670540495460\n       食品饮料                                      470\n英国     区块链                                       700\n       软件服务                                   570520\n       金融科技                           19001650700535\n越南     消费品                                       550\n韩国     区块链                                       535\n       电子商务                                      560\n马耳他    区块链                                      3000\nName: 价值（亿元人民币）, dtype: object"
     },
     "execution_count": 67,
     "metadata": {},
     "output_type": "execute_result"
    }
   ],
   "source": [
    "df_hurun.groupby(['国家','行业'])['价值（亿元人民币）'].sum()"
   ],
   "metadata": {
    "collapsed": false
   }
  },
  {
   "cell_type": "code",
   "execution_count": 68,
   "outputs": [],
   "source": [
    "df_summm = df_hurun.groupby(['国家','行业'])['价值（亿元人民币）'].mean()"
   ],
   "metadata": {
    "collapsed": false
   }
  },
  {
   "cell_type": "code",
   "execution_count": 69,
   "outputs": [
    {
     "data": {
      "text/plain": "                价值（亿元人民币）  行业\n国家    行业                     \n中国    人工智能   5.700000e+02   1\n      企业服务   5.150000e+02   1\n      保险     7.400000e+02   1\n      健康科技   5.202350e+05   2\n      共享经济   9.650000e+02   1\n      大数据    5.350000e+02   1\n      数字科技   2.000000e+03   1\n      新能源    2.235468e+08   3\n      新能源汽车  6.000000e+02   1\n      新零售    6.700000e+02   1\n      机器人    1.200000e+03   1\n      物流     6.002902e+08   3\n      电子商务   1.333557e+09   3\n      社交媒体   1.340000e+04   1\n      软件服务   6.502850e+05   2\n      金融科技   4.000110e+07   2\n      食品饮料   1.000000e+03   1\n以色列   区块链    5.350000e+02   1\n印度    共享经济   4.800000e+02   1\n      快递     7.200000e+02   1\n      教育科技   1.500000e+03   1\n      游戏     5.350000e+02   1\n印度尼西亚 共享经济   7.000000e+02   1\n      电子商务   1.300000e+03   1\n土耳其   快递     8.000000e+02   1\n墨西哥   电子商务   5.800000e+02   1\n巴哈马   区块链    1.300000e+03   1\n德国    软件服务   5.550000e+02   1\n澳大利亚  软件服务   1.750000e+03   1\n瑞典    新能源    8.000000e+02   1\n      新能源汽车  1.300000e+03   1\n瑞士    区块链    5.750000e+02   1\n美国    人工智能   1.741341e+14   5\n      企业服务   1.170000e+03   1\n      健康科技   4.202350e+05   2\n      共享经济   1.000000e+03   1\n      分析     5.750000e+02   1\n      区块链    2.535702e+08   3\n      大数据    2.500000e+03   1\n      快递     6.600500e+06   2\n      机器人    5.750000e+02   1\n      游戏     6.000000e+02   1\n      物流     6.002675e+05   2\n      生物科技   4.002700e+05   2\n      电子商务   4.202450e+05   2\n      社交媒体   1.000000e+03   1\n      网络安全   2.001852e+08   3\n      航天     8.400000e+03   1\n      软件服务   9.383383e+22   8\n      金融科技   3.727409e+34  11\n      食品饮料   4.700000e+02   1\n英国    区块链    7.000000e+02   1\n      软件服务   2.852600e+05   2\n      金融科技   4.750413e+12   4\n越南    消费品    5.500000e+02   1\n韩国    区块链    5.350000e+02   1\n      电子商务   5.600000e+02   1\n马耳他   区块链    3.000000e+03   1",
      "text/html": "<div>\n<style scoped>\n    .dataframe tbody tr th:only-of-type {\n        vertical-align: middle;\n    }\n\n    .dataframe tbody tr th {\n        vertical-align: top;\n    }\n\n    .dataframe thead th {\n        text-align: right;\n    }\n</style>\n<table border=\"1\" class=\"dataframe\">\n  <thead>\n    <tr style=\"text-align: right;\">\n      <th></th>\n      <th></th>\n      <th>价值（亿元人民币）</th>\n      <th>行业</th>\n    </tr>\n    <tr>\n      <th>国家</th>\n      <th>行业</th>\n      <th></th>\n      <th></th>\n    </tr>\n  </thead>\n  <tbody>\n    <tr>\n      <th rowspan=\"17\" valign=\"top\">中国</th>\n      <th>人工智能</th>\n      <td>5.700000e+02</td>\n      <td>1</td>\n    </tr>\n    <tr>\n      <th>企业服务</th>\n      <td>5.150000e+02</td>\n      <td>1</td>\n    </tr>\n    <tr>\n      <th>保险</th>\n      <td>7.400000e+02</td>\n      <td>1</td>\n    </tr>\n    <tr>\n      <th>健康科技</th>\n      <td>5.202350e+05</td>\n      <td>2</td>\n    </tr>\n    <tr>\n      <th>共享经济</th>\n      <td>9.650000e+02</td>\n      <td>1</td>\n    </tr>\n    <tr>\n      <th>大数据</th>\n      <td>5.350000e+02</td>\n      <td>1</td>\n    </tr>\n    <tr>\n      <th>数字科技</th>\n      <td>2.000000e+03</td>\n      <td>1</td>\n    </tr>\n    <tr>\n      <th>新能源</th>\n      <td>2.235468e+08</td>\n      <td>3</td>\n    </tr>\n    <tr>\n      <th>新能源汽车</th>\n      <td>6.000000e+02</td>\n      <td>1</td>\n    </tr>\n    <tr>\n      <th>新零售</th>\n      <td>6.700000e+02</td>\n      <td>1</td>\n    </tr>\n    <tr>\n      <th>机器人</th>\n      <td>1.200000e+03</td>\n      <td>1</td>\n    </tr>\n    <tr>\n      <th>物流</th>\n      <td>6.002902e+08</td>\n      <td>3</td>\n    </tr>\n    <tr>\n      <th>电子商务</th>\n      <td>1.333557e+09</td>\n      <td>3</td>\n    </tr>\n    <tr>\n      <th>社交媒体</th>\n      <td>1.340000e+04</td>\n      <td>1</td>\n    </tr>\n    <tr>\n      <th>软件服务</th>\n      <td>6.502850e+05</td>\n      <td>2</td>\n    </tr>\n    <tr>\n      <th>金融科技</th>\n      <td>4.000110e+07</td>\n      <td>2</td>\n    </tr>\n    <tr>\n      <th>食品饮料</th>\n      <td>1.000000e+03</td>\n      <td>1</td>\n    </tr>\n    <tr>\n      <th>以色列</th>\n      <th>区块链</th>\n      <td>5.350000e+02</td>\n      <td>1</td>\n    </tr>\n    <tr>\n      <th rowspan=\"4\" valign=\"top\">印度</th>\n      <th>共享经济</th>\n      <td>4.800000e+02</td>\n      <td>1</td>\n    </tr>\n    <tr>\n      <th>快递</th>\n      <td>7.200000e+02</td>\n      <td>1</td>\n    </tr>\n    <tr>\n      <th>教育科技</th>\n      <td>1.500000e+03</td>\n      <td>1</td>\n    </tr>\n    <tr>\n      <th>游戏</th>\n      <td>5.350000e+02</td>\n      <td>1</td>\n    </tr>\n    <tr>\n      <th rowspan=\"2\" valign=\"top\">印度尼西亚</th>\n      <th>共享经济</th>\n      <td>7.000000e+02</td>\n      <td>1</td>\n    </tr>\n    <tr>\n      <th>电子商务</th>\n      <td>1.300000e+03</td>\n      <td>1</td>\n    </tr>\n    <tr>\n      <th>土耳其</th>\n      <th>快递</th>\n      <td>8.000000e+02</td>\n      <td>1</td>\n    </tr>\n    <tr>\n      <th>墨西哥</th>\n      <th>电子商务</th>\n      <td>5.800000e+02</td>\n      <td>1</td>\n    </tr>\n    <tr>\n      <th>巴哈马</th>\n      <th>区块链</th>\n      <td>1.300000e+03</td>\n      <td>1</td>\n    </tr>\n    <tr>\n      <th>德国</th>\n      <th>软件服务</th>\n      <td>5.550000e+02</td>\n      <td>1</td>\n    </tr>\n    <tr>\n      <th>澳大利亚</th>\n      <th>软件服务</th>\n      <td>1.750000e+03</td>\n      <td>1</td>\n    </tr>\n    <tr>\n      <th rowspan=\"2\" valign=\"top\">瑞典</th>\n      <th>新能源</th>\n      <td>8.000000e+02</td>\n      <td>1</td>\n    </tr>\n    <tr>\n      <th>新能源汽车</th>\n      <td>1.300000e+03</td>\n      <td>1</td>\n    </tr>\n    <tr>\n      <th>瑞士</th>\n      <th>区块链</th>\n      <td>5.750000e+02</td>\n      <td>1</td>\n    </tr>\n    <tr>\n      <th rowspan=\"19\" valign=\"top\">美国</th>\n      <th>人工智能</th>\n      <td>1.741341e+14</td>\n      <td>5</td>\n    </tr>\n    <tr>\n      <th>企业服务</th>\n      <td>1.170000e+03</td>\n      <td>1</td>\n    </tr>\n    <tr>\n      <th>健康科技</th>\n      <td>4.202350e+05</td>\n      <td>2</td>\n    </tr>\n    <tr>\n      <th>共享经济</th>\n      <td>1.000000e+03</td>\n      <td>1</td>\n    </tr>\n    <tr>\n      <th>分析</th>\n      <td>5.750000e+02</td>\n      <td>1</td>\n    </tr>\n    <tr>\n      <th>区块链</th>\n      <td>2.535702e+08</td>\n      <td>3</td>\n    </tr>\n    <tr>\n      <th>大数据</th>\n      <td>2.500000e+03</td>\n      <td>1</td>\n    </tr>\n    <tr>\n      <th>快递</th>\n      <td>6.600500e+06</td>\n      <td>2</td>\n    </tr>\n    <tr>\n      <th>机器人</th>\n      <td>5.750000e+02</td>\n      <td>1</td>\n    </tr>\n    <tr>\n      <th>游戏</th>\n      <td>6.000000e+02</td>\n      <td>1</td>\n    </tr>\n    <tr>\n      <th>物流</th>\n      <td>6.002675e+05</td>\n      <td>2</td>\n    </tr>\n    <tr>\n      <th>生物科技</th>\n      <td>4.002700e+05</td>\n      <td>2</td>\n    </tr>\n    <tr>\n      <th>电子商务</th>\n      <td>4.202450e+05</td>\n      <td>2</td>\n    </tr>\n    <tr>\n      <th>社交媒体</th>\n      <td>1.000000e+03</td>\n      <td>1</td>\n    </tr>\n    <tr>\n      <th>网络安全</th>\n      <td>2.001852e+08</td>\n      <td>3</td>\n    </tr>\n    <tr>\n      <th>航天</th>\n      <td>8.400000e+03</td>\n      <td>1</td>\n    </tr>\n    <tr>\n      <th>软件服务</th>\n      <td>9.383383e+22</td>\n      <td>8</td>\n    </tr>\n    <tr>\n      <th>金融科技</th>\n      <td>3.727409e+34</td>\n      <td>11</td>\n    </tr>\n    <tr>\n      <th>食品饮料</th>\n      <td>4.700000e+02</td>\n      <td>1</td>\n    </tr>\n    <tr>\n      <th rowspan=\"3\" valign=\"top\">英国</th>\n      <th>区块链</th>\n      <td>7.000000e+02</td>\n      <td>1</td>\n    </tr>\n    <tr>\n      <th>软件服务</th>\n      <td>2.852600e+05</td>\n      <td>2</td>\n    </tr>\n    <tr>\n      <th>金融科技</th>\n      <td>4.750413e+12</td>\n      <td>4</td>\n    </tr>\n    <tr>\n      <th>越南</th>\n      <th>消费品</th>\n      <td>5.500000e+02</td>\n      <td>1</td>\n    </tr>\n    <tr>\n      <th rowspan=\"2\" valign=\"top\">韩国</th>\n      <th>区块链</th>\n      <td>5.350000e+02</td>\n      <td>1</td>\n    </tr>\n    <tr>\n      <th>电子商务</th>\n      <td>5.600000e+02</td>\n      <td>1</td>\n    </tr>\n    <tr>\n      <th>马耳他</th>\n      <th>区块链</th>\n      <td>3.000000e+03</td>\n      <td>1</td>\n    </tr>\n  </tbody>\n</table>\n</div>"
     },
     "execution_count": 69,
     "metadata": {},
     "output_type": "execute_result"
    }
   ],
   "source": [
    "df_hurun.groupby(['国家','行业']).agg({'价值（亿元人民币）':'mean','行业':'count'})"
   ],
   "metadata": {
    "collapsed": false
   }
  },
  {
   "cell_type": "code",
   "execution_count": 70,
   "outputs": [
    {
     "data": {
      "text/plain": "1      13400\n2       8400\n3       8000\n4       4100\n5       4000\n       ...  \n97       470\n98       470\n99       460\n100      460\n101      460\nName: 价值（亿元人民币）, Length: 101, dtype: int64"
     },
     "execution_count": 70,
     "metadata": {},
     "output_type": "execute_result"
    }
   ],
   "source": [
    "df_hurun['价值（亿元人民币）'].astype('int64')"
   ],
   "metadata": {
    "collapsed": false
   }
  },
  {
   "cell_type": "code",
   "execution_count": 71,
   "outputs": [
    {
     "data": {
      "text/plain": "                价值（亿元人民币）\n行业    国家                 \n人工智能  中国     5.700000e+02\n      美国     1.741341e+14\n企业服务  中国     5.150000e+02\n      美国     1.170000e+03\n保险    中国     7.400000e+02\n健康科技  中国     5.202350e+05\n      美国     4.202350e+05\n共享经济  中国     9.650000e+02\n      印度     4.800000e+02\n      印度尼西亚  7.000000e+02\n      美国     1.000000e+03\n分析    美国     5.750000e+02\n区块链   以色列    5.350000e+02\n      巴哈马    1.300000e+03\n      瑞士     5.750000e+02\n      美国     2.535702e+08\n      英国     7.000000e+02\n      韩国     5.350000e+02\n      马耳他    3.000000e+03\n大数据   中国     5.350000e+02\n      美国     2.500000e+03\n快递    印度     7.200000e+02\n      土耳其    8.000000e+02\n      美国     6.600500e+06\n教育科技  印度     1.500000e+03\n数字科技  中国     2.000000e+03\n新能源   中国     2.235468e+08\n      瑞典     8.000000e+02\n新能源汽车 中国     6.000000e+02\n      瑞典     1.300000e+03\n新零售   中国     6.700000e+02\n机器人   中国     1.200000e+03\n      美国     5.750000e+02\n消费品   越南     5.500000e+02\n游戏    印度     5.350000e+02\n      美国     6.000000e+02\n物流    中国     6.002902e+08\n      美国     6.002675e+05\n生物科技  美国     4.002700e+05\n电子商务  中国     1.333557e+09\n      印度尼西亚  1.300000e+03\n      墨西哥    5.800000e+02\n      美国     4.202450e+05\n      韩国     5.600000e+02\n社交媒体  中国     1.340000e+04\n      美国     1.000000e+03\n网络安全  美国     2.001852e+08\n航天    美国     8.400000e+03\n软件服务  中国     6.502850e+05\n      德国     5.550000e+02\n      澳大利亚   1.750000e+03\n      美国     9.383383e+22\n      英国     2.852600e+05\n金融科技  中国     4.000110e+07\n      美国     3.727409e+34\n      英国     4.750413e+12\n食品饮料  中国     1.000000e+03\n      美国     4.700000e+02",
      "text/html": "<div>\n<style scoped>\n    .dataframe tbody tr th:only-of-type {\n        vertical-align: middle;\n    }\n\n    .dataframe tbody tr th {\n        vertical-align: top;\n    }\n\n    .dataframe thead th {\n        text-align: right;\n    }\n</style>\n<table border=\"1\" class=\"dataframe\">\n  <thead>\n    <tr style=\"text-align: right;\">\n      <th></th>\n      <th></th>\n      <th>价值（亿元人民币）</th>\n    </tr>\n    <tr>\n      <th>行业</th>\n      <th>国家</th>\n      <th></th>\n    </tr>\n  </thead>\n  <tbody>\n    <tr>\n      <th rowspan=\"2\" valign=\"top\">人工智能</th>\n      <th>中国</th>\n      <td>5.700000e+02</td>\n    </tr>\n    <tr>\n      <th>美国</th>\n      <td>1.741341e+14</td>\n    </tr>\n    <tr>\n      <th rowspan=\"2\" valign=\"top\">企业服务</th>\n      <th>中国</th>\n      <td>5.150000e+02</td>\n    </tr>\n    <tr>\n      <th>美国</th>\n      <td>1.170000e+03</td>\n    </tr>\n    <tr>\n      <th>保险</th>\n      <th>中国</th>\n      <td>7.400000e+02</td>\n    </tr>\n    <tr>\n      <th rowspan=\"2\" valign=\"top\">健康科技</th>\n      <th>中国</th>\n      <td>5.202350e+05</td>\n    </tr>\n    <tr>\n      <th>美国</th>\n      <td>4.202350e+05</td>\n    </tr>\n    <tr>\n      <th rowspan=\"4\" valign=\"top\">共享经济</th>\n      <th>中国</th>\n      <td>9.650000e+02</td>\n    </tr>\n    <tr>\n      <th>印度</th>\n      <td>4.800000e+02</td>\n    </tr>\n    <tr>\n      <th>印度尼西亚</th>\n      <td>7.000000e+02</td>\n    </tr>\n    <tr>\n      <th>美国</th>\n      <td>1.000000e+03</td>\n    </tr>\n    <tr>\n      <th>分析</th>\n      <th>美国</th>\n      <td>5.750000e+02</td>\n    </tr>\n    <tr>\n      <th rowspan=\"7\" valign=\"top\">区块链</th>\n      <th>以色列</th>\n      <td>5.350000e+02</td>\n    </tr>\n    <tr>\n      <th>巴哈马</th>\n      <td>1.300000e+03</td>\n    </tr>\n    <tr>\n      <th>瑞士</th>\n      <td>5.750000e+02</td>\n    </tr>\n    <tr>\n      <th>美国</th>\n      <td>2.535702e+08</td>\n    </tr>\n    <tr>\n      <th>英国</th>\n      <td>7.000000e+02</td>\n    </tr>\n    <tr>\n      <th>韩国</th>\n      <td>5.350000e+02</td>\n    </tr>\n    <tr>\n      <th>马耳他</th>\n      <td>3.000000e+03</td>\n    </tr>\n    <tr>\n      <th rowspan=\"2\" valign=\"top\">大数据</th>\n      <th>中国</th>\n      <td>5.350000e+02</td>\n    </tr>\n    <tr>\n      <th>美国</th>\n      <td>2.500000e+03</td>\n    </tr>\n    <tr>\n      <th rowspan=\"3\" valign=\"top\">快递</th>\n      <th>印度</th>\n      <td>7.200000e+02</td>\n    </tr>\n    <tr>\n      <th>土耳其</th>\n      <td>8.000000e+02</td>\n    </tr>\n    <tr>\n      <th>美国</th>\n      <td>6.600500e+06</td>\n    </tr>\n    <tr>\n      <th>教育科技</th>\n      <th>印度</th>\n      <td>1.500000e+03</td>\n    </tr>\n    <tr>\n      <th>数字科技</th>\n      <th>中国</th>\n      <td>2.000000e+03</td>\n    </tr>\n    <tr>\n      <th rowspan=\"2\" valign=\"top\">新能源</th>\n      <th>中国</th>\n      <td>2.235468e+08</td>\n    </tr>\n    <tr>\n      <th>瑞典</th>\n      <td>8.000000e+02</td>\n    </tr>\n    <tr>\n      <th rowspan=\"2\" valign=\"top\">新能源汽车</th>\n      <th>中国</th>\n      <td>6.000000e+02</td>\n    </tr>\n    <tr>\n      <th>瑞典</th>\n      <td>1.300000e+03</td>\n    </tr>\n    <tr>\n      <th>新零售</th>\n      <th>中国</th>\n      <td>6.700000e+02</td>\n    </tr>\n    <tr>\n      <th rowspan=\"2\" valign=\"top\">机器人</th>\n      <th>中国</th>\n      <td>1.200000e+03</td>\n    </tr>\n    <tr>\n      <th>美国</th>\n      <td>5.750000e+02</td>\n    </tr>\n    <tr>\n      <th>消费品</th>\n      <th>越南</th>\n      <td>5.500000e+02</td>\n    </tr>\n    <tr>\n      <th rowspan=\"2\" valign=\"top\">游戏</th>\n      <th>印度</th>\n      <td>5.350000e+02</td>\n    </tr>\n    <tr>\n      <th>美国</th>\n      <td>6.000000e+02</td>\n    </tr>\n    <tr>\n      <th rowspan=\"2\" valign=\"top\">物流</th>\n      <th>中国</th>\n      <td>6.002902e+08</td>\n    </tr>\n    <tr>\n      <th>美国</th>\n      <td>6.002675e+05</td>\n    </tr>\n    <tr>\n      <th>生物科技</th>\n      <th>美国</th>\n      <td>4.002700e+05</td>\n    </tr>\n    <tr>\n      <th rowspan=\"5\" valign=\"top\">电子商务</th>\n      <th>中国</th>\n      <td>1.333557e+09</td>\n    </tr>\n    <tr>\n      <th>印度尼西亚</th>\n      <td>1.300000e+03</td>\n    </tr>\n    <tr>\n      <th>墨西哥</th>\n      <td>5.800000e+02</td>\n    </tr>\n    <tr>\n      <th>美国</th>\n      <td>4.202450e+05</td>\n    </tr>\n    <tr>\n      <th>韩国</th>\n      <td>5.600000e+02</td>\n    </tr>\n    <tr>\n      <th rowspan=\"2\" valign=\"top\">社交媒体</th>\n      <th>中国</th>\n      <td>1.340000e+04</td>\n    </tr>\n    <tr>\n      <th>美国</th>\n      <td>1.000000e+03</td>\n    </tr>\n    <tr>\n      <th>网络安全</th>\n      <th>美国</th>\n      <td>2.001852e+08</td>\n    </tr>\n    <tr>\n      <th>航天</th>\n      <th>美国</th>\n      <td>8.400000e+03</td>\n    </tr>\n    <tr>\n      <th rowspan=\"5\" valign=\"top\">软件服务</th>\n      <th>中国</th>\n      <td>6.502850e+05</td>\n    </tr>\n    <tr>\n      <th>德国</th>\n      <td>5.550000e+02</td>\n    </tr>\n    <tr>\n      <th>澳大利亚</th>\n      <td>1.750000e+03</td>\n    </tr>\n    <tr>\n      <th>美国</th>\n      <td>9.383383e+22</td>\n    </tr>\n    <tr>\n      <th>英国</th>\n      <td>2.852600e+05</td>\n    </tr>\n    <tr>\n      <th rowspan=\"3\" valign=\"top\">金融科技</th>\n      <th>中国</th>\n      <td>4.000110e+07</td>\n    </tr>\n    <tr>\n      <th>美国</th>\n      <td>3.727409e+34</td>\n    </tr>\n    <tr>\n      <th>英国</th>\n      <td>4.750413e+12</td>\n    </tr>\n    <tr>\n      <th rowspan=\"2\" valign=\"top\">食品饮料</th>\n      <th>中国</th>\n      <td>1.000000e+03</td>\n    </tr>\n    <tr>\n      <th>美国</th>\n      <td>4.700000e+02</td>\n    </tr>\n  </tbody>\n</table>\n</div>"
     },
     "execution_count": 71,
     "metadata": {},
     "output_type": "execute_result"
    }
   ],
   "source": [
    "df_hurun.groupby(['行业','国家']).agg({'价值（亿元人民币）':'mean'})"
   ],
   "metadata": {
    "collapsed": false
   }
  },
  {
   "cell_type": "code",
   "execution_count": 72,
   "outputs": [
    {
     "data": {
      "text/plain": "                价值（亿元人民币）  行业\n国家    行业                     \n中国    人工智能   5.700000e+02   1\n      企业服务   5.150000e+02   1\n      保险     7.400000e+02   1\n      健康科技   5.202350e+05   2\n      共享经济   9.650000e+02   1\n      大数据    5.350000e+02   1\n      数字科技   2.000000e+03   1\n      新能源    2.235468e+08   3\n      新能源汽车  6.000000e+02   1\n      新零售    6.700000e+02   1\n      机器人    1.200000e+03   1\n      物流     6.002902e+08   3\n      电子商务   1.333557e+09   3\n      社交媒体   1.340000e+04   1\n      软件服务   6.502850e+05   2\n      金融科技   4.000110e+07   2\n      食品饮料   1.000000e+03   1\n以色列   区块链    5.350000e+02   1\n印度    共享经济   4.800000e+02   1\n      快递     7.200000e+02   1\n      教育科技   1.500000e+03   1\n      游戏     5.350000e+02   1\n印度尼西亚 共享经济   7.000000e+02   1\n      电子商务   1.300000e+03   1\n土耳其   快递     8.000000e+02   1\n墨西哥   电子商务   5.800000e+02   1\n巴哈马   区块链    1.300000e+03   1\n德国    软件服务   5.550000e+02   1\n澳大利亚  软件服务   1.750000e+03   1\n瑞典    新能源    8.000000e+02   1\n      新能源汽车  1.300000e+03   1\n瑞士    区块链    5.750000e+02   1\n美国    人工智能   1.741341e+14   5\n      企业服务   1.170000e+03   1\n      健康科技   4.202350e+05   2\n      共享经济   1.000000e+03   1\n      分析     5.750000e+02   1\n      区块链    2.535702e+08   3\n      大数据    2.500000e+03   1\n      快递     6.600500e+06   2\n      机器人    5.750000e+02   1\n      游戏     6.000000e+02   1\n      物流     6.002675e+05   2\n      生物科技   4.002700e+05   2\n      电子商务   4.202450e+05   2\n      社交媒体   1.000000e+03   1\n      网络安全   2.001852e+08   3\n      航天     8.400000e+03   1\n      软件服务   9.383383e+22   8\n      金融科技   3.727409e+34  11\n      食品饮料   4.700000e+02   1\n英国    区块链    7.000000e+02   1\n      软件服务   2.852600e+05   2\n      金融科技   4.750413e+12   4\n越南    消费品    5.500000e+02   1\n韩国    区块链    5.350000e+02   1\n      电子商务   5.600000e+02   1\n马耳他   区块链    3.000000e+03   1",
      "text/html": "<div>\n<style scoped>\n    .dataframe tbody tr th:only-of-type {\n        vertical-align: middle;\n    }\n\n    .dataframe tbody tr th {\n        vertical-align: top;\n    }\n\n    .dataframe thead th {\n        text-align: right;\n    }\n</style>\n<table border=\"1\" class=\"dataframe\">\n  <thead>\n    <tr style=\"text-align: right;\">\n      <th></th>\n      <th></th>\n      <th>价值（亿元人民币）</th>\n      <th>行业</th>\n    </tr>\n    <tr>\n      <th>国家</th>\n      <th>行业</th>\n      <th></th>\n      <th></th>\n    </tr>\n  </thead>\n  <tbody>\n    <tr>\n      <th rowspan=\"17\" valign=\"top\">中国</th>\n      <th>人工智能</th>\n      <td>5.700000e+02</td>\n      <td>1</td>\n    </tr>\n    <tr>\n      <th>企业服务</th>\n      <td>5.150000e+02</td>\n      <td>1</td>\n    </tr>\n    <tr>\n      <th>保险</th>\n      <td>7.400000e+02</td>\n      <td>1</td>\n    </tr>\n    <tr>\n      <th>健康科技</th>\n      <td>5.202350e+05</td>\n      <td>2</td>\n    </tr>\n    <tr>\n      <th>共享经济</th>\n      <td>9.650000e+02</td>\n      <td>1</td>\n    </tr>\n    <tr>\n      <th>大数据</th>\n      <td>5.350000e+02</td>\n      <td>1</td>\n    </tr>\n    <tr>\n      <th>数字科技</th>\n      <td>2.000000e+03</td>\n      <td>1</td>\n    </tr>\n    <tr>\n      <th>新能源</th>\n      <td>2.235468e+08</td>\n      <td>3</td>\n    </tr>\n    <tr>\n      <th>新能源汽车</th>\n      <td>6.000000e+02</td>\n      <td>1</td>\n    </tr>\n    <tr>\n      <th>新零售</th>\n      <td>6.700000e+02</td>\n      <td>1</td>\n    </tr>\n    <tr>\n      <th>机器人</th>\n      <td>1.200000e+03</td>\n      <td>1</td>\n    </tr>\n    <tr>\n      <th>物流</th>\n      <td>6.002902e+08</td>\n      <td>3</td>\n    </tr>\n    <tr>\n      <th>电子商务</th>\n      <td>1.333557e+09</td>\n      <td>3</td>\n    </tr>\n    <tr>\n      <th>社交媒体</th>\n      <td>1.340000e+04</td>\n      <td>1</td>\n    </tr>\n    <tr>\n      <th>软件服务</th>\n      <td>6.502850e+05</td>\n      <td>2</td>\n    </tr>\n    <tr>\n      <th>金融科技</th>\n      <td>4.000110e+07</td>\n      <td>2</td>\n    </tr>\n    <tr>\n      <th>食品饮料</th>\n      <td>1.000000e+03</td>\n      <td>1</td>\n    </tr>\n    <tr>\n      <th>以色列</th>\n      <th>区块链</th>\n      <td>5.350000e+02</td>\n      <td>1</td>\n    </tr>\n    <tr>\n      <th rowspan=\"4\" valign=\"top\">印度</th>\n      <th>共享经济</th>\n      <td>4.800000e+02</td>\n      <td>1</td>\n    </tr>\n    <tr>\n      <th>快递</th>\n      <td>7.200000e+02</td>\n      <td>1</td>\n    </tr>\n    <tr>\n      <th>教育科技</th>\n      <td>1.500000e+03</td>\n      <td>1</td>\n    </tr>\n    <tr>\n      <th>游戏</th>\n      <td>5.350000e+02</td>\n      <td>1</td>\n    </tr>\n    <tr>\n      <th rowspan=\"2\" valign=\"top\">印度尼西亚</th>\n      <th>共享经济</th>\n      <td>7.000000e+02</td>\n      <td>1</td>\n    </tr>\n    <tr>\n      <th>电子商务</th>\n      <td>1.300000e+03</td>\n      <td>1</td>\n    </tr>\n    <tr>\n      <th>土耳其</th>\n      <th>快递</th>\n      <td>8.000000e+02</td>\n      <td>1</td>\n    </tr>\n    <tr>\n      <th>墨西哥</th>\n      <th>电子商务</th>\n      <td>5.800000e+02</td>\n      <td>1</td>\n    </tr>\n    <tr>\n      <th>巴哈马</th>\n      <th>区块链</th>\n      <td>1.300000e+03</td>\n      <td>1</td>\n    </tr>\n    <tr>\n      <th>德国</th>\n      <th>软件服务</th>\n      <td>5.550000e+02</td>\n      <td>1</td>\n    </tr>\n    <tr>\n      <th>澳大利亚</th>\n      <th>软件服务</th>\n      <td>1.750000e+03</td>\n      <td>1</td>\n    </tr>\n    <tr>\n      <th rowspan=\"2\" valign=\"top\">瑞典</th>\n      <th>新能源</th>\n      <td>8.000000e+02</td>\n      <td>1</td>\n    </tr>\n    <tr>\n      <th>新能源汽车</th>\n      <td>1.300000e+03</td>\n      <td>1</td>\n    </tr>\n    <tr>\n      <th>瑞士</th>\n      <th>区块链</th>\n      <td>5.750000e+02</td>\n      <td>1</td>\n    </tr>\n    <tr>\n      <th rowspan=\"19\" valign=\"top\">美国</th>\n      <th>人工智能</th>\n      <td>1.741341e+14</td>\n      <td>5</td>\n    </tr>\n    <tr>\n      <th>企业服务</th>\n      <td>1.170000e+03</td>\n      <td>1</td>\n    </tr>\n    <tr>\n      <th>健康科技</th>\n      <td>4.202350e+05</td>\n      <td>2</td>\n    </tr>\n    <tr>\n      <th>共享经济</th>\n      <td>1.000000e+03</td>\n      <td>1</td>\n    </tr>\n    <tr>\n      <th>分析</th>\n      <td>5.750000e+02</td>\n      <td>1</td>\n    </tr>\n    <tr>\n      <th>区块链</th>\n      <td>2.535702e+08</td>\n      <td>3</td>\n    </tr>\n    <tr>\n      <th>大数据</th>\n      <td>2.500000e+03</td>\n      <td>1</td>\n    </tr>\n    <tr>\n      <th>快递</th>\n      <td>6.600500e+06</td>\n      <td>2</td>\n    </tr>\n    <tr>\n      <th>机器人</th>\n      <td>5.750000e+02</td>\n      <td>1</td>\n    </tr>\n    <tr>\n      <th>游戏</th>\n      <td>6.000000e+02</td>\n      <td>1</td>\n    </tr>\n    <tr>\n      <th>物流</th>\n      <td>6.002675e+05</td>\n      <td>2</td>\n    </tr>\n    <tr>\n      <th>生物科技</th>\n      <td>4.002700e+05</td>\n      <td>2</td>\n    </tr>\n    <tr>\n      <th>电子商务</th>\n      <td>4.202450e+05</td>\n      <td>2</td>\n    </tr>\n    <tr>\n      <th>社交媒体</th>\n      <td>1.000000e+03</td>\n      <td>1</td>\n    </tr>\n    <tr>\n      <th>网络安全</th>\n      <td>2.001852e+08</td>\n      <td>3</td>\n    </tr>\n    <tr>\n      <th>航天</th>\n      <td>8.400000e+03</td>\n      <td>1</td>\n    </tr>\n    <tr>\n      <th>软件服务</th>\n      <td>9.383383e+22</td>\n      <td>8</td>\n    </tr>\n    <tr>\n      <th>金融科技</th>\n      <td>3.727409e+34</td>\n      <td>11</td>\n    </tr>\n    <tr>\n      <th>食品饮料</th>\n      <td>4.700000e+02</td>\n      <td>1</td>\n    </tr>\n    <tr>\n      <th rowspan=\"3\" valign=\"top\">英国</th>\n      <th>区块链</th>\n      <td>7.000000e+02</td>\n      <td>1</td>\n    </tr>\n    <tr>\n      <th>软件服务</th>\n      <td>2.852600e+05</td>\n      <td>2</td>\n    </tr>\n    <tr>\n      <th>金融科技</th>\n      <td>4.750413e+12</td>\n      <td>4</td>\n    </tr>\n    <tr>\n      <th>越南</th>\n      <th>消费品</th>\n      <td>5.500000e+02</td>\n      <td>1</td>\n    </tr>\n    <tr>\n      <th rowspan=\"2\" valign=\"top\">韩国</th>\n      <th>区块链</th>\n      <td>5.350000e+02</td>\n      <td>1</td>\n    </tr>\n    <tr>\n      <th>电子商务</th>\n      <td>5.600000e+02</td>\n      <td>1</td>\n    </tr>\n    <tr>\n      <th>马耳他</th>\n      <th>区块链</th>\n      <td>3.000000e+03</td>\n      <td>1</td>\n    </tr>\n  </tbody>\n</table>\n</div>"
     },
     "execution_count": 72,
     "metadata": {},
     "output_type": "execute_result"
    }
   ],
   "source": [
    "df_hurun.groupby(['国家','行业']).agg({'价值（亿元人民币）':'mean','行业':'count'})"
   ],
   "metadata": {
    "collapsed": false
   }
  },
  {
   "cell_type": "code",
   "execution_count": 93,
   "outputs": [],
   "source": [
    "df_国家_行业 = df_hurun.groupby(['国家','行业']).agg({'价值（亿元人民币）':'mean','行业':'count'})"
   ],
   "metadata": {
    "collapsed": false
   }
  },
  {
   "cell_type": "code",
   "execution_count": 94,
   "outputs": [],
   "source": [
    "df_行业_国家 = df_hurun.groupby(['行业','国家']).agg({'价值（亿元人民币）':'mean','行业':'count'})"
   ],
   "metadata": {
    "collapsed": false
   }
  },
  {
   "cell_type": "code",
   "execution_count": 95,
   "outputs": [],
   "source": [
    "df_行业_城市 = df_hurun.groupby(['行业','城市']).agg({'价值（亿元人民币）':'mean','行业':'count'})"
   ],
   "metadata": {
    "collapsed": false
   }
  },
  {
   "cell_type": "code",
   "execution_count": 96,
   "outputs": [],
   "source": [
    "df_行业_城市_重命名 = df_hurun.groupby(['行业','城市']).agg(价值_亿 = ('价值（亿元人民币）','sum'),企业数量 = (\"行业\",'count'))"
   ],
   "metadata": {
    "collapsed": false
   }
  },
  {
   "cell_type": "markdown",
   "source": [
    "# Groupby 实践"
   ],
   "metadata": {
    "collapsed": false
   }
  },
  {
   "cell_type": "code",
   "execution_count": 73,
   "outputs": [],
   "source": [
    "gb = df.groupby(['School','Grade'])"
   ],
   "metadata": {
    "collapsed": false
   }
  },
  {
   "cell_type": "code",
   "execution_count": 74,
   "outputs": [
    {
     "data": {
      "text/plain": "<pandas.core.groupby.generic.DataFrameGroupBy object at 0x000001D5FA066B20>"
     },
     "execution_count": 74,
     "metadata": {},
     "output_type": "execute_result"
    }
   ],
   "source": [
    "gb"
   ],
   "metadata": {
    "collapsed": false
   }
  },
  {
   "cell_type": "code",
   "execution_count": 75,
   "outputs": [
    {
     "data": {
      "text/plain": "16"
     },
     "execution_count": 75,
     "metadata": {},
     "output_type": "execute_result"
    }
   ],
   "source": [
    "gb.ngroups"
   ],
   "metadata": {
    "collapsed": false
   }
  },
  {
   "cell_type": "code",
   "execution_count": 76,
   "outputs": [],
   "source": [
    "gd = df_hurun.groupby(['国家','行业'])"
   ],
   "metadata": {
    "collapsed": false
   }
  },
  {
   "cell_type": "code",
   "execution_count": 77,
   "outputs": [
    {
     "data": {
      "text/plain": "58"
     },
     "execution_count": 77,
     "metadata": {},
     "output_type": "execute_result"
    }
   ],
   "source": [
    "gd.ngroups"
   ],
   "metadata": {
    "collapsed": false
   }
  },
  {
   "cell_type": "code",
   "execution_count": 78,
   "outputs": [],
   "source": [
    "rec = gd.groups"
   ],
   "metadata": {
    "collapsed": false
   }
  },
  {
   "cell_type": "code",
   "execution_count": 79,
   "outputs": [
    {
     "data": {
      "text/plain": "dict_keys([('中国', '人工智能'), ('中国', '企业服务'), ('中国', '保险'), ('中国', '健康科技'), ('中国', '共享经济'), ('中国', '大数据'), ('中国', '数字科技'), ('中国', '新能源'), ('中国', '新能源汽车'), ('中国', '新零售'), ('中国', '机器人'), ('中国', '物流'), ('中国', '电子商务'), ('中国', '社交媒体'), ('中国', '软件服务'), ('中国', '金融科技'), ('中国', '食品饮料'), ('以色列', '区块链'), ('印度', '共享经济'), ('印度', '快递'), ('印度', '教育科技'), ('印度', '游戏'), ('印度尼西亚', '共享经济'), ('印度尼西亚', '电子商务'), ('土耳其', '快递'), ('墨西哥', '电子商务'), ('巴哈马', '区块链'), ('德国', '软件服务'), ('澳大利亚', '软件服务'), ('瑞典', '新能源'), ('瑞典', '新能源汽车'), ('瑞士', '区块链'), ('美国', '人工智能'), ('美国', '企业服务'), ('美国', '健康科技'), ('美国', '共享经济'), ('美国', '分析'), ('美国', '区块链'), ('美国', '大数据'), ('美国', '快递'), ('美国', '机器人'), ('美国', '游戏'), ('美国', '物流'), ('美国', '生物科技'), ('美国', '电子商务'), ('美国', '社交媒体'), ('美国', '网络安全'), ('美国', '航天'), ('美国', '软件服务'), ('美国', '金融科技'), ('美国', '食品饮料'), ('英国', '区块链'), ('英国', '软件服务'), ('英国', '金融科技'), ('越南', '消费品'), ('韩国', '区块链'), ('韩国', '电子商务'), ('马耳他', '区块链')])"
     },
     "execution_count": 79,
     "metadata": {},
     "output_type": "execute_result"
    }
   ],
   "source": [
    "rec.keys()"
   ],
   "metadata": {
    "collapsed": false
   }
  },
  {
   "cell_type": "code",
   "execution_count": 80,
   "outputs": [
    {
     "data": {
      "text/plain": "国家     行业   \n中国     人工智能      1\n       企业服务      1\n       保险        1\n       健康科技      2\n       共享经济      1\n       大数据       1\n       数字科技      1\n       新能源       3\n       新能源汽车     1\n       新零售       1\n       机器人       1\n       物流        3\n       电子商务      3\n       社交媒体      1\n       软件服务      2\n       金融科技      2\n       食品饮料      1\n以色列    区块链       1\n印度     共享经济      1\n       快递        1\n       教育科技      1\n       游戏        1\n印度尼西亚  共享经济      1\n       电子商务      1\n土耳其    快递        1\n墨西哥    电子商务      1\n巴哈马    区块链       1\n德国     软件服务      1\n澳大利亚   软件服务      1\n瑞典     新能源       1\n       新能源汽车     1\n瑞士     区块链       1\n美国     人工智能      5\n       企业服务      1\n       健康科技      2\n       共享经济      1\n       分析        1\n       区块链       3\n       大数据       1\n       快递        2\n       机器人       1\n       游戏        1\n       物流        2\n       生物科技      2\n       电子商务      2\n       社交媒体      1\n       网络安全      3\n       航天        1\n       软件服务      8\n       金融科技     11\n       食品饮料      1\n英国     区块链       1\n       软件服务      2\n       金融科技      4\n越南     消费品       1\n韩国     区块链       1\n       电子商务      1\n马耳他    区块链       1\ndtype: int64"
     },
     "execution_count": 80,
     "metadata": {},
     "output_type": "execute_result"
    }
   ],
   "source": [
    "gd.size()"
   ],
   "metadata": {
    "collapsed": false
   }
  },
  {
   "cell_type": "markdown",
   "source": [
    "# 聚合函数"
   ],
   "metadata": {
    "collapsed": false
   }
  },
  {
   "cell_type": "code",
   "execution_count": 82,
   "outputs": [
    {
     "data": {
      "text/plain": "            价值（亿元人民币）  行业\n行业   城市                  \n人工智能 哈里斯堡         500   1\n     圣何塞          460   1\n     广州           570   1\n     旧金山    870670490   3\n企业服务 宿迁           515   1\n...               ...  ..\n金融科技 深圳          2200   1\n     纽约        540460   2\n     芝加哥         1500   1\n食品饮料 北京          1000   1\n     雷德伍德城        470   1\n\n[82 rows x 2 columns]",
      "text/html": "<div>\n<style scoped>\n    .dataframe tbody tr th:only-of-type {\n        vertical-align: middle;\n    }\n\n    .dataframe tbody tr th {\n        vertical-align: top;\n    }\n\n    .dataframe thead th {\n        text-align: right;\n    }\n</style>\n<table border=\"1\" class=\"dataframe\">\n  <thead>\n    <tr style=\"text-align: right;\">\n      <th></th>\n      <th></th>\n      <th>价值（亿元人民币）</th>\n      <th>行业</th>\n    </tr>\n    <tr>\n      <th>行业</th>\n      <th>城市</th>\n      <th></th>\n      <th></th>\n    </tr>\n  </thead>\n  <tbody>\n    <tr>\n      <th rowspan=\"4\" valign=\"top\">人工智能</th>\n      <th>哈里斯堡</th>\n      <td>500</td>\n      <td>1</td>\n    </tr>\n    <tr>\n      <th>圣何塞</th>\n      <td>460</td>\n      <td>1</td>\n    </tr>\n    <tr>\n      <th>广州</th>\n      <td>570</td>\n      <td>1</td>\n    </tr>\n    <tr>\n      <th>旧金山</th>\n      <td>870670490</td>\n      <td>3</td>\n    </tr>\n    <tr>\n      <th>企业服务</th>\n      <th>宿迁</th>\n      <td>515</td>\n      <td>1</td>\n    </tr>\n    <tr>\n      <th>...</th>\n      <th>...</th>\n      <td>...</td>\n      <td>...</td>\n    </tr>\n    <tr>\n      <th rowspan=\"3\" valign=\"top\">金融科技</th>\n      <th>深圳</th>\n      <td>2200</td>\n      <td>1</td>\n    </tr>\n    <tr>\n      <th>纽约</th>\n      <td>540460</td>\n      <td>2</td>\n    </tr>\n    <tr>\n      <th>芝加哥</th>\n      <td>1500</td>\n      <td>1</td>\n    </tr>\n    <tr>\n      <th rowspan=\"2\" valign=\"top\">食品饮料</th>\n      <th>北京</th>\n      <td>1000</td>\n      <td>1</td>\n    </tr>\n    <tr>\n      <th>雷德伍德城</th>\n      <td>470</td>\n      <td>1</td>\n    </tr>\n  </tbody>\n</table>\n<p>82 rows × 2 columns</p>\n</div>"
     },
     "execution_count": 82,
     "metadata": {},
     "output_type": "execute_result"
    }
   ],
   "source": [
    "df_hurun.groupby(['行业','城市']).agg({'价值（亿元人民币）':sum,'行业':'count'})"
   ],
   "metadata": {
    "collapsed": false
   }
  },
  {
   "cell_type": "code",
   "execution_count": 88,
   "outputs": [
    {
     "data": {
      "text/plain": "          Height     Weight\nmean  163.218033  55.015873\nmax   193.900000  89.000000",
      "text/html": "<div>\n<style scoped>\n    .dataframe tbody tr th:only-of-type {\n        vertical-align: middle;\n    }\n\n    .dataframe tbody tr th {\n        vertical-align: top;\n    }\n\n    .dataframe thead th {\n        text-align: right;\n    }\n</style>\n<table border=\"1\" class=\"dataframe\">\n  <thead>\n    <tr style=\"text-align: right;\">\n      <th></th>\n      <th>Height</th>\n      <th>Weight</th>\n    </tr>\n  </thead>\n  <tbody>\n    <tr>\n      <th>mean</th>\n      <td>163.218033</td>\n      <td>55.015873</td>\n    </tr>\n    <tr>\n      <th>max</th>\n      <td>193.900000</td>\n      <td>89.000000</td>\n    </tr>\n  </tbody>\n</table>\n</div>"
     },
     "execution_count": 88,
     "metadata": {},
     "output_type": "execute_result"
    }
   ],
   "source": [
    "df.agg({'Height':['mean','max'],'Weight':['mean','max']})"
   ],
   "metadata": {
    "collapsed": false
   }
  },
  {
   "cell_type": "code",
   "execution_count": 89,
   "outputs": [
    {
     "data": {
      "text/plain": "            价值（亿元人民币）  行业\n行业   城市                  \n人工智能 哈里斯堡         500   1\n     圣何塞          460   1\n     广州           570   1\n     旧金山    870670490   3\n企业服务 宿迁           515   1\n...               ...  ..\n金融科技 深圳          2200   1\n     纽约        540460   2\n     芝加哥         1500   1\n食品饮料 北京          1000   1\n     雷德伍德城        470   1\n\n[82 rows x 2 columns]",
      "text/html": "<div>\n<style scoped>\n    .dataframe tbody tr th:only-of-type {\n        vertical-align: middle;\n    }\n\n    .dataframe tbody tr th {\n        vertical-align: top;\n    }\n\n    .dataframe thead th {\n        text-align: right;\n    }\n</style>\n<table border=\"1\" class=\"dataframe\">\n  <thead>\n    <tr style=\"text-align: right;\">\n      <th></th>\n      <th></th>\n      <th>价值（亿元人民币）</th>\n      <th>行业</th>\n    </tr>\n    <tr>\n      <th>行业</th>\n      <th>城市</th>\n      <th></th>\n      <th></th>\n    </tr>\n  </thead>\n  <tbody>\n    <tr>\n      <th rowspan=\"4\" valign=\"top\">人工智能</th>\n      <th>哈里斯堡</th>\n      <td>500</td>\n      <td>1</td>\n    </tr>\n    <tr>\n      <th>圣何塞</th>\n      <td>460</td>\n      <td>1</td>\n    </tr>\n    <tr>\n      <th>广州</th>\n      <td>570</td>\n      <td>1</td>\n    </tr>\n    <tr>\n      <th>旧金山</th>\n      <td>870670490</td>\n      <td>3</td>\n    </tr>\n    <tr>\n      <th>企业服务</th>\n      <th>宿迁</th>\n      <td>515</td>\n      <td>1</td>\n    </tr>\n    <tr>\n      <th>...</th>\n      <th>...</th>\n      <td>...</td>\n      <td>...</td>\n    </tr>\n    <tr>\n      <th rowspan=\"3\" valign=\"top\">金融科技</th>\n      <th>深圳</th>\n      <td>2200</td>\n      <td>1</td>\n    </tr>\n    <tr>\n      <th>纽约</th>\n      <td>540460</td>\n      <td>2</td>\n    </tr>\n    <tr>\n      <th>芝加哥</th>\n      <td>1500</td>\n      <td>1</td>\n    </tr>\n    <tr>\n      <th rowspan=\"2\" valign=\"top\">食品饮料</th>\n      <th>北京</th>\n      <td>1000</td>\n      <td>1</td>\n    </tr>\n    <tr>\n      <th>雷德伍德城</th>\n      <td>470</td>\n      <td>1</td>\n    </tr>\n  </tbody>\n</table>\n<p>82 rows × 2 columns</p>\n</div>"
     },
     "execution_count": 89,
     "metadata": {},
     "output_type": "execute_result"
    }
   ],
   "source": [
    "df_hurun.groupby(['行业','城市']).agg({'价值（亿元人民币）':sum,'行业':'count'})"
   ],
   "metadata": {
    "collapsed": false
   }
  },
  {
   "cell_type": "code",
   "execution_count": 90,
   "outputs": [
    {
     "data": {
      "text/plain": "                 价值_亿  企业数量\n行业   城市                    \n人工智能 哈里斯堡         500     1\n     圣何塞          460     1\n     广州           570     1\n     旧金山    870670490     3\n企业服务 宿迁           515     1\n...               ...   ...\n金融科技 深圳          2200     1\n     纽约        540460     2\n     芝加哥         1500     1\n食品饮料 北京          1000     1\n     雷德伍德城        470     1\n\n[82 rows x 2 columns]",
      "text/html": "<div>\n<style scoped>\n    .dataframe tbody tr th:only-of-type {\n        vertical-align: middle;\n    }\n\n    .dataframe tbody tr th {\n        vertical-align: top;\n    }\n\n    .dataframe thead th {\n        text-align: right;\n    }\n</style>\n<table border=\"1\" class=\"dataframe\">\n  <thead>\n    <tr style=\"text-align: right;\">\n      <th></th>\n      <th></th>\n      <th>价值_亿</th>\n      <th>企业数量</th>\n    </tr>\n    <tr>\n      <th>行业</th>\n      <th>城市</th>\n      <th></th>\n      <th></th>\n    </tr>\n  </thead>\n  <tbody>\n    <tr>\n      <th rowspan=\"4\" valign=\"top\">人工智能</th>\n      <th>哈里斯堡</th>\n      <td>500</td>\n      <td>1</td>\n    </tr>\n    <tr>\n      <th>圣何塞</th>\n      <td>460</td>\n      <td>1</td>\n    </tr>\n    <tr>\n      <th>广州</th>\n      <td>570</td>\n      <td>1</td>\n    </tr>\n    <tr>\n      <th>旧金山</th>\n      <td>870670490</td>\n      <td>3</td>\n    </tr>\n    <tr>\n      <th>企业服务</th>\n      <th>宿迁</th>\n      <td>515</td>\n      <td>1</td>\n    </tr>\n    <tr>\n      <th>...</th>\n      <th>...</th>\n      <td>...</td>\n      <td>...</td>\n    </tr>\n    <tr>\n      <th rowspan=\"3\" valign=\"top\">金融科技</th>\n      <th>深圳</th>\n      <td>2200</td>\n      <td>1</td>\n    </tr>\n    <tr>\n      <th>纽约</th>\n      <td>540460</td>\n      <td>2</td>\n    </tr>\n    <tr>\n      <th>芝加哥</th>\n      <td>1500</td>\n      <td>1</td>\n    </tr>\n    <tr>\n      <th rowspan=\"2\" valign=\"top\">食品饮料</th>\n      <th>北京</th>\n      <td>1000</td>\n      <td>1</td>\n    </tr>\n    <tr>\n      <th>雷德伍德城</th>\n      <td>470</td>\n      <td>1</td>\n    </tr>\n  </tbody>\n</table>\n<p>82 rows × 2 columns</p>\n</div>"
     },
     "execution_count": 90,
     "metadata": {},
     "output_type": "execute_result"
    }
   ],
   "source": [
    "df_hurun.groupby(['行业','城市']).agg(价值_亿 = ('价值（亿元人民币）','sum'),企业数量 = (\"行业\",'count'))"
   ],
   "metadata": {
    "collapsed": false
   }
  },
  {
   "cell_type": "code",
   "execution_count": 97,
   "outputs": [
    {
     "data": {
      "text/plain": "            价值（亿元人民币）  行业\n行业   城市                  \n人工智能 哈里斯堡         500   1\n     圣何塞          460   1\n     广州           570   1\n     旧金山    870670490   3\n企业服务 宿迁           515   1\n...               ...  ..\n金融科技 深圳          2200   1\n     纽约        540460   2\n     芝加哥         1500   1\n食品饮料 北京          1000   1\n     雷德伍德城        470   1\n\n[82 rows x 2 columns]",
      "text/html": "<div>\n<style scoped>\n    .dataframe tbody tr th:only-of-type {\n        vertical-align: middle;\n    }\n\n    .dataframe tbody tr th {\n        vertical-align: top;\n    }\n\n    .dataframe thead th {\n        text-align: right;\n    }\n</style>\n<table border=\"1\" class=\"dataframe\">\n  <thead>\n    <tr style=\"text-align: right;\">\n      <th></th>\n      <th></th>\n      <th>价值（亿元人民币）</th>\n      <th>行业</th>\n    </tr>\n    <tr>\n      <th>行业</th>\n      <th>城市</th>\n      <th></th>\n      <th></th>\n    </tr>\n  </thead>\n  <tbody>\n    <tr>\n      <th rowspan=\"4\" valign=\"top\">人工智能</th>\n      <th>哈里斯堡</th>\n      <td>500</td>\n      <td>1</td>\n    </tr>\n    <tr>\n      <th>圣何塞</th>\n      <td>460</td>\n      <td>1</td>\n    </tr>\n    <tr>\n      <th>广州</th>\n      <td>570</td>\n      <td>1</td>\n    </tr>\n    <tr>\n      <th>旧金山</th>\n      <td>870670490</td>\n      <td>3</td>\n    </tr>\n    <tr>\n      <th>企业服务</th>\n      <th>宿迁</th>\n      <td>515</td>\n      <td>1</td>\n    </tr>\n    <tr>\n      <th>...</th>\n      <th>...</th>\n      <td>...</td>\n      <td>...</td>\n    </tr>\n    <tr>\n      <th rowspan=\"3\" valign=\"top\">金融科技</th>\n      <th>深圳</th>\n      <td>2200</td>\n      <td>1</td>\n    </tr>\n    <tr>\n      <th>纽约</th>\n      <td>540460</td>\n      <td>2</td>\n    </tr>\n    <tr>\n      <th>芝加哥</th>\n      <td>1500</td>\n      <td>1</td>\n    </tr>\n    <tr>\n      <th rowspan=\"2\" valign=\"top\">食品饮料</th>\n      <th>北京</th>\n      <td>1000</td>\n      <td>1</td>\n    </tr>\n    <tr>\n      <th>雷德伍德城</th>\n      <td>470</td>\n      <td>1</td>\n    </tr>\n  </tbody>\n</table>\n<p>82 rows × 2 columns</p>\n</div>"
     },
     "execution_count": 97,
     "metadata": {},
     "output_type": "execute_result"
    }
   ],
   "source": [
    "df_hurun.groupby(['行业','城市']).agg({'价值（亿元人民币）':sum,'行业':'count'})"
   ],
   "metadata": {
    "collapsed": false
   }
  },
  {
   "cell_type": "markdown",
   "source": [
    "# 3.正确的输出分析结果"
   ],
   "metadata": {
    "collapsed": false
   }
  },
  {
   "cell_type": "code",
   "execution_count": 103,
   "outputs": [],
   "source": [
    "with pd.ExcelWriter('hurun_analysis_results‘.xlsx') as writer:\n",
    "    df_国家_行业.to_excel(writer, sheet_name='分国家行业')\n",
    "    df_行业_国家.to_excel(writer, sheet_name='分行业国家')\n",
    "    df_行业_城市.to_excel(writer, sheet_name='分行业城市')\n",
    "    df_行业_城市_重命名.to_excel(writer, sheet_name='分行业城市重命名')"
   ],
   "metadata": {
    "collapsed": false
   }
  },
  {
   "cell_type": "code",
   "execution_count": null,
   "outputs": [],
   "source": [],
   "metadata": {
    "collapsed": false
   }
  }
 ],
 "metadata": {
  "kernelspec": {
   "display_name": "base",
   "language": "python",
   "name": "python3"
  },
  "language_info": {
   "codemirror_mode": {
    "name": "ipython",
    "version": 3
   },
   "file_extension": ".py",
   "mimetype": "text/x-python",
   "name": "python",
   "nbconvert_exporter": "python",
   "pygments_lexer": "ipython3",
   "version": "3.9.13"
  },
  "orig_nbformat": 4,
  "vscode": {
   "interpreter": {
    "hash": "f8b40d688a12481f01eadf7380c47edd8a49484a47dba3db091451640e880c68"
   }
  }
 },
 "nbformat": 4,
 "nbformat_minor": 2
}
