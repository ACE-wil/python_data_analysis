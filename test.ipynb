{
 "cells": [
  {
   "cell_type": "code",
   "execution_count": 2,
   "metadata": {
    "collapsed": true
   },
   "outputs": [
    {
     "ename": "ModuleNotFoundError",
     "evalue": "No module named 'exceptions'",
     "output_type": "error",
     "traceback": [
      "\u001B[1;31m---------------------------------------------------------------------------\u001B[0m",
      "\u001B[1;31mModuleNotFoundError\u001B[0m                       Traceback (most recent call last)",
      "Cell \u001B[1;32mIn[2], line 1\u001B[0m\n\u001B[1;32m----> 1\u001B[0m \u001B[38;5;28;01mimport\u001B[39;00m \u001B[38;5;21;01mdocx\u001B[39;00m\n\u001B[0;32m      3\u001B[0m \u001B[38;5;66;03m# 打开文档\u001B[39;00m\n\u001B[0;32m      4\u001B[0m doc \u001B[38;5;241m=\u001B[39m docx\u001B[38;5;241m.\u001B[39mDocument(\u001B[38;5;124m\"\u001B[39m\u001B[38;5;124m1.docx\u001B[39m\u001B[38;5;124m\"\u001B[39m)\n",
      "File \u001B[1;32mE:\\Anaconda3\\lib\\site-packages\\docx.py:30\u001B[0m\n\u001B[0;32m     27\u001B[0m \u001B[38;5;28;01mexcept\u001B[39;00m \u001B[38;5;167;01mImportError\u001B[39;00m:\n\u001B[0;32m     28\u001B[0m     TAGS \u001B[38;5;241m=\u001B[39m {}\n\u001B[1;32m---> 30\u001B[0m \u001B[38;5;28;01mfrom\u001B[39;00m \u001B[38;5;21;01mexceptions\u001B[39;00m \u001B[38;5;28;01mimport\u001B[39;00m \u001B[38;5;167;01mPendingDeprecationWarning\u001B[39;00m\n\u001B[0;32m     31\u001B[0m \u001B[38;5;28;01mfrom\u001B[39;00m \u001B[38;5;21;01mwarnings\u001B[39;00m \u001B[38;5;28;01mimport\u001B[39;00m warn\n\u001B[0;32m     33\u001B[0m \u001B[38;5;28;01mimport\u001B[39;00m \u001B[38;5;21;01mlogging\u001B[39;00m\n",
      "\u001B[1;31mModuleNotFoundError\u001B[0m: No module named 'exceptions'"
     ]
    }
   ],
   "source": [
    "import docx\n",
    "\n",
    "# 打开文档\n",
    "doc = docx.Document(\"1.docx\")\n",
    "\n",
    "# 遍历段落\n",
    "for para in doc.paragraphs:\n",
    "    # 获取段落的文本\n",
    "    text = para.text\n",
    "    # 如果段落的文本不为空\n",
    "    if text:\n",
    "        # 按空格分隔文本\n",
    "        parts = text.split(\" \")\n",
    "        # 如果该段文本符合格式要求\n",
    "        if len(parts) > 2 and parts[1].startswith(\"[\") and parts[1].endswith(\"]\"):\n",
    "            # 获取单词编号、单词、音标和翻译\n",
    "            num = parts[0].strip(\".\")\n",
    "            word = parts[1][1:-1]\n",
    "            phonetic = parts[2]\n",
    "            meaning = \" \".join(parts[3:])\n",
    "            # 按照格式重新组合文本\n",
    "            new_text = f\"{num}.{word} {phonetic} {meaning}\"\n",
    "            # 替换原来的文本\n",
    "            para.text = new_text\n",
    "\n",
    "# 保存文档\n",
    "doc.save(\"new_docx_file.docx\")\n"
   ]
  },
  {
   "cell_type": "code",
   "execution_count": 3,
   "outputs": [
    {
     "ename": "ModuleNotFoundError",
     "evalue": "No module named 'exceptions'",
     "output_type": "error",
     "traceback": [
      "\u001B[1;31m---------------------------------------------------------------------------\u001B[0m",
      "\u001B[1;31mModuleNotFoundError\u001B[0m                       Traceback (most recent call last)",
      "Cell \u001B[1;32mIn[3], line 1\u001B[0m\n\u001B[1;32m----> 1\u001B[0m \u001B[38;5;28;01mimport\u001B[39;00m \u001B[38;5;21;01mdocx\u001B[39;00m\n\u001B[0;32m      3\u001B[0m \u001B[38;5;66;03m# 打开文档\u001B[39;00m\n\u001B[0;32m      4\u001B[0m doc \u001B[38;5;241m=\u001B[39m docx\u001B[38;5;241m.\u001B[39mDocument(\u001B[38;5;124m\"\u001B[39m\u001B[38;5;124myour_docx_file.docx\u001B[39m\u001B[38;5;124m\"\u001B[39m)\n",
      "File \u001B[1;32mE:\\Anaconda3\\lib\\site-packages\\docx.py:30\u001B[0m\n\u001B[0;32m     27\u001B[0m \u001B[38;5;28;01mexcept\u001B[39;00m \u001B[38;5;167;01mImportError\u001B[39;00m:\n\u001B[0;32m     28\u001B[0m     TAGS \u001B[38;5;241m=\u001B[39m {}\n\u001B[1;32m---> 30\u001B[0m \u001B[38;5;28;01mfrom\u001B[39;00m \u001B[38;5;21;01mexceptions\u001B[39;00m \u001B[38;5;28;01mimport\u001B[39;00m \u001B[38;5;167;01mPendingDeprecationWarning\u001B[39;00m\n\u001B[0;32m     31\u001B[0m \u001B[38;5;28;01mfrom\u001B[39;00m \u001B[38;5;21;01mwarnings\u001B[39;00m \u001B[38;5;28;01mimport\u001B[39;00m warn\n\u001B[0;32m     33\u001B[0m \u001B[38;5;28;01mimport\u001B[39;00m \u001B[38;5;21;01mlogging\u001B[39;00m\n",
      "\u001B[1;31mModuleNotFoundError\u001B[0m: No module named 'exceptions'"
     ]
    }
   ],
   "source": [
    "import docx\n",
    "\n",
    "# 打开文档\n",
    "doc = docx.Document(\"your_docx_file.docx\")\n",
    "\n",
    "# 遍历段落\n",
    "for para in doc.paragraphs:\n",
    "    # 获取段落的文本\n",
    "    text = para.text\n",
    "    # 如果段落的文本不为空\n",
    "    if text:\n",
    "        # 按空格分隔文本\n",
    "        parts = text.split(\" \")\n",
    "        # 如果该段文本符合格式要求\n",
    "        if len(parts) > 2 and parts[1].startswith(\"[\") and parts[1].endswith(\"]\"):\n",
    "            # 获取单词编号、单词、音标和翻译\n",
    "            num = parts[0].strip(\".\")\n",
    "            word = parts[1][1:-1]\n",
    "            phonetic = parts[2]\n",
    "            meaning = \" \".join(parts[3:])\n",
    "            # 按照格式重新组合文本\n",
    "            new_text = f\"{num}.{word} {phonetic} {meaning}\"\n",
    "            # 替换原来的文本\n",
    "            para.text = new_text\n",
    "\n",
    "# 保存文档\n",
    "doc.save(\"new_docx_file.docx\")\n"
   ],
   "metadata": {
    "collapsed": false
   }
  },
  {
   "cell_type": "code",
   "execution_count": null,
   "outputs": [],
   "source": [],
   "metadata": {
    "collapsed": false
   }
  }
 ],
 "metadata": {
  "kernelspec": {
   "display_name": "Python 3",
   "language": "python",
   "name": "python3"
  },
  "language_info": {
   "codemirror_mode": {
    "name": "ipython",
    "version": 2
   },
   "file_extension": ".py",
   "mimetype": "text/x-python",
   "name": "python",
   "nbconvert_exporter": "python",
   "pygments_lexer": "ipython2",
   "version": "2.7.6"
  }
 },
 "nbformat": 4,
 "nbformat_minor": 0
}
