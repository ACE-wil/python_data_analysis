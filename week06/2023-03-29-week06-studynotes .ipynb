{
 "cells": [
  {
   "cell_type": "markdown",
   "source": [
    "# name: shen\n",
    "# time: 2023/03/29\n",
    "# content:"
   ],
   "metadata": {
    "collapsed": false
   }
  },
  {
   "cell_type": "code",
   "execution_count": 2,
   "outputs": [],
   "source": [
    "import pandas as pd"
   ],
   "metadata": {
    "collapsed": false
   }
  },
  {
   "cell_type": "code",
   "execution_count": 10,
   "outputs": [
    {
     "data": {
      "text/plain": "  Gender  Height\n0      F     163\n1      F     160\n2      M     175\n3      M     180",
      "text/html": "<div>\n<style scoped>\n    .dataframe tbody tr th:only-of-type {\n        vertical-align: middle;\n    }\n\n    .dataframe tbody tr th {\n        vertical-align: top;\n    }\n\n    .dataframe thead th {\n        text-align: right;\n    }\n</style>\n<table border=\"1\" class=\"dataframe\">\n  <thead>\n    <tr style=\"text-align: right;\">\n      <th></th>\n      <th>Gender</th>\n      <th>Height</th>\n    </tr>\n  </thead>\n  <tbody>\n    <tr>\n      <th>0</th>\n      <td>F</td>\n      <td>163</td>\n    </tr>\n    <tr>\n      <th>1</th>\n      <td>F</td>\n      <td>160</td>\n    </tr>\n    <tr>\n      <th>2</th>\n      <td>M</td>\n      <td>175</td>\n    </tr>\n    <tr>\n      <th>3</th>\n      <td>M</td>\n      <td>180</td>\n    </tr>\n  </tbody>\n</table>\n</div>"
     },
     "execution_count": 10,
     "metadata": {},
     "output_type": "execute_result"
    }
   ],
   "source": [
    "# 长表格\n",
    "pd.DataFrame(\n",
    "    {\n",
    "        'Gender':['F','F','M','M'],\n",
    "        'Height':[163,160,175,180]\n",
    "    }\n",
    ")"
   ],
   "metadata": {
    "collapsed": false
   }
  },
  {
   "cell_type": "code",
   "execution_count": 11,
   "outputs": [
    {
     "data": {
      "text/plain": "   Height:F  Height:M\n0       160       175\n1       175       185",
      "text/html": "<div>\n<style scoped>\n    .dataframe tbody tr th:only-of-type {\n        vertical-align: middle;\n    }\n\n    .dataframe tbody tr th {\n        vertical-align: top;\n    }\n\n    .dataframe thead th {\n        text-align: right;\n    }\n</style>\n<table border=\"1\" class=\"dataframe\">\n  <thead>\n    <tr style=\"text-align: right;\">\n      <th></th>\n      <th>Height:F</th>\n      <th>Height:M</th>\n    </tr>\n  </thead>\n  <tbody>\n    <tr>\n      <th>0</th>\n      <td>160</td>\n      <td>175</td>\n    </tr>\n    <tr>\n      <th>1</th>\n      <td>175</td>\n      <td>185</td>\n    </tr>\n  </tbody>\n</table>\n</div>"
     },
     "execution_count": 11,
     "metadata": {},
     "output_type": "execute_result"
    }
   ],
   "source": [
    "# 宽表格\n",
    "pd.DataFrame(\n",
    "    {\n",
    "        'Height:F':[160,175],'Height:M':[175,185]\n",
    "    }\n",
    ")"
   ],
   "metadata": {
    "collapsed": false
   }
  },
  {
   "cell_type": "markdown",
   "source": [
    "# 1.pivot（# 中国跟美国行业对比，但是中国同一个行业出现了两次，这种情况不能使用pivot方法）\n"
   ],
   "metadata": {
    "collapsed": false
   }
  },
  {
   "cell_type": "code",
   "execution_count": 41,
   "outputs": [
    {
     "data": {
      "text/plain": "   教室 名字  科目  分数\n0   1  李  语文  80\n1   1  李  数学  85\n2   1  郑  英语  85\n3   2  王  语文  78\n4   2  王  数学  95",
      "text/html": "<div>\n<style scoped>\n    .dataframe tbody tr th:only-of-type {\n        vertical-align: middle;\n    }\n\n    .dataframe tbody tr th {\n        vertical-align: top;\n    }\n\n    .dataframe thead th {\n        text-align: right;\n    }\n</style>\n<table border=\"1\" class=\"dataframe\">\n  <thead>\n    <tr style=\"text-align: right;\">\n      <th></th>\n      <th>教室</th>\n      <th>名字</th>\n      <th>科目</th>\n      <th>分数</th>\n    </tr>\n  </thead>\n  <tbody>\n    <tr>\n      <th>0</th>\n      <td>1</td>\n      <td>李</td>\n      <td>语文</td>\n      <td>80</td>\n    </tr>\n    <tr>\n      <th>1</th>\n      <td>1</td>\n      <td>李</td>\n      <td>数学</td>\n      <td>85</td>\n    </tr>\n    <tr>\n      <th>2</th>\n      <td>1</td>\n      <td>郑</td>\n      <td>英语</td>\n      <td>85</td>\n    </tr>\n    <tr>\n      <th>3</th>\n      <td>2</td>\n      <td>王</td>\n      <td>语文</td>\n      <td>78</td>\n    </tr>\n    <tr>\n      <th>4</th>\n      <td>2</td>\n      <td>王</td>\n      <td>数学</td>\n      <td>95</td>\n    </tr>\n  </tbody>\n</table>\n</div>"
     },
     "execution_count": 41,
     "metadata": {},
     "output_type": "execute_result"
    }
   ],
   "source": [
    "df = pd.DataFrame(\n",
    "    {\n",
    "        '教室':[1,1,1,2,2],\n",
    "        '名字':['李','李','郑','王','王'],\n",
    "        '科目':['语文','数学','英语','语文','数学'],\n",
    "        '分数':[80,85,85,78,95]\n",
    "    }\n",
    ")\n",
    "df"
   ],
   "metadata": {
    "collapsed": false
   }
  },
  {
   "cell_type": "code",
   "execution_count": 42,
   "outputs": [
    {
     "data": {
      "text/plain": "科目    数学    英语    语文\n名字                  \n李   85.0   NaN  80.0\n王   95.0   NaN  78.0\n郑    NaN  85.0   NaN",
      "text/html": "<div>\n<style scoped>\n    .dataframe tbody tr th:only-of-type {\n        vertical-align: middle;\n    }\n\n    .dataframe tbody tr th {\n        vertical-align: top;\n    }\n\n    .dataframe thead th {\n        text-align: right;\n    }\n</style>\n<table border=\"1\" class=\"dataframe\">\n  <thead>\n    <tr style=\"text-align: right;\">\n      <th>科目</th>\n      <th>数学</th>\n      <th>英语</th>\n      <th>语文</th>\n    </tr>\n    <tr>\n      <th>名字</th>\n      <th></th>\n      <th></th>\n      <th></th>\n    </tr>\n  </thead>\n  <tbody>\n    <tr>\n      <th>李</th>\n      <td>85.0</td>\n      <td>NaN</td>\n      <td>80.0</td>\n    </tr>\n    <tr>\n      <th>王</th>\n      <td>95.0</td>\n      <td>NaN</td>\n      <td>78.0</td>\n    </tr>\n    <tr>\n      <th>郑</th>\n      <td>NaN</td>\n      <td>85.0</td>\n      <td>NaN</td>\n    </tr>\n  </tbody>\n</table>\n</div>"
     },
     "execution_count": 42,
     "metadata": {},
     "output_type": "execute_result"
    }
   ],
   "source": [
    "df.pivot(index='名字',columns='科目',values='分数')"
   ],
   "metadata": {
    "collapsed": false
   }
  },
  {
   "cell_type": "code",
   "execution_count": 51,
   "outputs": [
    {
     "name": "stderr",
     "output_type": "stream",
     "text": [
      "C:\\Users\\17728\\AppData\\Local\\Temp\\ipykernel_23608\\1566942980.py:5: SettingWithCopyWarning: \n",
      "A value is trying to be set on a copy of a slice from a DataFrame.\n",
      "Try using .loc[row_indexer,col_indexer] = value instead\n",
      "\n",
      "See the caveats in the documentation: https://pandas.pydata.org/pandas-docs/stable/user_guide/indexing.html#returning-a-view-versus-a-copy\n",
      "  df_hurun['价值（亿元人民币）'] = df_hurun['价值（亿元人民币）'].astype('int64')\n"
     ]
    },
    {
     "data": {
      "text/plain": "     排名 排名变化                 企业名称  价值（亿元人民币） 价值变化（亿元人民币）  国家     城市    行业\n1     1    0                   抖音      13400      -10050  中国     北京  社交媒体\n2     2    1               SpaceX       8400        1680  美国    洛杉矶    航天\n3     3   -1                 蚂蚁集团       8000       -2010  中国     杭州  金融科技\n4     4    0               Stripe       4100       -2210  美国    旧金山  金融科技\n5     5   11                Shein       4000        2680  中国     广州  电子商务\n..   ..  ...                  ...        ...         ...  ..    ...   ...\n97   95  -16        Impossible 食品        470           0  美国  雷德伍德城  食品饮料\n98   95  -16                   微医        470           0  中国     杭州  健康科技\n99   99   58                 蜂巢能源        460         190  中国     常州   新能源\n100  99   -6           Better.com        460          60  美国     纽约  金融科技\n101  99  -20  Automation Anywhere        460         -10  美国    圣何塞  人工智能\n\n[101 rows x 8 columns]",
      "text/html": "<div>\n<style scoped>\n    .dataframe tbody tr th:only-of-type {\n        vertical-align: middle;\n    }\n\n    .dataframe tbody tr th {\n        vertical-align: top;\n    }\n\n    .dataframe thead th {\n        text-align: right;\n    }\n</style>\n<table border=\"1\" class=\"dataframe\">\n  <thead>\n    <tr style=\"text-align: right;\">\n      <th></th>\n      <th>排名</th>\n      <th>排名变化</th>\n      <th>企业名称</th>\n      <th>价值（亿元人民币）</th>\n      <th>价值变化（亿元人民币）</th>\n      <th>国家</th>\n      <th>城市</th>\n      <th>行业</th>\n    </tr>\n  </thead>\n  <tbody>\n    <tr>\n      <th>1</th>\n      <td>1</td>\n      <td>0</td>\n      <td>抖音</td>\n      <td>13400</td>\n      <td>-10050</td>\n      <td>中国</td>\n      <td>北京</td>\n      <td>社交媒体</td>\n    </tr>\n    <tr>\n      <th>2</th>\n      <td>2</td>\n      <td>1</td>\n      <td>SpaceX</td>\n      <td>8400</td>\n      <td>1680</td>\n      <td>美国</td>\n      <td>洛杉矶</td>\n      <td>航天</td>\n    </tr>\n    <tr>\n      <th>3</th>\n      <td>3</td>\n      <td>-1</td>\n      <td>蚂蚁集团</td>\n      <td>8000</td>\n      <td>-2010</td>\n      <td>中国</td>\n      <td>杭州</td>\n      <td>金融科技</td>\n    </tr>\n    <tr>\n      <th>4</th>\n      <td>4</td>\n      <td>0</td>\n      <td>Stripe</td>\n      <td>4100</td>\n      <td>-2210</td>\n      <td>美国</td>\n      <td>旧金山</td>\n      <td>金融科技</td>\n    </tr>\n    <tr>\n      <th>5</th>\n      <td>5</td>\n      <td>11</td>\n      <td>Shein</td>\n      <td>4000</td>\n      <td>2680</td>\n      <td>中国</td>\n      <td>广州</td>\n      <td>电子商务</td>\n    </tr>\n    <tr>\n      <th>...</th>\n      <td>...</td>\n      <td>...</td>\n      <td>...</td>\n      <td>...</td>\n      <td>...</td>\n      <td>...</td>\n      <td>...</td>\n      <td>...</td>\n    </tr>\n    <tr>\n      <th>97</th>\n      <td>95</td>\n      <td>-16</td>\n      <td>Impossible 食品</td>\n      <td>470</td>\n      <td>0</td>\n      <td>美国</td>\n      <td>雷德伍德城</td>\n      <td>食品饮料</td>\n    </tr>\n    <tr>\n      <th>98</th>\n      <td>95</td>\n      <td>-16</td>\n      <td>微医</td>\n      <td>470</td>\n      <td>0</td>\n      <td>中国</td>\n      <td>杭州</td>\n      <td>健康科技</td>\n    </tr>\n    <tr>\n      <th>99</th>\n      <td>99</td>\n      <td>58</td>\n      <td>蜂巢能源</td>\n      <td>460</td>\n      <td>190</td>\n      <td>中国</td>\n      <td>常州</td>\n      <td>新能源</td>\n    </tr>\n    <tr>\n      <th>100</th>\n      <td>99</td>\n      <td>-6</td>\n      <td>Better.com</td>\n      <td>460</td>\n      <td>60</td>\n      <td>美国</td>\n      <td>纽约</td>\n      <td>金融科技</td>\n    </tr>\n    <tr>\n      <th>101</th>\n      <td>99</td>\n      <td>-20</td>\n      <td>Automation Anywhere</td>\n      <td>460</td>\n      <td>-10</td>\n      <td>美国</td>\n      <td>圣何塞</td>\n      <td>人工智能</td>\n    </tr>\n  </tbody>\n</table>\n<p>101 rows × 8 columns</p>\n</div>"
     },
     "execution_count": 51,
     "metadata": {},
     "output_type": "execute_result"
    }
   ],
   "source": [
    "hurun_独角兽 = pd.read_html('https://www.hurun.net/zh-CN/Info/Detail?num=L9SQPH9FKJB1')[-3]\n",
    "hurun_独角兽[0:1].values.tolist()[0]\n",
    "df_hurun = hurun_独角兽[1:]\n",
    "df_hurun.columns = hurun_独角兽[0:1].values.tolist()[0]\n",
    "df_hurun['价值（亿元人民币）'] = df_hurun['价值（亿元人民币）'].astype('int64')\n",
    "df_hurun"
   ],
   "metadata": {
    "collapsed": false
   }
  },
  {
   "cell_type": "markdown",
   "source": [
    "# 每一个国家(index)的行业(columns)的估值情况"
   ],
   "metadata": {
    "collapsed": false
   }
  },
  {
   "cell_type": "code",
   "execution_count": 44,
   "outputs": [
    {
     "data": {
      "text/plain": "array(['社交媒体', '金融科技', '电子商务', '数字科技', '物流', '软件服务', '机器人', '健康科技',\n       '食品饮料', '共享经济', '保险', '新零售', '新能源', '新能源汽车', '人工智能', '大数据', '企业服务'],\n      dtype=object)"
     },
     "execution_count": 44,
     "metadata": {},
     "output_type": "execute_result"
    }
   ],
   "source": [
    "df_hurun.query(\"国家 == '中国'\")['行业'].unique()"
   ],
   "metadata": {
    "collapsed": false
   }
  },
  {
   "cell_type": "code",
   "execution_count": 71,
   "outputs": [
    {
     "data": {
      "text/plain": "行业                     人工智能    企业服务     保险    健康科技    共享经济     分析     区块链  \\\n国家    城市                                                                    \n中国    上海                NaN     NaN    NaN  1040.0     NaN    NaN     NaN   \n      北京                NaN     NaN  740.0     NaN   965.0    NaN     NaN   \n      宁波                NaN     NaN    NaN     NaN     NaN    NaN     NaN   \n      宿迁                NaN   515.0    NaN     NaN     NaN    NaN     NaN   \n      常州                NaN     NaN    NaN     NaN     NaN    NaN     NaN   \n      广州              570.0     NaN    NaN     NaN     NaN    NaN     NaN   \n      无锡                NaN     NaN    NaN     NaN     NaN    NaN     NaN   \n      杭州                NaN     NaN    NaN   470.0     NaN    NaN     NaN   \n      深圳                NaN     NaN    NaN     NaN     NaN    NaN     NaN   \n      长沙                NaN     NaN    NaN     NaN     NaN    NaN     NaN   \n      香港                NaN     NaN    NaN     NaN     NaN    NaN     NaN   \n以色列   内坦亚               NaN     NaN    NaN     NaN     NaN    NaN   535.0   \n印度    古尔冈               NaN     NaN    NaN     NaN   480.0    NaN     NaN   \n      孟买                NaN     NaN    NaN     NaN     NaN    NaN     NaN   \n      班加罗尔              NaN     NaN    NaN     NaN     NaN    NaN     NaN   \n印度尼西亚 Kebayoran Baru    NaN     NaN    NaN     NaN   700.0    NaN     NaN   \n      雅加达               NaN     NaN    NaN     NaN     NaN    NaN     NaN   \n土耳其   伊斯坦布尔             NaN     NaN    NaN     NaN     NaN    NaN     NaN   \n墨西哥   墨西哥城              NaN     NaN    NaN     NaN     NaN    NaN     NaN   \n巴哈马   拿索                NaN     NaN    NaN     NaN     NaN    NaN  1300.0   \n德国    慕尼黑               NaN     NaN    NaN     NaN     NaN    NaN     NaN   \n澳大利亚  悉尼                NaN     NaN    NaN     NaN     NaN    NaN     NaN   \n瑞典    哥德堡               NaN     NaN    NaN     NaN     NaN    NaN     NaN   \n      斯德哥尔摩             NaN     NaN    NaN     NaN     NaN    NaN     NaN   \n瑞士    Zug               NaN     NaN    NaN     NaN     NaN    NaN   575.0   \n美国    Novi              NaN     NaN    NaN     NaN     NaN    NaN     NaN   \n      哈里斯堡            500.0     NaN    NaN     NaN     NaN    NaN     NaN   \n      圣何塞             460.0     NaN    NaN     NaN     NaN    NaN     NaN   \n      圣迭戈               NaN     NaN    NaN     NaN     NaN    NaN     NaN   \n      帕洛阿尔托             NaN     NaN    NaN     NaN     NaN    NaN     NaN   \n      旧金山             870.0  1170.0    NaN     NaN     NaN    NaN   760.0   \n      格兰岱尔市             NaN     NaN    NaN     NaN     NaN    NaN     NaN   \n      沃尔瑟姆              NaN     NaN    NaN   840.0     NaN    NaN     NaN   \n      波士顿               NaN     NaN    NaN     NaN     NaN    NaN     NaN   \n      洛杉矶               NaN     NaN    NaN     NaN  1000.0    NaN     NaN   \n      爱莫利维尔             NaN     NaN    NaN     NaN     NaN    NaN     NaN   \n      纽约                NaN     NaN    NaN   470.0     NaN  575.0   710.0   \n      芝加哥               NaN     NaN    NaN     NaN     NaN    NaN     NaN   \n      费城                NaN     NaN    NaN     NaN     NaN    NaN     NaN   \n      雷德伍德城             NaN     NaN    NaN     NaN     NaN    NaN     NaN   \n英国    伦敦                NaN     NaN    NaN     NaN     NaN    NaN   700.0   \n越南    胡志明市              NaN     NaN    NaN     NaN     NaN    NaN     NaN   \n韩国    首尔                NaN     NaN    NaN     NaN     NaN    NaN   535.0   \n马耳他   马耳他               NaN     NaN    NaN     NaN     NaN    NaN  3000.0   \n\n行业                       大数据      快递    教育科技  ...     游戏      物流   生物科技  \\\n国家    城市                                      ...                         \n中国    上海                 NaN     NaN     NaN  ...    NaN     NaN    NaN   \n      北京                 NaN     NaN     NaN  ...    NaN   500.0    NaN   \n      宁波                 NaN     NaN     NaN  ...    NaN     NaN    NaN   \n      宿迁                 NaN     NaN     NaN  ...    NaN     NaN    NaN   \n      常州                 NaN     NaN     NaN  ...    NaN     NaN    NaN   \n      广州                 NaN     NaN     NaN  ...    NaN     NaN    NaN   \n      无锡                 NaN     NaN     NaN  ...    NaN     NaN    NaN   \n      杭州                 NaN     NaN     NaN  ...    NaN  1800.0    NaN   \n      深圳               535.0     NaN     NaN  ...    NaN     NaN    NaN   \n      长沙                 NaN     NaN     NaN  ...    NaN     NaN    NaN   \n      香港                 NaN     NaN     NaN  ...    NaN   870.0    NaN   \n以色列   内坦亚                NaN     NaN     NaN  ...    NaN     NaN    NaN   \n印度    古尔冈                NaN     NaN     NaN  ...    NaN     NaN    NaN   \n      孟买                 NaN     NaN     NaN  ...  535.0     NaN    NaN   \n      班加罗尔               NaN   720.0  1500.0  ...    NaN     NaN    NaN   \n印度尼西亚 Kebayoran Baru     NaN     NaN     NaN  ...    NaN     NaN    NaN   \n      雅加达                NaN     NaN     NaN  ...    NaN     NaN    NaN   \n土耳其   伊斯坦布尔              NaN   800.0     NaN  ...    NaN     NaN    NaN   \n墨西哥   墨西哥城               NaN     NaN     NaN  ...    NaN     NaN    NaN   \n巴哈马   拿索                 NaN     NaN     NaN  ...    NaN     NaN    NaN   \n德国    慕尼黑                NaN     NaN     NaN  ...    NaN     NaN    NaN   \n澳大利亚  悉尼                 NaN     NaN     NaN  ...    NaN     NaN    NaN   \n瑞典    哥德堡                NaN     NaN     NaN  ...    NaN     NaN    NaN   \n      斯德哥尔摩              NaN     NaN     NaN  ...    NaN     NaN    NaN   \n瑞士    Zug                NaN     NaN     NaN  ...    NaN     NaN    NaN   \n美国    Novi               NaN     NaN     NaN  ...    NaN  1200.0    NaN   \n      哈里斯堡               NaN     NaN     NaN  ...    NaN     NaN    NaN   \n      圣何塞                NaN     NaN     NaN  ...    NaN     NaN    NaN   \n      圣迭戈                NaN     NaN     NaN  ...    NaN     NaN  800.0   \n      帕洛阿尔托              NaN     NaN     NaN  ...    NaN     NaN    NaN   \n      旧金山             2500.0  1320.0     NaN  ...  600.0   535.0    NaN   \n      格兰岱尔市              NaN     NaN     NaN  ...    NaN     NaN    NaN   \n      沃尔瑟姆               NaN     NaN     NaN  ...    NaN     NaN    NaN   \n      波士顿                NaN     NaN     NaN  ...    NaN     NaN    NaN   \n      洛杉矶                NaN     NaN     NaN  ...    NaN     NaN    NaN   \n      爱莫利维尔              NaN     NaN     NaN  ...    NaN     NaN    NaN   \n      纽约                 NaN     NaN     NaN  ...    NaN     NaN    NaN   \n      芝加哥                NaN     NaN     NaN  ...    NaN     NaN  540.0   \n      费城                 NaN  1000.0     NaN  ...    NaN     NaN    NaN   \n      雷德伍德城              NaN     NaN     NaN  ...    NaN     NaN    NaN   \n英国    伦敦                 NaN     NaN     NaN  ...    NaN     NaN    NaN   \n越南    胡志明市               NaN     NaN     NaN  ...    NaN     NaN    NaN   \n韩国    首尔                 NaN     NaN     NaN  ...    NaN     NaN    NaN   \n马耳他   马耳他                NaN     NaN     NaN  ...    NaN     NaN    NaN   \n\n行业                      电子商务     社交媒体   网络安全      航天    软件服务    金融科技    食品饮料  \n国家    城市                                                                      \n中国    上海               670.0      NaN    NaN     NaN  1300.0     NaN     NaN  \n      北京               670.0  13400.0    NaN     NaN   570.0     NaN  1000.0  \n      宁波                 NaN      NaN    NaN     NaN     NaN     NaN     NaN  \n      宿迁                 NaN      NaN    NaN     NaN     NaN     NaN     NaN  \n      常州                 NaN      NaN    NaN     NaN     NaN     NaN     NaN  \n      广州              4000.0      NaN    NaN     NaN     NaN     NaN     NaN  \n      无锡                 NaN      NaN    NaN     NaN     NaN     NaN     NaN  \n      杭州                 NaN      NaN    NaN     NaN     NaN  8000.0     NaN  \n      深圳                 NaN      NaN    NaN     NaN     NaN  2200.0     NaN  \n      长沙                 NaN      NaN    NaN     NaN     NaN     NaN     NaN  \n      香港                 NaN      NaN    NaN     NaN     NaN     NaN     NaN  \n以色列   内坦亚                NaN      NaN    NaN     NaN     NaN     NaN     NaN  \n印度    古尔冈                NaN      NaN    NaN     NaN     NaN     NaN     NaN  \n      孟买                 NaN      NaN    NaN     NaN     NaN     NaN     NaN  \n      班加罗尔               NaN      NaN    NaN     NaN     NaN     NaN     NaN  \n印度尼西亚 Kebayoran Baru     NaN      NaN    NaN     NaN     NaN     NaN     NaN  \n      雅加达             1300.0      NaN    NaN     NaN     NaN     NaN     NaN  \n土耳其   伊斯坦布尔              NaN      NaN    NaN     NaN     NaN     NaN     NaN  \n墨西哥   墨西哥城             580.0      NaN    NaN     NaN     NaN     NaN     NaN  \n巴哈马   拿索                 NaN      NaN    NaN     NaN     NaN     NaN     NaN  \n德国    慕尼黑                NaN      NaN    NaN     NaN   555.0     NaN     NaN  \n澳大利亚  悉尼                 NaN      NaN    NaN     NaN  1750.0     NaN     NaN  \n瑞典    哥德堡                NaN      NaN    NaN     NaN     NaN     NaN     NaN  \n      斯德哥尔摩              NaN      NaN    NaN     NaN     NaN     NaN     NaN  \n瑞士    Zug                NaN      NaN    NaN     NaN     NaN     NaN     NaN  \n美国    Novi               NaN      NaN    NaN     NaN     NaN     NaN     NaN  \n      哈里斯堡               NaN      NaN    NaN     NaN     NaN     NaN     NaN  \n      圣何塞                NaN      NaN  555.0     NaN     NaN     NaN     NaN  \n      圣迭戈                NaN      NaN    NaN     NaN     NaN     NaN     NaN  \n      帕洛阿尔托            490.0      NaN    NaN     NaN     NaN   495.0     NaN  \n      旧金山              840.0   1000.0    NaN     NaN   750.0  4100.0     NaN  \n      格兰岱尔市              NaN      NaN    NaN     NaN   480.0     NaN     NaN  \n      沃尔瑟姆               NaN      NaN    NaN     NaN     NaN     NaN     NaN  \n      波士顿                NaN      NaN    NaN     NaN   480.0     NaN     NaN  \n      洛杉矶                NaN      NaN    NaN  8400.0     NaN     NaN     NaN  \n      爱莫利维尔              NaN      NaN  600.0     NaN     NaN     NaN     NaN  \n      纽约                 NaN      NaN  535.0     NaN   470.0   540.0     NaN  \n      芝加哥                NaN      NaN    NaN     NaN     NaN  1500.0     NaN  \n      费城                 NaN      NaN    NaN     NaN     NaN     NaN     NaN  \n      雷德伍德城              NaN      NaN    NaN     NaN     NaN     NaN   470.0  \n英国    伦敦                 NaN      NaN    NaN     NaN   570.0  1900.0     NaN  \n越南    胡志明市               NaN      NaN    NaN     NaN     NaN     NaN     NaN  \n韩国    首尔               560.0      NaN    NaN     NaN     NaN     NaN     NaN  \n马耳他   马耳他                NaN      NaN    NaN     NaN     NaN     NaN     NaN  \n\n[44 rows x 26 columns]",
      "text/html": "<div>\n<style scoped>\n    .dataframe tbody tr th:only-of-type {\n        vertical-align: middle;\n    }\n\n    .dataframe tbody tr th {\n        vertical-align: top;\n    }\n\n    .dataframe thead th {\n        text-align: right;\n    }\n</style>\n<table border=\"1\" class=\"dataframe\">\n  <thead>\n    <tr style=\"text-align: right;\">\n      <th></th>\n      <th>行业</th>\n      <th>人工智能</th>\n      <th>企业服务</th>\n      <th>保险</th>\n      <th>健康科技</th>\n      <th>共享经济</th>\n      <th>分析</th>\n      <th>区块链</th>\n      <th>大数据</th>\n      <th>快递</th>\n      <th>教育科技</th>\n      <th>...</th>\n      <th>游戏</th>\n      <th>物流</th>\n      <th>生物科技</th>\n      <th>电子商务</th>\n      <th>社交媒体</th>\n      <th>网络安全</th>\n      <th>航天</th>\n      <th>软件服务</th>\n      <th>金融科技</th>\n      <th>食品饮料</th>\n    </tr>\n    <tr>\n      <th>国家</th>\n      <th>城市</th>\n      <th></th>\n      <th></th>\n      <th></th>\n      <th></th>\n      <th></th>\n      <th></th>\n      <th></th>\n      <th></th>\n      <th></th>\n      <th></th>\n      <th></th>\n      <th></th>\n      <th></th>\n      <th></th>\n      <th></th>\n      <th></th>\n      <th></th>\n      <th></th>\n      <th></th>\n      <th></th>\n      <th></th>\n    </tr>\n  </thead>\n  <tbody>\n    <tr>\n      <th rowspan=\"11\" valign=\"top\">中国</th>\n      <th>上海</th>\n      <td>NaN</td>\n      <td>NaN</td>\n      <td>NaN</td>\n      <td>1040.0</td>\n      <td>NaN</td>\n      <td>NaN</td>\n      <td>NaN</td>\n      <td>NaN</td>\n      <td>NaN</td>\n      <td>NaN</td>\n      <td>...</td>\n      <td>NaN</td>\n      <td>NaN</td>\n      <td>NaN</td>\n      <td>670.0</td>\n      <td>NaN</td>\n      <td>NaN</td>\n      <td>NaN</td>\n      <td>1300.0</td>\n      <td>NaN</td>\n      <td>NaN</td>\n    </tr>\n    <tr>\n      <th>北京</th>\n      <td>NaN</td>\n      <td>NaN</td>\n      <td>740.0</td>\n      <td>NaN</td>\n      <td>965.0</td>\n      <td>NaN</td>\n      <td>NaN</td>\n      <td>NaN</td>\n      <td>NaN</td>\n      <td>NaN</td>\n      <td>...</td>\n      <td>NaN</td>\n      <td>500.0</td>\n      <td>NaN</td>\n      <td>670.0</td>\n      <td>13400.0</td>\n      <td>NaN</td>\n      <td>NaN</td>\n      <td>570.0</td>\n      <td>NaN</td>\n      <td>1000.0</td>\n    </tr>\n    <tr>\n      <th>宁波</th>\n      <td>NaN</td>\n      <td>NaN</td>\n      <td>NaN</td>\n      <td>NaN</td>\n      <td>NaN</td>\n      <td>NaN</td>\n      <td>NaN</td>\n      <td>NaN</td>\n      <td>NaN</td>\n      <td>NaN</td>\n      <td>...</td>\n      <td>NaN</td>\n      <td>NaN</td>\n      <td>NaN</td>\n      <td>NaN</td>\n      <td>NaN</td>\n      <td>NaN</td>\n      <td>NaN</td>\n      <td>NaN</td>\n      <td>NaN</td>\n      <td>NaN</td>\n    </tr>\n    <tr>\n      <th>宿迁</th>\n      <td>NaN</td>\n      <td>515.0</td>\n      <td>NaN</td>\n      <td>NaN</td>\n      <td>NaN</td>\n      <td>NaN</td>\n      <td>NaN</td>\n      <td>NaN</td>\n      <td>NaN</td>\n      <td>NaN</td>\n      <td>...</td>\n      <td>NaN</td>\n      <td>NaN</td>\n      <td>NaN</td>\n      <td>NaN</td>\n      <td>NaN</td>\n      <td>NaN</td>\n      <td>NaN</td>\n      <td>NaN</td>\n      <td>NaN</td>\n      <td>NaN</td>\n    </tr>\n    <tr>\n      <th>常州</th>\n      <td>NaN</td>\n      <td>NaN</td>\n      <td>NaN</td>\n      <td>NaN</td>\n      <td>NaN</td>\n      <td>NaN</td>\n      <td>NaN</td>\n      <td>NaN</td>\n      <td>NaN</td>\n      <td>NaN</td>\n      <td>...</td>\n      <td>NaN</td>\n      <td>NaN</td>\n      <td>NaN</td>\n      <td>NaN</td>\n      <td>NaN</td>\n      <td>NaN</td>\n      <td>NaN</td>\n      <td>NaN</td>\n      <td>NaN</td>\n      <td>NaN</td>\n    </tr>\n    <tr>\n      <th>广州</th>\n      <td>570.0</td>\n      <td>NaN</td>\n      <td>NaN</td>\n      <td>NaN</td>\n      <td>NaN</td>\n      <td>NaN</td>\n      <td>NaN</td>\n      <td>NaN</td>\n      <td>NaN</td>\n      <td>NaN</td>\n      <td>...</td>\n      <td>NaN</td>\n      <td>NaN</td>\n      <td>NaN</td>\n      <td>4000.0</td>\n      <td>NaN</td>\n      <td>NaN</td>\n      <td>NaN</td>\n      <td>NaN</td>\n      <td>NaN</td>\n      <td>NaN</td>\n    </tr>\n    <tr>\n      <th>无锡</th>\n      <td>NaN</td>\n      <td>NaN</td>\n      <td>NaN</td>\n      <td>NaN</td>\n      <td>NaN</td>\n      <td>NaN</td>\n      <td>NaN</td>\n      <td>NaN</td>\n      <td>NaN</td>\n      <td>NaN</td>\n      <td>...</td>\n      <td>NaN</td>\n      <td>NaN</td>\n      <td>NaN</td>\n      <td>NaN</td>\n      <td>NaN</td>\n      <td>NaN</td>\n      <td>NaN</td>\n      <td>NaN</td>\n      <td>NaN</td>\n      <td>NaN</td>\n    </tr>\n    <tr>\n      <th>杭州</th>\n      <td>NaN</td>\n      <td>NaN</td>\n      <td>NaN</td>\n      <td>470.0</td>\n      <td>NaN</td>\n      <td>NaN</td>\n      <td>NaN</td>\n      <td>NaN</td>\n      <td>NaN</td>\n      <td>NaN</td>\n      <td>...</td>\n      <td>NaN</td>\n      <td>1800.0</td>\n      <td>NaN</td>\n      <td>NaN</td>\n      <td>NaN</td>\n      <td>NaN</td>\n      <td>NaN</td>\n      <td>NaN</td>\n      <td>8000.0</td>\n      <td>NaN</td>\n    </tr>\n    <tr>\n      <th>深圳</th>\n      <td>NaN</td>\n      <td>NaN</td>\n      <td>NaN</td>\n      <td>NaN</td>\n      <td>NaN</td>\n      <td>NaN</td>\n      <td>NaN</td>\n      <td>535.0</td>\n      <td>NaN</td>\n      <td>NaN</td>\n      <td>...</td>\n      <td>NaN</td>\n      <td>NaN</td>\n      <td>NaN</td>\n      <td>NaN</td>\n      <td>NaN</td>\n      <td>NaN</td>\n      <td>NaN</td>\n      <td>NaN</td>\n      <td>2200.0</td>\n      <td>NaN</td>\n    </tr>\n    <tr>\n      <th>长沙</th>\n      <td>NaN</td>\n      <td>NaN</td>\n      <td>NaN</td>\n      <td>NaN</td>\n      <td>NaN</td>\n      <td>NaN</td>\n      <td>NaN</td>\n      <td>NaN</td>\n      <td>NaN</td>\n      <td>NaN</td>\n      <td>...</td>\n      <td>NaN</td>\n      <td>NaN</td>\n      <td>NaN</td>\n      <td>NaN</td>\n      <td>NaN</td>\n      <td>NaN</td>\n      <td>NaN</td>\n      <td>NaN</td>\n      <td>NaN</td>\n      <td>NaN</td>\n    </tr>\n    <tr>\n      <th>香港</th>\n      <td>NaN</td>\n      <td>NaN</td>\n      <td>NaN</td>\n      <td>NaN</td>\n      <td>NaN</td>\n      <td>NaN</td>\n      <td>NaN</td>\n      <td>NaN</td>\n      <td>NaN</td>\n      <td>NaN</td>\n      <td>...</td>\n      <td>NaN</td>\n      <td>870.0</td>\n      <td>NaN</td>\n      <td>NaN</td>\n      <td>NaN</td>\n      <td>NaN</td>\n      <td>NaN</td>\n      <td>NaN</td>\n      <td>NaN</td>\n      <td>NaN</td>\n    </tr>\n    <tr>\n      <th>以色列</th>\n      <th>内坦亚</th>\n      <td>NaN</td>\n      <td>NaN</td>\n      <td>NaN</td>\n      <td>NaN</td>\n      <td>NaN</td>\n      <td>NaN</td>\n      <td>535.0</td>\n      <td>NaN</td>\n      <td>NaN</td>\n      <td>NaN</td>\n      <td>...</td>\n      <td>NaN</td>\n      <td>NaN</td>\n      <td>NaN</td>\n      <td>NaN</td>\n      <td>NaN</td>\n      <td>NaN</td>\n      <td>NaN</td>\n      <td>NaN</td>\n      <td>NaN</td>\n      <td>NaN</td>\n    </tr>\n    <tr>\n      <th rowspan=\"3\" valign=\"top\">印度</th>\n      <th>古尔冈</th>\n      <td>NaN</td>\n      <td>NaN</td>\n      <td>NaN</td>\n      <td>NaN</td>\n      <td>480.0</td>\n      <td>NaN</td>\n      <td>NaN</td>\n      <td>NaN</td>\n      <td>NaN</td>\n      <td>NaN</td>\n      <td>...</td>\n      <td>NaN</td>\n      <td>NaN</td>\n      <td>NaN</td>\n      <td>NaN</td>\n      <td>NaN</td>\n      <td>NaN</td>\n      <td>NaN</td>\n      <td>NaN</td>\n      <td>NaN</td>\n      <td>NaN</td>\n    </tr>\n    <tr>\n      <th>孟买</th>\n      <td>NaN</td>\n      <td>NaN</td>\n      <td>NaN</td>\n      <td>NaN</td>\n      <td>NaN</td>\n      <td>NaN</td>\n      <td>NaN</td>\n      <td>NaN</td>\n      <td>NaN</td>\n      <td>NaN</td>\n      <td>...</td>\n      <td>535.0</td>\n      <td>NaN</td>\n      <td>NaN</td>\n      <td>NaN</td>\n      <td>NaN</td>\n      <td>NaN</td>\n      <td>NaN</td>\n      <td>NaN</td>\n      <td>NaN</td>\n      <td>NaN</td>\n    </tr>\n    <tr>\n      <th>班加罗尔</th>\n      <td>NaN</td>\n      <td>NaN</td>\n      <td>NaN</td>\n      <td>NaN</td>\n      <td>NaN</td>\n      <td>NaN</td>\n      <td>NaN</td>\n      <td>NaN</td>\n      <td>720.0</td>\n      <td>1500.0</td>\n      <td>...</td>\n      <td>NaN</td>\n      <td>NaN</td>\n      <td>NaN</td>\n      <td>NaN</td>\n      <td>NaN</td>\n      <td>NaN</td>\n      <td>NaN</td>\n      <td>NaN</td>\n      <td>NaN</td>\n      <td>NaN</td>\n    </tr>\n    <tr>\n      <th rowspan=\"2\" valign=\"top\">印度尼西亚</th>\n      <th>Kebayoran Baru</th>\n      <td>NaN</td>\n      <td>NaN</td>\n      <td>NaN</td>\n      <td>NaN</td>\n      <td>700.0</td>\n      <td>NaN</td>\n      <td>NaN</td>\n      <td>NaN</td>\n      <td>NaN</td>\n      <td>NaN</td>\n      <td>...</td>\n      <td>NaN</td>\n      <td>NaN</td>\n      <td>NaN</td>\n      <td>NaN</td>\n      <td>NaN</td>\n      <td>NaN</td>\n      <td>NaN</td>\n      <td>NaN</td>\n      <td>NaN</td>\n      <td>NaN</td>\n    </tr>\n    <tr>\n      <th>雅加达</th>\n      <td>NaN</td>\n      <td>NaN</td>\n      <td>NaN</td>\n      <td>NaN</td>\n      <td>NaN</td>\n      <td>NaN</td>\n      <td>NaN</td>\n      <td>NaN</td>\n      <td>NaN</td>\n      <td>NaN</td>\n      <td>...</td>\n      <td>NaN</td>\n      <td>NaN</td>\n      <td>NaN</td>\n      <td>1300.0</td>\n      <td>NaN</td>\n      <td>NaN</td>\n      <td>NaN</td>\n      <td>NaN</td>\n      <td>NaN</td>\n      <td>NaN</td>\n    </tr>\n    <tr>\n      <th>土耳其</th>\n      <th>伊斯坦布尔</th>\n      <td>NaN</td>\n      <td>NaN</td>\n      <td>NaN</td>\n      <td>NaN</td>\n      <td>NaN</td>\n      <td>NaN</td>\n      <td>NaN</td>\n      <td>NaN</td>\n      <td>800.0</td>\n      <td>NaN</td>\n      <td>...</td>\n      <td>NaN</td>\n      <td>NaN</td>\n      <td>NaN</td>\n      <td>NaN</td>\n      <td>NaN</td>\n      <td>NaN</td>\n      <td>NaN</td>\n      <td>NaN</td>\n      <td>NaN</td>\n      <td>NaN</td>\n    </tr>\n    <tr>\n      <th>墨西哥</th>\n      <th>墨西哥城</th>\n      <td>NaN</td>\n      <td>NaN</td>\n      <td>NaN</td>\n      <td>NaN</td>\n      <td>NaN</td>\n      <td>NaN</td>\n      <td>NaN</td>\n      <td>NaN</td>\n      <td>NaN</td>\n      <td>NaN</td>\n      <td>...</td>\n      <td>NaN</td>\n      <td>NaN</td>\n      <td>NaN</td>\n      <td>580.0</td>\n      <td>NaN</td>\n      <td>NaN</td>\n      <td>NaN</td>\n      <td>NaN</td>\n      <td>NaN</td>\n      <td>NaN</td>\n    </tr>\n    <tr>\n      <th>巴哈马</th>\n      <th>拿索</th>\n      <td>NaN</td>\n      <td>NaN</td>\n      <td>NaN</td>\n      <td>NaN</td>\n      <td>NaN</td>\n      <td>NaN</td>\n      <td>1300.0</td>\n      <td>NaN</td>\n      <td>NaN</td>\n      <td>NaN</td>\n      <td>...</td>\n      <td>NaN</td>\n      <td>NaN</td>\n      <td>NaN</td>\n      <td>NaN</td>\n      <td>NaN</td>\n      <td>NaN</td>\n      <td>NaN</td>\n      <td>NaN</td>\n      <td>NaN</td>\n      <td>NaN</td>\n    </tr>\n    <tr>\n      <th>德国</th>\n      <th>慕尼黑</th>\n      <td>NaN</td>\n      <td>NaN</td>\n      <td>NaN</td>\n      <td>NaN</td>\n      <td>NaN</td>\n      <td>NaN</td>\n      <td>NaN</td>\n      <td>NaN</td>\n      <td>NaN</td>\n      <td>NaN</td>\n      <td>...</td>\n      <td>NaN</td>\n      <td>NaN</td>\n      <td>NaN</td>\n      <td>NaN</td>\n      <td>NaN</td>\n      <td>NaN</td>\n      <td>NaN</td>\n      <td>555.0</td>\n      <td>NaN</td>\n      <td>NaN</td>\n    </tr>\n    <tr>\n      <th>澳大利亚</th>\n      <th>悉尼</th>\n      <td>NaN</td>\n      <td>NaN</td>\n      <td>NaN</td>\n      <td>NaN</td>\n      <td>NaN</td>\n      <td>NaN</td>\n      <td>NaN</td>\n      <td>NaN</td>\n      <td>NaN</td>\n      <td>NaN</td>\n      <td>...</td>\n      <td>NaN</td>\n      <td>NaN</td>\n      <td>NaN</td>\n      <td>NaN</td>\n      <td>NaN</td>\n      <td>NaN</td>\n      <td>NaN</td>\n      <td>1750.0</td>\n      <td>NaN</td>\n      <td>NaN</td>\n    </tr>\n    <tr>\n      <th rowspan=\"2\" valign=\"top\">瑞典</th>\n      <th>哥德堡</th>\n      <td>NaN</td>\n      <td>NaN</td>\n      <td>NaN</td>\n      <td>NaN</td>\n      <td>NaN</td>\n      <td>NaN</td>\n      <td>NaN</td>\n      <td>NaN</td>\n      <td>NaN</td>\n      <td>NaN</td>\n      <td>...</td>\n      <td>NaN</td>\n      <td>NaN</td>\n      <td>NaN</td>\n      <td>NaN</td>\n      <td>NaN</td>\n      <td>NaN</td>\n      <td>NaN</td>\n      <td>NaN</td>\n      <td>NaN</td>\n      <td>NaN</td>\n    </tr>\n    <tr>\n      <th>斯德哥尔摩</th>\n      <td>NaN</td>\n      <td>NaN</td>\n      <td>NaN</td>\n      <td>NaN</td>\n      <td>NaN</td>\n      <td>NaN</td>\n      <td>NaN</td>\n      <td>NaN</td>\n      <td>NaN</td>\n      <td>NaN</td>\n      <td>...</td>\n      <td>NaN</td>\n      <td>NaN</td>\n      <td>NaN</td>\n      <td>NaN</td>\n      <td>NaN</td>\n      <td>NaN</td>\n      <td>NaN</td>\n      <td>NaN</td>\n      <td>NaN</td>\n      <td>NaN</td>\n    </tr>\n    <tr>\n      <th>瑞士</th>\n      <th>Zug</th>\n      <td>NaN</td>\n      <td>NaN</td>\n      <td>NaN</td>\n      <td>NaN</td>\n      <td>NaN</td>\n      <td>NaN</td>\n      <td>575.0</td>\n      <td>NaN</td>\n      <td>NaN</td>\n      <td>NaN</td>\n      <td>...</td>\n      <td>NaN</td>\n      <td>NaN</td>\n      <td>NaN</td>\n      <td>NaN</td>\n      <td>NaN</td>\n      <td>NaN</td>\n      <td>NaN</td>\n      <td>NaN</td>\n      <td>NaN</td>\n      <td>NaN</td>\n    </tr>\n    <tr>\n      <th rowspan=\"15\" valign=\"top\">美国</th>\n      <th>Novi</th>\n      <td>NaN</td>\n      <td>NaN</td>\n      <td>NaN</td>\n      <td>NaN</td>\n      <td>NaN</td>\n      <td>NaN</td>\n      <td>NaN</td>\n      <td>NaN</td>\n      <td>NaN</td>\n      <td>NaN</td>\n      <td>...</td>\n      <td>NaN</td>\n      <td>1200.0</td>\n      <td>NaN</td>\n      <td>NaN</td>\n      <td>NaN</td>\n      <td>NaN</td>\n      <td>NaN</td>\n      <td>NaN</td>\n      <td>NaN</td>\n      <td>NaN</td>\n    </tr>\n    <tr>\n      <th>哈里斯堡</th>\n      <td>500.0</td>\n      <td>NaN</td>\n      <td>NaN</td>\n      <td>NaN</td>\n      <td>NaN</td>\n      <td>NaN</td>\n      <td>NaN</td>\n      <td>NaN</td>\n      <td>NaN</td>\n      <td>NaN</td>\n      <td>...</td>\n      <td>NaN</td>\n      <td>NaN</td>\n      <td>NaN</td>\n      <td>NaN</td>\n      <td>NaN</td>\n      <td>NaN</td>\n      <td>NaN</td>\n      <td>NaN</td>\n      <td>NaN</td>\n      <td>NaN</td>\n    </tr>\n    <tr>\n      <th>圣何塞</th>\n      <td>460.0</td>\n      <td>NaN</td>\n      <td>NaN</td>\n      <td>NaN</td>\n      <td>NaN</td>\n      <td>NaN</td>\n      <td>NaN</td>\n      <td>NaN</td>\n      <td>NaN</td>\n      <td>NaN</td>\n      <td>...</td>\n      <td>NaN</td>\n      <td>NaN</td>\n      <td>NaN</td>\n      <td>NaN</td>\n      <td>NaN</td>\n      <td>555.0</td>\n      <td>NaN</td>\n      <td>NaN</td>\n      <td>NaN</td>\n      <td>NaN</td>\n    </tr>\n    <tr>\n      <th>圣迭戈</th>\n      <td>NaN</td>\n      <td>NaN</td>\n      <td>NaN</td>\n      <td>NaN</td>\n      <td>NaN</td>\n      <td>NaN</td>\n      <td>NaN</td>\n      <td>NaN</td>\n      <td>NaN</td>\n      <td>NaN</td>\n      <td>...</td>\n      <td>NaN</td>\n      <td>NaN</td>\n      <td>800.0</td>\n      <td>NaN</td>\n      <td>NaN</td>\n      <td>NaN</td>\n      <td>NaN</td>\n      <td>NaN</td>\n      <td>NaN</td>\n      <td>NaN</td>\n    </tr>\n    <tr>\n      <th>帕洛阿尔托</th>\n      <td>NaN</td>\n      <td>NaN</td>\n      <td>NaN</td>\n      <td>NaN</td>\n      <td>NaN</td>\n      <td>NaN</td>\n      <td>NaN</td>\n      <td>NaN</td>\n      <td>NaN</td>\n      <td>NaN</td>\n      <td>...</td>\n      <td>NaN</td>\n      <td>NaN</td>\n      <td>NaN</td>\n      <td>490.0</td>\n      <td>NaN</td>\n      <td>NaN</td>\n      <td>NaN</td>\n      <td>NaN</td>\n      <td>495.0</td>\n      <td>NaN</td>\n    </tr>\n    <tr>\n      <th>旧金山</th>\n      <td>870.0</td>\n      <td>1170.0</td>\n      <td>NaN</td>\n      <td>NaN</td>\n      <td>NaN</td>\n      <td>NaN</td>\n      <td>760.0</td>\n      <td>2500.0</td>\n      <td>1320.0</td>\n      <td>NaN</td>\n      <td>...</td>\n      <td>600.0</td>\n      <td>535.0</td>\n      <td>NaN</td>\n      <td>840.0</td>\n      <td>1000.0</td>\n      <td>NaN</td>\n      <td>NaN</td>\n      <td>750.0</td>\n      <td>4100.0</td>\n      <td>NaN</td>\n    </tr>\n    <tr>\n      <th>格兰岱尔市</th>\n      <td>NaN</td>\n      <td>NaN</td>\n      <td>NaN</td>\n      <td>NaN</td>\n      <td>NaN</td>\n      <td>NaN</td>\n      <td>NaN</td>\n      <td>NaN</td>\n      <td>NaN</td>\n      <td>NaN</td>\n      <td>...</td>\n      <td>NaN</td>\n      <td>NaN</td>\n      <td>NaN</td>\n      <td>NaN</td>\n      <td>NaN</td>\n      <td>NaN</td>\n      <td>NaN</td>\n      <td>480.0</td>\n      <td>NaN</td>\n      <td>NaN</td>\n    </tr>\n    <tr>\n      <th>沃尔瑟姆</th>\n      <td>NaN</td>\n      <td>NaN</td>\n      <td>NaN</td>\n      <td>840.0</td>\n      <td>NaN</td>\n      <td>NaN</td>\n      <td>NaN</td>\n      <td>NaN</td>\n      <td>NaN</td>\n      <td>NaN</td>\n      <td>...</td>\n      <td>NaN</td>\n      <td>NaN</td>\n      <td>NaN</td>\n      <td>NaN</td>\n      <td>NaN</td>\n      <td>NaN</td>\n      <td>NaN</td>\n      <td>NaN</td>\n      <td>NaN</td>\n      <td>NaN</td>\n    </tr>\n    <tr>\n      <th>波士顿</th>\n      <td>NaN</td>\n      <td>NaN</td>\n      <td>NaN</td>\n      <td>NaN</td>\n      <td>NaN</td>\n      <td>NaN</td>\n      <td>NaN</td>\n      <td>NaN</td>\n      <td>NaN</td>\n      <td>NaN</td>\n      <td>...</td>\n      <td>NaN</td>\n      <td>NaN</td>\n      <td>NaN</td>\n      <td>NaN</td>\n      <td>NaN</td>\n      <td>NaN</td>\n      <td>NaN</td>\n      <td>480.0</td>\n      <td>NaN</td>\n      <td>NaN</td>\n    </tr>\n    <tr>\n      <th>洛杉矶</th>\n      <td>NaN</td>\n      <td>NaN</td>\n      <td>NaN</td>\n      <td>NaN</td>\n      <td>1000.0</td>\n      <td>NaN</td>\n      <td>NaN</td>\n      <td>NaN</td>\n      <td>NaN</td>\n      <td>NaN</td>\n      <td>...</td>\n      <td>NaN</td>\n      <td>NaN</td>\n      <td>NaN</td>\n      <td>NaN</td>\n      <td>NaN</td>\n      <td>NaN</td>\n      <td>8400.0</td>\n      <td>NaN</td>\n      <td>NaN</td>\n      <td>NaN</td>\n    </tr>\n    <tr>\n      <th>爱莫利维尔</th>\n      <td>NaN</td>\n      <td>NaN</td>\n      <td>NaN</td>\n      <td>NaN</td>\n      <td>NaN</td>\n      <td>NaN</td>\n      <td>NaN</td>\n      <td>NaN</td>\n      <td>NaN</td>\n      <td>NaN</td>\n      <td>...</td>\n      <td>NaN</td>\n      <td>NaN</td>\n      <td>NaN</td>\n      <td>NaN</td>\n      <td>NaN</td>\n      <td>600.0</td>\n      <td>NaN</td>\n      <td>NaN</td>\n      <td>NaN</td>\n      <td>NaN</td>\n    </tr>\n    <tr>\n      <th>纽约</th>\n      <td>NaN</td>\n      <td>NaN</td>\n      <td>NaN</td>\n      <td>470.0</td>\n      <td>NaN</td>\n      <td>575.0</td>\n      <td>710.0</td>\n      <td>NaN</td>\n      <td>NaN</td>\n      <td>NaN</td>\n      <td>...</td>\n      <td>NaN</td>\n      <td>NaN</td>\n      <td>NaN</td>\n      <td>NaN</td>\n      <td>NaN</td>\n      <td>535.0</td>\n      <td>NaN</td>\n      <td>470.0</td>\n      <td>540.0</td>\n      <td>NaN</td>\n    </tr>\n    <tr>\n      <th>芝加哥</th>\n      <td>NaN</td>\n      <td>NaN</td>\n      <td>NaN</td>\n      <td>NaN</td>\n      <td>NaN</td>\n      <td>NaN</td>\n      <td>NaN</td>\n      <td>NaN</td>\n      <td>NaN</td>\n      <td>NaN</td>\n      <td>...</td>\n      <td>NaN</td>\n      <td>NaN</td>\n      <td>540.0</td>\n      <td>NaN</td>\n      <td>NaN</td>\n      <td>NaN</td>\n      <td>NaN</td>\n      <td>NaN</td>\n      <td>1500.0</td>\n      <td>NaN</td>\n    </tr>\n    <tr>\n      <th>费城</th>\n      <td>NaN</td>\n      <td>NaN</td>\n      <td>NaN</td>\n      <td>NaN</td>\n      <td>NaN</td>\n      <td>NaN</td>\n      <td>NaN</td>\n      <td>NaN</td>\n      <td>1000.0</td>\n      <td>NaN</td>\n      <td>...</td>\n      <td>NaN</td>\n      <td>NaN</td>\n      <td>NaN</td>\n      <td>NaN</td>\n      <td>NaN</td>\n      <td>NaN</td>\n      <td>NaN</td>\n      <td>NaN</td>\n      <td>NaN</td>\n      <td>NaN</td>\n    </tr>\n    <tr>\n      <th>雷德伍德城</th>\n      <td>NaN</td>\n      <td>NaN</td>\n      <td>NaN</td>\n      <td>NaN</td>\n      <td>NaN</td>\n      <td>NaN</td>\n      <td>NaN</td>\n      <td>NaN</td>\n      <td>NaN</td>\n      <td>NaN</td>\n      <td>...</td>\n      <td>NaN</td>\n      <td>NaN</td>\n      <td>NaN</td>\n      <td>NaN</td>\n      <td>NaN</td>\n      <td>NaN</td>\n      <td>NaN</td>\n      <td>NaN</td>\n      <td>NaN</td>\n      <td>470.0</td>\n    </tr>\n    <tr>\n      <th>英国</th>\n      <th>伦敦</th>\n      <td>NaN</td>\n      <td>NaN</td>\n      <td>NaN</td>\n      <td>NaN</td>\n      <td>NaN</td>\n      <td>NaN</td>\n      <td>700.0</td>\n      <td>NaN</td>\n      <td>NaN</td>\n      <td>NaN</td>\n      <td>...</td>\n      <td>NaN</td>\n      <td>NaN</td>\n      <td>NaN</td>\n      <td>NaN</td>\n      <td>NaN</td>\n      <td>NaN</td>\n      <td>NaN</td>\n      <td>570.0</td>\n      <td>1900.0</td>\n      <td>NaN</td>\n    </tr>\n    <tr>\n      <th>越南</th>\n      <th>胡志明市</th>\n      <td>NaN</td>\n      <td>NaN</td>\n      <td>NaN</td>\n      <td>NaN</td>\n      <td>NaN</td>\n      <td>NaN</td>\n      <td>NaN</td>\n      <td>NaN</td>\n      <td>NaN</td>\n      <td>NaN</td>\n      <td>...</td>\n      <td>NaN</td>\n      <td>NaN</td>\n      <td>NaN</td>\n      <td>NaN</td>\n      <td>NaN</td>\n      <td>NaN</td>\n      <td>NaN</td>\n      <td>NaN</td>\n      <td>NaN</td>\n      <td>NaN</td>\n    </tr>\n    <tr>\n      <th>韩国</th>\n      <th>首尔</th>\n      <td>NaN</td>\n      <td>NaN</td>\n      <td>NaN</td>\n      <td>NaN</td>\n      <td>NaN</td>\n      <td>NaN</td>\n      <td>535.0</td>\n      <td>NaN</td>\n      <td>NaN</td>\n      <td>NaN</td>\n      <td>...</td>\n      <td>NaN</td>\n      <td>NaN</td>\n      <td>NaN</td>\n      <td>560.0</td>\n      <td>NaN</td>\n      <td>NaN</td>\n      <td>NaN</td>\n      <td>NaN</td>\n      <td>NaN</td>\n      <td>NaN</td>\n    </tr>\n    <tr>\n      <th>马耳他</th>\n      <th>马耳他</th>\n      <td>NaN</td>\n      <td>NaN</td>\n      <td>NaN</td>\n      <td>NaN</td>\n      <td>NaN</td>\n      <td>NaN</td>\n      <td>3000.0</td>\n      <td>NaN</td>\n      <td>NaN</td>\n      <td>NaN</td>\n      <td>...</td>\n      <td>NaN</td>\n      <td>NaN</td>\n      <td>NaN</td>\n      <td>NaN</td>\n      <td>NaN</td>\n      <td>NaN</td>\n      <td>NaN</td>\n      <td>NaN</td>\n      <td>NaN</td>\n      <td>NaN</td>\n    </tr>\n  </tbody>\n</table>\n<p>44 rows × 26 columns</p>\n</div>"
     },
     "execution_count": 71,
     "metadata": {},
     "output_type": "execute_result"
    }
   ],
   "source": [
    "df_hurun.pivot_table(index=['国家','城市'],columns='行业',values='价值（亿元人民币）',aggfunc='max')"
   ],
   "metadata": {
    "collapsed": false
   }
  },
  {
   "cell_type": "code",
   "execution_count": 62,
   "outputs": [
    {
     "data": {
      "text/plain": "行业      人工智能    企业服务     保险    健康科技    共享经济     分析     区块链     大数据      快递  \\\n国家                                                                           \n中国     570.0   515.0  740.0  1040.0   965.0    NaN     NaN   535.0     NaN   \n以色列      NaN     NaN    NaN     NaN     NaN    NaN   535.0     NaN     NaN   \n印度       NaN     NaN    NaN     NaN   480.0    NaN     NaN     NaN   720.0   \n印度尼西亚    NaN     NaN    NaN     NaN   700.0    NaN     NaN     NaN     NaN   \n土耳其      NaN     NaN    NaN     NaN     NaN    NaN     NaN     NaN   800.0   \n墨西哥      NaN     NaN    NaN     NaN     NaN    NaN     NaN     NaN     NaN   \n巴哈马      NaN     NaN    NaN     NaN     NaN    NaN  1300.0     NaN     NaN   \n德国       NaN     NaN    NaN     NaN     NaN    NaN     NaN     NaN     NaN   \n澳大利亚     NaN     NaN    NaN     NaN     NaN    NaN     NaN     NaN     NaN   \n瑞典       NaN     NaN    NaN     NaN     NaN    NaN     NaN     NaN     NaN   \n瑞士       NaN     NaN    NaN     NaN     NaN    NaN   575.0     NaN     NaN   \n美国     870.0  1170.0    NaN   840.0  1000.0  575.0   760.0  2500.0  1320.0   \n英国       NaN     NaN    NaN     NaN     NaN    NaN   700.0     NaN     NaN   \n越南       NaN     NaN    NaN     NaN     NaN    NaN     NaN     NaN     NaN   \n韩国       NaN     NaN    NaN     NaN     NaN    NaN   535.0     NaN     NaN   \n马耳他      NaN     NaN    NaN     NaN     NaN    NaN  3000.0     NaN     NaN   \n\n行业       教育科技  ...     游戏      物流   生物科技    电子商务     社交媒体   网络安全      航天  \\\n国家             ...                                                         \n中国        NaN  ...    NaN  1800.0    NaN  4000.0  13400.0    NaN     NaN   \n以色列       NaN  ...    NaN     NaN    NaN     NaN      NaN    NaN     NaN   \n印度     1500.0  ...  535.0     NaN    NaN     NaN      NaN    NaN     NaN   \n印度尼西亚     NaN  ...    NaN     NaN    NaN  1300.0      NaN    NaN     NaN   \n土耳其       NaN  ...    NaN     NaN    NaN     NaN      NaN    NaN     NaN   \n墨西哥       NaN  ...    NaN     NaN    NaN   580.0      NaN    NaN     NaN   \n巴哈马       NaN  ...    NaN     NaN    NaN     NaN      NaN    NaN     NaN   \n德国        NaN  ...    NaN     NaN    NaN     NaN      NaN    NaN     NaN   \n澳大利亚      NaN  ...    NaN     NaN    NaN     NaN      NaN    NaN     NaN   \n瑞典        NaN  ...    NaN     NaN    NaN     NaN      NaN    NaN     NaN   \n瑞士        NaN  ...    NaN     NaN    NaN     NaN      NaN    NaN     NaN   \n美国        NaN  ...  600.0  1200.0  800.0   840.0   1000.0  600.0  8400.0   \n英国        NaN  ...    NaN     NaN    NaN     NaN      NaN    NaN     NaN   \n越南        NaN  ...    NaN     NaN    NaN     NaN      NaN    NaN     NaN   \n韩国        NaN  ...    NaN     NaN    NaN   560.0      NaN    NaN     NaN   \n马耳他       NaN  ...    NaN     NaN    NaN     NaN      NaN    NaN     NaN   \n\n行业       软件服务    金融科技    食品饮料  \n国家                             \n中国     1300.0  8000.0  1000.0  \n以色列       NaN     NaN     NaN  \n印度        NaN     NaN     NaN  \n印度尼西亚     NaN     NaN     NaN  \n土耳其       NaN     NaN     NaN  \n墨西哥       NaN     NaN     NaN  \n巴哈马       NaN     NaN     NaN  \n德国      555.0     NaN     NaN  \n澳大利亚   1750.0     NaN     NaN  \n瑞典        NaN     NaN     NaN  \n瑞士        NaN     NaN     NaN  \n美国      750.0  4100.0   470.0  \n英国      570.0  1900.0     NaN  \n越南        NaN     NaN     NaN  \n韩国        NaN     NaN     NaN  \n马耳他       NaN     NaN     NaN  \n\n[16 rows x 26 columns]",
      "text/html": "<div>\n<style scoped>\n    .dataframe tbody tr th:only-of-type {\n        vertical-align: middle;\n    }\n\n    .dataframe tbody tr th {\n        vertical-align: top;\n    }\n\n    .dataframe thead th {\n        text-align: right;\n    }\n</style>\n<table border=\"1\" class=\"dataframe\">\n  <thead>\n    <tr style=\"text-align: right;\">\n      <th>行业</th>\n      <th>人工智能</th>\n      <th>企业服务</th>\n      <th>保险</th>\n      <th>健康科技</th>\n      <th>共享经济</th>\n      <th>分析</th>\n      <th>区块链</th>\n      <th>大数据</th>\n      <th>快递</th>\n      <th>教育科技</th>\n      <th>...</th>\n      <th>游戏</th>\n      <th>物流</th>\n      <th>生物科技</th>\n      <th>电子商务</th>\n      <th>社交媒体</th>\n      <th>网络安全</th>\n      <th>航天</th>\n      <th>软件服务</th>\n      <th>金融科技</th>\n      <th>食品饮料</th>\n    </tr>\n    <tr>\n      <th>国家</th>\n      <th></th>\n      <th></th>\n      <th></th>\n      <th></th>\n      <th></th>\n      <th></th>\n      <th></th>\n      <th></th>\n      <th></th>\n      <th></th>\n      <th></th>\n      <th></th>\n      <th></th>\n      <th></th>\n      <th></th>\n      <th></th>\n      <th></th>\n      <th></th>\n      <th></th>\n      <th></th>\n      <th></th>\n    </tr>\n  </thead>\n  <tbody>\n    <tr>\n      <th>中国</th>\n      <td>570.0</td>\n      <td>515.0</td>\n      <td>740.0</td>\n      <td>1040.0</td>\n      <td>965.0</td>\n      <td>NaN</td>\n      <td>NaN</td>\n      <td>535.0</td>\n      <td>NaN</td>\n      <td>NaN</td>\n      <td>...</td>\n      <td>NaN</td>\n      <td>1800.0</td>\n      <td>NaN</td>\n      <td>4000.0</td>\n      <td>13400.0</td>\n      <td>NaN</td>\n      <td>NaN</td>\n      <td>1300.0</td>\n      <td>8000.0</td>\n      <td>1000.0</td>\n    </tr>\n    <tr>\n      <th>以色列</th>\n      <td>NaN</td>\n      <td>NaN</td>\n      <td>NaN</td>\n      <td>NaN</td>\n      <td>NaN</td>\n      <td>NaN</td>\n      <td>535.0</td>\n      <td>NaN</td>\n      <td>NaN</td>\n      <td>NaN</td>\n      <td>...</td>\n      <td>NaN</td>\n      <td>NaN</td>\n      <td>NaN</td>\n      <td>NaN</td>\n      <td>NaN</td>\n      <td>NaN</td>\n      <td>NaN</td>\n      <td>NaN</td>\n      <td>NaN</td>\n      <td>NaN</td>\n    </tr>\n    <tr>\n      <th>印度</th>\n      <td>NaN</td>\n      <td>NaN</td>\n      <td>NaN</td>\n      <td>NaN</td>\n      <td>480.0</td>\n      <td>NaN</td>\n      <td>NaN</td>\n      <td>NaN</td>\n      <td>720.0</td>\n      <td>1500.0</td>\n      <td>...</td>\n      <td>535.0</td>\n      <td>NaN</td>\n      <td>NaN</td>\n      <td>NaN</td>\n      <td>NaN</td>\n      <td>NaN</td>\n      <td>NaN</td>\n      <td>NaN</td>\n      <td>NaN</td>\n      <td>NaN</td>\n    </tr>\n    <tr>\n      <th>印度尼西亚</th>\n      <td>NaN</td>\n      <td>NaN</td>\n      <td>NaN</td>\n      <td>NaN</td>\n      <td>700.0</td>\n      <td>NaN</td>\n      <td>NaN</td>\n      <td>NaN</td>\n      <td>NaN</td>\n      <td>NaN</td>\n      <td>...</td>\n      <td>NaN</td>\n      <td>NaN</td>\n      <td>NaN</td>\n      <td>1300.0</td>\n      <td>NaN</td>\n      <td>NaN</td>\n      <td>NaN</td>\n      <td>NaN</td>\n      <td>NaN</td>\n      <td>NaN</td>\n    </tr>\n    <tr>\n      <th>土耳其</th>\n      <td>NaN</td>\n      <td>NaN</td>\n      <td>NaN</td>\n      <td>NaN</td>\n      <td>NaN</td>\n      <td>NaN</td>\n      <td>NaN</td>\n      <td>NaN</td>\n      <td>800.0</td>\n      <td>NaN</td>\n      <td>...</td>\n      <td>NaN</td>\n      <td>NaN</td>\n      <td>NaN</td>\n      <td>NaN</td>\n      <td>NaN</td>\n      <td>NaN</td>\n      <td>NaN</td>\n      <td>NaN</td>\n      <td>NaN</td>\n      <td>NaN</td>\n    </tr>\n    <tr>\n      <th>墨西哥</th>\n      <td>NaN</td>\n      <td>NaN</td>\n      <td>NaN</td>\n      <td>NaN</td>\n      <td>NaN</td>\n      <td>NaN</td>\n      <td>NaN</td>\n      <td>NaN</td>\n      <td>NaN</td>\n      <td>NaN</td>\n      <td>...</td>\n      <td>NaN</td>\n      <td>NaN</td>\n      <td>NaN</td>\n      <td>580.0</td>\n      <td>NaN</td>\n      <td>NaN</td>\n      <td>NaN</td>\n      <td>NaN</td>\n      <td>NaN</td>\n      <td>NaN</td>\n    </tr>\n    <tr>\n      <th>巴哈马</th>\n      <td>NaN</td>\n      <td>NaN</td>\n      <td>NaN</td>\n      <td>NaN</td>\n      <td>NaN</td>\n      <td>NaN</td>\n      <td>1300.0</td>\n      <td>NaN</td>\n      <td>NaN</td>\n      <td>NaN</td>\n      <td>...</td>\n      <td>NaN</td>\n      <td>NaN</td>\n      <td>NaN</td>\n      <td>NaN</td>\n      <td>NaN</td>\n      <td>NaN</td>\n      <td>NaN</td>\n      <td>NaN</td>\n      <td>NaN</td>\n      <td>NaN</td>\n    </tr>\n    <tr>\n      <th>德国</th>\n      <td>NaN</td>\n      <td>NaN</td>\n      <td>NaN</td>\n      <td>NaN</td>\n      <td>NaN</td>\n      <td>NaN</td>\n      <td>NaN</td>\n      <td>NaN</td>\n      <td>NaN</td>\n      <td>NaN</td>\n      <td>...</td>\n      <td>NaN</td>\n      <td>NaN</td>\n      <td>NaN</td>\n      <td>NaN</td>\n      <td>NaN</td>\n      <td>NaN</td>\n      <td>NaN</td>\n      <td>555.0</td>\n      <td>NaN</td>\n      <td>NaN</td>\n    </tr>\n    <tr>\n      <th>澳大利亚</th>\n      <td>NaN</td>\n      <td>NaN</td>\n      <td>NaN</td>\n      <td>NaN</td>\n      <td>NaN</td>\n      <td>NaN</td>\n      <td>NaN</td>\n      <td>NaN</td>\n      <td>NaN</td>\n      <td>NaN</td>\n      <td>...</td>\n      <td>NaN</td>\n      <td>NaN</td>\n      <td>NaN</td>\n      <td>NaN</td>\n      <td>NaN</td>\n      <td>NaN</td>\n      <td>NaN</td>\n      <td>1750.0</td>\n      <td>NaN</td>\n      <td>NaN</td>\n    </tr>\n    <tr>\n      <th>瑞典</th>\n      <td>NaN</td>\n      <td>NaN</td>\n      <td>NaN</td>\n      <td>NaN</td>\n      <td>NaN</td>\n      <td>NaN</td>\n      <td>NaN</td>\n      <td>NaN</td>\n      <td>NaN</td>\n      <td>NaN</td>\n      <td>...</td>\n      <td>NaN</td>\n      <td>NaN</td>\n      <td>NaN</td>\n      <td>NaN</td>\n      <td>NaN</td>\n      <td>NaN</td>\n      <td>NaN</td>\n      <td>NaN</td>\n      <td>NaN</td>\n      <td>NaN</td>\n    </tr>\n    <tr>\n      <th>瑞士</th>\n      <td>NaN</td>\n      <td>NaN</td>\n      <td>NaN</td>\n      <td>NaN</td>\n      <td>NaN</td>\n      <td>NaN</td>\n      <td>575.0</td>\n      <td>NaN</td>\n      <td>NaN</td>\n      <td>NaN</td>\n      <td>...</td>\n      <td>NaN</td>\n      <td>NaN</td>\n      <td>NaN</td>\n      <td>NaN</td>\n      <td>NaN</td>\n      <td>NaN</td>\n      <td>NaN</td>\n      <td>NaN</td>\n      <td>NaN</td>\n      <td>NaN</td>\n    </tr>\n    <tr>\n      <th>美国</th>\n      <td>870.0</td>\n      <td>1170.0</td>\n      <td>NaN</td>\n      <td>840.0</td>\n      <td>1000.0</td>\n      <td>575.0</td>\n      <td>760.0</td>\n      <td>2500.0</td>\n      <td>1320.0</td>\n      <td>NaN</td>\n      <td>...</td>\n      <td>600.0</td>\n      <td>1200.0</td>\n      <td>800.0</td>\n      <td>840.0</td>\n      <td>1000.0</td>\n      <td>600.0</td>\n      <td>8400.0</td>\n      <td>750.0</td>\n      <td>4100.0</td>\n      <td>470.0</td>\n    </tr>\n    <tr>\n      <th>英国</th>\n      <td>NaN</td>\n      <td>NaN</td>\n      <td>NaN</td>\n      <td>NaN</td>\n      <td>NaN</td>\n      <td>NaN</td>\n      <td>700.0</td>\n      <td>NaN</td>\n      <td>NaN</td>\n      <td>NaN</td>\n      <td>...</td>\n      <td>NaN</td>\n      <td>NaN</td>\n      <td>NaN</td>\n      <td>NaN</td>\n      <td>NaN</td>\n      <td>NaN</td>\n      <td>NaN</td>\n      <td>570.0</td>\n      <td>1900.0</td>\n      <td>NaN</td>\n    </tr>\n    <tr>\n      <th>越南</th>\n      <td>NaN</td>\n      <td>NaN</td>\n      <td>NaN</td>\n      <td>NaN</td>\n      <td>NaN</td>\n      <td>NaN</td>\n      <td>NaN</td>\n      <td>NaN</td>\n      <td>NaN</td>\n      <td>NaN</td>\n      <td>...</td>\n      <td>NaN</td>\n      <td>NaN</td>\n      <td>NaN</td>\n      <td>NaN</td>\n      <td>NaN</td>\n      <td>NaN</td>\n      <td>NaN</td>\n      <td>NaN</td>\n      <td>NaN</td>\n      <td>NaN</td>\n    </tr>\n    <tr>\n      <th>韩国</th>\n      <td>NaN</td>\n      <td>NaN</td>\n      <td>NaN</td>\n      <td>NaN</td>\n      <td>NaN</td>\n      <td>NaN</td>\n      <td>535.0</td>\n      <td>NaN</td>\n      <td>NaN</td>\n      <td>NaN</td>\n      <td>...</td>\n      <td>NaN</td>\n      <td>NaN</td>\n      <td>NaN</td>\n      <td>560.0</td>\n      <td>NaN</td>\n      <td>NaN</td>\n      <td>NaN</td>\n      <td>NaN</td>\n      <td>NaN</td>\n      <td>NaN</td>\n    </tr>\n    <tr>\n      <th>马耳他</th>\n      <td>NaN</td>\n      <td>NaN</td>\n      <td>NaN</td>\n      <td>NaN</td>\n      <td>NaN</td>\n      <td>NaN</td>\n      <td>3000.0</td>\n      <td>NaN</td>\n      <td>NaN</td>\n      <td>NaN</td>\n      <td>...</td>\n      <td>NaN</td>\n      <td>NaN</td>\n      <td>NaN</td>\n      <td>NaN</td>\n      <td>NaN</td>\n      <td>NaN</td>\n      <td>NaN</td>\n      <td>NaN</td>\n      <td>NaN</td>\n      <td>NaN</td>\n    </tr>\n  </tbody>\n</table>\n<p>16 rows × 26 columns</p>\n</div>"
     },
     "execution_count": 62,
     "metadata": {},
     "output_type": "execute_result"
    }
   ],
   "source": [
    "df_hurun.pivot_table(index='国家',columns='行业',values='价值（亿元人民币）',aggfunc='max')"
   ],
   "metadata": {
    "collapsed": false
   }
  },
  {
   "cell_type": "code",
   "execution_count": 63,
   "outputs": [
    {
     "data": {
      "text/plain": "     国家    行业\n1    中国  社交媒体\n2    美国    航天\n3    中国  金融科技\n4    美国  金融科技\n5    中国  电子商务\n..   ..   ...\n97   美国  食品饮料\n98   中国  健康科技\n99   中国   新能源\n100  美国  金融科技\n101  美国  人工智能\n\n[101 rows x 2 columns]",
      "text/html": "<div>\n<style scoped>\n    .dataframe tbody tr th:only-of-type {\n        vertical-align: middle;\n    }\n\n    .dataframe tbody tr th {\n        vertical-align: top;\n    }\n\n    .dataframe thead th {\n        text-align: right;\n    }\n</style>\n<table border=\"1\" class=\"dataframe\">\n  <thead>\n    <tr style=\"text-align: right;\">\n      <th></th>\n      <th>国家</th>\n      <th>行业</th>\n    </tr>\n  </thead>\n  <tbody>\n    <tr>\n      <th>1</th>\n      <td>中国</td>\n      <td>社交媒体</td>\n    </tr>\n    <tr>\n      <th>2</th>\n      <td>美国</td>\n      <td>航天</td>\n    </tr>\n    <tr>\n      <th>3</th>\n      <td>中国</td>\n      <td>金融科技</td>\n    </tr>\n    <tr>\n      <th>4</th>\n      <td>美国</td>\n      <td>金融科技</td>\n    </tr>\n    <tr>\n      <th>5</th>\n      <td>中国</td>\n      <td>电子商务</td>\n    </tr>\n    <tr>\n      <th>...</th>\n      <td>...</td>\n      <td>...</td>\n    </tr>\n    <tr>\n      <th>97</th>\n      <td>美国</td>\n      <td>食品饮料</td>\n    </tr>\n    <tr>\n      <th>98</th>\n      <td>中国</td>\n      <td>健康科技</td>\n    </tr>\n    <tr>\n      <th>99</th>\n      <td>中国</td>\n      <td>新能源</td>\n    </tr>\n    <tr>\n      <th>100</th>\n      <td>美国</td>\n      <td>金融科技</td>\n    </tr>\n    <tr>\n      <th>101</th>\n      <td>美国</td>\n      <td>人工智能</td>\n    </tr>\n  </tbody>\n</table>\n<p>101 rows × 2 columns</p>\n</div>"
     },
     "execution_count": 63,
     "metadata": {},
     "output_type": "execute_result"
    }
   ],
   "source": [
    "df_hurun.pivot(index='国家',columns='行业',values='价值（亿元人民币）')"
   ],
   "metadata": {
    "collapsed": false
   }
  },
  {
   "cell_type": "code",
   "execution_count": 57,
   "outputs": [
    {
     "ename": "TypeError",
     "evalue": "query() missing 1 required positional argument: 'expr'",
     "output_type": "error",
     "traceback": [
      "\u001B[1;31m---------------------------------------------------------------------------\u001B[0m",
      "\u001B[1;31mTypeError\u001B[0m                                 Traceback (most recent call last)",
      "Cell \u001B[1;32mIn[57], line 1\u001B[0m\n\u001B[1;32m----> 1\u001B[0m \u001B[43mdf_hurun\u001B[49m\u001B[38;5;241;43m.\u001B[39;49m\u001B[43mquery\u001B[49m\u001B[43m(\u001B[49m\u001B[38;5;124;43m'\u001B[39;49m\u001B[38;5;124;43m国家 == \u001B[39;49m\u001B[38;5;124;43m\"\u001B[39;49m\u001B[38;5;124;43m中国\u001B[39;49m\u001B[38;5;124;43m\"\u001B[39;49m\u001B[38;5;124;43m or 国家 == \u001B[39;49m\u001B[38;5;124;43m\"\u001B[39;49m\u001B[38;5;124;43m美国\u001B[39;49m\u001B[38;5;124;43m\"\u001B[39;49m\u001B[38;5;124;43m'\u001B[39;49m\u001B[43m)\u001B[49m\u001B[38;5;241;43m.\u001B[39;49m\u001B[43mquery\u001B[49m\u001B[43m(\u001B[49m\u001B[43m)\u001B[49m\n",
      "\u001B[1;31mTypeError\u001B[0m: query() missing 1 required positional argument: 'expr'"
     ]
    }
   ],
   "source": [
    "df_hurun.query('国家 == \"中国\"' or '国家 == \"美国\"').query()"
   ],
   "metadata": {
    "collapsed": false,
    "pycharm": {
     "name": "#%%zhong'g\n"
    }
   }
  },
  {
   "cell_type": "code",
   "execution_count": 60,
   "outputs": [
    {
     "ename": "TypeError",
     "evalue": "query() missing 1 required positional argument: 'expr'",
     "output_type": "error",
     "traceback": [
      "\u001B[1;31m---------------------------------------------------------------------------\u001B[0m",
      "\u001B[1;31mTypeError\u001B[0m                                 Traceback (most recent call last)",
      "Cell \u001B[1;32mIn[60], line 1\u001B[0m\n\u001B[1;32m----> 1\u001B[0m hha \u001B[38;5;241m=\u001B[39m \u001B[43mdf_hurun\u001B[49m\u001B[38;5;241;43m.\u001B[39;49m\u001B[43mquery\u001B[49m\u001B[43m(\u001B[49m\u001B[38;5;124;43m'\u001B[39;49m\u001B[38;5;124;43m国家 == \u001B[39;49m\u001B[38;5;124;43m\"\u001B[39;49m\u001B[38;5;124;43m中国\u001B[39;49m\u001B[38;5;124;43m\"\u001B[39;49m\u001B[38;5;124;43m'\u001B[39;49m\u001B[43m \u001B[49m\u001B[38;5;129;43;01mor\u001B[39;49;00m\u001B[43m \u001B[49m\u001B[38;5;124;43m'\u001B[39;49m\u001B[38;5;124;43m国家 == \u001B[39;49m\u001B[38;5;124;43m\"\u001B[39;49m\u001B[38;5;124;43m美国\u001B[39;49m\u001B[38;5;124;43m\"\u001B[39;49m\u001B[38;5;124;43m'\u001B[39;49m\u001B[43m)\u001B[49m\u001B[38;5;241;43m.\u001B[39;49m\u001B[43mquery\u001B[49m\u001B[43m(\u001B[49m\u001B[43m)\u001B[49m\n",
      "\u001B[1;31mTypeError\u001B[0m: query() missing 1 required positional argument: 'expr'"
     ]
    }
   ],
   "source": [
    "hha = df_hurun.query('国家 == \"中国\"' or '国家 == \"美国\"').query()"
   ],
   "metadata": {
    "collapsed": false
   }
  },
  {
   "cell_type": "markdown",
   "source": [
    "# 2.pivot多级索引"
   ],
   "metadata": {
    "collapsed": false
   }
  },
  {
   "cell_type": "code",
   "execution_count": 65,
   "outputs": [],
   "source": [
    "df = pd.DataFrame({'Class':[1, 1, 2, 2, 1, 1, 2, 2],\n",
    "'Name':['San Zhang', 'San Zhang', 'Si Li', 'Si Li',\n",
    "'San Zhang', 'San Zhang', 'Si Li', 'Si Li'],\n",
    "'Examination': ['Mid', 'Final', 'Mid', 'Final',\n",
    "'Mid', 'Final', 'Mid', 'Final'],\n",
    "'Subject':['Chinese', 'Chinese', 'Chinese', 'Chinese',\n",
    "'Math', 'Math', 'Math', 'Math'],\n",
    "'Grade':[80, 75, 85, 65, 90, 85, 92, 88],\n",
    "'rank':[10, 15, 21, 15, 20, 7, 6, 2]})"
   ],
   "metadata": {
    "collapsed": false
   }
  },
  {
   "cell_type": "code",
   "execution_count": 66,
   "outputs": [
    {
     "data": {
      "text/plain": "   Class       Name Examination  Subject  Grade  rank\n0      1  San Zhang         Mid  Chinese     80    10\n1      1  San Zhang       Final  Chinese     75    15\n2      2      Si Li         Mid  Chinese     85    21\n3      2      Si Li       Final  Chinese     65    15\n4      1  San Zhang         Mid     Math     90    20\n5      1  San Zhang       Final     Math     85     7\n6      2      Si Li         Mid     Math     92     6\n7      2      Si Li       Final     Math     88     2",
      "text/html": "<div>\n<style scoped>\n    .dataframe tbody tr th:only-of-type {\n        vertical-align: middle;\n    }\n\n    .dataframe tbody tr th {\n        vertical-align: top;\n    }\n\n    .dataframe thead th {\n        text-align: right;\n    }\n</style>\n<table border=\"1\" class=\"dataframe\">\n  <thead>\n    <tr style=\"text-align: right;\">\n      <th></th>\n      <th>Class</th>\n      <th>Name</th>\n      <th>Examination</th>\n      <th>Subject</th>\n      <th>Grade</th>\n      <th>rank</th>\n    </tr>\n  </thead>\n  <tbody>\n    <tr>\n      <th>0</th>\n      <td>1</td>\n      <td>San Zhang</td>\n      <td>Mid</td>\n      <td>Chinese</td>\n      <td>80</td>\n      <td>10</td>\n    </tr>\n    <tr>\n      <th>1</th>\n      <td>1</td>\n      <td>San Zhang</td>\n      <td>Final</td>\n      <td>Chinese</td>\n      <td>75</td>\n      <td>15</td>\n    </tr>\n    <tr>\n      <th>2</th>\n      <td>2</td>\n      <td>Si Li</td>\n      <td>Mid</td>\n      <td>Chinese</td>\n      <td>85</td>\n      <td>21</td>\n    </tr>\n    <tr>\n      <th>3</th>\n      <td>2</td>\n      <td>Si Li</td>\n      <td>Final</td>\n      <td>Chinese</td>\n      <td>65</td>\n      <td>15</td>\n    </tr>\n    <tr>\n      <th>4</th>\n      <td>1</td>\n      <td>San Zhang</td>\n      <td>Mid</td>\n      <td>Math</td>\n      <td>90</td>\n      <td>20</td>\n    </tr>\n    <tr>\n      <th>5</th>\n      <td>1</td>\n      <td>San Zhang</td>\n      <td>Final</td>\n      <td>Math</td>\n      <td>85</td>\n      <td>7</td>\n    </tr>\n    <tr>\n      <th>6</th>\n      <td>2</td>\n      <td>Si Li</td>\n      <td>Mid</td>\n      <td>Math</td>\n      <td>92</td>\n      <td>6</td>\n    </tr>\n    <tr>\n      <th>7</th>\n      <td>2</td>\n      <td>Si Li</td>\n      <td>Final</td>\n      <td>Math</td>\n      <td>88</td>\n      <td>2</td>\n    </tr>\n  </tbody>\n</table>\n</div>"
     },
     "execution_count": 66,
     "metadata": {},
     "output_type": "execute_result"
    }
   ],
   "source": [
    "df"
   ],
   "metadata": {
    "collapsed": false
   }
  },
  {
   "cell_type": "code",
   "execution_count": 68,
   "outputs": [],
   "source": [
    "pivot_multi = df.pivot(index = ['Class', 'Name'],\n",
    "columns = ['Subject','Examination'],\n",
    "values = ['Grade','rank'])"
   ],
   "metadata": {
    "collapsed": false
   }
  },
  {
   "cell_type": "code",
   "execution_count": 69,
   "outputs": [
    {
     "data": {
      "text/plain": "                  Grade                     rank                 \nSubject         Chinese       Math       Chinese       Math      \nExamination         Mid Final  Mid Final     Mid Final  Mid Final\nClass Name                                                       \n1     San Zhang      80    75   90    85      10    15   20     7\n2     Si Li          85    65   92    88      21    15    6     2",
      "text/html": "<div>\n<style scoped>\n    .dataframe tbody tr th:only-of-type {\n        vertical-align: middle;\n    }\n\n    .dataframe tbody tr th {\n        vertical-align: top;\n    }\n\n    .dataframe thead tr th {\n        text-align: left;\n    }\n\n    .dataframe thead tr:last-of-type th {\n        text-align: right;\n    }\n</style>\n<table border=\"1\" class=\"dataframe\">\n  <thead>\n    <tr>\n      <th></th>\n      <th></th>\n      <th colspan=\"4\" halign=\"left\">Grade</th>\n      <th colspan=\"4\" halign=\"left\">rank</th>\n    </tr>\n    <tr>\n      <th></th>\n      <th>Subject</th>\n      <th colspan=\"2\" halign=\"left\">Chinese</th>\n      <th colspan=\"2\" halign=\"left\">Math</th>\n      <th colspan=\"2\" halign=\"left\">Chinese</th>\n      <th colspan=\"2\" halign=\"left\">Math</th>\n    </tr>\n    <tr>\n      <th></th>\n      <th>Examination</th>\n      <th>Mid</th>\n      <th>Final</th>\n      <th>Mid</th>\n      <th>Final</th>\n      <th>Mid</th>\n      <th>Final</th>\n      <th>Mid</th>\n      <th>Final</th>\n    </tr>\n    <tr>\n      <th>Class</th>\n      <th>Name</th>\n      <th></th>\n      <th></th>\n      <th></th>\n      <th></th>\n      <th></th>\n      <th></th>\n      <th></th>\n      <th></th>\n    </tr>\n  </thead>\n  <tbody>\n    <tr>\n      <th>1</th>\n      <th>San Zhang</th>\n      <td>80</td>\n      <td>75</td>\n      <td>90</td>\n      <td>85</td>\n      <td>10</td>\n      <td>15</td>\n      <td>20</td>\n      <td>7</td>\n    </tr>\n    <tr>\n      <th>2</th>\n      <th>Si Li</th>\n      <td>85</td>\n      <td>65</td>\n      <td>92</td>\n      <td>88</td>\n      <td>21</td>\n      <td>15</td>\n      <td>6</td>\n      <td>2</td>\n    </tr>\n  </tbody>\n</table>\n</div>"
     },
     "execution_count": 69,
     "metadata": {},
     "output_type": "execute_result"
    }
   ],
   "source": [
    "pivot_multi"
   ],
   "metadata": {
    "collapsed": false
   }
  },
  {
   "cell_type": "code",
   "execution_count": null,
   "outputs": [],
   "source": [],
   "metadata": {
    "collapsed": false
   }
  }
 ],
 "metadata": {
  "kernelspec": {
   "display_name": "base",
   "language": "python",
   "name": "python3"
  },
  "language_info": {
   "codemirror_mode": {
    "name": "ipython",
    "version": 3
   },
   "file_extension": ".py",
   "mimetype": "text/x-python",
   "name": "python",
   "nbconvert_exporter": "python",
   "pygments_lexer": "ipython3",
   "version": "3.9.13"
  },
  "orig_nbformat": 4,
  "vscode": {
   "interpreter": {
    "hash": "f8b40d688a12481f01eadf7380c47edd8a49484a47dba3db091451640e880c68"
   }
  }
 },
 "nbformat": 4,
 "nbformat_minor": 2
}
