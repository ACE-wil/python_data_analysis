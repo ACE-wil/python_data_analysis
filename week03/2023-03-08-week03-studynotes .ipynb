{
 "cells": [
  {
   "cell_type": "markdown",
   "source": [
    "# name:shen\n",
    "# time:2023/3/8\n",
    "# content:"
   ],
   "metadata": {
    "collapsed": false
   }
  },
  {
   "cell_type": "markdown",
   "source": [
    "# 2.2 基本数据结构\n",
    "> pandas 中具有两种基本的数据存储结构，存储```一维``` values 的 ```Series``` 和存储```二维``` values 的 ```DataFrame``` ，在这两种结构上定义了很多的属性和方法。\n",
    "\n",
    "![](./Images/data.png)"
   ],
   "metadata": {
    "collapsed": false
   }
  },
  {
   "cell_type": "markdown",
   "source": [
    "## 1.Series\n",
    "> Series一般由四个部分组成，分别是序列的值 ```data``` 、索引 ```index``` 、存储类型 ```dtype``` 、序列的名字 ```name``` 。其\n",
    "中，索引也可以指定它的名字，默认为空。\n",
    "\n"
   ],
   "metadata": {
    "collapsed": false
   }
  },
  {
   "cell_type": "code",
   "execution_count": 1,
   "outputs": [],
   "source": [
    "import pandas as pd"
   ],
   "metadata": {
    "collapsed": false
   }
  },
  {
   "cell_type": "code",
   "execution_count": 2,
   "outputs": [],
   "source": [
    "s = pd.Series(data = [100,'a',{'dic1':5}],\n",
    "                index = pd.Index([1,2,3],name='my_idx'),\n",
    "                dtype = 'object',\n",
    "                name = 'my_name')"
   ],
   "metadata": {
    "collapsed": false
   }
  },
  {
   "cell_type": "code",
   "execution_count": 3,
   "outputs": [
    {
     "data": {
      "text/plain": "my_idx\n1            100\n2              a\n3    {'dic1': 5}\nName: my_name, dtype: object"
     },
     "execution_count": 3,
     "metadata": {},
     "output_type": "execute_result"
    }
   ],
   "source": [
    "s"
   ],
   "metadata": {
    "collapsed": false
   }
  },
  {
   "cell_type": "code",
   "execution_count": 4,
   "outputs": [
    {
     "data": {
      "text/plain": "Int64Index([1, 2, 3], dtype='int64', name='my_idx')"
     },
     "execution_count": 4,
     "metadata": {},
     "output_type": "execute_result"
    }
   ],
   "source": [
    "s.index"
   ],
   "metadata": {
    "collapsed": false
   }
  },
  {
   "cell_type": "code",
   "execution_count": 5,
   "outputs": [
    {
     "data": {
      "text/plain": "array([100, 'a', {'dic1': 5}], dtype=object)"
     },
     "execution_count": 5,
     "metadata": {},
     "output_type": "execute_result"
    }
   ],
   "source": [
    "s.values"
   ],
   "metadata": {
    "collapsed": false
   }
  },
  {
   "cell_type": "code",
   "execution_count": 6,
   "outputs": [
    {
     "data": {
      "text/plain": "dtype('O')"
     },
     "execution_count": 6,
     "metadata": {},
     "output_type": "execute_result"
    }
   ],
   "source": [
    "s.dtype"
   ],
   "metadata": {
    "collapsed": false
   }
  },
  {
   "cell_type": "code",
   "execution_count": 7,
   "outputs": [],
   "source": [
    "s1 = pd.Series(\n",
    "    data = [67,78,75],\n",
    "    index = pd.Index([\"数学\",\"语文\",\"英语\"],name = \"学科\")\n",
    ")"
   ],
   "metadata": {
    "collapsed": false
   }
  },
  {
   "cell_type": "code",
   "execution_count": 8,
   "outputs": [
    {
     "data": {
      "text/plain": "学科\n数学    67\n语文    78\n英语    75\ndtype: int64"
     },
     "execution_count": 8,
     "metadata": {},
     "output_type": "execute_result"
    }
   ],
   "source": [
    "s1"
   ],
   "metadata": {
    "collapsed": false
   }
  },
  {
   "cell_type": "code",
   "execution_count": 9,
   "outputs": [],
   "source": [
    "s2 = pd.Series(\n",
    "    data=[\"语文\",\"数学\",\"英语\"]\n",
    ")"
   ],
   "metadata": {
    "collapsed": false
   }
  },
  {
   "cell_type": "code",
   "execution_count": 10,
   "outputs": [
    {
     "data": {
      "text/plain": "0    语文\n1    数学\n2    英语\ndtype: object"
     },
     "execution_count": 10,
     "metadata": {},
     "output_type": "execute_result"
    }
   ],
   "source": [
    "s2"
   ],
   "metadata": {
    "collapsed": false
   }
  },
  {
   "cell_type": "markdown",
   "source": [
    "## 2.DateFrame(具有相同特征和个数的列表数据的集合，可以用DataFrame来描述)\n",
    "> DataFrame 在 Series 的基础上增加了列索引，一个数据框可以由二维的 data 与行列索引来构造：\n",
    "\n",
    "\n"
   ],
   "metadata": {
    "collapsed": false
   }
  },
  {
   "cell_type": "code",
   "execution_count": 11,
   "outputs": [],
   "source": [
    "## DataFrame创建示例1：\n",
    "data = [[1,'a',1.2],\n",
    "        [2,'b',2.2],\n",
    "        [3,'c',3.2]]"
   ],
   "metadata": {
    "collapsed": false
   }
  },
  {
   "cell_type": "code",
   "execution_count": 12,
   "outputs": [],
   "source": [
    "df = pd.DataFrame(\n",
    "    data = data,\n",
    "    index = ['row_0','row_1','row_2'],\n",
    "    columns = ['col_0','col_1','col_2'],\n",
    ")"
   ],
   "metadata": {
    "collapsed": false
   }
  },
  {
   "cell_type": "code",
   "execution_count": 13,
   "outputs": [
    {
     "data": {
      "text/plain": "       col_0 col_1  col_2\nrow_0      1     a    1.2\nrow_1      2     b    2.2\nrow_2      3     c    3.2",
      "text/html": "<div>\n<style scoped>\n    .dataframe tbody tr th:only-of-type {\n        vertical-align: middle;\n    }\n\n    .dataframe tbody tr th {\n        vertical-align: top;\n    }\n\n    .dataframe thead th {\n        text-align: right;\n    }\n</style>\n<table border=\"1\" class=\"dataframe\">\n  <thead>\n    <tr style=\"text-align: right;\">\n      <th></th>\n      <th>col_0</th>\n      <th>col_1</th>\n      <th>col_2</th>\n    </tr>\n  </thead>\n  <tbody>\n    <tr>\n      <th>row_0</th>\n      <td>1</td>\n      <td>a</td>\n      <td>1.2</td>\n    </tr>\n    <tr>\n      <th>row_1</th>\n      <td>2</td>\n      <td>b</td>\n      <td>2.2</td>\n    </tr>\n    <tr>\n      <th>row_2</th>\n      <td>3</td>\n      <td>c</td>\n      <td>3.2</td>\n    </tr>\n  </tbody>\n</table>\n</div>"
     },
     "execution_count": 13,
     "metadata": {},
     "output_type": "execute_result"
    }
   ],
   "source": [
    "df"
   ],
   "metadata": {
    "collapsed": false
   }
  },
  {
   "cell_type": "code",
   "execution_count": 14,
   "outputs": [],
   "source": [
    " ## DataFrame创建示例2：\n",
    "data = {\n",
    "    'col_0':[1,2,3],\n",
    "    'col_1':['a','b','c'],\n",
    "    'col_2':[1.2,2.2,3.2]\n",
    "}"
   ],
   "metadata": {
    "collapsed": false
   }
  },
  {
   "cell_type": "code",
   "execution_count": 15,
   "outputs": [],
   "source": [
    "df = pd.DataFrame(\n",
    "    data = data,\n",
    "    index = ['row_0','row_1','row_2']\n",
    ")"
   ],
   "metadata": {
    "collapsed": false
   }
  },
  {
   "cell_type": "code",
   "execution_count": 16,
   "outputs": [
    {
     "data": {
      "text/plain": "       col_0 col_1  col_2\nrow_0      1     a    1.2\nrow_1      2     b    2.2\nrow_2      3     c    3.2",
      "text/html": "<div>\n<style scoped>\n    .dataframe tbody tr th:only-of-type {\n        vertical-align: middle;\n    }\n\n    .dataframe tbody tr th {\n        vertical-align: top;\n    }\n\n    .dataframe thead th {\n        text-align: right;\n    }\n</style>\n<table border=\"1\" class=\"dataframe\">\n  <thead>\n    <tr style=\"text-align: right;\">\n      <th></th>\n      <th>col_0</th>\n      <th>col_1</th>\n      <th>col_2</th>\n    </tr>\n  </thead>\n  <tbody>\n    <tr>\n      <th>row_0</th>\n      <td>1</td>\n      <td>a</td>\n      <td>1.2</td>\n    </tr>\n    <tr>\n      <th>row_1</th>\n      <td>2</td>\n      <td>b</td>\n      <td>2.2</td>\n    </tr>\n    <tr>\n      <th>row_2</th>\n      <td>3</td>\n      <td>c</td>\n      <td>3.2</td>\n    </tr>\n  </tbody>\n</table>\n</div>"
     },
     "execution_count": 16,
     "metadata": {},
     "output_type": "execute_result"
    }
   ],
   "source": [
    "df"
   ],
   "metadata": {
    "collapsed": false
   }
  },
  {
   "cell_type": "code",
   "execution_count": 17,
   "outputs": [
    {
     "data": {
      "text/plain": "row_0    1\nrow_1    2\nrow_2    3\nName: col_0, dtype: int64"
     },
     "execution_count": 17,
     "metadata": {},
     "output_type": "execute_result"
    }
   ],
   "source": [
    "df.col_0"
   ],
   "metadata": {
    "collapsed": false
   }
  },
  {
   "cell_type": "code",
   "execution_count": 18,
   "outputs": [
    {
     "data": {
      "text/plain": "row_0    1\nrow_1    2\nrow_2    3\nName: col_0, dtype: int64"
     },
     "execution_count": 18,
     "metadata": {},
     "output_type": "execute_result"
    }
   ],
   "source": [
    "df['col_0']"
   ],
   "metadata": {
    "collapsed": false
   }
  },
  {
   "cell_type": "code",
   "execution_count": 19,
   "outputs": [
    {
     "data": {
      "text/plain": "       col_0  col_2\nrow_0      1    1.2\nrow_1      2    2.2\nrow_2      3    3.2",
      "text/html": "<div>\n<style scoped>\n    .dataframe tbody tr th:only-of-type {\n        vertical-align: middle;\n    }\n\n    .dataframe tbody tr th {\n        vertical-align: top;\n    }\n\n    .dataframe thead th {\n        text-align: right;\n    }\n</style>\n<table border=\"1\" class=\"dataframe\">\n  <thead>\n    <tr style=\"text-align: right;\">\n      <th></th>\n      <th>col_0</th>\n      <th>col_2</th>\n    </tr>\n  </thead>\n  <tbody>\n    <tr>\n      <th>row_0</th>\n      <td>1</td>\n      <td>1.2</td>\n    </tr>\n    <tr>\n      <th>row_1</th>\n      <td>2</td>\n      <td>2.2</td>\n    </tr>\n    <tr>\n      <th>row_2</th>\n      <td>3</td>\n      <td>3.2</td>\n    </tr>\n  </tbody>\n</table>\n</div>"
     },
     "execution_count": 19,
     "metadata": {},
     "output_type": "execute_result"
    }
   ],
   "source": [
    "df[['col_0','col_2']]"
   ],
   "metadata": {
    "collapsed": false
   }
  },
  {
   "cell_type": "code",
   "execution_count": 20,
   "outputs": [
    {
     "data": {
      "text/plain": "       col_0 col_1  col_2\nrow_1      2     b    2.2",
      "text/html": "<div>\n<style scoped>\n    .dataframe tbody tr th:only-of-type {\n        vertical-align: middle;\n    }\n\n    .dataframe tbody tr th {\n        vertical-align: top;\n    }\n\n    .dataframe thead th {\n        text-align: right;\n    }\n</style>\n<table border=\"1\" class=\"dataframe\">\n  <thead>\n    <tr style=\"text-align: right;\">\n      <th></th>\n      <th>col_0</th>\n      <th>col_1</th>\n      <th>col_2</th>\n    </tr>\n  </thead>\n  <tbody>\n    <tr>\n      <th>row_1</th>\n      <td>2</td>\n      <td>b</td>\n      <td>2.2</td>\n    </tr>\n  </tbody>\n</table>\n</div>"
     },
     "execution_count": 20,
     "metadata": {},
     "output_type": "execute_result"
    }
   ],
   "source": [
    "df.iloc[1:2]"
   ],
   "metadata": {
    "collapsed": false
   }
  },
  {
   "cell_type": "code",
   "execution_count": 21,
   "outputs": [
    {
     "data": {
      "text/plain": "col_0      2\ncol_1      b\ncol_2    2.2\nName: row_1, dtype: object"
     },
     "execution_count": 21,
     "metadata": {},
     "output_type": "execute_result"
    }
   ],
   "source": [
    "df.iloc[1]"
   ],
   "metadata": {
    "collapsed": false
   }
  },
  {
   "cell_type": "code",
   "execution_count": 22,
   "outputs": [
    {
     "data": {
      "text/plain": "row_0    1.2\nrow_1    2.2\nrow_2    3.2\nName: col_2, dtype: float64"
     },
     "execution_count": 22,
     "metadata": {},
     "output_type": "execute_result"
    }
   ],
   "source": [
    "##df.iloc[竖列，横列]\n",
    "df.iloc[:,2]"
   ],
   "metadata": {
    "collapsed": false
   }
  },
  {
   "cell_type": "code",
   "execution_count": 23,
   "outputs": [
    {
     "data": {
      "text/plain": "      col_1  col_2\nrow_1     b    2.2\nrow_2     c    3.2",
      "text/html": "<div>\n<style scoped>\n    .dataframe tbody tr th:only-of-type {\n        vertical-align: middle;\n    }\n\n    .dataframe tbody tr th {\n        vertical-align: top;\n    }\n\n    .dataframe thead th {\n        text-align: right;\n    }\n</style>\n<table border=\"1\" class=\"dataframe\">\n  <thead>\n    <tr style=\"text-align: right;\">\n      <th></th>\n      <th>col_1</th>\n      <th>col_2</th>\n    </tr>\n  </thead>\n  <tbody>\n    <tr>\n      <th>row_1</th>\n      <td>b</td>\n      <td>2.2</td>\n    </tr>\n    <tr>\n      <th>row_2</th>\n      <td>c</td>\n      <td>3.2</td>\n    </tr>\n  </tbody>\n</table>\n</div>"
     },
     "execution_count": 23,
     "metadata": {},
     "output_type": "execute_result"
    }
   ],
   "source": [
    "## iloc对行和列进行切片\n",
    "df.iloc[1:3,1:3]"
   ],
   "metadata": {
    "collapsed": false
   }
  },
  {
   "cell_type": "code",
   "execution_count": 24,
   "outputs": [
    {
     "data": {
      "text/plain": "array([[1, 'a', 1.2],\n       [2, 'b', 2.2],\n       [3, 'c', 3.2]], dtype=object)"
     },
     "execution_count": 24,
     "metadata": {},
     "output_type": "execute_result"
    }
   ],
   "source": [
    "df.values"
   ],
   "metadata": {
    "collapsed": false
   }
  },
  {
   "cell_type": "markdown",
   "source": [
    "## 课后练习(参考pandas的cheat sheet)\n",
    "> 1.iloc\n",
    "> 2.loc(先取列再选行)\n",
    "> 3.lat\n",
    "> 4.at"
   ],
   "metadata": {
    "collapsed": false
   }
  },
  {
   "cell_type": "markdown",
   "source": [
    "# 常用基本函数\n",
    "* 1.汇总函数"
   ],
   "metadata": {
    "collapsed": false
   }
  },
  {
   "cell_type": "code",
   "execution_count": 25,
   "outputs": [],
   "source": [
    "import pandas as pd"
   ],
   "metadata": {
    "collapsed": false
   }
  },
  {
   "cell_type": "code",
   "execution_count": 26,
   "outputs": [],
   "source": [
    "df = pd.read_csv('./data/learn_pandas.csv')"
   ],
   "metadata": {
    "collapsed": false
   }
  },
  {
   "cell_type": "code",
   "execution_count": 27,
   "outputs": [
    {
     "data": {
      "text/plain": "Index(['School', 'Grade', 'Name', 'Gender', 'Height', 'Weight', 'Transfer',\n       'Test_Number', 'Test_Date', 'Time_Record'],\n      dtype='object')"
     },
     "execution_count": 27,
     "metadata": {},
     "output_type": "execute_result"
    }
   ],
   "source": [
    "df.columns"
   ],
   "metadata": {
    "collapsed": false
   }
  },
  {
   "cell_type": "code",
   "execution_count": 28,
   "outputs": [
    {
     "data": {
      "text/plain": "                          School      Grade            Name  Gender  Height  \\\n0  Shanghai Jiao Tong University   Freshman    Gaopeng Yang  Female   158.9   \n1              Peking University   Freshman  Changqiang You    Male   166.5   \n2  Shanghai Jiao Tong University     Senior         Mei Sun    Male   188.9   \n3               Fudan University  Sophomore    Xiaojuan Sun  Female     NaN   \n4               Fudan University  Sophomore     Gaojuan You    Male   174.0   \n\n   Weight Transfer  Test_Number  Test_Date Time_Record  \n0    46.0        N            1  2019/10/5     0:04:34  \n1    70.0        N            1   2019/9/4     0:04:20  \n2    89.0        N            2  2019/9/12     0:05:22  \n3    41.0        N            2   2020/1/3     0:04:08  \n4    74.0        N            2  2019/11/6     0:05:22  ",
      "text/html": "<div>\n<style scoped>\n    .dataframe tbody tr th:only-of-type {\n        vertical-align: middle;\n    }\n\n    .dataframe tbody tr th {\n        vertical-align: top;\n    }\n\n    .dataframe thead th {\n        text-align: right;\n    }\n</style>\n<table border=\"1\" class=\"dataframe\">\n  <thead>\n    <tr style=\"text-align: right;\">\n      <th></th>\n      <th>School</th>\n      <th>Grade</th>\n      <th>Name</th>\n      <th>Gender</th>\n      <th>Height</th>\n      <th>Weight</th>\n      <th>Transfer</th>\n      <th>Test_Number</th>\n      <th>Test_Date</th>\n      <th>Time_Record</th>\n    </tr>\n  </thead>\n  <tbody>\n    <tr>\n      <th>0</th>\n      <td>Shanghai Jiao Tong University</td>\n      <td>Freshman</td>\n      <td>Gaopeng Yang</td>\n      <td>Female</td>\n      <td>158.9</td>\n      <td>46.0</td>\n      <td>N</td>\n      <td>1</td>\n      <td>2019/10/5</td>\n      <td>0:04:34</td>\n    </tr>\n    <tr>\n      <th>1</th>\n      <td>Peking University</td>\n      <td>Freshman</td>\n      <td>Changqiang You</td>\n      <td>Male</td>\n      <td>166.5</td>\n      <td>70.0</td>\n      <td>N</td>\n      <td>1</td>\n      <td>2019/9/4</td>\n      <td>0:04:20</td>\n    </tr>\n    <tr>\n      <th>2</th>\n      <td>Shanghai Jiao Tong University</td>\n      <td>Senior</td>\n      <td>Mei Sun</td>\n      <td>Male</td>\n      <td>188.9</td>\n      <td>89.0</td>\n      <td>N</td>\n      <td>2</td>\n      <td>2019/9/12</td>\n      <td>0:05:22</td>\n    </tr>\n    <tr>\n      <th>3</th>\n      <td>Fudan University</td>\n      <td>Sophomore</td>\n      <td>Xiaojuan Sun</td>\n      <td>Female</td>\n      <td>NaN</td>\n      <td>41.0</td>\n      <td>N</td>\n      <td>2</td>\n      <td>2020/1/3</td>\n      <td>0:04:08</td>\n    </tr>\n    <tr>\n      <th>4</th>\n      <td>Fudan University</td>\n      <td>Sophomore</td>\n      <td>Gaojuan You</td>\n      <td>Male</td>\n      <td>174.0</td>\n      <td>74.0</td>\n      <td>N</td>\n      <td>2</td>\n      <td>2019/11/6</td>\n      <td>0:05:22</td>\n    </tr>\n  </tbody>\n</table>\n</div>"
     },
     "execution_count": 28,
     "metadata": {},
     "output_type": "execute_result"
    }
   ],
   "source": [
    "df.head()  # 头五个"
   ],
   "metadata": {
    "collapsed": false
   }
  },
  {
   "cell_type": "markdown",
   "source": [],
   "metadata": {
    "collapsed": false
   }
  },
  {
   "cell_type": "code",
   "execution_count": 29,
   "outputs": [
    {
     "data": {
      "text/plain": "                            School      Grade            Name  Gender  Height  \\\n195               Fudan University     Junior    Xiaojuan Sun  Female   153.9   \n196            Tsinghua University     Senior         Li Zhao  Female   160.9   \n197  Shanghai Jiao Tong University     Senior  Chengqiang Chu  Female   153.9   \n198  Shanghai Jiao Tong University     Senior   Chengmei Shen    Male   175.3   \n199            Tsinghua University  Sophomore     Chunpeng Lv    Male   155.7   \n\n     Weight Transfer  Test_Number   Test_Date Time_Record  \n195    46.0        N            2  2019/10/17     0:04:31  \n196    50.0        N            3   2019/9/22     0:04:03  \n197    45.0        N            1    2020/1/5     0:04:48  \n198    71.0        N            2    2020/1/7     0:04:58  \n199    51.0        N            1   2019/11/6     0:05:05  ",
      "text/html": "<div>\n<style scoped>\n    .dataframe tbody tr th:only-of-type {\n        vertical-align: middle;\n    }\n\n    .dataframe tbody tr th {\n        vertical-align: top;\n    }\n\n    .dataframe thead th {\n        text-align: right;\n    }\n</style>\n<table border=\"1\" class=\"dataframe\">\n  <thead>\n    <tr style=\"text-align: right;\">\n      <th></th>\n      <th>School</th>\n      <th>Grade</th>\n      <th>Name</th>\n      <th>Gender</th>\n      <th>Height</th>\n      <th>Weight</th>\n      <th>Transfer</th>\n      <th>Test_Number</th>\n      <th>Test_Date</th>\n      <th>Time_Record</th>\n    </tr>\n  </thead>\n  <tbody>\n    <tr>\n      <th>195</th>\n      <td>Fudan University</td>\n      <td>Junior</td>\n      <td>Xiaojuan Sun</td>\n      <td>Female</td>\n      <td>153.9</td>\n      <td>46.0</td>\n      <td>N</td>\n      <td>2</td>\n      <td>2019/10/17</td>\n      <td>0:04:31</td>\n    </tr>\n    <tr>\n      <th>196</th>\n      <td>Tsinghua University</td>\n      <td>Senior</td>\n      <td>Li Zhao</td>\n      <td>Female</td>\n      <td>160.9</td>\n      <td>50.0</td>\n      <td>N</td>\n      <td>3</td>\n      <td>2019/9/22</td>\n      <td>0:04:03</td>\n    </tr>\n    <tr>\n      <th>197</th>\n      <td>Shanghai Jiao Tong University</td>\n      <td>Senior</td>\n      <td>Chengqiang Chu</td>\n      <td>Female</td>\n      <td>153.9</td>\n      <td>45.0</td>\n      <td>N</td>\n      <td>1</td>\n      <td>2020/1/5</td>\n      <td>0:04:48</td>\n    </tr>\n    <tr>\n      <th>198</th>\n      <td>Shanghai Jiao Tong University</td>\n      <td>Senior</td>\n      <td>Chengmei Shen</td>\n      <td>Male</td>\n      <td>175.3</td>\n      <td>71.0</td>\n      <td>N</td>\n      <td>2</td>\n      <td>2020/1/7</td>\n      <td>0:04:58</td>\n    </tr>\n    <tr>\n      <th>199</th>\n      <td>Tsinghua University</td>\n      <td>Sophomore</td>\n      <td>Chunpeng Lv</td>\n      <td>Male</td>\n      <td>155.7</td>\n      <td>51.0</td>\n      <td>N</td>\n      <td>1</td>\n      <td>2019/11/6</td>\n      <td>0:05:05</td>\n    </tr>\n  </tbody>\n</table>\n</div>"
     },
     "execution_count": 29,
     "metadata": {},
     "output_type": "execute_result"
    }
   ],
   "source": [
    "df.tail() # 尾五个"
   ],
   "metadata": {
    "collapsed": false
   }
  },
  {
   "cell_type": "code",
   "execution_count": 30,
   "outputs": [
    {
     "name": "stdout",
     "output_type": "stream",
     "text": [
      "<class 'pandas.core.frame.DataFrame'>\n",
      "RangeIndex: 200 entries, 0 to 199\n",
      "Data columns (total 10 columns):\n",
      " #   Column       Non-Null Count  Dtype  \n",
      "---  ------       --------------  -----  \n",
      " 0   School       200 non-null    object \n",
      " 1   Grade        200 non-null    object \n",
      " 2   Name         200 non-null    object \n",
      " 3   Gender       200 non-null    object \n",
      " 4   Height       183 non-null    float64\n",
      " 5   Weight       189 non-null    float64\n",
      " 6   Transfer     188 non-null    object \n",
      " 7   Test_Number  200 non-null    int64  \n",
      " 8   Test_Date    200 non-null    object \n",
      " 9   Time_Record  200 non-null    object \n",
      "dtypes: float64(2), int64(1), object(7)\n",
      "memory usage: 15.8+ KB\n"
     ]
    }
   ],
   "source": [
    "df.info()"
   ],
   "metadata": {
    "collapsed": false
   }
  },
  {
   "cell_type": "code",
   "execution_count": 31,
   "outputs": [
    {
     "data": {
      "text/plain": "           Height      Weight  Test_Number\ncount  183.000000  189.000000   200.000000\nmean   163.218033   55.015873     1.645000\nstd      8.608879   12.824294     0.722207\nmin    145.400000   34.000000     1.000000\n25%    157.150000   46.000000     1.000000\n50%    161.900000   51.000000     1.500000\n75%    167.500000   65.000000     2.000000\nmax    193.900000   89.000000     3.000000",
      "text/html": "<div>\n<style scoped>\n    .dataframe tbody tr th:only-of-type {\n        vertical-align: middle;\n    }\n\n    .dataframe tbody tr th {\n        vertical-align: top;\n    }\n\n    .dataframe thead th {\n        text-align: right;\n    }\n</style>\n<table border=\"1\" class=\"dataframe\">\n  <thead>\n    <tr style=\"text-align: right;\">\n      <th></th>\n      <th>Height</th>\n      <th>Weight</th>\n      <th>Test_Number</th>\n    </tr>\n  </thead>\n  <tbody>\n    <tr>\n      <th>count</th>\n      <td>183.000000</td>\n      <td>189.000000</td>\n      <td>200.000000</td>\n    </tr>\n    <tr>\n      <th>mean</th>\n      <td>163.218033</td>\n      <td>55.015873</td>\n      <td>1.645000</td>\n    </tr>\n    <tr>\n      <th>std</th>\n      <td>8.608879</td>\n      <td>12.824294</td>\n      <td>0.722207</td>\n    </tr>\n    <tr>\n      <th>min</th>\n      <td>145.400000</td>\n      <td>34.000000</td>\n      <td>1.000000</td>\n    </tr>\n    <tr>\n      <th>25%</th>\n      <td>157.150000</td>\n      <td>46.000000</td>\n      <td>1.000000</td>\n    </tr>\n    <tr>\n      <th>50%</th>\n      <td>161.900000</td>\n      <td>51.000000</td>\n      <td>1.500000</td>\n    </tr>\n    <tr>\n      <th>75%</th>\n      <td>167.500000</td>\n      <td>65.000000</td>\n      <td>2.000000</td>\n    </tr>\n    <tr>\n      <th>max</th>\n      <td>193.900000</td>\n      <td>89.000000</td>\n      <td>3.000000</td>\n    </tr>\n  </tbody>\n</table>\n</div>"
     },
     "execution_count": 31,
     "metadata": {},
     "output_type": "execute_result"
    }
   ],
   "source": [
    "df.describe()"
   ],
   "metadata": {
    "collapsed": false
   }
  },
  {
   "cell_type": "markdown",
   "source": [
    "* 特征统计函数\n",
    "> 在 Series 和 DataFrame 上定义了许多统计函数，最常见的是 sum, mean, median, var, std, max, min 。\n"
   ],
   "metadata": {
    "collapsed": false
   }
  },
  {
   "cell_type": "code",
   "execution_count": 32,
   "outputs": [
    {
     "ename": "KeyError",
     "evalue": "\"None of [Index(['1', '2'], dtype='object')] are in the [columns]\"",
     "output_type": "error",
     "traceback": [
      "\u001B[1;31m---------------------------------------------------------------------------\u001B[0m",
      "\u001B[1;31mKeyError\u001B[0m                                  Traceback (most recent call last)",
      "Cell \u001B[1;32mIn[32], line 1\u001B[0m\n\u001B[1;32m----> 1\u001B[0m df_demo \u001B[38;5;241m=\u001B[39m \u001B[43mdf\u001B[49m\u001B[43m[\u001B[49m\u001B[43m[\u001B[49m\u001B[38;5;124;43m'\u001B[39;49m\u001B[38;5;124;43m1\u001B[39;49m\u001B[38;5;124;43m'\u001B[39;49m\u001B[43m,\u001B[49m\u001B[38;5;124;43m'\u001B[39;49m\u001B[38;5;124;43m2\u001B[39;49m\u001B[38;5;124;43m'\u001B[39;49m\u001B[43m]\u001B[49m\u001B[43m]\u001B[49m\n",
      "File \u001B[1;32mE:\\Anaconda3\\lib\\site-packages\\pandas\\core\\frame.py:3511\u001B[0m, in \u001B[0;36mDataFrame.__getitem__\u001B[1;34m(self, key)\u001B[0m\n\u001B[0;32m   3509\u001B[0m     \u001B[38;5;28;01mif\u001B[39;00m is_iterator(key):\n\u001B[0;32m   3510\u001B[0m         key \u001B[38;5;241m=\u001B[39m \u001B[38;5;28mlist\u001B[39m(key)\n\u001B[1;32m-> 3511\u001B[0m     indexer \u001B[38;5;241m=\u001B[39m \u001B[38;5;28;43mself\u001B[39;49m\u001B[38;5;241;43m.\u001B[39;49m\u001B[43mcolumns\u001B[49m\u001B[38;5;241;43m.\u001B[39;49m\u001B[43m_get_indexer_strict\u001B[49m\u001B[43m(\u001B[49m\u001B[43mkey\u001B[49m\u001B[43m,\u001B[49m\u001B[43m \u001B[49m\u001B[38;5;124;43m\"\u001B[39;49m\u001B[38;5;124;43mcolumns\u001B[39;49m\u001B[38;5;124;43m\"\u001B[39;49m\u001B[43m)\u001B[49m[\u001B[38;5;241m1\u001B[39m]\n\u001B[0;32m   3513\u001B[0m \u001B[38;5;66;03m# take() does not accept boolean indexers\u001B[39;00m\n\u001B[0;32m   3514\u001B[0m \u001B[38;5;28;01mif\u001B[39;00m \u001B[38;5;28mgetattr\u001B[39m(indexer, \u001B[38;5;124m\"\u001B[39m\u001B[38;5;124mdtype\u001B[39m\u001B[38;5;124m\"\u001B[39m, \u001B[38;5;28;01mNone\u001B[39;00m) \u001B[38;5;241m==\u001B[39m \u001B[38;5;28mbool\u001B[39m:\n",
      "File \u001B[1;32mE:\\Anaconda3\\lib\\site-packages\\pandas\\core\\indexes\\base.py:5796\u001B[0m, in \u001B[0;36mIndex._get_indexer_strict\u001B[1;34m(self, key, axis_name)\u001B[0m\n\u001B[0;32m   5793\u001B[0m \u001B[38;5;28;01melse\u001B[39;00m:\n\u001B[0;32m   5794\u001B[0m     keyarr, indexer, new_indexer \u001B[38;5;241m=\u001B[39m \u001B[38;5;28mself\u001B[39m\u001B[38;5;241m.\u001B[39m_reindex_non_unique(keyarr)\n\u001B[1;32m-> 5796\u001B[0m \u001B[38;5;28;43mself\u001B[39;49m\u001B[38;5;241;43m.\u001B[39;49m\u001B[43m_raise_if_missing\u001B[49m\u001B[43m(\u001B[49m\u001B[43mkeyarr\u001B[49m\u001B[43m,\u001B[49m\u001B[43m \u001B[49m\u001B[43mindexer\u001B[49m\u001B[43m,\u001B[49m\u001B[43m \u001B[49m\u001B[43maxis_name\u001B[49m\u001B[43m)\u001B[49m\n\u001B[0;32m   5798\u001B[0m keyarr \u001B[38;5;241m=\u001B[39m \u001B[38;5;28mself\u001B[39m\u001B[38;5;241m.\u001B[39mtake(indexer)\n\u001B[0;32m   5799\u001B[0m \u001B[38;5;28;01mif\u001B[39;00m \u001B[38;5;28misinstance\u001B[39m(key, Index):\n\u001B[0;32m   5800\u001B[0m     \u001B[38;5;66;03m# GH 42790 - Preserve name from an Index\u001B[39;00m\n",
      "File \u001B[1;32mE:\\Anaconda3\\lib\\site-packages\\pandas\\core\\indexes\\base.py:5856\u001B[0m, in \u001B[0;36mIndex._raise_if_missing\u001B[1;34m(self, key, indexer, axis_name)\u001B[0m\n\u001B[0;32m   5854\u001B[0m     \u001B[38;5;28;01mif\u001B[39;00m use_interval_msg:\n\u001B[0;32m   5855\u001B[0m         key \u001B[38;5;241m=\u001B[39m \u001B[38;5;28mlist\u001B[39m(key)\n\u001B[1;32m-> 5856\u001B[0m     \u001B[38;5;28;01mraise\u001B[39;00m \u001B[38;5;167;01mKeyError\u001B[39;00m(\u001B[38;5;124mf\u001B[39m\u001B[38;5;124m\"\u001B[39m\u001B[38;5;124mNone of [\u001B[39m\u001B[38;5;132;01m{\u001B[39;00mkey\u001B[38;5;132;01m}\u001B[39;00m\u001B[38;5;124m] are in the [\u001B[39m\u001B[38;5;132;01m{\u001B[39;00maxis_name\u001B[38;5;132;01m}\u001B[39;00m\u001B[38;5;124m]\u001B[39m\u001B[38;5;124m\"\u001B[39m)\n\u001B[0;32m   5858\u001B[0m not_found \u001B[38;5;241m=\u001B[39m \u001B[38;5;28mlist\u001B[39m(ensure_index(key)[missing_mask\u001B[38;5;241m.\u001B[39mnonzero()[\u001B[38;5;241m0\u001B[39m]]\u001B[38;5;241m.\u001B[39munique())\n\u001B[0;32m   5859\u001B[0m \u001B[38;5;28;01mraise\u001B[39;00m \u001B[38;5;167;01mKeyError\u001B[39;00m(\u001B[38;5;124mf\u001B[39m\u001B[38;5;124m\"\u001B[39m\u001B[38;5;132;01m{\u001B[39;00mnot_found\u001B[38;5;132;01m}\u001B[39;00m\u001B[38;5;124m not in index\u001B[39m\u001B[38;5;124m\"\u001B[39m)\n",
      "\u001B[1;31mKeyError\u001B[0m: \"None of [Index(['1', '2'], dtype='object')] are in the [columns]\""
     ]
    }
   ],
   "source": [
    "df_demo = df[['1','2']]"
   ],
   "metadata": {
    "collapsed": false
   }
  },
  {
   "cell_type": "code",
   "execution_count": null,
   "outputs": [],
   "source": [
    "df_demo"
   ],
   "metadata": {
    "collapsed": false
   }
  },
  {
   "cell_type": "code",
   "execution_count": null,
   "outputs": [],
   "source": [
    "df_demo.mean()"
   ],
   "metadata": {
    "collapsed": false
   }
  },
  {
   "cell_type": "code",
   "execution_count": null,
   "outputs": [],
   "source": [
    "df_demo.max()"
   ],
   "metadata": {
    "collapsed": false
   }
  },
  {
   "cell_type": "code",
   "execution_count": null,
   "outputs": [],
   "source": [
    "df_demo.quantile(0.75)"
   ],
   "metadata": {
    "collapsed": false
   }
  },
  {
   "cell_type": "code",
   "execution_count": null,
   "outputs": [],
   "source": [
    "df_demo.count()"
   ],
   "metadata": {
    "collapsed": false
   }
  },
  {
   "cell_type": "code",
   "execution_count": null,
   "outputs": [],
   "source": [
    "df_demo.idxmax()"
   ],
   "metadata": {
    "collapsed": false
   }
  },
  {
   "cell_type": "markdown",
   "source": [
    "# 实践一\n",
    "* 请计算：所有学校不同的身高、体重的均值、最大值、最小值\n",
    "* 请计算：所有不同学校的男女比例情况\n",
    "* 统计：不同学校的Grade的数量"
   ],
   "metadata": {
    "collapsed": false
   }
  },
  {
   "cell_type": "code",
   "execution_count": 35,
   "outputs": [
    {
     "data": {
      "text/plain": "                            School      Grade            Name  Gender  Height  \\\n0    Shanghai Jiao Tong University   Freshman    Gaopeng Yang  Female   158.9   \n1                Peking University   Freshman  Changqiang You    Male   166.5   \n2    Shanghai Jiao Tong University     Senior         Mei Sun    Male   188.9   \n3                 Fudan University  Sophomore    Xiaojuan Sun  Female     NaN   \n4                 Fudan University  Sophomore     Gaojuan You    Male   174.0   \n..                             ...        ...             ...     ...     ...   \n195               Fudan University     Junior    Xiaojuan Sun  Female   153.9   \n196            Tsinghua University     Senior         Li Zhao  Female   160.9   \n197  Shanghai Jiao Tong University     Senior  Chengqiang Chu  Female   153.9   \n198  Shanghai Jiao Tong University     Senior   Chengmei Shen    Male   175.3   \n199            Tsinghua University  Sophomore     Chunpeng Lv    Male   155.7   \n\n     Weight Transfer  Test_Number   Test_Date Time_Record  \n0      46.0        N            1   2019/10/5     0:04:34  \n1      70.0        N            1    2019/9/4     0:04:20  \n2      89.0        N            2   2019/9/12     0:05:22  \n3      41.0        N            2    2020/1/3     0:04:08  \n4      74.0        N            2   2019/11/6     0:05:22  \n..      ...      ...          ...         ...         ...  \n195    46.0        N            2  2019/10/17     0:04:31  \n196    50.0        N            3   2019/9/22     0:04:03  \n197    45.0        N            1    2020/1/5     0:04:48  \n198    71.0        N            2    2020/1/7     0:04:58  \n199    51.0        N            1   2019/11/6     0:05:05  \n\n[200 rows x 10 columns]",
      "text/html": "<div>\n<style scoped>\n    .dataframe tbody tr th:only-of-type {\n        vertical-align: middle;\n    }\n\n    .dataframe tbody tr th {\n        vertical-align: top;\n    }\n\n    .dataframe thead th {\n        text-align: right;\n    }\n</style>\n<table border=\"1\" class=\"dataframe\">\n  <thead>\n    <tr style=\"text-align: right;\">\n      <th></th>\n      <th>School</th>\n      <th>Grade</th>\n      <th>Name</th>\n      <th>Gender</th>\n      <th>Height</th>\n      <th>Weight</th>\n      <th>Transfer</th>\n      <th>Test_Number</th>\n      <th>Test_Date</th>\n      <th>Time_Record</th>\n    </tr>\n  </thead>\n  <tbody>\n    <tr>\n      <th>0</th>\n      <td>Shanghai Jiao Tong University</td>\n      <td>Freshman</td>\n      <td>Gaopeng Yang</td>\n      <td>Female</td>\n      <td>158.9</td>\n      <td>46.0</td>\n      <td>N</td>\n      <td>1</td>\n      <td>2019/10/5</td>\n      <td>0:04:34</td>\n    </tr>\n    <tr>\n      <th>1</th>\n      <td>Peking University</td>\n      <td>Freshman</td>\n      <td>Changqiang You</td>\n      <td>Male</td>\n      <td>166.5</td>\n      <td>70.0</td>\n      <td>N</td>\n      <td>1</td>\n      <td>2019/9/4</td>\n      <td>0:04:20</td>\n    </tr>\n    <tr>\n      <th>2</th>\n      <td>Shanghai Jiao Tong University</td>\n      <td>Senior</td>\n      <td>Mei Sun</td>\n      <td>Male</td>\n      <td>188.9</td>\n      <td>89.0</td>\n      <td>N</td>\n      <td>2</td>\n      <td>2019/9/12</td>\n      <td>0:05:22</td>\n    </tr>\n    <tr>\n      <th>3</th>\n      <td>Fudan University</td>\n      <td>Sophomore</td>\n      <td>Xiaojuan Sun</td>\n      <td>Female</td>\n      <td>NaN</td>\n      <td>41.0</td>\n      <td>N</td>\n      <td>2</td>\n      <td>2020/1/3</td>\n      <td>0:04:08</td>\n    </tr>\n    <tr>\n      <th>4</th>\n      <td>Fudan University</td>\n      <td>Sophomore</td>\n      <td>Gaojuan You</td>\n      <td>Male</td>\n      <td>174.0</td>\n      <td>74.0</td>\n      <td>N</td>\n      <td>2</td>\n      <td>2019/11/6</td>\n      <td>0:05:22</td>\n    </tr>\n    <tr>\n      <th>...</th>\n      <td>...</td>\n      <td>...</td>\n      <td>...</td>\n      <td>...</td>\n      <td>...</td>\n      <td>...</td>\n      <td>...</td>\n      <td>...</td>\n      <td>...</td>\n      <td>...</td>\n    </tr>\n    <tr>\n      <th>195</th>\n      <td>Fudan University</td>\n      <td>Junior</td>\n      <td>Xiaojuan Sun</td>\n      <td>Female</td>\n      <td>153.9</td>\n      <td>46.0</td>\n      <td>N</td>\n      <td>2</td>\n      <td>2019/10/17</td>\n      <td>0:04:31</td>\n    </tr>\n    <tr>\n      <th>196</th>\n      <td>Tsinghua University</td>\n      <td>Senior</td>\n      <td>Li Zhao</td>\n      <td>Female</td>\n      <td>160.9</td>\n      <td>50.0</td>\n      <td>N</td>\n      <td>3</td>\n      <td>2019/9/22</td>\n      <td>0:04:03</td>\n    </tr>\n    <tr>\n      <th>197</th>\n      <td>Shanghai Jiao Tong University</td>\n      <td>Senior</td>\n      <td>Chengqiang Chu</td>\n      <td>Female</td>\n      <td>153.9</td>\n      <td>45.0</td>\n      <td>N</td>\n      <td>1</td>\n      <td>2020/1/5</td>\n      <td>0:04:48</td>\n    </tr>\n    <tr>\n      <th>198</th>\n      <td>Shanghai Jiao Tong University</td>\n      <td>Senior</td>\n      <td>Chengmei Shen</td>\n      <td>Male</td>\n      <td>175.3</td>\n      <td>71.0</td>\n      <td>N</td>\n      <td>2</td>\n      <td>2020/1/7</td>\n      <td>0:04:58</td>\n    </tr>\n    <tr>\n      <th>199</th>\n      <td>Tsinghua University</td>\n      <td>Sophomore</td>\n      <td>Chunpeng Lv</td>\n      <td>Male</td>\n      <td>155.7</td>\n      <td>51.0</td>\n      <td>N</td>\n      <td>1</td>\n      <td>2019/11/6</td>\n      <td>0:05:05</td>\n    </tr>\n  </tbody>\n</table>\n<p>200 rows × 10 columns</p>\n</div>"
     },
     "execution_count": 35,
     "metadata": {},
     "output_type": "execute_result"
    }
   ],
   "source": [
    "df"
   ],
   "metadata": {
    "collapsed": false
   }
  },
  {
   "cell_type": "code",
   "execution_count": 34,
   "outputs": [
    {
     "data": {
      "text/plain": "array(['Shanghai Jiao Tong University', 'Peking University',\n       'Fudan University', 'Tsinghua University'], dtype=object)"
     },
     "execution_count": 34,
     "metadata": {},
     "output_type": "execute_result"
    }
   ],
   "source": [
    "df['School'].unique()\n"
   ],
   "metadata": {
    "collapsed": false
   }
  },
  {
   "cell_type": "code",
   "execution_count": 33,
   "outputs": [
    {
     "data": {
      "text/plain": "                School      Grade            Name  Gender  Height  Weight  \\\n1    Peking University   Freshman  Changqiang You    Male   166.5    70.0   \n9    Peking University     Junior         Juan Xu  Female   164.8     NaN   \n20   Peking University     Junior   Changjuan You  Female   161.4    47.0   \n29   Peking University  Sophomore     Changmei Xu  Female   151.6    43.0   \n30   Peking University     Senior      Changli Lv  Female   148.7    41.0   \n32   Peking University   Freshman     Gaopeng Shi  Female   162.9    48.0   \n35   Peking University   Freshman      Gaoli Zhao    Male   175.4    78.0   \n36   Peking University   Freshman    Xiaojuan Qin    Male     NaN    79.0   \n38   Peking University   Freshman       Qiang Han    Male   185.3    87.0   \n45   Peking University   Freshman        Quan Chu  Female   154.7    43.0   \n54   Peking University   Freshman    Xiaojuan Chu    Male   162.4    58.0   \n57   Peking University   Freshman   Changquan Chu  Female   159.6    45.0   \n59   Peking University     Junior        Gaoli Xu  Female   157.3    48.0   \n61   Peking University  Sophomore    Xiaopeng Qin    Male   172.8     NaN   \n72   Peking University     Junior    Gaoquan Zhou    Male   166.8    70.0   \n75   Peking University     Junior       Qiang You  Female   170.0    56.0   \n83   Peking University  Sophomore          Mei Xu  Female   154.2    39.0   \n86   Peking University     Senior      Feng Zheng  Female   162.6    49.0   \n88   Peking University   Freshman    Xiaopeng Han  Female   164.1    53.0   \n96   Peking University   Freshman   Changmei Feng  Female   163.8    56.0   \n99   Peking University   Freshman  Changpeng Zhao    Male   181.3    83.0   \n101  Peking University  Sophomore     Xiaoli Zhou  Female   166.8    55.0   \n102  Peking University     Junior    Chengli Zhao    Male     NaN     NaN   \n116  Peking University     Senior       Feng Zhao    Male   167.2    66.0   \n120  Peking University  Sophomore        Peng Han  Female   147.8    34.0   \n127  Peking University     Senior   Changquan Han    Male   173.4    77.0   \n130  Peking University     Senior        Mei Feng  Female     NaN    51.0   \n132  Peking University     Senior   Chunpeng Qian  Female   161.6     NaN   \n140  Peking University   Freshman     Qiang Zhang  Female   152.7    43.0   \n147  Peking University     Senior        Juan You    Male   169.2    69.0   \n159  Peking University     Junior  Chengpeng Zhao  Female   156.0    44.0   \n183  Peking University     Junior   Xiaofeng Zhao  Female   159.9    46.0   \n185  Peking University   Freshman    Chunmei Wang  Female   151.2    43.0   \n194  Peking University     Senior     Yanmei Qian  Female   160.3    49.0   \n\n    Transfer  Test_Number   Test_Date Time_Record  \n1          N            1    2019/9/4     0:04:20  \n9          N            3   2019/10/5     0:04:05  \n20         N            1   2019/10/5     0:04:08  \n29         N            2    2020/1/3     0:04:28  \n30         N            2  2019/11/13     0:04:54  \n32         N            1   2019/9/12     0:04:58  \n35         N            2   2019/10/8     0:03:32  \n36         Y            1  2019/12/10     0:04:10  \n38         N            3    2020/1/7     0:03:58  \n45         N            1  2019/11/28     0:04:47  \n54         Y            3  2019/11/29     0:03:42  \n57         N            2   2019/12/9     0:04:18  \n59         N            2  2019/12/11     0:05:13  \n61         N            1  2019/12/23     0:05:29  \n72         N            2    2019/9/5     0:04:24  \n75         N            3  2019/12/31     0:04:27  \n83         N            2   2019/11/5     0:04:29  \n86         N            2   2019/11/5     0:04:11  \n88         N            1  2019/12/18     0:05:20  \n96         N            3   2019/11/8     0:04:41  \n99         N            2  2019/10/24     0:04:08  \n101        N            1  2019/10/28     0:05:24  \n102      NaN            1  2019/10/13     0:03:55  \n116        N            1    2020/1/3     0:04:56  \n120      NaN            2   2019/9/19     0:03:32  \n127        N            1   2019/11/4     0:03:56  \n130        N            3   2019/9/28     0:05:29  \n132        N            1  2019/11/10     0:04:10  \n140        N            1  2019/11/30     0:05:27  \n147      NaN            1  2019/10/31     0:05:28  \n159        N            1    2019/9/2     0:03:53  \n183        N            1  2019/10/17     0:05:20  \n185        N            2  2019/12/10     0:04:24  \n194      NaN            1   2019/12/3     0:05:08  ",
      "text/html": "<div>\n<style scoped>\n    .dataframe tbody tr th:only-of-type {\n        vertical-align: middle;\n    }\n\n    .dataframe tbody tr th {\n        vertical-align: top;\n    }\n\n    .dataframe thead th {\n        text-align: right;\n    }\n</style>\n<table border=\"1\" class=\"dataframe\">\n  <thead>\n    <tr style=\"text-align: right;\">\n      <th></th>\n      <th>School</th>\n      <th>Grade</th>\n      <th>Name</th>\n      <th>Gender</th>\n      <th>Height</th>\n      <th>Weight</th>\n      <th>Transfer</th>\n      <th>Test_Number</th>\n      <th>Test_Date</th>\n      <th>Time_Record</th>\n    </tr>\n  </thead>\n  <tbody>\n    <tr>\n      <th>1</th>\n      <td>Peking University</td>\n      <td>Freshman</td>\n      <td>Changqiang You</td>\n      <td>Male</td>\n      <td>166.5</td>\n      <td>70.0</td>\n      <td>N</td>\n      <td>1</td>\n      <td>2019/9/4</td>\n      <td>0:04:20</td>\n    </tr>\n    <tr>\n      <th>9</th>\n      <td>Peking University</td>\n      <td>Junior</td>\n      <td>Juan Xu</td>\n      <td>Female</td>\n      <td>164.8</td>\n      <td>NaN</td>\n      <td>N</td>\n      <td>3</td>\n      <td>2019/10/5</td>\n      <td>0:04:05</td>\n    </tr>\n    <tr>\n      <th>20</th>\n      <td>Peking University</td>\n      <td>Junior</td>\n      <td>Changjuan You</td>\n      <td>Female</td>\n      <td>161.4</td>\n      <td>47.0</td>\n      <td>N</td>\n      <td>1</td>\n      <td>2019/10/5</td>\n      <td>0:04:08</td>\n    </tr>\n    <tr>\n      <th>29</th>\n      <td>Peking University</td>\n      <td>Sophomore</td>\n      <td>Changmei Xu</td>\n      <td>Female</td>\n      <td>151.6</td>\n      <td>43.0</td>\n      <td>N</td>\n      <td>2</td>\n      <td>2020/1/3</td>\n      <td>0:04:28</td>\n    </tr>\n    <tr>\n      <th>30</th>\n      <td>Peking University</td>\n      <td>Senior</td>\n      <td>Changli Lv</td>\n      <td>Female</td>\n      <td>148.7</td>\n      <td>41.0</td>\n      <td>N</td>\n      <td>2</td>\n      <td>2019/11/13</td>\n      <td>0:04:54</td>\n    </tr>\n    <tr>\n      <th>32</th>\n      <td>Peking University</td>\n      <td>Freshman</td>\n      <td>Gaopeng Shi</td>\n      <td>Female</td>\n      <td>162.9</td>\n      <td>48.0</td>\n      <td>N</td>\n      <td>1</td>\n      <td>2019/9/12</td>\n      <td>0:04:58</td>\n    </tr>\n    <tr>\n      <th>35</th>\n      <td>Peking University</td>\n      <td>Freshman</td>\n      <td>Gaoli Zhao</td>\n      <td>Male</td>\n      <td>175.4</td>\n      <td>78.0</td>\n      <td>N</td>\n      <td>2</td>\n      <td>2019/10/8</td>\n      <td>0:03:32</td>\n    </tr>\n    <tr>\n      <th>36</th>\n      <td>Peking University</td>\n      <td>Freshman</td>\n      <td>Xiaojuan Qin</td>\n      <td>Male</td>\n      <td>NaN</td>\n      <td>79.0</td>\n      <td>Y</td>\n      <td>1</td>\n      <td>2019/12/10</td>\n      <td>0:04:10</td>\n    </tr>\n    <tr>\n      <th>38</th>\n      <td>Peking University</td>\n      <td>Freshman</td>\n      <td>Qiang Han</td>\n      <td>Male</td>\n      <td>185.3</td>\n      <td>87.0</td>\n      <td>N</td>\n      <td>3</td>\n      <td>2020/1/7</td>\n      <td>0:03:58</td>\n    </tr>\n    <tr>\n      <th>45</th>\n      <td>Peking University</td>\n      <td>Freshman</td>\n      <td>Quan Chu</td>\n      <td>Female</td>\n      <td>154.7</td>\n      <td>43.0</td>\n      <td>N</td>\n      <td>1</td>\n      <td>2019/11/28</td>\n      <td>0:04:47</td>\n    </tr>\n    <tr>\n      <th>54</th>\n      <td>Peking University</td>\n      <td>Freshman</td>\n      <td>Xiaojuan Chu</td>\n      <td>Male</td>\n      <td>162.4</td>\n      <td>58.0</td>\n      <td>Y</td>\n      <td>3</td>\n      <td>2019/11/29</td>\n      <td>0:03:42</td>\n    </tr>\n    <tr>\n      <th>57</th>\n      <td>Peking University</td>\n      <td>Freshman</td>\n      <td>Changquan Chu</td>\n      <td>Female</td>\n      <td>159.6</td>\n      <td>45.0</td>\n      <td>N</td>\n      <td>2</td>\n      <td>2019/12/9</td>\n      <td>0:04:18</td>\n    </tr>\n    <tr>\n      <th>59</th>\n      <td>Peking University</td>\n      <td>Junior</td>\n      <td>Gaoli Xu</td>\n      <td>Female</td>\n      <td>157.3</td>\n      <td>48.0</td>\n      <td>N</td>\n      <td>2</td>\n      <td>2019/12/11</td>\n      <td>0:05:13</td>\n    </tr>\n    <tr>\n      <th>61</th>\n      <td>Peking University</td>\n      <td>Sophomore</td>\n      <td>Xiaopeng Qin</td>\n      <td>Male</td>\n      <td>172.8</td>\n      <td>NaN</td>\n      <td>N</td>\n      <td>1</td>\n      <td>2019/12/23</td>\n      <td>0:05:29</td>\n    </tr>\n    <tr>\n      <th>72</th>\n      <td>Peking University</td>\n      <td>Junior</td>\n      <td>Gaoquan Zhou</td>\n      <td>Male</td>\n      <td>166.8</td>\n      <td>70.0</td>\n      <td>N</td>\n      <td>2</td>\n      <td>2019/9/5</td>\n      <td>0:04:24</td>\n    </tr>\n    <tr>\n      <th>75</th>\n      <td>Peking University</td>\n      <td>Junior</td>\n      <td>Qiang You</td>\n      <td>Female</td>\n      <td>170.0</td>\n      <td>56.0</td>\n      <td>N</td>\n      <td>3</td>\n      <td>2019/12/31</td>\n      <td>0:04:27</td>\n    </tr>\n    <tr>\n      <th>83</th>\n      <td>Peking University</td>\n      <td>Sophomore</td>\n      <td>Mei Xu</td>\n      <td>Female</td>\n      <td>154.2</td>\n      <td>39.0</td>\n      <td>N</td>\n      <td>2</td>\n      <td>2019/11/5</td>\n      <td>0:04:29</td>\n    </tr>\n    <tr>\n      <th>86</th>\n      <td>Peking University</td>\n      <td>Senior</td>\n      <td>Feng Zheng</td>\n      <td>Female</td>\n      <td>162.6</td>\n      <td>49.0</td>\n      <td>N</td>\n      <td>2</td>\n      <td>2019/11/5</td>\n      <td>0:04:11</td>\n    </tr>\n    <tr>\n      <th>88</th>\n      <td>Peking University</td>\n      <td>Freshman</td>\n      <td>Xiaopeng Han</td>\n      <td>Female</td>\n      <td>164.1</td>\n      <td>53.0</td>\n      <td>N</td>\n      <td>1</td>\n      <td>2019/12/18</td>\n      <td>0:05:20</td>\n    </tr>\n    <tr>\n      <th>96</th>\n      <td>Peking University</td>\n      <td>Freshman</td>\n      <td>Changmei Feng</td>\n      <td>Female</td>\n      <td>163.8</td>\n      <td>56.0</td>\n      <td>N</td>\n      <td>3</td>\n      <td>2019/11/8</td>\n      <td>0:04:41</td>\n    </tr>\n    <tr>\n      <th>99</th>\n      <td>Peking University</td>\n      <td>Freshman</td>\n      <td>Changpeng Zhao</td>\n      <td>Male</td>\n      <td>181.3</td>\n      <td>83.0</td>\n      <td>N</td>\n      <td>2</td>\n      <td>2019/10/24</td>\n      <td>0:04:08</td>\n    </tr>\n    <tr>\n      <th>101</th>\n      <td>Peking University</td>\n      <td>Sophomore</td>\n      <td>Xiaoli Zhou</td>\n      <td>Female</td>\n      <td>166.8</td>\n      <td>55.0</td>\n      <td>N</td>\n      <td>1</td>\n      <td>2019/10/28</td>\n      <td>0:05:24</td>\n    </tr>\n    <tr>\n      <th>102</th>\n      <td>Peking University</td>\n      <td>Junior</td>\n      <td>Chengli Zhao</td>\n      <td>Male</td>\n      <td>NaN</td>\n      <td>NaN</td>\n      <td>NaN</td>\n      <td>1</td>\n      <td>2019/10/13</td>\n      <td>0:03:55</td>\n    </tr>\n    <tr>\n      <th>116</th>\n      <td>Peking University</td>\n      <td>Senior</td>\n      <td>Feng Zhao</td>\n      <td>Male</td>\n      <td>167.2</td>\n      <td>66.0</td>\n      <td>N</td>\n      <td>1</td>\n      <td>2020/1/3</td>\n      <td>0:04:56</td>\n    </tr>\n    <tr>\n      <th>120</th>\n      <td>Peking University</td>\n      <td>Sophomore</td>\n      <td>Peng Han</td>\n      <td>Female</td>\n      <td>147.8</td>\n      <td>34.0</td>\n      <td>NaN</td>\n      <td>2</td>\n      <td>2019/9/19</td>\n      <td>0:03:32</td>\n    </tr>\n    <tr>\n      <th>127</th>\n      <td>Peking University</td>\n      <td>Senior</td>\n      <td>Changquan Han</td>\n      <td>Male</td>\n      <td>173.4</td>\n      <td>77.0</td>\n      <td>N</td>\n      <td>1</td>\n      <td>2019/11/4</td>\n      <td>0:03:56</td>\n    </tr>\n    <tr>\n      <th>130</th>\n      <td>Peking University</td>\n      <td>Senior</td>\n      <td>Mei Feng</td>\n      <td>Female</td>\n      <td>NaN</td>\n      <td>51.0</td>\n      <td>N</td>\n      <td>3</td>\n      <td>2019/9/28</td>\n      <td>0:05:29</td>\n    </tr>\n    <tr>\n      <th>132</th>\n      <td>Peking University</td>\n      <td>Senior</td>\n      <td>Chunpeng Qian</td>\n      <td>Female</td>\n      <td>161.6</td>\n      <td>NaN</td>\n      <td>N</td>\n      <td>1</td>\n      <td>2019/11/10</td>\n      <td>0:04:10</td>\n    </tr>\n    <tr>\n      <th>140</th>\n      <td>Peking University</td>\n      <td>Freshman</td>\n      <td>Qiang Zhang</td>\n      <td>Female</td>\n      <td>152.7</td>\n      <td>43.0</td>\n      <td>N</td>\n      <td>1</td>\n      <td>2019/11/30</td>\n      <td>0:05:27</td>\n    </tr>\n    <tr>\n      <th>147</th>\n      <td>Peking University</td>\n      <td>Senior</td>\n      <td>Juan You</td>\n      <td>Male</td>\n      <td>169.2</td>\n      <td>69.0</td>\n      <td>NaN</td>\n      <td>1</td>\n      <td>2019/10/31</td>\n      <td>0:05:28</td>\n    </tr>\n    <tr>\n      <th>159</th>\n      <td>Peking University</td>\n      <td>Junior</td>\n      <td>Chengpeng Zhao</td>\n      <td>Female</td>\n      <td>156.0</td>\n      <td>44.0</td>\n      <td>N</td>\n      <td>1</td>\n      <td>2019/9/2</td>\n      <td>0:03:53</td>\n    </tr>\n    <tr>\n      <th>183</th>\n      <td>Peking University</td>\n      <td>Junior</td>\n      <td>Xiaofeng Zhao</td>\n      <td>Female</td>\n      <td>159.9</td>\n      <td>46.0</td>\n      <td>N</td>\n      <td>1</td>\n      <td>2019/10/17</td>\n      <td>0:05:20</td>\n    </tr>\n    <tr>\n      <th>185</th>\n      <td>Peking University</td>\n      <td>Freshman</td>\n      <td>Chunmei Wang</td>\n      <td>Female</td>\n      <td>151.2</td>\n      <td>43.0</td>\n      <td>N</td>\n      <td>2</td>\n      <td>2019/12/10</td>\n      <td>0:04:24</td>\n    </tr>\n    <tr>\n      <th>194</th>\n      <td>Peking University</td>\n      <td>Senior</td>\n      <td>Yanmei Qian</td>\n      <td>Female</td>\n      <td>160.3</td>\n      <td>49.0</td>\n      <td>NaN</td>\n      <td>1</td>\n      <td>2019/12/3</td>\n      <td>0:05:08</td>\n    </tr>\n  </tbody>\n</table>\n</div>"
     },
     "execution_count": 33,
     "metadata": {},
     "output_type": "execute_result"
    }
   ],
   "source": [
    "df.query(\"School=='Peking University'\")"
   ],
   "metadata": {
    "collapsed": false
   }
  },
  {
   "cell_type": "code",
   "execution_count": 36,
   "outputs": [
    {
     "data": {
      "text/plain": "89.0"
     },
     "execution_count": 36,
     "metadata": {},
     "output_type": "execute_result"
    }
   ],
   "source": [
    "df['Weight'].max()"
   ],
   "metadata": {
    "collapsed": false
   }
  },
  {
   "cell_type": "code",
   "execution_count": 37,
   "outputs": [
    {
     "data": {
      "text/plain": "55.01587301587302"
     },
     "execution_count": 37,
     "metadata": {},
     "output_type": "execute_result"
    }
   ],
   "source": [
    "df['Weight'].mean()"
   ],
   "metadata": {
    "collapsed": false
   }
  },
  {
   "cell_type": "code",
   "execution_count": 38,
   "outputs": [
    {
     "data": {
      "text/plain": "34.0"
     },
     "execution_count": 38,
     "metadata": {},
     "output_type": "execute_result"
    }
   ],
   "source": [
    "df['Weight'].min()"
   ],
   "metadata": {
    "collapsed": false
   }
  },
  {
   "cell_type": "code",
   "execution_count": 39,
   "outputs": [
    {
     "data": {
      "text/plain": "193.9"
     },
     "execution_count": 39,
     "metadata": {},
     "output_type": "execute_result"
    }
   ],
   "source": [
    "df['Height'].max()"
   ],
   "metadata": {
    "collapsed": false
   }
  },
  {
   "cell_type": "code",
   "execution_count": 40,
   "outputs": [
    {
     "data": {
      "text/plain": "145.4"
     },
     "execution_count": 40,
     "metadata": {},
     "output_type": "execute_result"
    }
   ],
   "source": [
    "df['Height'].min()"
   ],
   "metadata": {
    "collapsed": false
   }
  },
  {
   "cell_type": "code",
   "execution_count": 41,
   "outputs": [
    {
     "data": {
      "text/plain": "Female    141\nMale       59\nName: Gender, dtype: int64"
     },
     "execution_count": 41,
     "metadata": {},
     "output_type": "execute_result"
    }
   ],
   "source": [
    "df['Gender'].value_counts()"
   ],
   "metadata": {
    "collapsed": false
   }
  },
  {
   "cell_type": "code",
   "execution_count": 42,
   "outputs": [
    {
     "data": {
      "text/plain": "Junior       59\nSenior       55\nFreshman     52\nSophomore    34\nName: Grade, dtype: int64"
     },
     "execution_count": 42,
     "metadata": {},
     "output_type": "execute_result"
    }
   ],
   "source": [
    "df['Grade'].value_counts()"
   ],
   "metadata": {
    "collapsed": false
   }
  },
  {
   "cell_type": "code",
   "execution_count": null,
   "outputs": [],
   "source": [],
   "metadata": {
    "collapsed": false
   }
  }
 ],
 "metadata": {
  "kernelspec": {
   "display_name": "base",
   "language": "python",
   "name": "python3"
  },
  "language_info": {
   "codemirror_mode": {
    "name": "ipython",
    "version": 3
   },
   "file_extension": ".py",
   "mimetype": "text/x-python",
   "name": "python",
   "nbconvert_exporter": "python",
   "pygments_lexer": "ipython3",
   "version": "3.9.13"
  },
  "orig_nbformat": 4,
  "vscode": {
   "interpreter": {
    "hash": "f8b40d688a12481f01eadf7380c47edd8a49484a47dba3db091451640e880c68"
   }
  }
 },
 "nbformat": 4,
 "nbformat_minor": 2
}
