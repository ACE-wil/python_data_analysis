{
 "cells": [
  {
   "cell_type": "code",
   "execution_count": 4,
   "metadata": {
    "collapsed": true
   },
   "outputs": [],
   "source": [
    "import docx\n",
    "\n",
    "# 打开文档\n",
    "doc = docx.Document(\"./1.docx\")\n",
    "\n",
    "# 遍历段落\n",
    "for para in doc.paragraphs:\n",
    "    # 获取段落的文本\n",
    "    text = para.text\n",
    "    # 如果段落的文本不为空\n",
    "    if text:\n",
    "        # 按空格分隔文本\n",
    "        parts = text.split(\" \")\n",
    "        # 如果该段文本符合格式要求\n",
    "        if len(parts) > 2 and parts[1].startswith(\"[\") and parts[1].endswith(\"]\"):\n",
    "            # 获取单词编号、单词、音标和翻译\n",
    "            num = parts[0].strip(\".\")\n",
    "            word = parts[1][1:-1]\n",
    "            phonetic = parts[2]\n",
    "            meaning = \" \".join(parts[3:])\n",
    "            # 按照格式重新组合文本\n",
    "            new_text = f\"{num}.{word} {phonetic} {meaning}\"\n",
    "            # 替换原来的文本\n",
    "            para.text = new_text\n",
    "\n",
    "# 保存文档\n",
    "doc.save(\"new_docx_file.docx\")\n"
   ]
  },
  {
   "cell_type": "code",
   "execution_count": 7,
   "outputs": [],
   "source": [
    "import docx\n",
    "\n",
    "# 打开文档\n",
    "doc = docx.Document(\"./new.docx\")\n",
    "\n",
    "# 遍历段落\n",
    "for para in doc.paragraphs:\n",
    "    # 获取段落的文本\n",
    "    text = para.text\n",
    "    # 如果段落的文本不为空\n",
    "    if text:\n",
    "        # 按空格分隔文本\n",
    "        parts = text.split(\" \")\n",
    "        # 如果该段文本符合格式要求\n",
    "        if len(parts) > 2 and parts[1].startswith(\"[\") and parts[1].endswith(\"]\"):\n",
    "            # 获取单词编号、单词、音标和翻译\n",
    "            num = parts[0].strip(\".\")\n",
    "            word = parts[1][1:-1]\n",
    "            phonetic = parts[2]\n",
    "            meaning = \" \".join(parts[3:])\n",
    "\n",
    "            # 新增代码，删除问号之间的内容\n",
    "            parts_to_remove = []\n",
    "            for i in range(0, len(parts)-1):\n",
    "                if parts[i] == \"?\" and parts[i+1] == \"?\":\n",
    "                    start = i\n",
    "                    end = i+1\n",
    "                    while start >= 0 and parts[start] != \".\":\n",
    "                        start -= 1\n",
    "                    while end < len(parts) and parts[end] != \".\":\n",
    "                        end += 1\n",
    "                    parts_to_remove.extend(range(start+1, end))\n",
    "            parts = [parts[i] for i in range(len(parts)) if i not in parts_to_remove]\n",
    "\n",
    "            # 按照格式重新组合文本\n",
    "            new_text = f\"{num}.{word} {phonetic} {' '.join(parts[3:])}\"\n",
    "            # 替换原来的文本\n",
    "            para.text = new_text\n",
    "\n",
    "# 保存文档\n",
    "doc.save(\"new_one.docx\")\n"
   ],
   "metadata": {
    "collapsed": false
   }
  },
  {
   "cell_type": "code",
   "execution_count": 9,
   "outputs": [],
   "source": [
    "import docx\n",
    "\n",
    "# 打开文档\n",
    "doc = docx.Document(\"new.docx\")\n",
    "\n",
    "# 遍历段落\n",
    "for para in doc.paragraphs:\n",
    "    # 获取段落的文本\n",
    "    text = para.text\n",
    "    # 如果段落的文本不为空\n",
    "    if text:\n",
    "        # 切分文本\n",
    "        parts = text.split(\"?\")\n",
    "        # 保留奇数位置的切分结果\n",
    "        new_parts = [parts[i] for i in range(len(parts)) if i % 2 == 0]\n",
    "        # 按照问号重新组合文本\n",
    "        new_text = \"?\".join(new_parts)\n",
    "        # 替换原来的文本\n",
    "        para.text = new_text\n",
    "\n",
    "# 保存文档\n",
    "doc.save(\"newnew.docx\")\n"
   ],
   "metadata": {
    "collapsed": false
   }
  },
  {
   "cell_type": "code",
   "execution_count": 10,
   "outputs": [],
   "source": [
    "import re\n",
    "import docx\n",
    "\n",
    "# 打开文档\n",
    "doc = docx.Document(\"./3.docx\")\n",
    "\n",
    "# 定义正则表达式，匹配词性和方括号之间的内容\n",
    "regex = re.compile(r'\\[[^\\]]+\\]\\s*\\w*')\n",
    "\n",
    "# 遍历段落\n",
    "for para in doc.paragraphs:\n",
    "    # 获取段落的文本\n",
    "    text = para.text\n",
    "    # 如果段落的文本不为空\n",
    "    if text:\n",
    "        # 替换匹配到的内容为空字符串\n",
    "        new_text = regex.sub('', text)\n",
    "        # 替换原来的文本\n",
    "        para.text = new_text\n",
    "\n",
    "# 保存文档\n",
    "doc.save(\"new_docx_file.docx\")\n"
   ],
   "metadata": {
    "collapsed": false
   }
  },
  {
   "cell_type": "code",
   "execution_count": 20,
   "outputs": [],
   "source": [
    "import re\n",
    "\n",
    "with open(\"./hha.txt\", \"r\", encoding=\"utf-8\") as file:\n",
    "    data = file.read()\n",
    "\n",
    "# 匹配所有类似于“[...]”的文本\n",
    "pattern = r\"\\[[^\\]]+\\]\"\n",
    "\n",
    "# 将所有匹配到的文本替换为空字符串\n",
    "cleaned_data = re.sub(pattern, \"\", data)\n",
    "\n",
    "with open(\"cleaned_data2.txt\",\"w\",encoding=\"utf-8\") as file:\n",
    "    file.write(cleaned_data)\n"
   ],
   "metadata": {
    "collapsed": false
   }
  },
  {
   "cell_type": "code",
   "execution_count": 21,
   "outputs": [
    {
     "name": "stdout",
     "output_type": "stream",
     "text": [
      "\n",
      "[ә'bændәn] gk cet4 cet6 ky toefl gre\n",
      "vt. 放弃, 抛弃, 遗弃, 使屈从, 沉溺, 放纵\n",
      "n. 放任, 无拘束, 狂热\n",
      "\n",
      "[ә.bri:vi'eiʃәn] cet6 toefl ielts\n",
      "n. 缩写词, 缩写, 缩短, 节略\n",
      "\n",
      "[ә'baid] cet6 ky toefl gre\n",
      "vi. 停留, 遵守, 居留, 继续下去\n",
      "vt. 忍受, 经受, 屈从于\n",
      "\n"
     ]
    }
   ],
   "source": [
    "import re\n",
    "\n",
    "with open(\"./hha.txt\", \"r\", encoding=\"utf-8\") as file:\n",
    "    data = file.read()\n",
    "\n",
    "# 匹配所有类似于“1>abandon [ә'bændәn]”这样的文本\n",
    "pattern = r\"\\d+>[^\\n]+\\n\"\n",
    "\n",
    "# 将所有匹配到的文本替换为其本身去除数字和换行符\n",
    "cleaned_data = re.sub(pattern, lambda match: match.group().split(' ', 1)[1].strip() + \"\\n\", data)\n",
    "\n",
    "print(cleaned_data)\n"
   ],
   "metadata": {
    "collapsed": false
   }
  },
  {
   "cell_type": "code",
   "execution_count": 23,
   "outputs": [
    {
     "name": "stdout",
     "output_type": "stream",
     "text": [
      "\n",
      "1>abandon [ә'bændәn] gk cet4 cet6 ky toefl gre\n",
      "vt. 放弃, 抛弃, 遗弃, 使屈从, 沉溺, 放纵\n",
      "n. 放任, 无拘束, 狂热\n",
      "\n",
      "2>abbreviation [ә.bri:vi'eiʃәn] cet6 toefl ielts\n",
      "n. 缩写词, 缩写, 缩短, 节略\n",
      "\n",
      "3>abide [ә'baid] cet6 ky toefl gre\n",
      "vi. 停留, 遵守, 居留, 继续下去\n",
      "vt. 忍受, 经受, 屈从于\n",
      "\n"
     ]
    }
   ],
   "source": [
    "import re\n",
    "\n",
    "with open(\"./hha.txt\", \"r\", encoding=\"utf-8\") as file:\n",
    "    data = file.read()\n",
    "\n",
    "# 匹配所有方括号内以字母开头的文本\n",
    "pattern = r\"\\[[a-zA-Z][^\\]]*\\]\"\n",
    "\n",
    "# 将所有匹配到的文本替换为空字符串\n",
    "cleaned_data = re.sub(pattern, \"\", data)\n",
    "\n",
    "print(cleaned_data)\n"
   ],
   "metadata": {
    "collapsed": false
   }
  },
  {
   "cell_type": "code",
   "execution_count": 24,
   "outputs": [
    {
     "name": "stdout",
     "output_type": "stream",
     "text": [
      "1>abandon gk cet4 cet6 ky toefl gre [ә'bændәn]\n",
      "vt. 放弃, 抛弃, 遗弃, 使屈从, 沉溺, 放纵\n",
      "\n",
      "2>abbreviation cet6 toefl ielts [ә.bri:vi'eiʃәn]\n",
      "\n",
      "3>abide cet6 ky toefl gre [ә'baid]\n",
      "vi. 停留, 遵守, 居留, 继续下去\n",
      "\n"
     ]
    }
   ],
   "source": [
    "import re\n",
    "\n",
    "with open(\"./hha.txt\", \"r\", encoding=\"utf-8\") as file:\n",
    "    data = file.read()\n",
    "\n",
    "# 匹配每个词条的正则表达式\n",
    "pattern = r\"(\\d+>[^\\n]+)\\n((?:\\w+\\.\\s)?[^\\n]+\\n)*(?:\\[[^\\]]+\\]\\s)?(?:\\w+\\.\\s)?[^\\n]+\"\n",
    "\n",
    "# 从文本中提取每个词条的信息\n",
    "matches = re.findall(pattern, data)\n",
    "\n",
    "# 格式化输出每个词条的信息\n",
    "for match in matches:\n",
    "    header = match[0]\n",
    "    definitions = match[1].strip().split('\\n') if match[1] else []\n",
    "    phonetic = re.search(r\"\\[.+?\\]\", header).group(0)\n",
    "    word = re.sub(r\"\\[.+?\\]\\s\", \"\", header)\n",
    "    print(f\"{word} {phonetic}\")\n",
    "    for definition in definitions:\n",
    "        print(definition.strip())\n",
    "    print()\n"
   ],
   "metadata": {
    "collapsed": false
   }
  },
  {
   "cell_type": "code",
   "execution_count": 26,
   "outputs": [
    {
     "name": "stdout",
     "output_type": "stream",
     "text": [
      "121231?262625sd45s4d5?sdsda\n"
     ]
    }
   ],
   "source": [
    "text = \"121231?26262?5sd45s4d5?sdsda?\"\n",
    "new_text = \"\"\n",
    "count = 0\n",
    "for char in text:\n",
    "    if char == \"?\":\n",
    "        count += 1\n",
    "        if count % 2 == 0:\n",
    "            continue\n",
    "    new_text += char\n",
    "\n",
    "print(new_text)"
   ],
   "metadata": {
    "collapsed": false
   }
  },
  {
   "cell_type": "code",
   "execution_count": 33,
   "outputs": [],
   "source": [
    "with open(\"./hha.txt\", \"r\",encoding='utf-8') as f:\n",
    "    content = f.read()\n",
    "\n",
    "output = \"\"\n",
    "start = None\n",
    "count = 0\n",
    "for i, char in enumerate(content):\n",
    "    if char == \"?\" and count % 2 == 0:\n",
    "        start = i + 1\n",
    "        count += 1\n",
    "    elif char == \"?\" and count % 2 == 1:\n",
    "        output += content[start:i]\n",
    "        start = None\n",
    "        count += 1\n",
    "\n",
    "with open(\"output1.txt\", \"w\") as f:\n",
    "    f.write(output)\n"
   ],
   "metadata": {
    "collapsed": false
   }
  },
  {
   "cell_type": "code",
   "execution_count": null,
   "outputs": [],
   "source": [],
   "metadata": {
    "collapsed": false
   }
  }
 ],
 "metadata": {
  "kernelspec": {
   "display_name": "Python 3",
   "language": "python",
   "name": "python3"
  },
  "language_info": {
   "codemirror_mode": {
    "name": "ipython",
    "version": 2
   },
   "file_extension": ".py",
   "mimetype": "text/x-python",
   "name": "python",
   "nbconvert_exporter": "python",
   "pygments_lexer": "ipython2",
   "version": "2.7.6"
  }
 },
 "nbformat": 4,
 "nbformat_minor": 0
}
