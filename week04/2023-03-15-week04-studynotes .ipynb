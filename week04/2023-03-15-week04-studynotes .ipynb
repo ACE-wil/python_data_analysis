{
 "cells": [
  {
   "cell_type": "markdown",
   "source": [
    "# name:shen\n",
    "# time:2023/3/15\n",
    "# content:"
   ],
   "metadata": {
    "collapsed": false
   }
  },
  {
   "cell_type": "markdown",
   "source": [],
   "metadata": {
    "collapsed": false
   }
  },
  {
   "cell_type": "markdown",
   "source": [
    "# 数据准备"
   ],
   "metadata": {
    "collapsed": false
   }
  },
  {
   "cell_type": "code",
   "execution_count": 2,
   "outputs": [],
   "source": [
    "import pandas as pd"
   ],
   "metadata": {
    "collapsed": false
   }
  },
  {
   "cell_type": "code",
   "execution_count": 3,
   "outputs": [],
   "source": [
    "df = pd.read_csv('./data/learn_pandas.csv')"
   ],
   "metadata": {
    "collapsed": false
   }
  },
  {
   "cell_type": "code",
   "execution_count": 4,
   "outputs": [
    {
     "data": {
      "text/plain": "                            School      Grade            Name  Gender  Height  \\\n0    Shanghai Jiao Tong University   Freshman    Gaopeng Yang  Female   158.9   \n1                Peking University   Freshman  Changqiang You    Male   166.5   \n2    Shanghai Jiao Tong University     Senior         Mei Sun    Male   188.9   \n3                 Fudan University  Sophomore    Xiaojuan Sun  Female     NaN   \n4                 Fudan University  Sophomore     Gaojuan You    Male   174.0   \n..                             ...        ...             ...     ...     ...   \n195               Fudan University     Junior    Xiaojuan Sun  Female   153.9   \n196            Tsinghua University     Senior         Li Zhao  Female   160.9   \n197  Shanghai Jiao Tong University     Senior  Chengqiang Chu  Female   153.9   \n198  Shanghai Jiao Tong University     Senior   Chengmei Shen    Male   175.3   \n199            Tsinghua University  Sophomore     Chunpeng Lv    Male   155.7   \n\n     Weight Transfer  Test_Number   Test_Date Time_Record  \n0      46.0        N            1   2019/10/5     0:04:34  \n1      70.0        N            1    2019/9/4     0:04:20  \n2      89.0        N            2   2019/9/12     0:05:22  \n3      41.0        N            2    2020/1/3     0:04:08  \n4      74.0        N            2   2019/11/6     0:05:22  \n..      ...      ...          ...         ...         ...  \n195    46.0        N            2  2019/10/17     0:04:31  \n196    50.0        N            3   2019/9/22     0:04:03  \n197    45.0        N            1    2020/1/5     0:04:48  \n198    71.0        N            2    2020/1/7     0:04:58  \n199    51.0        N            1   2019/11/6     0:05:05  \n\n[200 rows x 10 columns]",
      "text/html": "<div>\n<style scoped>\n    .dataframe tbody tr th:only-of-type {\n        vertical-align: middle;\n    }\n\n    .dataframe tbody tr th {\n        vertical-align: top;\n    }\n\n    .dataframe thead th {\n        text-align: right;\n    }\n</style>\n<table border=\"1\" class=\"dataframe\">\n  <thead>\n    <tr style=\"text-align: right;\">\n      <th></th>\n      <th>School</th>\n      <th>Grade</th>\n      <th>Name</th>\n      <th>Gender</th>\n      <th>Height</th>\n      <th>Weight</th>\n      <th>Transfer</th>\n      <th>Test_Number</th>\n      <th>Test_Date</th>\n      <th>Time_Record</th>\n    </tr>\n  </thead>\n  <tbody>\n    <tr>\n      <th>0</th>\n      <td>Shanghai Jiao Tong University</td>\n      <td>Freshman</td>\n      <td>Gaopeng Yang</td>\n      <td>Female</td>\n      <td>158.9</td>\n      <td>46.0</td>\n      <td>N</td>\n      <td>1</td>\n      <td>2019/10/5</td>\n      <td>0:04:34</td>\n    </tr>\n    <tr>\n      <th>1</th>\n      <td>Peking University</td>\n      <td>Freshman</td>\n      <td>Changqiang You</td>\n      <td>Male</td>\n      <td>166.5</td>\n      <td>70.0</td>\n      <td>N</td>\n      <td>1</td>\n      <td>2019/9/4</td>\n      <td>0:04:20</td>\n    </tr>\n    <tr>\n      <th>2</th>\n      <td>Shanghai Jiao Tong University</td>\n      <td>Senior</td>\n      <td>Mei Sun</td>\n      <td>Male</td>\n      <td>188.9</td>\n      <td>89.0</td>\n      <td>N</td>\n      <td>2</td>\n      <td>2019/9/12</td>\n      <td>0:05:22</td>\n    </tr>\n    <tr>\n      <th>3</th>\n      <td>Fudan University</td>\n      <td>Sophomore</td>\n      <td>Xiaojuan Sun</td>\n      <td>Female</td>\n      <td>NaN</td>\n      <td>41.0</td>\n      <td>N</td>\n      <td>2</td>\n      <td>2020/1/3</td>\n      <td>0:04:08</td>\n    </tr>\n    <tr>\n      <th>4</th>\n      <td>Fudan University</td>\n      <td>Sophomore</td>\n      <td>Gaojuan You</td>\n      <td>Male</td>\n      <td>174.0</td>\n      <td>74.0</td>\n      <td>N</td>\n      <td>2</td>\n      <td>2019/11/6</td>\n      <td>0:05:22</td>\n    </tr>\n    <tr>\n      <th>...</th>\n      <td>...</td>\n      <td>...</td>\n      <td>...</td>\n      <td>...</td>\n      <td>...</td>\n      <td>...</td>\n      <td>...</td>\n      <td>...</td>\n      <td>...</td>\n      <td>...</td>\n    </tr>\n    <tr>\n      <th>195</th>\n      <td>Fudan University</td>\n      <td>Junior</td>\n      <td>Xiaojuan Sun</td>\n      <td>Female</td>\n      <td>153.9</td>\n      <td>46.0</td>\n      <td>N</td>\n      <td>2</td>\n      <td>2019/10/17</td>\n      <td>0:04:31</td>\n    </tr>\n    <tr>\n      <th>196</th>\n      <td>Tsinghua University</td>\n      <td>Senior</td>\n      <td>Li Zhao</td>\n      <td>Female</td>\n      <td>160.9</td>\n      <td>50.0</td>\n      <td>N</td>\n      <td>3</td>\n      <td>2019/9/22</td>\n      <td>0:04:03</td>\n    </tr>\n    <tr>\n      <th>197</th>\n      <td>Shanghai Jiao Tong University</td>\n      <td>Senior</td>\n      <td>Chengqiang Chu</td>\n      <td>Female</td>\n      <td>153.9</td>\n      <td>45.0</td>\n      <td>N</td>\n      <td>1</td>\n      <td>2020/1/5</td>\n      <td>0:04:48</td>\n    </tr>\n    <tr>\n      <th>198</th>\n      <td>Shanghai Jiao Tong University</td>\n      <td>Senior</td>\n      <td>Chengmei Shen</td>\n      <td>Male</td>\n      <td>175.3</td>\n      <td>71.0</td>\n      <td>N</td>\n      <td>2</td>\n      <td>2020/1/7</td>\n      <td>0:04:58</td>\n    </tr>\n    <tr>\n      <th>199</th>\n      <td>Tsinghua University</td>\n      <td>Sophomore</td>\n      <td>Chunpeng Lv</td>\n      <td>Male</td>\n      <td>155.7</td>\n      <td>51.0</td>\n      <td>N</td>\n      <td>1</td>\n      <td>2019/11/6</td>\n      <td>0:05:05</td>\n    </tr>\n  </tbody>\n</table>\n<p>200 rows × 10 columns</p>\n</div>"
     },
     "execution_count": 4,
     "metadata": {},
     "output_type": "execute_result"
    }
   ],
   "source": [
    "df"
   ],
   "metadata": {
    "collapsed": false
   }
  },
  {
   "cell_type": "code",
   "execution_count": 5,
   "outputs": [
    {
     "data": {
      "text/plain": "                          School      Grade            Name  Gender  Height  \\\n0  Shanghai Jiao Tong University   Freshman    Gaopeng Yang  Female   158.9   \n1              Peking University   Freshman  Changqiang You    Male   166.5   \n2  Shanghai Jiao Tong University     Senior         Mei Sun    Male   188.9   \n3               Fudan University  Sophomore    Xiaojuan Sun  Female     NaN   \n4               Fudan University  Sophomore     Gaojuan You    Male   174.0   \n\n   Weight Transfer  Test_Number  Test_Date Time_Record  \n0    46.0        N            1  2019/10/5     0:04:34  \n1    70.0        N            1   2019/9/4     0:04:20  \n2    89.0        N            2  2019/9/12     0:05:22  \n3    41.0        N            2   2020/1/3     0:04:08  \n4    74.0        N            2  2019/11/6     0:05:22  ",
      "text/html": "<div>\n<style scoped>\n    .dataframe tbody tr th:only-of-type {\n        vertical-align: middle;\n    }\n\n    .dataframe tbody tr th {\n        vertical-align: top;\n    }\n\n    .dataframe thead th {\n        text-align: right;\n    }\n</style>\n<table border=\"1\" class=\"dataframe\">\n  <thead>\n    <tr style=\"text-align: right;\">\n      <th></th>\n      <th>School</th>\n      <th>Grade</th>\n      <th>Name</th>\n      <th>Gender</th>\n      <th>Height</th>\n      <th>Weight</th>\n      <th>Transfer</th>\n      <th>Test_Number</th>\n      <th>Test_Date</th>\n      <th>Time_Record</th>\n    </tr>\n  </thead>\n  <tbody>\n    <tr>\n      <th>0</th>\n      <td>Shanghai Jiao Tong University</td>\n      <td>Freshman</td>\n      <td>Gaopeng Yang</td>\n      <td>Female</td>\n      <td>158.9</td>\n      <td>46.0</td>\n      <td>N</td>\n      <td>1</td>\n      <td>2019/10/5</td>\n      <td>0:04:34</td>\n    </tr>\n    <tr>\n      <th>1</th>\n      <td>Peking University</td>\n      <td>Freshman</td>\n      <td>Changqiang You</td>\n      <td>Male</td>\n      <td>166.5</td>\n      <td>70.0</td>\n      <td>N</td>\n      <td>1</td>\n      <td>2019/9/4</td>\n      <td>0:04:20</td>\n    </tr>\n    <tr>\n      <th>2</th>\n      <td>Shanghai Jiao Tong University</td>\n      <td>Senior</td>\n      <td>Mei Sun</td>\n      <td>Male</td>\n      <td>188.9</td>\n      <td>89.0</td>\n      <td>N</td>\n      <td>2</td>\n      <td>2019/9/12</td>\n      <td>0:05:22</td>\n    </tr>\n    <tr>\n      <th>3</th>\n      <td>Fudan University</td>\n      <td>Sophomore</td>\n      <td>Xiaojuan Sun</td>\n      <td>Female</td>\n      <td>NaN</td>\n      <td>41.0</td>\n      <td>N</td>\n      <td>2</td>\n      <td>2020/1/3</td>\n      <td>0:04:08</td>\n    </tr>\n    <tr>\n      <th>4</th>\n      <td>Fudan University</td>\n      <td>Sophomore</td>\n      <td>Gaojuan You</td>\n      <td>Male</td>\n      <td>174.0</td>\n      <td>74.0</td>\n      <td>N</td>\n      <td>2</td>\n      <td>2019/11/6</td>\n      <td>0:05:22</td>\n    </tr>\n  </tbody>\n</table>\n</div>"
     },
     "execution_count": 5,
     "metadata": {},
     "output_type": "execute_result"
    }
   ],
   "source": [
    "df.head()"
   ],
   "metadata": {
    "collapsed": false
   }
  },
  {
   "cell_type": "code",
   "execution_count": 6,
   "outputs": [
    {
     "data": {
      "text/plain": "                            School      Grade            Name  Gender  Height  \\\n195               Fudan University     Junior    Xiaojuan Sun  Female   153.9   \n196            Tsinghua University     Senior         Li Zhao  Female   160.9   \n197  Shanghai Jiao Tong University     Senior  Chengqiang Chu  Female   153.9   \n198  Shanghai Jiao Tong University     Senior   Chengmei Shen    Male   175.3   \n199            Tsinghua University  Sophomore     Chunpeng Lv    Male   155.7   \n\n     Weight Transfer  Test_Number   Test_Date Time_Record  \n195    46.0        N            2  2019/10/17     0:04:31  \n196    50.0        N            3   2019/9/22     0:04:03  \n197    45.0        N            1    2020/1/5     0:04:48  \n198    71.0        N            2    2020/1/7     0:04:58  \n199    51.0        N            1   2019/11/6     0:05:05  ",
      "text/html": "<div>\n<style scoped>\n    .dataframe tbody tr th:only-of-type {\n        vertical-align: middle;\n    }\n\n    .dataframe tbody tr th {\n        vertical-align: top;\n    }\n\n    .dataframe thead th {\n        text-align: right;\n    }\n</style>\n<table border=\"1\" class=\"dataframe\">\n  <thead>\n    <tr style=\"text-align: right;\">\n      <th></th>\n      <th>School</th>\n      <th>Grade</th>\n      <th>Name</th>\n      <th>Gender</th>\n      <th>Height</th>\n      <th>Weight</th>\n      <th>Transfer</th>\n      <th>Test_Number</th>\n      <th>Test_Date</th>\n      <th>Time_Record</th>\n    </tr>\n  </thead>\n  <tbody>\n    <tr>\n      <th>195</th>\n      <td>Fudan University</td>\n      <td>Junior</td>\n      <td>Xiaojuan Sun</td>\n      <td>Female</td>\n      <td>153.9</td>\n      <td>46.0</td>\n      <td>N</td>\n      <td>2</td>\n      <td>2019/10/17</td>\n      <td>0:04:31</td>\n    </tr>\n    <tr>\n      <th>196</th>\n      <td>Tsinghua University</td>\n      <td>Senior</td>\n      <td>Li Zhao</td>\n      <td>Female</td>\n      <td>160.9</td>\n      <td>50.0</td>\n      <td>N</td>\n      <td>3</td>\n      <td>2019/9/22</td>\n      <td>0:04:03</td>\n    </tr>\n    <tr>\n      <th>197</th>\n      <td>Shanghai Jiao Tong University</td>\n      <td>Senior</td>\n      <td>Chengqiang Chu</td>\n      <td>Female</td>\n      <td>153.9</td>\n      <td>45.0</td>\n      <td>N</td>\n      <td>1</td>\n      <td>2020/1/5</td>\n      <td>0:04:48</td>\n    </tr>\n    <tr>\n      <th>198</th>\n      <td>Shanghai Jiao Tong University</td>\n      <td>Senior</td>\n      <td>Chengmei Shen</td>\n      <td>Male</td>\n      <td>175.3</td>\n      <td>71.0</td>\n      <td>N</td>\n      <td>2</td>\n      <td>2020/1/7</td>\n      <td>0:04:58</td>\n    </tr>\n    <tr>\n      <th>199</th>\n      <td>Tsinghua University</td>\n      <td>Sophomore</td>\n      <td>Chunpeng Lv</td>\n      <td>Male</td>\n      <td>155.7</td>\n      <td>51.0</td>\n      <td>N</td>\n      <td>1</td>\n      <td>2019/11/6</td>\n      <td>0:05:05</td>\n    </tr>\n  </tbody>\n</table>\n</div>"
     },
     "execution_count": 6,
     "metadata": {},
     "output_type": "execute_result"
    }
   ],
   "source": [
    "df.tail()"
   ],
   "metadata": {
    "collapsed": false
   }
  },
  {
   "cell_type": "code",
   "execution_count": 9,
   "outputs": [
    {
     "name": "stdout",
     "output_type": "stream",
     "text": [
      "<class 'pandas.core.frame.DataFrame'>\n",
      "RangeIndex: 200 entries, 0 to 199\n",
      "Data columns (total 10 columns):\n",
      " #   Column       Non-Null Count  Dtype  \n",
      "---  ------       --------------  -----  \n",
      " 0   School       200 non-null    object \n",
      " 1   Grade        200 non-null    object \n",
      " 2   Name         200 non-null    object \n",
      " 3   Gender       200 non-null    object \n",
      " 4   Height       183 non-null    float64\n",
      " 5   Weight       189 non-null    float64\n",
      " 6   Transfer     188 non-null    object \n",
      " 7   Test_Number  200 non-null    int64  \n",
      " 8   Test_Date    200 non-null    object \n",
      " 9   Time_Record  200 non-null    object \n",
      "dtypes: float64(2), int64(1), object(7)\n",
      "memory usage: 15.8+ KB\n"
     ]
    }
   ],
   "source": [
    "df.info()"
   ],
   "metadata": {
    "collapsed": false
   }
  },
  {
   "cell_type": "code",
   "execution_count": 10,
   "outputs": [
    {
     "ename": "SyntaxError",
     "evalue": "invalid character '？' (U+FF1F) (1614650477.py, line 1)",
     "output_type": "error",
     "traceback": [
      "\u001B[1;36m  Cell \u001B[1;32mIn[10], line 1\u001B[1;36m\u001B[0m\n\u001B[1;33m    * 计算有多少所学校？\u001B[0m\n\u001B[1;37m              ^\u001B[0m\n\u001B[1;31mSyntaxError\u001B[0m\u001B[1;31m:\u001B[0m invalid character '？' (U+FF1F)\n"
     ]
    }
   ],
   "source": [
    "* 计算有多少所学校？\n"
   ],
   "metadata": {
    "collapsed": false
   }
  },
  {
   "cell_type": "code",
   "execution_count": 19,
   "outputs": [],
   "source": [
    "index_school = df['School'].nunique()"
   ],
   "metadata": {
    "collapsed": false
   }
  },
  {
   "cell_type": "code",
   "execution_count": 22,
   "outputs": [
    {
     "data": {
      "text/plain": "4"
     },
     "execution_count": 22,
     "metadata": {},
     "output_type": "execute_result"
    }
   ],
   "source": [
    "index_school"
   ],
   "metadata": {
    "collapsed": false
   }
  },
  {
   "cell_type": "code",
   "execution_count": 24,
   "outputs": [],
   "source": [
    "aa = df['Name'].nunique()"
   ],
   "metadata": {
    "collapsed": false
   }
  },
  {
   "cell_type": "code",
   "execution_count": 25,
   "outputs": [
    {
     "data": {
      "text/plain": "170"
     },
     "execution_count": 25,
     "metadata": {},
     "output_type": "execute_result"
    }
   ],
   "source": [
    "aa"
   ],
   "metadata": {
    "collapsed": false
   }
  },
  {
   "cell_type": "code",
   "execution_count": 26,
   "outputs": [],
   "source": [
    "maxx = df['Height'].max()"
   ],
   "metadata": {
    "collapsed": false
   }
  },
  {
   "cell_type": "code",
   "execution_count": 27,
   "outputs": [
    {
     "data": {
      "text/plain": "193.9"
     },
     "execution_count": 27,
     "metadata": {},
     "output_type": "execute_result"
    }
   ],
   "source": [
    "maxx"
   ],
   "metadata": {
    "collapsed": false
   }
  },
  {
   "cell_type": "code",
   "execution_count": 29,
   "outputs": [],
   "source": [
    "minn = df['Height'].min()"
   ],
   "metadata": {
    "collapsed": false
   }
  },
  {
   "cell_type": "code",
   "execution_count": 30,
   "outputs": [
    {
     "data": {
      "text/plain": "145.4"
     },
     "execution_count": 30,
     "metadata": {},
     "output_type": "execute_result"
    }
   ],
   "source": [
    "minn"
   ],
   "metadata": {
    "collapsed": false
   }
  },
  {
   "cell_type": "code",
   "execution_count": 30,
   "outputs": [],
   "source": [
    "h"
   ],
   "metadata": {
    "collapsed": false
   }
  },
  {
   "cell_type": "code",
   "execution_count": null,
   "outputs": [],
   "source": [],
   "metadata": {
    "collapsed": false
   }
  },
  {
   "cell_type": "code",
   "execution_count": 21,
   "outputs": [
    {
     "data": {
      "text/plain": "Tsinghua University              69\nShanghai Jiao Tong University    57\nFudan University                 40\nPeking University                34\nName: School, dtype: int64"
     },
     "execution_count": 21,
     "metadata": {},
     "output_type": "execute_result"
    }
   ],
   "source": [
    "# 不同学校数量\n",
    "df['School'].value_counts()"
   ],
   "metadata": {
    "collapsed": false
   }
  },
  {
   "cell_type": "code",
   "execution_count": 33,
   "outputs": [],
   "source": [
    "hurun_独角兽 = pd.read_html('https://www.hurun.net/zh-CN/Info/Detail?num=L9SQPH9FKJB1')[-3]"
   ],
   "metadata": {
    "collapsed": false
   }
  },
  {
   "cell_type": "code",
   "execution_count": 34,
   "outputs": [
    {
     "data": {
      "text/plain": "      0     1                    2          3            4   5      6     7\n0    排名  排名变化                 企业名称  价值（亿元人民币）  价值变化（亿元人民币）  国家     城市    行业\n1     1     0                   抖音      13400       -10050  中国     北京  社交媒体\n2     2     1               SpaceX       8400         1680  美国    洛杉矶    航天\n3     3    -1                 蚂蚁集团       8000        -2010  中国     杭州  金融科技\n4     4     0               Stripe       4100        -2210  美国    旧金山  金融科技\n..   ..   ...                  ...        ...          ...  ..    ...   ...\n97   95   -16        Impossible 食品        470            0  美国  雷德伍德城  食品饮料\n98   95   -16                   微医        470            0  中国     杭州  健康科技\n99   99    58                 蜂巢能源        460          190  中国     常州   新能源\n100  99    -6           Better.com        460           60  美国     纽约  金融科技\n101  99   -20  Automation Anywhere        460          -10  美国    圣何塞  人工智能\n\n[102 rows x 8 columns]",
      "text/html": "<div>\n<style scoped>\n    .dataframe tbody tr th:only-of-type {\n        vertical-align: middle;\n    }\n\n    .dataframe tbody tr th {\n        vertical-align: top;\n    }\n\n    .dataframe thead th {\n        text-align: right;\n    }\n</style>\n<table border=\"1\" class=\"dataframe\">\n  <thead>\n    <tr style=\"text-align: right;\">\n      <th></th>\n      <th>0</th>\n      <th>1</th>\n      <th>2</th>\n      <th>3</th>\n      <th>4</th>\n      <th>5</th>\n      <th>6</th>\n      <th>7</th>\n    </tr>\n  </thead>\n  <tbody>\n    <tr>\n      <th>0</th>\n      <td>排名</td>\n      <td>排名变化</td>\n      <td>企业名称</td>\n      <td>价值（亿元人民币）</td>\n      <td>价值变化（亿元人民币）</td>\n      <td>国家</td>\n      <td>城市</td>\n      <td>行业</td>\n    </tr>\n    <tr>\n      <th>1</th>\n      <td>1</td>\n      <td>0</td>\n      <td>抖音</td>\n      <td>13400</td>\n      <td>-10050</td>\n      <td>中国</td>\n      <td>北京</td>\n      <td>社交媒体</td>\n    </tr>\n    <tr>\n      <th>2</th>\n      <td>2</td>\n      <td>1</td>\n      <td>SpaceX</td>\n      <td>8400</td>\n      <td>1680</td>\n      <td>美国</td>\n      <td>洛杉矶</td>\n      <td>航天</td>\n    </tr>\n    <tr>\n      <th>3</th>\n      <td>3</td>\n      <td>-1</td>\n      <td>蚂蚁集团</td>\n      <td>8000</td>\n      <td>-2010</td>\n      <td>中国</td>\n      <td>杭州</td>\n      <td>金融科技</td>\n    </tr>\n    <tr>\n      <th>4</th>\n      <td>4</td>\n      <td>0</td>\n      <td>Stripe</td>\n      <td>4100</td>\n      <td>-2210</td>\n      <td>美国</td>\n      <td>旧金山</td>\n      <td>金融科技</td>\n    </tr>\n    <tr>\n      <th>...</th>\n      <td>...</td>\n      <td>...</td>\n      <td>...</td>\n      <td>...</td>\n      <td>...</td>\n      <td>...</td>\n      <td>...</td>\n      <td>...</td>\n    </tr>\n    <tr>\n      <th>97</th>\n      <td>95</td>\n      <td>-16</td>\n      <td>Impossible 食品</td>\n      <td>470</td>\n      <td>0</td>\n      <td>美国</td>\n      <td>雷德伍德城</td>\n      <td>食品饮料</td>\n    </tr>\n    <tr>\n      <th>98</th>\n      <td>95</td>\n      <td>-16</td>\n      <td>微医</td>\n      <td>470</td>\n      <td>0</td>\n      <td>中国</td>\n      <td>杭州</td>\n      <td>健康科技</td>\n    </tr>\n    <tr>\n      <th>99</th>\n      <td>99</td>\n      <td>58</td>\n      <td>蜂巢能源</td>\n      <td>460</td>\n      <td>190</td>\n      <td>中国</td>\n      <td>常州</td>\n      <td>新能源</td>\n    </tr>\n    <tr>\n      <th>100</th>\n      <td>99</td>\n      <td>-6</td>\n      <td>Better.com</td>\n      <td>460</td>\n      <td>60</td>\n      <td>美国</td>\n      <td>纽约</td>\n      <td>金融科技</td>\n    </tr>\n    <tr>\n      <th>101</th>\n      <td>99</td>\n      <td>-20</td>\n      <td>Automation Anywhere</td>\n      <td>460</td>\n      <td>-10</td>\n      <td>美国</td>\n      <td>圣何塞</td>\n      <td>人工智能</td>\n    </tr>\n  </tbody>\n</table>\n<p>102 rows × 8 columns</p>\n</div>"
     },
     "execution_count": 34,
     "metadata": {},
     "output_type": "execute_result"
    }
   ],
   "source": [
    "hurun_独角兽"
   ],
   "metadata": {
    "collapsed": false
   }
  },
  {
   "cell_type": "code",
   "execution_count": 35,
   "outputs": [
    {
     "data": {
      "text/plain": "['排名', '排名变化', '企业名称', '价值（亿元人民币）', '价值变化（亿元人民币）', '国家', '城市', '行业']"
     },
     "execution_count": 35,
     "metadata": {},
     "output_type": "execute_result"
    }
   ],
   "source": [
    "hurun_独角兽[0:1].values.tolist()[0]"
   ],
   "metadata": {
    "collapsed": false
   }
  },
  {
   "cell_type": "code",
   "execution_count": 36,
   "outputs": [
    {
     "ename": "SyntaxError",
     "evalue": "invalid syntax (954660797.py, line 1)",
     "output_type": "error",
     "traceback": [
      "\u001B[1;36m  Cell \u001B[1;32mIn[36], line 1\u001B[1;36m\u001B[0m\n\u001B[1;33m    * columns的重新命名:rename\u001B[0m\n\u001B[1;37m                  ^\u001B[0m\n\u001B[1;31mSyntaxError\u001B[0m\u001B[1;31m:\u001B[0m invalid syntax\n"
     ]
    }
   ],
   "source": [
    "* columns的重新命名:rename"
   ],
   "metadata": {
    "collapsed": false
   }
  },
  {
   "cell_type": "code",
   "execution_count": 56,
   "outputs": [
    {
     "data": {
      "text/plain": "      0    1                    2      3       4   5      6     7\n1     1    0                   抖音  13400  -10050  中国     北京  社交媒体\n2     2    1               SpaceX   8400    1680  美国    洛杉矶    航天\n3     3   -1                 蚂蚁集团   8000   -2010  中国     杭州  金融科技\n4     4    0               Stripe   4100   -2210  美国    旧金山  金融科技\n5     5   11                Shein   4000    2680  中国     广州  电子商务\n..   ..  ...                  ...    ...     ...  ..    ...   ...\n97   95  -16        Impossible 食品    470       0  美国  雷德伍德城  食品饮料\n98   95  -16                   微医    470       0  中国     杭州  健康科技\n99   99   58                 蜂巢能源    460     190  中国     常州   新能源\n100  99   -6           Better.com    460      60  美国     纽约  金融科技\n101  99  -20  Automation Anywhere    460     -10  美国    圣何塞  人工智能\n\n[101 rows x 8 columns]",
      "text/html": "<div>\n<style scoped>\n    .dataframe tbody tr th:only-of-type {\n        vertical-align: middle;\n    }\n\n    .dataframe tbody tr th {\n        vertical-align: top;\n    }\n\n    .dataframe thead th {\n        text-align: right;\n    }\n</style>\n<table border=\"1\" class=\"dataframe\">\n  <thead>\n    <tr style=\"text-align: right;\">\n      <th></th>\n      <th>0</th>\n      <th>1</th>\n      <th>2</th>\n      <th>3</th>\n      <th>4</th>\n      <th>5</th>\n      <th>6</th>\n      <th>7</th>\n    </tr>\n  </thead>\n  <tbody>\n    <tr>\n      <th>1</th>\n      <td>1</td>\n      <td>0</td>\n      <td>抖音</td>\n      <td>13400</td>\n      <td>-10050</td>\n      <td>中国</td>\n      <td>北京</td>\n      <td>社交媒体</td>\n    </tr>\n    <tr>\n      <th>2</th>\n      <td>2</td>\n      <td>1</td>\n      <td>SpaceX</td>\n      <td>8400</td>\n      <td>1680</td>\n      <td>美国</td>\n      <td>洛杉矶</td>\n      <td>航天</td>\n    </tr>\n    <tr>\n      <th>3</th>\n      <td>3</td>\n      <td>-1</td>\n      <td>蚂蚁集团</td>\n      <td>8000</td>\n      <td>-2010</td>\n      <td>中国</td>\n      <td>杭州</td>\n      <td>金融科技</td>\n    </tr>\n    <tr>\n      <th>4</th>\n      <td>4</td>\n      <td>0</td>\n      <td>Stripe</td>\n      <td>4100</td>\n      <td>-2210</td>\n      <td>美国</td>\n      <td>旧金山</td>\n      <td>金融科技</td>\n    </tr>\n    <tr>\n      <th>5</th>\n      <td>5</td>\n      <td>11</td>\n      <td>Shein</td>\n      <td>4000</td>\n      <td>2680</td>\n      <td>中国</td>\n      <td>广州</td>\n      <td>电子商务</td>\n    </tr>\n    <tr>\n      <th>...</th>\n      <td>...</td>\n      <td>...</td>\n      <td>...</td>\n      <td>...</td>\n      <td>...</td>\n      <td>...</td>\n      <td>...</td>\n      <td>...</td>\n    </tr>\n    <tr>\n      <th>97</th>\n      <td>95</td>\n      <td>-16</td>\n      <td>Impossible 食品</td>\n      <td>470</td>\n      <td>0</td>\n      <td>美国</td>\n      <td>雷德伍德城</td>\n      <td>食品饮料</td>\n    </tr>\n    <tr>\n      <th>98</th>\n      <td>95</td>\n      <td>-16</td>\n      <td>微医</td>\n      <td>470</td>\n      <td>0</td>\n      <td>中国</td>\n      <td>杭州</td>\n      <td>健康科技</td>\n    </tr>\n    <tr>\n      <th>99</th>\n      <td>99</td>\n      <td>58</td>\n      <td>蜂巢能源</td>\n      <td>460</td>\n      <td>190</td>\n      <td>中国</td>\n      <td>常州</td>\n      <td>新能源</td>\n    </tr>\n    <tr>\n      <th>100</th>\n      <td>99</td>\n      <td>-6</td>\n      <td>Better.com</td>\n      <td>460</td>\n      <td>60</td>\n      <td>美国</td>\n      <td>纽约</td>\n      <td>金融科技</td>\n    </tr>\n    <tr>\n      <th>101</th>\n      <td>99</td>\n      <td>-20</td>\n      <td>Automation Anywhere</td>\n      <td>460</td>\n      <td>-10</td>\n      <td>美国</td>\n      <td>圣何塞</td>\n      <td>人工智能</td>\n    </tr>\n  </tbody>\n</table>\n<p>101 rows × 8 columns</p>\n</div>"
     },
     "execution_count": 56,
     "metadata": {},
     "output_type": "execute_result"
    }
   ],
   "source": [
    "df_hurun = hurun_独角兽[1:]\n",
    "df_hurun"
   ],
   "metadata": {
    "collapsed": false
   }
  },
  {
   "cell_type": "code",
   "execution_count": 57,
   "outputs": [
    {
     "data": {
      "text/plain": "     排名 排名变化                 企业名称 价值（亿元人民币） 价值变化（亿元人民币）  国家     城市    行业\n1     1    0                   抖音     13400      -10050  中国     北京  社交媒体\n2     2    1               SpaceX      8400        1680  美国    洛杉矶    航天\n3     3   -1                 蚂蚁集团      8000       -2010  中国     杭州  金融科技\n4     4    0               Stripe      4100       -2210  美国    旧金山  金融科技\n5     5   11                Shein      4000        2680  中国     广州  电子商务\n..   ..  ...                  ...       ...         ...  ..    ...   ...\n97   95  -16        Impossible 食品       470           0  美国  雷德伍德城  食品饮料\n98   95  -16                   微医       470           0  中国     杭州  健康科技\n99   99   58                 蜂巢能源       460         190  中国     常州   新能源\n100  99   -6           Better.com       460          60  美国     纽约  金融科技\n101  99  -20  Automation Anywhere       460         -10  美国    圣何塞  人工智能\n\n[101 rows x 8 columns]",
      "text/html": "<div>\n<style scoped>\n    .dataframe tbody tr th:only-of-type {\n        vertical-align: middle;\n    }\n\n    .dataframe tbody tr th {\n        vertical-align: top;\n    }\n\n    .dataframe thead th {\n        text-align: right;\n    }\n</style>\n<table border=\"1\" class=\"dataframe\">\n  <thead>\n    <tr style=\"text-align: right;\">\n      <th></th>\n      <th>排名</th>\n      <th>排名变化</th>\n      <th>企业名称</th>\n      <th>价值（亿元人民币）</th>\n      <th>价值变化（亿元人民币）</th>\n      <th>国家</th>\n      <th>城市</th>\n      <th>行业</th>\n    </tr>\n  </thead>\n  <tbody>\n    <tr>\n      <th>1</th>\n      <td>1</td>\n      <td>0</td>\n      <td>抖音</td>\n      <td>13400</td>\n      <td>-10050</td>\n      <td>中国</td>\n      <td>北京</td>\n      <td>社交媒体</td>\n    </tr>\n    <tr>\n      <th>2</th>\n      <td>2</td>\n      <td>1</td>\n      <td>SpaceX</td>\n      <td>8400</td>\n      <td>1680</td>\n      <td>美国</td>\n      <td>洛杉矶</td>\n      <td>航天</td>\n    </tr>\n    <tr>\n      <th>3</th>\n      <td>3</td>\n      <td>-1</td>\n      <td>蚂蚁集团</td>\n      <td>8000</td>\n      <td>-2010</td>\n      <td>中国</td>\n      <td>杭州</td>\n      <td>金融科技</td>\n    </tr>\n    <tr>\n      <th>4</th>\n      <td>4</td>\n      <td>0</td>\n      <td>Stripe</td>\n      <td>4100</td>\n      <td>-2210</td>\n      <td>美国</td>\n      <td>旧金山</td>\n      <td>金融科技</td>\n    </tr>\n    <tr>\n      <th>5</th>\n      <td>5</td>\n      <td>11</td>\n      <td>Shein</td>\n      <td>4000</td>\n      <td>2680</td>\n      <td>中国</td>\n      <td>广州</td>\n      <td>电子商务</td>\n    </tr>\n    <tr>\n      <th>...</th>\n      <td>...</td>\n      <td>...</td>\n      <td>...</td>\n      <td>...</td>\n      <td>...</td>\n      <td>...</td>\n      <td>...</td>\n      <td>...</td>\n    </tr>\n    <tr>\n      <th>97</th>\n      <td>95</td>\n      <td>-16</td>\n      <td>Impossible 食品</td>\n      <td>470</td>\n      <td>0</td>\n      <td>美国</td>\n      <td>雷德伍德城</td>\n      <td>食品饮料</td>\n    </tr>\n    <tr>\n      <th>98</th>\n      <td>95</td>\n      <td>-16</td>\n      <td>微医</td>\n      <td>470</td>\n      <td>0</td>\n      <td>中国</td>\n      <td>杭州</td>\n      <td>健康科技</td>\n    </tr>\n    <tr>\n      <th>99</th>\n      <td>99</td>\n      <td>58</td>\n      <td>蜂巢能源</td>\n      <td>460</td>\n      <td>190</td>\n      <td>中国</td>\n      <td>常州</td>\n      <td>新能源</td>\n    </tr>\n    <tr>\n      <th>100</th>\n      <td>99</td>\n      <td>-6</td>\n      <td>Better.com</td>\n      <td>460</td>\n      <td>60</td>\n      <td>美国</td>\n      <td>纽约</td>\n      <td>金融科技</td>\n    </tr>\n    <tr>\n      <th>101</th>\n      <td>99</td>\n      <td>-20</td>\n      <td>Automation Anywhere</td>\n      <td>460</td>\n      <td>-10</td>\n      <td>美国</td>\n      <td>圣何塞</td>\n      <td>人工智能</td>\n    </tr>\n  </tbody>\n</table>\n<p>101 rows × 8 columns</p>\n</div>"
     },
     "execution_count": 57,
     "metadata": {},
     "output_type": "execute_result"
    }
   ],
   "source": [
    "df_hurun.columns = hurun_独角兽[0:1].values.tolist()[0]\n",
    "df_hurun"
   ],
   "metadata": {
    "collapsed": false
   }
  },
  {
   "cell_type": "code",
   "execution_count": 58,
   "outputs": [
    {
     "data": {
      "text/plain": "美国       49\n中国       26\n英国        7\n印度        4\n瑞典        2\n印度尼西亚     2\n韩国        2\n马耳他       1\n澳大利亚      1\n巴哈马       1\n土耳其       1\n墨西哥       1\n瑞士        1\n德国        1\n越南        1\n以色列       1\nName: 国家, dtype: int64"
     },
     "execution_count": 58,
     "metadata": {},
     "output_type": "execute_result"
    }
   ],
   "source": [
    "# 有多少个国家\n",
    "df_hurun['国家']\n",
    "df_hurun['国家'].value_counts()"
   ],
   "metadata": {
    "collapsed": false
   }
  },
  {
   "cell_type": "code",
   "execution_count": 59,
   "outputs": [],
   "source": [
    "# 有多少个城市？数量如何在地图上用颜色的深浅表示出来？\n"
   ],
   "metadata": {
    "collapsed": false
   }
  },
  {
   "cell_type": "code",
   "execution_count": 60,
   "outputs": [
    {
     "data": {
      "text/plain": "金融科技     17\n软件服务     14\n区块链       9\n电子商务      8\n人工智能      6\n物流        5\n共享经济      4\n新能源       4\n快递        4\n健康科技      4\n网络安全      3\n社交媒体      2\n游戏        2\n生物科技      2\n食品饮料      2\n企业服务      2\n机器人       2\n新能源汽车     2\n大数据       2\n航天        1\n教育科技      1\n保险        1\n新零售       1\n数字科技      1\n分析        1\n消费品       1\nName: 行业, dtype: int64"
     },
     "execution_count": 60,
     "metadata": {},
     "output_type": "execute_result"
    }
   ],
   "source": [
    "# 有多少个行业？\n",
    "df_hurun['行业'].value_counts()\n"
   ],
   "metadata": {
    "collapsed": false
   }
  },
  {
   "cell_type": "code",
   "execution_count": 61,
   "outputs": [
    {
     "data": {
      "text/plain": "26"
     },
     "execution_count": 61,
     "metadata": {},
     "output_type": "execute_result"
    }
   ],
   "source": [
    "df_hurun['行业'].nunique()"
   ],
   "metadata": {
    "collapsed": false
   }
  },
  {
   "cell_type": "code",
   "execution_count": 62,
   "outputs": [
    {
     "data": {
      "text/plain": "'965'"
     },
     "execution_count": 62,
     "metadata": {},
     "output_type": "execute_result"
    }
   ],
   "source": [
    "df_hurun['价值（亿元人民币）'].max()"
   ],
   "metadata": {
    "collapsed": false
   }
  },
  {
   "cell_type": "code",
   "execution_count": 63,
   "outputs": [
    {
     "data": {
      "text/plain": "'1000'"
     },
     "execution_count": 63,
     "metadata": {},
     "output_type": "execute_result"
    }
   ],
   "source": [
    "df_hurun['价值（亿元人民币）'].min()"
   ],
   "metadata": {
    "collapsed": false
   }
  },
  {
   "cell_type": "code",
   "execution_count": 64,
   "outputs": [
    {
     "data": {
      "text/plain": "inf"
     },
     "execution_count": 64,
     "metadata": {},
     "output_type": "execute_result"
    }
   ],
   "source": [
    "df_hurun['价值（亿元人民币）'].mean()"
   ],
   "metadata": {
    "collapsed": false
   }
  },
  {
   "cell_type": "markdown",
   "source": [
    "# Groupby"
   ],
   "metadata": {
    "collapsed": false
   }
  },
  {
   "cell_type": "code",
   "execution_count": 68,
   "outputs": [
    {
     "data": {
      "text/plain": "                                   Height     Weight\nSchool                                              \nFudan University               162.408824  54.000000\nPeking University              162.977419  55.666667\nShanghai Jiao Tong University  163.932727  56.442308\nTsinghua University            163.149206  54.223881",
      "text/html": "<div>\n<style scoped>\n    .dataframe tbody tr th:only-of-type {\n        vertical-align: middle;\n    }\n\n    .dataframe tbody tr th {\n        vertical-align: top;\n    }\n\n    .dataframe thead th {\n        text-align: right;\n    }\n</style>\n<table border=\"1\" class=\"dataframe\">\n  <thead>\n    <tr style=\"text-align: right;\">\n      <th></th>\n      <th>Height</th>\n      <th>Weight</th>\n    </tr>\n    <tr>\n      <th>School</th>\n      <th></th>\n      <th></th>\n    </tr>\n  </thead>\n  <tbody>\n    <tr>\n      <th>Fudan University</th>\n      <td>162.408824</td>\n      <td>54.000000</td>\n    </tr>\n    <tr>\n      <th>Peking University</th>\n      <td>162.977419</td>\n      <td>55.666667</td>\n    </tr>\n    <tr>\n      <th>Shanghai Jiao Tong University</th>\n      <td>163.932727</td>\n      <td>56.442308</td>\n    </tr>\n    <tr>\n      <th>Tsinghua University</th>\n      <td>163.149206</td>\n      <td>54.223881</td>\n    </tr>\n  </tbody>\n</table>\n</div>"
     },
     "execution_count": 68,
     "metadata": {},
     "output_type": "execute_result"
    }
   ],
   "source": [
    "df.groupby('School').agg({'Height':'mean','Weight':'mean'})"
   ],
   "metadata": {
    "collapsed": false
   }
  },
  {
   "cell_type": "code",
   "execution_count": 69,
   "outputs": [
    {
     "data": {
      "text/plain": "                                          Height     Weight\nSchool                        Gender                       \nFudan University              Female  158.776923  47.900000\n                              Male    174.212500  72.300000\nPeking University             Female  158.666667  46.650000\n                              Male    172.030000  73.700000\nShanghai Jiao Tong University Female  159.122500  48.513514\n                              Male    176.760000  76.000000\nTsinghua University           Female  159.753333  48.000000\n                              Male    171.638889  69.947368",
      "text/html": "<div>\n<style scoped>\n    .dataframe tbody tr th:only-of-type {\n        vertical-align: middle;\n    }\n\n    .dataframe tbody tr th {\n        vertical-align: top;\n    }\n\n    .dataframe thead th {\n        text-align: right;\n    }\n</style>\n<table border=\"1\" class=\"dataframe\">\n  <thead>\n    <tr style=\"text-align: right;\">\n      <th></th>\n      <th></th>\n      <th>Height</th>\n      <th>Weight</th>\n    </tr>\n    <tr>\n      <th>School</th>\n      <th>Gender</th>\n      <th></th>\n      <th></th>\n    </tr>\n  </thead>\n  <tbody>\n    <tr>\n      <th rowspan=\"2\" valign=\"top\">Fudan University</th>\n      <th>Female</th>\n      <td>158.776923</td>\n      <td>47.900000</td>\n    </tr>\n    <tr>\n      <th>Male</th>\n      <td>174.212500</td>\n      <td>72.300000</td>\n    </tr>\n    <tr>\n      <th rowspan=\"2\" valign=\"top\">Peking University</th>\n      <th>Female</th>\n      <td>158.666667</td>\n      <td>46.650000</td>\n    </tr>\n    <tr>\n      <th>Male</th>\n      <td>172.030000</td>\n      <td>73.700000</td>\n    </tr>\n    <tr>\n      <th rowspan=\"2\" valign=\"top\">Shanghai Jiao Tong University</th>\n      <th>Female</th>\n      <td>159.122500</td>\n      <td>48.513514</td>\n    </tr>\n    <tr>\n      <th>Male</th>\n      <td>176.760000</td>\n      <td>76.000000</td>\n    </tr>\n    <tr>\n      <th rowspan=\"2\" valign=\"top\">Tsinghua University</th>\n      <th>Female</th>\n      <td>159.753333</td>\n      <td>48.000000</td>\n    </tr>\n    <tr>\n      <th>Male</th>\n      <td>171.638889</td>\n      <td>69.947368</td>\n    </tr>\n  </tbody>\n</table>\n</div>"
     },
     "execution_count": 69,
     "metadata": {},
     "output_type": "execute_result"
    }
   ],
   "source": [
    "df.groupby(['School','Gender']).agg({'Height':'mean','Weight':'mean'})"
   ],
   "metadata": {
    "collapsed": false
   }
  },
  {
   "cell_type": "code",
   "execution_count": 72,
   "outputs": [
    {
     "data": {
      "text/plain": "1      13400\n2       8400\n3       8000\n4       4100\n5       4000\n       ...  \n97       470\n98       470\n99       460\n100      460\n101      460\nName: 价值（亿元人民币）, Length: 101, dtype: int64"
     },
     "execution_count": 72,
     "metadata": {},
     "output_type": "execute_result"
    }
   ],
   "source": [
    "df_hurun['价值（亿元人民币）'].astype('int64')"
   ],
   "metadata": {
    "collapsed": false
   }
  },
  {
   "cell_type": "code",
   "execution_count": 73,
   "outputs": [
    {
     "data": {
      "text/plain": "     排名 排名变化                 企业名称 价值（亿元人民币） 价值变化（亿元人民币）  国家     城市    行业\n1     1    0                   抖音     13400      -10050  中国     北京  社交媒体\n2     2    1               SpaceX      8400        1680  美国    洛杉矶    航天\n3     3   -1                 蚂蚁集团      8000       -2010  中国     杭州  金融科技\n4     4    0               Stripe      4100       -2210  美国    旧金山  金融科技\n5     5   11                Shein      4000        2680  中国     广州  电子商务\n..   ..  ...                  ...       ...         ...  ..    ...   ...\n97   95  -16        Impossible 食品       470           0  美国  雷德伍德城  食品饮料\n98   95  -16                   微医       470           0  中国     杭州  健康科技\n99   99   58                 蜂巢能源       460         190  中国     常州   新能源\n100  99   -6           Better.com       460          60  美国     纽约  金融科技\n101  99  -20  Automation Anywhere       460         -10  美国    圣何塞  人工智能\n\n[101 rows x 8 columns]",
      "text/html": "<div>\n<style scoped>\n    .dataframe tbody tr th:only-of-type {\n        vertical-align: middle;\n    }\n\n    .dataframe tbody tr th {\n        vertical-align: top;\n    }\n\n    .dataframe thead th {\n        text-align: right;\n    }\n</style>\n<table border=\"1\" class=\"dataframe\">\n  <thead>\n    <tr style=\"text-align: right;\">\n      <th></th>\n      <th>排名</th>\n      <th>排名变化</th>\n      <th>企业名称</th>\n      <th>价值（亿元人民币）</th>\n      <th>价值变化（亿元人民币）</th>\n      <th>国家</th>\n      <th>城市</th>\n      <th>行业</th>\n    </tr>\n  </thead>\n  <tbody>\n    <tr>\n      <th>1</th>\n      <td>1</td>\n      <td>0</td>\n      <td>抖音</td>\n      <td>13400</td>\n      <td>-10050</td>\n      <td>中国</td>\n      <td>北京</td>\n      <td>社交媒体</td>\n    </tr>\n    <tr>\n      <th>2</th>\n      <td>2</td>\n      <td>1</td>\n      <td>SpaceX</td>\n      <td>8400</td>\n      <td>1680</td>\n      <td>美国</td>\n      <td>洛杉矶</td>\n      <td>航天</td>\n    </tr>\n    <tr>\n      <th>3</th>\n      <td>3</td>\n      <td>-1</td>\n      <td>蚂蚁集团</td>\n      <td>8000</td>\n      <td>-2010</td>\n      <td>中国</td>\n      <td>杭州</td>\n      <td>金融科技</td>\n    </tr>\n    <tr>\n      <th>4</th>\n      <td>4</td>\n      <td>0</td>\n      <td>Stripe</td>\n      <td>4100</td>\n      <td>-2210</td>\n      <td>美国</td>\n      <td>旧金山</td>\n      <td>金融科技</td>\n    </tr>\n    <tr>\n      <th>5</th>\n      <td>5</td>\n      <td>11</td>\n      <td>Shein</td>\n      <td>4000</td>\n      <td>2680</td>\n      <td>中国</td>\n      <td>广州</td>\n      <td>电子商务</td>\n    </tr>\n    <tr>\n      <th>...</th>\n      <td>...</td>\n      <td>...</td>\n      <td>...</td>\n      <td>...</td>\n      <td>...</td>\n      <td>...</td>\n      <td>...</td>\n      <td>...</td>\n    </tr>\n    <tr>\n      <th>97</th>\n      <td>95</td>\n      <td>-16</td>\n      <td>Impossible 食品</td>\n      <td>470</td>\n      <td>0</td>\n      <td>美国</td>\n      <td>雷德伍德城</td>\n      <td>食品饮料</td>\n    </tr>\n    <tr>\n      <th>98</th>\n      <td>95</td>\n      <td>-16</td>\n      <td>微医</td>\n      <td>470</td>\n      <td>0</td>\n      <td>中国</td>\n      <td>杭州</td>\n      <td>健康科技</td>\n    </tr>\n    <tr>\n      <th>99</th>\n      <td>99</td>\n      <td>58</td>\n      <td>蜂巢能源</td>\n      <td>460</td>\n      <td>190</td>\n      <td>中国</td>\n      <td>常州</td>\n      <td>新能源</td>\n    </tr>\n    <tr>\n      <th>100</th>\n      <td>99</td>\n      <td>-6</td>\n      <td>Better.com</td>\n      <td>460</td>\n      <td>60</td>\n      <td>美国</td>\n      <td>纽约</td>\n      <td>金融科技</td>\n    </tr>\n    <tr>\n      <th>101</th>\n      <td>99</td>\n      <td>-20</td>\n      <td>Automation Anywhere</td>\n      <td>460</td>\n      <td>-10</td>\n      <td>美国</td>\n      <td>圣何塞</td>\n      <td>人工智能</td>\n    </tr>\n  </tbody>\n</table>\n<p>101 rows × 8 columns</p>\n</div>"
     },
     "execution_count": 73,
     "metadata": {},
     "output_type": "execute_result"
    }
   ],
   "source": [
    "df_hurun"
   ],
   "metadata": {
    "collapsed": false
   }
  },
  {
   "cell_type": "code",
   "execution_count": 74,
   "outputs": [
    {
     "name": "stdout",
     "output_type": "stream",
     "text": [
      "<class 'pandas.core.frame.DataFrame'>\n",
      "RangeIndex: 101 entries, 1 to 101\n",
      "Data columns (total 8 columns):\n",
      " #   Column       Non-Null Count  Dtype \n",
      "---  ------       --------------  ----- \n",
      " 0   排名           101 non-null    object\n",
      " 1   排名变化         101 non-null    object\n",
      " 2   企业名称         101 non-null    object\n",
      " 3   价值（亿元人民币）    101 non-null    object\n",
      " 4   价值变化（亿元人民币）  101 non-null    object\n",
      " 5   国家           101 non-null    object\n",
      " 6   城市           101 non-null    object\n",
      " 7   行业           101 non-null    object\n",
      "dtypes: object(8)\n",
      "memory usage: 6.4+ KB\n"
     ]
    }
   ],
   "source": [
    "df_hurun.info()"
   ],
   "metadata": {
    "collapsed": false
   }
  },
  {
   "cell_type": "code",
   "execution_count": null,
   "outputs": [],
   "source": [],
   "metadata": {
    "collapsed": false
   }
  }
 ],
 "metadata": {
  "kernelspec": {
   "display_name": "base",
   "language": "python",
   "name": "python3"
  },
  "language_info": {
   "codemirror_mode": {
    "name": "ipython",
    "version": 3
   },
   "file_extension": ".py",
   "mimetype": "text/x-python",
   "name": "python",
   "nbconvert_exporter": "python",
   "pygments_lexer": "ipython3",
   "version": "3.9.13"
  },
  "orig_nbformat": 4,
  "vscode": {
   "interpreter": {
    "hash": "f8b40d688a12481f01eadf7380c47edd8a49484a47dba3db091451640e880c68"
   }
  }
 },
 "nbformat": 4,
 "nbformat_minor": 2
}
